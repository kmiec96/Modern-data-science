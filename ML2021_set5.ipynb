{
 "cells": [
  {
   "cell_type": "markdown",
   "metadata": {},
   "source": [
    "# Solutions to Modern Data Science Problems (probelms till 18.12)\n",
    "by *Mateusz Kmieć* "
   ]
  },
  {
   "cell_type": "code",
   "execution_count": 251,
   "metadata": {},
   "outputs": [],
   "source": [
    "import numpy as np\n",
    "import matplotlib.pyplot as plt\n",
    "import urllib.request\n",
    "import pandas as pd\n",
    "%matplotlib inline"
   ]
  },
  {
   "cell_type": "markdown",
   "metadata": {},
   "source": [
    "### Problem. 32\n",
    "\n",
    "We consider a linear regression model. Let’s assume that the error model is additive $y\n",
    "= f(x) + \\epsilon$ , and errors have Gaussian distribution with 0 mean ($\\text{E}[\\epsilon]=0$) and variance \n",
    "($\\text{Var}[\\epsilon] =\\sigma^{2}$). Show that the MLE approach leads to the same minimization problem as OLS\n",
    "solution for the quadratic loss function $L(Y,f(X))= (Y-f(X))^{2}$."
   ]
  },
  {
   "cell_type": "code",
   "execution_count": null,
   "metadata": {},
   "outputs": [],
   "source": []
  },
  {
   "cell_type": "markdown",
   "metadata": {},
   "source": [
    "### Problem.33\n",
    "\n",
    "(Optional) - Gauss-Markov theorem\n",
    "Show that the ordinary least squares estimator has the lowest variance among all\n",
    "unbiased linear estimators (is an “efficient” estimator) under the assumptions that:\n",
    "\n",
    "- Its errors have zero expectation values\n",
    "\n",
    "- its variances are equal.\n",
    "\n",
    "- errors are uncorrelated"
   ]
  },
  {
   "cell_type": "code",
   "execution_count": null,
   "metadata": {},
   "outputs": [],
   "source": []
  },
  {
   "cell_type": "markdown",
   "metadata": {},
   "source": [
    "### Problem 34.\n",
    "\n",
    "Implement the simple linear regression model\n",
    "Test your implementation on the data x08.csv or x26.csv\n",
    "Calculate the test and training errors\n",
    "You can prepare your own program or use this notebook:\n",
    "\n",
    "[1] https://github.com/wkrzemien/dataScienceAndML2020/blob/master/notebooks/simple_linear_regression/simple_linear_regression_template.ipynb\n",
    "\n",
    "\n",
    "Disclaimer in the solution of this problem I used the notebook prepared by Wojciech Krzemień [1]."
   ]
  },
  {
   "cell_type": "markdown",
   "metadata": {},
   "source": [
    "#### I chose to analyse x08.csv. Let us load now load data!"
   ]
  },
  {
   "cell_type": "code",
   "execution_count": 252,
   "metadata": {},
   "outputs": [
    {
     "data": {
      "text/html": [
       "<div>\n",
       "<style scoped>\n",
       "    .dataframe tbody tr th:only-of-type {\n",
       "        vertical-align: middle;\n",
       "    }\n",
       "\n",
       "    .dataframe tbody tr th {\n",
       "        vertical-align: top;\n",
       "    }\n",
       "\n",
       "    .dataframe thead th {\n",
       "        text-align: right;\n",
       "    }\n",
       "</style>\n",
       "<table border=\"1\" class=\"dataframe\">\n",
       "  <thead>\n",
       "    <tr style=\"text-align: right;\">\n",
       "      <th></th>\n",
       "      <th>index</th>\n",
       "      <th>inhabitants</th>\n",
       "      <th>incomeBelow5k</th>\n",
       "      <th>unemployed</th>\n",
       "      <th>murders</th>\n",
       "    </tr>\n",
       "  </thead>\n",
       "  <tbody>\n",
       "    <tr>\n",
       "      <th>0</th>\n",
       "      <td>1</td>\n",
       "      <td>587000</td>\n",
       "      <td>16.5</td>\n",
       "      <td>6.2</td>\n",
       "      <td>11.2</td>\n",
       "    </tr>\n",
       "    <tr>\n",
       "      <th>1</th>\n",
       "      <td>2</td>\n",
       "      <td>643000</td>\n",
       "      <td>20.5</td>\n",
       "      <td>6.4</td>\n",
       "      <td>13.4</td>\n",
       "    </tr>\n",
       "    <tr>\n",
       "      <th>2</th>\n",
       "      <td>3</td>\n",
       "      <td>635000</td>\n",
       "      <td>26.3</td>\n",
       "      <td>9.3</td>\n",
       "      <td>40.7</td>\n",
       "    </tr>\n",
       "    <tr>\n",
       "      <th>3</th>\n",
       "      <td>4</td>\n",
       "      <td>692000</td>\n",
       "      <td>16.5</td>\n",
       "      <td>5.3</td>\n",
       "      <td>5.3</td>\n",
       "    </tr>\n",
       "    <tr>\n",
       "      <th>4</th>\n",
       "      <td>5</td>\n",
       "      <td>1248000</td>\n",
       "      <td>19.2</td>\n",
       "      <td>7.3</td>\n",
       "      <td>24.8</td>\n",
       "    </tr>\n",
       "  </tbody>\n",
       "</table>\n",
       "</div>"
      ],
      "text/plain": [
       "   index  inhabitants  incomeBelow5k  unemployed  murders\n",
       "0      1       587000           16.5         6.2     11.2\n",
       "1      2       643000           20.5         6.4     13.4\n",
       "2      3       635000           26.3         9.3     40.7\n",
       "3      4       692000           16.5         5.3      5.3\n",
       "4      5      1248000           19.2         7.3     24.8"
      ]
     },
     "execution_count": 252,
     "metadata": {},
     "output_type": "execute_result"
    }
   ],
   "source": [
    "#Please note 'raw' prefix in the url and the lack of 'blob' part\n",
    "url='https://raw.github.com/wkrzemien/dataScienceAndML2020/master/datasets/x08.csv'\n",
    "urllib.request.urlretrieve(url,'x08.csv')\n",
    "\n",
    "FILE_NAME = 'x08.csv'\n",
    "\n",
    "data = pd.read_csv(FILE_NAME, names=['index','inhabitants','incomeBelow5k','unemployed','murders'])\n",
    "data.head()"
   ]
  },
  {
   "cell_type": "code",
   "execution_count": 253,
   "metadata": {},
   "outputs": [],
   "source": [
    "def loadData(filename):\n",
    "    columns = ['index','inhabitants','incomeBelow5k','unemployed','murders']\n",
    "    data = pd.read_csv(filename, names=columns)\n",
    "    \n",
    "    fraction = 0.75\n",
    "    trainingSet=data.sample(frac=fraction)\n",
    "    testSet=data.drop(trainingSet.index)\n",
    "    \n",
    "    dataset1 = trainingSet['inhabitants']\n",
    "    dataset2 = trainingSet['incomeBelow5k']\n",
    "    dataset3 = trainingSet['unemployed']\n",
    "    dataset4 = trainingSet['murders']\n",
    "    \n",
    "    testset1 = testSet['inhabitants']\n",
    "    testset2 = testSet['incomeBelow5k']\n",
    "    testset3 = testSet['unemployed']\n",
    "    testset4 = testSet['murders']\n",
    "    \n",
    "    \n",
    "    return columns[1:4], [dataset1, dataset2, dataset3], dataset4, [testset1, testset2, testset3], testset4"
   ]
  },
  {
   "cell_type": "code",
   "execution_count": 254,
   "metadata": {},
   "outputs": [],
   "source": [
    "class MySimpleLinearRegression():\n",
    "    def __init__(self):\n",
    "        self._theta = [0, 0]\n",
    "        self._error = 0\n",
    "\n",
    "    def fit(self, X, Y):\n",
    "        size=len(X)\n",
    "        xx=np.array(X).reshape(-1, 1).reshape(size,1)\n",
    "        x = np.asmatrix(np.c_[np.ones((size,1)),xx])\n",
    "        y = np.array(Y).reshape(-1, 1).reshape(size,1)  \n",
    "        \n",
    "        #calculation of parameters, closed form solution, linear regression OLS.\n",
    "        theta = np.linalg.inv(x.T*x)*x.T*y    \n",
    "        self._theta = [theta.item(0),theta.item(1)] \n",
    "        \n",
    "        error=(((x@theta-y).T)@(x@theta-y))*(1/y.shape[0])\n",
    "        \n",
    "        self._error = error[0,0]\n",
    "        \n",
    "        return  self._theta\n",
    "\n",
    "    def getParams(self):\n",
    "        return self._theta\n",
    "\n",
    "    def predict(self, x):         \n",
    "        return self._theta[1]*x+self._theta[0] \n",
    "    \n",
    "    def getError(self):\n",
    "        return self._error\n",
    "        "
   ]
  },
  {
   "cell_type": "code",
   "execution_count": 270,
   "metadata": {},
   "outputs": [],
   "source": [
    "def plotData(data1, data2, test1, test2, names):\n",
    "    \n",
    "    #model fitting\n",
    "    model = MySimpleLinearRegression()\n",
    "    model.fit(data1, data2)\n",
    "    print(\"Parameters [intercept, slope] = \",model.getParams(),\",\")\n",
    "    yPredicted = [model.predict(x) for x in data1]\n",
    "        \n",
    "    #Training error\n",
    "    print(\"Training error = {:.4f}\".format(model.getError()))\n",
    "      \n",
    "    #Test error\n",
    "    yPredicted_test = [model.predict(x) for x in test1]\n",
    "    Dy = np.array(test2)-np.array(yPredicted_test)\n",
    "    Dy2 = np.square(Dy)\n",
    "    Error_test= np.average(Dy2)\n",
    "    print(\"Test error = {:.4f}\".format(Error_test))\n",
    "    \n",
    "    #plot the best line and data\n",
    "    plt.scatter(data1, data2)\n",
    "    plt.plot(data1, yPredicted)  \n",
    "    plt.xlabel(names)\n",
    "    plt.ylabel('murder')\n",
    "    plt.show()"
   ]
  },
  {
   "cell_type": "code",
   "execution_count": 271,
   "metadata": {},
   "outputs": [
    {
     "name": "stdout",
     "output_type": "stream",
     "text": [
      "Parameters [intercept, slope] =  [23.521578739876585, -1.0109867551890678e-06] ,\n",
      "Training error = 79.4876\n",
      "Test error = 144.2062\n"
     ]
    },
    {
     "data": {
      "image/png": "[encoded data removed]",
      "text/plain": [
       "<Figure size 432x288 with 1 Axes>"
      ]
     },
     "metadata": {
      "needs_background": "light"
     },
     "output_type": "display_data"
    },
    {
     "name": "stdout",
     "output_type": "stream",
     "text": [
      "Parameters [intercept, slope] =  [-28.5492539132064, 2.467663323647945] ,\n",
      "Training error = 25.2958\n",
      "Test error = 34.6563\n"
     ]
    },
    {
     "data": {
      "image/png": "[encoded data removed]",
      "text/plain": [
       "<Figure size 432x288 with 1 Axes>"
      ]
     },
     "metadata": {
      "needs_background": "light"
     },
     "output_type": "display_data"
    },
    {
     "name": "stdout",
     "output_type": "stream",
     "text": [
      "Parameters [intercept, slope] =  [-26.02815995525718, 6.7088926174496635] ,\n",
      "Training error = 18.6634\n",
      "Test error = 38.3117\n"
     ]
    },
    {
     "data": {
      "image/png": "[encoded data removed]",
      "text/plain": [
       "<Figure size 432x288 with 1 Axes>"
      ]
     },
     "metadata": {
      "needs_background": "light"
     },
     "output_type": "display_data"
    }
   ],
   "source": [
    "names, datas, murder, test_sets, test_murder = loadData(FILE_NAME)\n",
    "for i,d in enumerate(datas):\n",
    "    plotData(d.tolist(), murder.tolist(), test_sets[i].tolist(), test_murder.tolist(), names[i])"
   ]
  },
  {
   "cell_type": "code",
   "execution_count": 220,
   "metadata": {},
   "outputs": [],
   "source": [
    "#ready test written by WK, edited by Mateusz Kmieć\n",
    "def runTest_MySimpleLinearRegression():\n",
    "    model = MySimpleLinearRegression()\n",
    "    x = [0, 1, 2, 3]\n",
    "    y = [-4., -2, 0, 2]\n",
    "    model.fit(x, y)\n",
    "    params = model.getParams()\n",
    "    np.testing.assert_almost_equal(params[0], -4.)\n",
    "    np.testing.assert_almost_equal(params[1], 2.)\n",
    "    np.testing.assert_almost_equal(model.predict(7), 10.)\n",
    "    \n",
    "    print(\"Tested positive! Fitted parameters values: \")\n",
    "    return params"
   ]
  },
  {
   "cell_type": "code",
   "execution_count": 221,
   "metadata": {},
   "outputs": [
    {
     "name": "stdout",
     "output_type": "stream",
     "text": [
      "Tested positive! Fitted parameters values: \n"
     ]
    },
    {
     "data": {
      "text/plain": [
       "[-4.000000000000002, 2.000000000000001]"
      ]
     },
     "execution_count": 221,
     "metadata": {},
     "output_type": "execute_result"
    }
   ],
   "source": [
    "runTests_MySimpleLinearRegression()"
   ]
  }
 ],
 "metadata": {
  "kernelspec": {
   "display_name": "Python 3",
   "language": "python",
   "name": "python3"
  },
  "language_info": {
   "codemirror_mode": {
    "name": "ipython",
    "version": 3
   },
   "file_extension": ".py",
   "mimetype": "text/x-python",
   "name": "python",
   "nbconvert_exporter": "python",
   "pygments_lexer": "ipython3",
   "version": "3.8.5"
  }
 },
 "nbformat": 4,
 "nbformat_minor": 4
}
