{
 "cells": [
  {
   "cell_type": "markdown",
   "metadata": {},
   "source": [
    "# Solutions to Modern Data Science Problems (probelms till 18.12)\n",
    "by *Mateusz Kmieć* "
   ]
  },
  {
   "cell_type": "markdown",
   "metadata": {},
   "source": [
    "32. We consider a linear regression model. Let’s assume that the error model is additive y\n",
    "= f(x) + ε , and errors have Gaussian distribution with 0 mean (E[ε] =0) and variance \n",
    "(Var[ε] =σ2). Show that the MLE approach leads to the same minimization problem as OLS\n",
    "solution for the quadratic loss function L(Y,f(X))= (Y -f(X))2"
   ]
  },
  {
   "cell_type": "markdown",
   "metadata": {},
   "source": [
    "33. (Optional) - Gauss-Markov theorem\n",
    "Show that the ordinary least squares estimator has the lowest variance among all\n",
    "unbiased linear estimators (is an “efficient” estimator) under the assumptions that:\n",
    "• Its errors have zero expectation values\n",
    "• its variances are equal.\n",
    "• errors are uncorrelated"
   ]
  },
  {
   "cell_type": "markdown",
   "metadata": {},
   "source": [
    "34. Implement the simple linear regression model\n",
    "Test your implementation on the data x08.csv or x26.csv\n",
    "Calculate the test and training errors\n",
    "You can prepare your own program or use this notebook:\n",
    "https://github.com/wkrzemien/dataScienceAndML2020/blob/master/notebooks/simple_line\n",
    "ar_regression/simple_linear_regression_template.ipynb"
   ]
  },
  {
   "cell_type": "code",
   "execution_count": null,
   "metadata": {},
   "outputs": [],
   "source": []
  }
 ],
 "metadata": {
  "kernelspec": {
   "display_name": "Python 3",
   "language": "python",
   "name": "python3"
  },
  "language_info": {
   "codemirror_mode": {
    "name": "ipython",
    "version": 3
   },
   "file_extension": ".py",
   "mimetype": "text/x-python",
   "name": "python",
   "nbconvert_exporter": "python",
   "pygments_lexer": "ipython3",
   "version": "3.8.5"
  }
 },
 "nbformat": 4,
 "nbformat_minor": 4
}
