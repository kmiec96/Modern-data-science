{
 "cells": [
  {
   "cell_type": "markdown",
   "metadata": {},
   "source": [
    "\n",
    "Template for implementation of the simple linear regression.\n",
    "The code serves only for educational purposes so it\n",
    "is not optimized in view of speed or numerical calculations.\n",
    "For the real problems you should always use algorithms\n",
    "from known,  well tested libraries, wherever possible.\n",
    "\n",
    "Author: Wojtek Krzemien\n",
    "\n",
    "Date: 23.03 2018\n"
   ]
  },
  {
   "cell_type": "code",
   "execution_count": 2,
   "metadata": {},
   "outputs": [],
   "source": [
    "#some imports\n",
    "import pandas as pd\n",
    "#for visualization\n",
    "import numpy as np\n",
    "import matplotlib.pyplot as plt\n",
    "#to download file\n",
    "import urllib.request\n",
    "\n",
    "%matplotlib inline"
   ]
  },
  {
   "cell_type": "code",
   "execution_count": 3,
   "metadata": {},
   "outputs": [
    {
     "data": {
      "text/plain": [
       "('x08.csv', <http.client.HTTPMessage at 0x2be40382100>)"
      ]
     },
     "execution_count": 3,
     "metadata": {},
     "output_type": "execute_result"
    }
   ],
   "source": [
    "#Please note 'raw' prefix in the url and the lack of 'blob' part\n",
    "url='https://raw.github.com/wkrzemien/dataScienceAndML2020/master/datasets/x08.csv'\n",
    "urllib.request.urlretrieve(url,'x08.csv')"
   ]
  },
  {
   "cell_type": "code",
   "execution_count": 4,
   "metadata": {},
   "outputs": [],
   "source": [
    "input_file = 'x08.csv'"
   ]
  },
  {
   "cell_type": "code",
   "execution_count": 5,
   "metadata": {},
   "outputs": [],
   "source": [
    "#Column descripton based on x08.txt\n",
    "#Index\n",
    "#Inhabitants\n",
    "#Percent with incomes below $5000\n",
    "#Percent unemployed\n",
    "#Murders per annum per 1,000,000 inhabitants"
   ]
  },
  {
   "cell_type": "code",
   "execution_count": 6,
   "metadata": {},
   "outputs": [],
   "source": [
    "data = pd.read_csv(input_file, names=['index','inhabitants','incomeBelow5k','unemployed','murders'])"
   ]
  },
  {
   "cell_type": "code",
   "execution_count": 7,
   "metadata": {},
   "outputs": [
    {
     "data": {
      "text/html": [
       "<div>\n",
       "<style scoped>\n",
       "    .dataframe tbody tr th:only-of-type {\n",
       "        vertical-align: middle;\n",
       "    }\n",
       "\n",
       "    .dataframe tbody tr th {\n",
       "        vertical-align: top;\n",
       "    }\n",
       "\n",
       "    .dataframe thead th {\n",
       "        text-align: right;\n",
       "    }\n",
       "</style>\n",
       "<table border=\"1\" class=\"dataframe\">\n",
       "  <thead>\n",
       "    <tr style=\"text-align: right;\">\n",
       "      <th></th>\n",
       "      <th>index</th>\n",
       "      <th>inhabitants</th>\n",
       "      <th>incomeBelow5k</th>\n",
       "      <th>unemployed</th>\n",
       "      <th>murders</th>\n",
       "    </tr>\n",
       "  </thead>\n",
       "  <tbody>\n",
       "    <tr>\n",
       "      <th>0</th>\n",
       "      <td>1</td>\n",
       "      <td>587000</td>\n",
       "      <td>16.5</td>\n",
       "      <td>6.2</td>\n",
       "      <td>11.2</td>\n",
       "    </tr>\n",
       "    <tr>\n",
       "      <th>1</th>\n",
       "      <td>2</td>\n",
       "      <td>643000</td>\n",
       "      <td>20.5</td>\n",
       "      <td>6.4</td>\n",
       "      <td>13.4</td>\n",
       "    </tr>\n",
       "    <tr>\n",
       "      <th>2</th>\n",
       "      <td>3</td>\n",
       "      <td>635000</td>\n",
       "      <td>26.3</td>\n",
       "      <td>9.3</td>\n",
       "      <td>40.7</td>\n",
       "    </tr>\n",
       "    <tr>\n",
       "      <th>3</th>\n",
       "      <td>4</td>\n",
       "      <td>692000</td>\n",
       "      <td>16.5</td>\n",
       "      <td>5.3</td>\n",
       "      <td>5.3</td>\n",
       "    </tr>\n",
       "    <tr>\n",
       "      <th>4</th>\n",
       "      <td>5</td>\n",
       "      <td>1248000</td>\n",
       "      <td>19.2</td>\n",
       "      <td>7.3</td>\n",
       "      <td>24.8</td>\n",
       "    </tr>\n",
       "  </tbody>\n",
       "</table>\n",
       "</div>"
      ],
      "text/plain": [
       "   index  inhabitants  incomeBelow5k  unemployed  murders\n",
       "0      1       587000           16.5         6.2     11.2\n",
       "1      2       643000           20.5         6.4     13.4\n",
       "2      3       635000           26.3         9.3     40.7\n",
       "3      4       692000           16.5         5.3      5.3\n",
       "4      5      1248000           19.2         7.3     24.8"
      ]
     },
     "execution_count": 7,
     "metadata": {},
     "output_type": "execute_result"
    }
   ],
   "source": [
    "data.head()"
   ]
  },
  {
   "cell_type": "code",
   "execution_count": 8,
   "metadata": {},
   "outputs": [
    {
     "data": {
      "text/plain": [
       "index              int64\n",
       "inhabitants        int64\n",
       "incomeBelow5k    float64\n",
       "unemployed       float64\n",
       "murders          float64\n",
       "dtype: object"
      ]
     },
     "execution_count": 8,
     "metadata": {},
     "output_type": "execute_result"
    }
   ],
   "source": [
    "data.dtypes"
   ]
  },
  {
   "cell_type": "code",
   "execution_count": 9,
   "metadata": {},
   "outputs": [
    {
     "name": "stdout",
     "output_type": "stream",
     "text": [
      "['index' 'inhabitants' 'incomeBelow5k' 'unemployed' 'murders']\n"
     ]
    }
   ],
   "source": [
    "print(data.columns.values)"
   ]
  },
  {
   "cell_type": "code",
   "execution_count": 10,
   "metadata": {},
   "outputs": [
    {
     "name": "stdout",
     "output_type": "stream",
     "text": [
      "<class 'pandas.core.frame.DataFrame'>\n",
      "RangeIndex: 20 entries, 0 to 19\n",
      "Data columns (total 5 columns):\n",
      " #   Column         Non-Null Count  Dtype  \n",
      "---  ------         --------------  -----  \n",
      " 0   index          20 non-null     int64  \n",
      " 1   inhabitants    20 non-null     int64  \n",
      " 2   incomeBelow5k  20 non-null     float64\n",
      " 3   unemployed     20 non-null     float64\n",
      " 4   murders        20 non-null     float64\n",
      "dtypes: float64(3), int64(2)\n",
      "memory usage: 928.0 bytes\n"
     ]
    }
   ],
   "source": [
    "data.info()"
   ]
  },
  {
   "cell_type": "code",
   "execution_count": 11,
   "metadata": {
    "scrolled": true
   },
   "outputs": [
    {
     "data": {
      "text/html": [
       "<div>\n",
       "<style scoped>\n",
       "    .dataframe tbody tr th:only-of-type {\n",
       "        vertical-align: middle;\n",
       "    }\n",
       "\n",
       "    .dataframe tbody tr th {\n",
       "        vertical-align: top;\n",
       "    }\n",
       "\n",
       "    .dataframe thead th {\n",
       "        text-align: right;\n",
       "    }\n",
       "</style>\n",
       "<table border=\"1\" class=\"dataframe\">\n",
       "  <thead>\n",
       "    <tr style=\"text-align: right;\">\n",
       "      <th></th>\n",
       "      <th>index</th>\n",
       "      <th>inhabitants</th>\n",
       "      <th>incomeBelow5k</th>\n",
       "      <th>unemployed</th>\n",
       "      <th>murders</th>\n",
       "    </tr>\n",
       "  </thead>\n",
       "  <tbody>\n",
       "    <tr>\n",
       "      <th>count</th>\n",
       "      <td>20.00000</td>\n",
       "      <td>2.000000e+01</td>\n",
       "      <td>20.000000</td>\n",
       "      <td>20.000000</td>\n",
       "      <td>20.000000</td>\n",
       "    </tr>\n",
       "    <tr>\n",
       "      <th>mean</th>\n",
       "      <td>10.50000</td>\n",
       "      <td>1.433000e+06</td>\n",
       "      <td>19.720000</td>\n",
       "      <td>6.935000</td>\n",
       "      <td>20.570000</td>\n",
       "    </tr>\n",
       "    <tr>\n",
       "      <th>std</th>\n",
       "      <td>5.91608</td>\n",
       "      <td>1.703726e+06</td>\n",
       "      <td>3.242254</td>\n",
       "      <td>1.207117</td>\n",
       "      <td>9.881407</td>\n",
       "    </tr>\n",
       "    <tr>\n",
       "      <th>min</th>\n",
       "      <td>1.00000</td>\n",
       "      <td>5.870000e+05</td>\n",
       "      <td>14.300000</td>\n",
       "      <td>4.900000</td>\n",
       "      <td>5.300000</td>\n",
       "    </tr>\n",
       "    <tr>\n",
       "      <th>25%</th>\n",
       "      <td>5.75000</td>\n",
       "      <td>6.430000e+05</td>\n",
       "      <td>17.125000</td>\n",
       "      <td>6.150000</td>\n",
       "      <td>13.225000</td>\n",
       "    </tr>\n",
       "    <tr>\n",
       "      <th>50%</th>\n",
       "      <td>10.50000</td>\n",
       "      <td>7.450000e+05</td>\n",
       "      <td>19.150000</td>\n",
       "      <td>6.600000</td>\n",
       "      <td>19.500000</td>\n",
       "    </tr>\n",
       "    <tr>\n",
       "      <th>75%</th>\n",
       "      <td>15.25000</td>\n",
       "      <td>1.318750e+06</td>\n",
       "      <td>21.575000</td>\n",
       "      <td>7.775000</td>\n",
       "      <td>26.075000</td>\n",
       "    </tr>\n",
       "    <tr>\n",
       "      <th>max</th>\n",
       "      <td>20.00000</td>\n",
       "      <td>7.895000e+06</td>\n",
       "      <td>26.300000</td>\n",
       "      <td>9.300000</td>\n",
       "      <td>40.700000</td>\n",
       "    </tr>\n",
       "  </tbody>\n",
       "</table>\n",
       "</div>"
      ],
      "text/plain": [
       "          index   inhabitants  incomeBelow5k  unemployed    murders\n",
       "count  20.00000  2.000000e+01      20.000000   20.000000  20.000000\n",
       "mean   10.50000  1.433000e+06      19.720000    6.935000  20.570000\n",
       "std     5.91608  1.703726e+06       3.242254    1.207117   9.881407\n",
       "min     1.00000  5.870000e+05      14.300000    4.900000   5.300000\n",
       "25%     5.75000  6.430000e+05      17.125000    6.150000  13.225000\n",
       "50%    10.50000  7.450000e+05      19.150000    6.600000  19.500000\n",
       "75%    15.25000  1.318750e+06      21.575000    7.775000  26.075000\n",
       "max    20.00000  7.895000e+06      26.300000    9.300000  40.700000"
      ]
     },
     "execution_count": 11,
     "metadata": {},
     "output_type": "execute_result"
    }
   ],
   "source": [
    "data.describe()"
   ]
  },
  {
   "cell_type": "code",
   "execution_count": 12,
   "metadata": {},
   "outputs": [
    {
     "data": {
      "text/plain": [
       "index            20\n",
       "inhabitants      20\n",
       "incomeBelow5k    20\n",
       "unemployed       20\n",
       "murders          20\n",
       "dtype: int64"
      ]
     },
     "execution_count": 12,
     "metadata": {},
     "output_type": "execute_result"
    }
   ],
   "source": [
    "data.count()"
   ]
  },
  {
   "cell_type": "code",
   "execution_count": 13,
   "metadata": {},
   "outputs": [
    {
     "data": {
      "text/plain": [
       "<matplotlib.axes._subplots.AxesSubplot at 0x2be40439760>"
      ]
     },
     "execution_count": 13,
     "metadata": {},
     "output_type": "execute_result"
    },
    {
     "data": {
      "image/png": "[encoded data removed]",
      "text/plain": [
       "<Figure size 432x288 with 1 Axes>"
      ]
     },
     "metadata": {
      "needs_background": "light"
     },
     "output_type": "display_data"
    }
   ],
   "source": [
    "data.plot(x='unemployed', y='murders', style='o')"
   ]
  },
  {
   "cell_type": "code",
   "execution_count": 14,
   "metadata": {},
   "outputs": [],
   "source": [
    "FILE_NAME = 'x08.csv'"
   ]
  },
  {
   "cell_type": "code",
   "execution_count": 15,
   "metadata": {},
   "outputs": [],
   "source": [
    "def expval(X): #expected value\n",
    "    expval = sum(X)/len(X)\n",
    "    return expval\n",
    "\n",
    "def variance(X):\n",
    "    diff=[]\n",
    "    square=[]\n",
    "    for i in range(len(X)):\n",
    "        diff.append(X[i]-expval(X))   \n",
    "        square.append(diff[i]*diff[i])\n",
    "    var = expval(square)\n",
    "    return var\n",
    "\n",
    "def covariance(X,Y):\n",
    "    prod=[]\n",
    "    for i in range(len(X)):\n",
    "        prod.append(X[i]*Y[i])    \n",
    "    cov = expval(prod)-expval(X)*expval(Y)\n",
    "    return cov"
   ]
  },
  {
   "cell_type": "code",
   "execution_count": 16,
   "metadata": {
    "scrolled": true
   },
   "outputs": [],
   "source": [
    "# functions operating on 'normal' lists\n",
    "# without using any additional functions.\n",
    "\n",
    "class MySimpleLinearRegression():\n",
    "    def __init__(self):\n",
    "        self._theta = [0, 0]\n",
    "\n",
    "    def fit(self, X, Y):\n",
    "        theta1=covariance(X,Y)/variance(X)\n",
    "        theta0=expval(Y)-theta1*expval(X)\n",
    "        \"\"\"\n",
    "        Args:\n",
    "        X(list): vector of numbers X^{i} i=1,...,N from the training set.\n",
    "        Y(list): vector of numbers Y^{i} i=1,...,N from the training set.\n",
    "        Returns:\n",
    "        list: with parameters [theta0, theta1]\n",
    "        \"\"\"\n",
    "        self._theta=[theta0,theta1]\n",
    "        return [theta0,theta1] \n",
    "\n",
    "    def getParams(self):\n",
    "        \"\"\"\n",
    "          Returns:\n",
    "            list: with parameters [theta0, theta1]\n",
    "        \"\"\"\n",
    "        return self._theta\n",
    "\n",
    "    def predict(self, x):\n",
    "        theta0 = self._theta[0]\n",
    "        theta1 = self._theta[1]\n",
    "        \"\"\"\n",
    "        Args:\n",
    "        x(number)\n",
    "        Returns:\n",
    "        float:  y prediction\n",
    "        \"\"\"\n",
    "        y=theta0+x*theta1\n",
    "        return y "
   ]
  },
  {
   "cell_type": "code",
   "execution_count": 17,
   "metadata": {
    "code_folding": []
   },
   "outputs": [],
   "source": [
    "def runTests_MySimpleLinearRegression():\n",
    "    \"\"\"\n",
    "    Some examples how one can test your functions.\n",
    "    \"\"\"\n",
    "    model = MySimpleLinearRegression()\n",
    "    # y= 2 *x -4 no noise\n",
    "    x = [0, 1, 2, 3]\n",
    "    y = [-4., -2, 0, 2]\n",
    "    model.fit(x, y)\n",
    "    params = model.getParams()\n",
    "    #print(params)\n",
    "    np.testing.assert_almost_equal(params[0], -4.)\n",
    "    np.testing.assert_almost_equal(params[1], 2.)\n",
    "    np.testing.assert_almost_equal(model.predict(7), 10.)"
   ]
  },
  {
   "cell_type": "code",
   "execution_count": 18,
   "metadata": {},
   "outputs": [],
   "source": [
    "def loadData(filename):\n",
    "    data = pd.read_csv(filename, names=['index','inhabitants','incomeBelow5k','unemployed','murders'])\n",
    "    # We use skiprows=1 to ignore the first line in the file\n",
    "    # which is just a description of columns.\n",
    "    #data = np.loadtxt(filename, delimiter=',', skiprows=1)\n",
    "    # data matrix has three columns,\n",
    "    # the third one is the dataset label =0,1,2 or 3.\n",
    "    # We want to select only a subset of data corresponding to given label.\n",
    "    # data[:,2] means select all rows of the third column.\n",
    "    # data[data[:,2]== 0] means select all records for wich the third column is equal 0.\n",
    "    dataset1 = data['inhabitants'] #X1\n",
    "    dataset2 = data['incomeBelow5k'] #X2\n",
    "    dataset3 = data['unemployed'] #X3\n",
    "    dataset4 = data['murders']    #Y\n",
    "    return (dataset1, dataset2, dataset3, dataset4)"
   ]
  },
  {
   "cell_type": "code",
   "execution_count": 19,
   "metadata": {},
   "outputs": [],
   "source": [
    "def plotData2(dataX,dataY):\n",
    "    \"\"\"\n",
    "    \"\"\"\n",
    "    model = MySimpleLinearRegression()\n",
    "    model.fit(dataX,dataY)\n",
    "    yPredicted = [model.predict(x) for x in dataX]\n",
    "    plt.scatter(dataX, dataY)\n",
    "    plt.plot(dataX, yPredicted)\n",
    "    plt.xlabel('x')\n",
    "    plt.ylabel('y')\n",
    "    plt.show()"
   ]
  },
  {
   "cell_type": "code",
   "execution_count": 20,
   "metadata": {},
   "outputs": [],
   "source": [
    "data1,data2,data3,data4=loadData(input_file)"
   ]
  },
  {
   "cell_type": "code",
   "execution_count": 21,
   "metadata": {
    "scrolled": false
   },
   "outputs": [
    {
     "data": {
      "image/png": "[encoded data removed]",
      "text/plain": [
       "<Figure size 432x288 with 1 Axes>"
      ]
     },
     "metadata": {
      "needs_background": "light"
     },
     "output_type": "display_data"
    }
   ],
   "source": [
    "plotData2(data2,data4)"
   ]
  },
  {
   "cell_type": "code",
   "execution_count": 22,
   "metadata": {},
   "outputs": [
    {
     "data": {
      "image/png": "[encoded data removed]",
      "text/plain": [
       "<Figure size 432x288 with 1 Axes>"
      ]
     },
     "metadata": {
      "needs_background": "light"
     },
     "output_type": "display_data"
    }
   ],
   "source": [
    "plotData2(data1,data4)"
   ]
  },
  {
   "cell_type": "code",
   "execution_count": 23,
   "metadata": {},
   "outputs": [
    {
     "data": {
      "image/png": "[encoded data removed]",
      "text/plain": [
       "<Figure size 432x288 with 1 Axes>"
      ]
     },
     "metadata": {
      "needs_background": "light"
     },
     "output_type": "display_data"
    }
   ],
   "source": [
    "plotData2(data3,data4)"
   ]
  },
  {
   "cell_type": "code",
   "execution_count": 24,
   "metadata": {},
   "outputs": [],
   "source": [
    "runTests_MySimpleLinearRegression()"
   ]
  },
  {
   "cell_type": "code",
   "execution_count": 60,
   "metadata": {},
   "outputs": [
    {
     "name": "stdout",
     "output_type": "stream",
     "text": [
      "[643000, 2793000, 854000, 595000]\n",
      "13.4\n",
      "    index  inhabitants  incomeBelow5k  unemployed  murders\n",
      "1       2       643000           20.5         6.4     13.4\n",
      "12     13      2793000           19.1         5.8     15.7\n",
      "15     16       854000           24.9         8.3     28.9\n",
      "18     19       595000           20.2         8.4     21.7\n",
      "xTrain [[749000, 643000, 741000, 1248000, 7895000, 3353000, 716000, 762000, 635000, 625000, 587000, 692000, 713000, 1964000, 1531000, 921000], [14.3, 16.5, 24.7, 19.2, 18.1, 16.9, 17.9, 23.1, 26.3, 18.6, 16.5, 16.5, 17.2, 20.2, 21.3, 22.4], [6.4, 5.9, 8.6, 7.3, 6.0, 6.7, 6.7, 7.4, 9.3, 6.5, 6.2, 5.3, 4.9, 6.4, 7.6, 8.6]]\n",
      "xTrain[0] [749000, 643000, 741000, 1248000, 7895000, 3353000, 716000, 762000, 635000, 625000, 587000, 692000, 713000, 1964000, 1531000, 921000]\n"
     ]
    }
   ],
   "source": [
    "fraction = 0.8\n",
    "# we  divide the content into the training and validation set\n",
    "# we also randomly shuffle the content\n",
    "trainingSet=data.sample(frac=fraction)\n",
    "validationSet=data.drop(trainingSet.index)\n",
    "xTrain=[]\n",
    "xValid=[]\n",
    "\n",
    "for i in range(1,4):    \n",
    "    xTrain.append(trainingSet.iloc[:, i].values.tolist())\n",
    "    xValid.append(validationSet.iloc[:, i].values.tolist())\n",
    "\n",
    "yTrain = trainingSet.iloc[:, 4].values.tolist()\n",
    "yValid = validationSet.iloc[:, 4].values.tolist()\n",
    "\n",
    "print(xValid[0])\n",
    "print(yValid[0])\n",
    "print(validationSet.head())\n",
    "#print(trainingSet.head())\n",
    "#print(validationSet.iloc[:, 2].values.tolist())\n",
    "#print(trainingSet.iloc[:, 2].values.tolist())\n",
    "print(\"xTrain\",xTrain)\n",
    "#print(\"xTrain[0]\",xTrain[0])"
   ]
  },
  {
   "cell_type": "code",
   "execution_count": 55,
   "metadata": {},
   "outputs": [],
   "source": [
    "def meanSquaredError(x,y):\n",
    "    a = np.array(x)\n",
    "    b = np.array(y)\n",
    "    mse = np.square(a-b).mean() \n",
    "    return mse"
   ]
  },
  {
   "cell_type": "code",
   "execution_count": 63,
   "metadata": {},
   "outputs": [
    {
     "name": "stdout",
     "output_type": "stream",
     "text": [
      "Training error for data 1 = 106.61021496265127\n",
      "Test error for data 1 = 35.27151992018523\n",
      "Training error for data 2 = 26.735652899239554\n",
      "Test error for data 2 = 29.773018597502425\n",
      "Training error for data 3 = 22.434852945999562\n",
      "Test error for data 3 = 27.161158640953467\n"
     ]
    }
   ],
   "source": [
    "if fraction < 1:\n",
    "    #we calculate training error and validation error for unemployed vs murders\n",
    "    trainError=[]\n",
    "    validError=[]\n",
    "    model = MySimpleLinearRegression()\n",
    "    datasetList = [data1,data2,data3]\n",
    "    for i in range(0,3):\n",
    "        model.fit(datasetList[i],data4)\n",
    "        trainPredictions = [model.predict(x) for x in xTrain[i]] #xTrain[i] = list containing the xTrain for a given dataset\n",
    "        validationPredictions = [model.predict(x) for x in xValid[i]]   \n",
    "        trainError.append(meanSquaredError(trainPredictions,yTrain))\n",
    "        validError.append(meanSquaredError(validationPredictions,yValid))\n",
    "        print(\"Training error for data\", i+1,\"=\",trainError[i])\n",
    "        print(\"Test error for data\", i+1,\"=\",validError[i])\n",
    "\n",
    "#print(\"trainError\",trainError)\n",
    "#print(\"trainPredictions\",validError)"
   ]
  },
  {
   "cell_type": "code",
   "execution_count": null,
   "metadata": {},
   "outputs": [],
   "source": []
  }
 ],
 "metadata": {
  "kernelspec": {
   "display_name": "Python 3",
   "language": "python",
   "name": "python3"
  },
  "language_info": {
   "codemirror_mode": {
    "name": "ipython",
    "version": 3
   },
   "file_extension": ".py",
   "mimetype": "text/x-python",
   "name": "python",
   "nbconvert_exporter": "python",
   "pygments_lexer": "ipython3",
   "version": "3.8.3"
  }
 },
 "nbformat": 4,
 "nbformat_minor": 4
}
