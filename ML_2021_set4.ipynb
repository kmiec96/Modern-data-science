{
 "cells": [
  {
   "cell_type": "code",
   "execution_count": 5,
   "metadata": {},
   "outputs": [],
   "source": [
    "#some imports\n",
    "import pandas as pd\n",
    "#for visualization\n",
    "import matplotlib.pyplot as plt\n",
    "#to download file\n",
    "import urllib.request\n",
    "import numpy as np\n",
    "from sklearn.linear_model import LinearRegression\n",
    "from sklearn.metrics import mean_squared_error\n",
    "import matplotlib.pyplot as plt\n",
    "\n",
    "%matplotlib inline"
   ]
  },
  {
   "cell_type": "markdown",
   "metadata": {},
   "source": [
    "# Solutions to Modern Data Science Problems (probelms till 27.11)\n",
    "by *Mateusz Kmieć* "
   ]
  },
  {
   "cell_type": "markdown",
   "metadata": {},
   "source": [
    "### Problem 28. \n",
    "\n",
    "We want to use the KNN algorithm for the classification problem. We consider a\n",
    "training sample of $N=10^{6}$ points, which are distributed approximately uniformly on the\n",
    "available feature space . Calculate the mean distance between neighbors assuming:\n",
    "\n",
    "\n",
    "• The feature space is 1-D X =[X1\n",
    "] X1 in the range of [0,1]\n",
    " \n",
    " \n",
    "• The feature space is 2-D X =[X1\n",
    ",X2 ] Xi in the range of [0,1] \n",
    "\n",
    "\n",
    "• The feature space is 3-D X =[X1\n",
    ",X2 , X3 ] Xi in the range of [0,1]\n",
    "\n",
    "\n",
    "• The feature space is 10-D X =[X1\n",
    ",X2 , X3 ,…, X10 ] Xi in the range of [0,1]\n",
    "\n",
    "\n",
    "• How many points do we need for 10-D feature space to keep the same distance\n",
    "between the neighbors as in the first case ?"
   ]
  },
  {
   "cell_type": "code",
   "execution_count": 6,
   "metadata": {},
   "outputs": [
    {
     "name": "stdout",
     "output_type": "stream",
     "text": [
      "Mean distance for 1-D feature space:  0.000001 = 1/10^6.\n",
      "Mean distance for 2-D feature space:  0.001000 = 1/sqrt(10^6).\n",
      "Mean distance for 3-D feature space:  0.010000 = 1/(10^6)^(1/3).\n",
      "Mean distance for 10-D feature space: 0.251189 = 1/(10^6)^(1/10).\n",
      "\n",
      "Naturally, in the case of 10-D feature space we would need (10^6)^10 points\n",
      "to have the same average distance between points as for 1-D.\n"
     ]
    }
   ],
   "source": [
    "def distance(x,y):\n",
    "    xx=np.array(x)\n",
    "    yy=np.array(y)\n",
    "    return np.sqrt(np.sum(np.square(xx-yy)))\n",
    "\n",
    "\n",
    "def mean_distance(x, metric=distance):    \n",
    "    distances=np.array([distance(x[2*i],x[2*i+1]) for i in range(int(x.size*0.5))])\n",
    "    return np.mean(distances)\n",
    "\n",
    " \n",
    "X1=np.arange(0,1,1/(pow(10,6)))              #1-D N=10^6\n",
    "print(\"Mean distance for 1-D feature space:  {:.6f} = 1/10^6.\".format(mean_distance(X1)))\n",
    "\n",
    "\n",
    "xx2=np.arange(0,1,1/np.sqrt(pow(10,6)))     #2-D N=sqrt(10^6)*sqrt(106)=10^6\n",
    "X2=np.array(xx2)\n",
    "\n",
    "print(\"Mean distance for 2-D feature space:  {:.6f} = 1/sqrt(10^6).\".format(mean_distance(X2)))\n",
    "\n",
    "\n",
    "xx3=np.arange(0,1,1/pow(10,6/3))     #3-D N=((10^6)^{1/3})^{3}=10^6\n",
    "X3=np.array(xx3)\n",
    "\n",
    "print(\"Mean distance for 3-D feature space:  {:.6f} = 1/(10^6)^(1/3).\".format(mean_distance(X3)))\n",
    "\n",
    "\n",
    "xx10=np.arange(0,1,1/pow(10,6/10))     #10-D N=((10^6)^{1/10})^{10}=10^6\n",
    "X10=np.array(xx10)\n",
    "\n",
    "print(\"Mean distance for 10-D feature space: {:.6f} = 1/(10^6)^(1/10).\".format(mean_distance(X10)))\n",
    "\n",
    "print(\"\\nNaturally, in the case of 10-D feature space we would need (10^6)^10 points\\nto have the same average distance between points as for 1-D.\")"
   ]
  },
  {
   "cell_type": "markdown",
   "metadata": {},
   "source": [
    "### Probelm 29. \n",
    "\n",
    "Derive OLS solution for simple linear regression model \n",
    "\n",
    "(1) $$f_{\\bar{\\theta}}(x_{i}) = \\bar{\\theta}_{1}x_{i}+\\bar{\\theta}_{0},$$\n",
    "\n",
    "where $i$ is the data pont index and $\\bar{\\theta}$ is the following vector:\n",
    "\n",
    "(2) $$\\bar{\\theta}=\\left[\\theta_{0},\\theta_{1}\\right].$$\n",
    "\n",
    "Consequently we can write (1) as:\n",
    "\n",
    "(3) $$f_{\\bar{\\theta}}(X)=\\bar{\\theta}^{T}.X=X^{T}.\\bar{\\theta},$$"
   ]
  },
  {
   "cell_type": "markdown",
   "metadata": {},
   "source": [
    "where\n",
    "\n",
    "(3) $$X=\\begin{bmatrix}\n",
    "    \\mathbb{1} \\\\\n",
    "    x_{i}\n",
    "\\end{bmatrix}.$$"
   ]
  },
  {
   "cell_type": "markdown",
   "metadata": {},
   "source": [
    "First let us assume that the cost functino is:\n",
    "\n",
    "(4) $$L(f_{\\bar{\\theta}}(X),Y)=\\left(f_{\\bar{\\theta}}(X)-Y\\right)^{2}.$$"
   ]
  },
  {
   "cell_type": "markdown",
   "metadata": {},
   "source": [
    "The cost function can be written as:\n",
    "\n",
    "(5) $$E_{T}\\left(L(f_{\\bar{\\theta}}(X),Y)\\right)=\\frac{1}{N}\\sum_{i}^{N}\\left(f_{\\bar{\\theta}}(x_{i})-y_{i}\\right)^{2},$$"
   ]
  },
  {
   "cell_type": "markdown",
   "metadata": {},
   "source": [
    "Given (1), the above equation can be written in the form:\n",
    "    \n",
    "(6) $$E_{T}\\left(L(f_{\\bar{\\theta}}(X),Y)\\right)=\\frac{1}{N}\\sum_{i}^{N}\\left((\\bar{\\theta}_{1}x_{i} + \\bar{\\theta}_{0})-y_{i}\\right)^{2}.$$"
   ]
  },
  {
   "cell_type": "markdown",
   "metadata": {},
   "source": [
    "Now we can write equation (6) in a concise form:\n",
    "    \n",
    "(7) $$E_{T}\\left(L(f_{\\bar{\\theta}}(X),Y)\\right)=\\frac{1}{N}\\left(X.\\bar{\\theta}-Y\\right)^{T}\\left(Y-X.\\bar{\\theta}\\right).$$    "
   ]
  },
  {
   "cell_type": "markdown",
   "metadata": {},
   "source": [
    "The OLS solution to linear regression problem can be obtained as from the optimization of the cost function $E_{T}$ with respect to $\\bar{\\theta}$:\n",
    "    \n",
    "(8) $$\\nabla_{\\bar{\\theta}} E_{T}\\left(L(f_{\\bar{\\theta}}(X),Y)\\right)=0.$$"
   ]
  },
  {
   "cell_type": "markdown",
   "metadata": {},
   "source": [
    "The gradient of the cost function can be expressed as:\n",
    "    \n",
    "(9) $$\\nabla_{\\bar{\\theta}} E_{T}\\left(L(f_{\\bar{\\theta}}(X),Y)\\right)=\\frac{1}{N} 2X^{T}\\left(X.\\theta-Y\\right)=0.$$  "
   ]
  },
  {
   "cell_type": "markdown",
   "metadata": {},
   "source": [
    "Which can be solved analitically in a closed form:\n",
    "    \n",
    "(10) $$\\bar{\\theta}=\\left(X^{T}.X\\right)^{-1}X^{T}Y.$$"
   ]
  },
  {
   "cell_type": "code",
   "execution_count": 123,
   "metadata": {},
   "outputs": [
    {
     "name": "stdout",
     "output_type": "stream",
     "text": [
      "---------------------------------------------\n",
      "ANALYTICAL SOLUTION\n",
      "theta:\n",
      " [[-180.92401772]\n",
      " [   1.61814247]]\n",
      "\n",
      "intercept: -180.9\n",
      "\n",
      "slope: 1.618\n",
      "\n",
      "Error (cost function): 372.3\n",
      "\n",
      "\n",
      "\n",
      "---------------------------------------------\n",
      "SKLEARN SOLUTION\n",
      "\n",
      "intercept: -180.9240177163372.\n",
      "\n",
      "slope: 1.6181424688789716.\n",
      "\n",
      "Error (cost function): 372.3\n"
     ]
    }
   ],
   "source": [
    "#Linear regression analitically\n",
    "xx = np.array([188, 181, 197, 168, 167, 187, 178, 194, 140, 176, 168, 192, 173, 142, 176]).reshape(-1, 1).reshape(15,1)\n",
    "x = np.asmatrix(np.c_[np.ones((15,1)),xx])\n",
    "\n",
    "y = np.array([141, 106, 149, 59, 79, 136, 65, 136, 52, 87, 115, 140, 82, 69, 121]).reshape(-1, 1).reshape(15,1)\n",
    "\n",
    "theta = np.linalg.inv(x.T*x)*x.T*y\n",
    "error=(((x@theta-y).T)@(x@theta-y))*(1/y.shape[0])\n",
    "print(\"---------------------------------------------\") \n",
    "print(\"ANALYTICAL SOLUTION\")\n",
    "print(\"theta:\\n {}\\n\".format(theta))\n",
    "print(\"intercept: {:.4g}\\n\".format(theta[0,0]))\n",
    "print(\"slope: {:.4g}\\n\".format(theta[1,0]))\n",
    "print(\"Error (cost function): {:.4g}\\n\".format(error[0,0]))\n",
    "\n",
    "\n",
    "#Linear regression sklearn.\n",
    "model = LinearRegression()\n",
    "model = LinearRegression().fit(xx, y)\n",
    "y_pred = model.predict(xx)\n",
    "y_true = y\n",
    "\n",
    "print(\"\\n\\n---------------------------------------------\")\n",
    "print(\"SKLEARN SOLUTION\")\n",
    "print(\"\\nintercept: {}.\".format(model.intercept_[0]))\n",
    "print(\"\\nslope: {}.\".format(model.coef_[0,0]))\n",
    "print('\\nError (cost function): {:.4g}'.format(mean_squared_error(y_true,y_pred)))\n"
   ]
  },
  {
   "cell_type": "markdown",
   "metadata": {},
   "source": [
    "### Problem 30.\n",
    "\n",
    "Download the data file from:\n",
    "    \n",
    "http://koza.if.uj.edu.pl/~krzemien/machine_learning2021/materials/datasets/data1.csv\n",
    "    \n",
    "and write a program that for every dataset separately calculates:\n",
    "\n",
    "• E[X], E[Y],\n",
    "\n",
    "• Var(X), Var(Y),\n",
    "\n",
    "• Cov(X,Y)\n",
    "\n",
    "• Pearson correlation coefficients\n",
    "\n",
    "Visualize the data (X vs Y). Visualize the means and variances for all datasets (e.g. E[X]\n",
    "vs dataset number) \n",
    "\n",
    "Notebook:\n",
    "https://github.com/wkrzemien/dataScienceAndML2020/blob/master/notebooks/intro/simple_load_data.ipynb"
   ]
  },
  {
   "cell_type": "code",
   "execution_count": null,
   "metadata": {},
   "outputs": [],
   "source": [
    "url='http://koza.if.uj.edu.pl/~krzemien/machine_learning2021/materials/datasets/data1.csv'\n",
    "urllib.request.urlretrieve(url,'data1.csv')"
   ]
  },
  {
   "cell_type": "code",
   "execution_count": 7,
   "metadata": {},
   "outputs": [],
   "source": [
    "input_file = 'data1.csv'"
   ]
  },
  {
   "cell_type": "code",
   "execution_count": 8,
   "metadata": {},
   "outputs": [],
   "source": [
    "data = pd.read_csv(input_file)"
   ]
  },
  {
   "cell_type": "code",
   "execution_count": 9,
   "metadata": {},
   "outputs": [
    {
     "data": {
      "text/plain": [
       "3"
      ]
     },
     "execution_count": 9,
     "metadata": {},
     "output_type": "execute_result"
    }
   ],
   "source": [
    "data[\"dataSet\"].max()"
   ]
  },
  {
   "cell_type": "code",
   "execution_count": 10,
   "metadata": {},
   "outputs": [
    {
     "data": {
      "text/html": [
       "<div>\n",
       "<style scoped>\n",
       "    .dataframe tbody tr th:only-of-type {\n",
       "        vertical-align: middle;\n",
       "    }\n",
       "\n",
       "    .dataframe tbody tr th {\n",
       "        vertical-align: top;\n",
       "    }\n",
       "\n",
       "    .dataframe thead th {\n",
       "        text-align: right;\n",
       "    }\n",
       "</style>\n",
       "<table border=\"1\" class=\"dataframe\">\n",
       "  <thead>\n",
       "    <tr style=\"text-align: right;\">\n",
       "      <th></th>\n",
       "      <th>x</th>\n",
       "      <th>y</th>\n",
       "      <th>dataSet</th>\n",
       "    </tr>\n",
       "  </thead>\n",
       "  <tbody>\n",
       "    <tr>\n",
       "      <th>0</th>\n",
       "      <td>10</td>\n",
       "      <td>8.04</td>\n",
       "      <td>0</td>\n",
       "    </tr>\n",
       "    <tr>\n",
       "      <th>1</th>\n",
       "      <td>8</td>\n",
       "      <td>6.95</td>\n",
       "      <td>0</td>\n",
       "    </tr>\n",
       "    <tr>\n",
       "      <th>2</th>\n",
       "      <td>13</td>\n",
       "      <td>7.58</td>\n",
       "      <td>0</td>\n",
       "    </tr>\n",
       "    <tr>\n",
       "      <th>3</th>\n",
       "      <td>9</td>\n",
       "      <td>8.81</td>\n",
       "      <td>0</td>\n",
       "    </tr>\n",
       "    <tr>\n",
       "      <th>4</th>\n",
       "      <td>11</td>\n",
       "      <td>8.33</td>\n",
       "      <td>0</td>\n",
       "    </tr>\n",
       "  </tbody>\n",
       "</table>\n",
       "</div>"
      ],
      "text/plain": [
       "    x     y  dataSet\n",
       "0  10  8.04        0\n",
       "1   8  6.95        0\n",
       "2  13  7.58        0\n",
       "3   9  8.81        0\n",
       "4  11  8.33        0"
      ]
     },
     "execution_count": 10,
     "metadata": {},
     "output_type": "execute_result"
    }
   ],
   "source": [
    "data.head()"
   ]
  },
  {
   "cell_type": "markdown",
   "metadata": {},
   "source": [
    "Calculate $E[X]$, $E[Y]$."
   ]
  },
  {
   "cell_type": "code",
   "execution_count": 11,
   "metadata": {},
   "outputs": [
    {
     "name": "stdout",
     "output_type": "stream",
     "text": [
      "E[X] = 9.0000\n",
      "E[Y] = 7.5007\n"
     ]
    }
   ],
   "source": [
    "print(\"E[X] = {:.4f}\".format(data[\"x\"].mean()))\n",
    "print(\"E[Y] = {:.4f}\".format(data[\"y\"].mean()))"
   ]
  },
  {
   "cell_type": "markdown",
   "metadata": {},
   "source": [
    "Visualize the data (X vs Y). Visualize the means and variances for all datasets (e.g. E[X] vs dataset number) "
   ]
  },
  {
   "cell_type": "code",
   "execution_count": 12,
   "metadata": {},
   "outputs": [
    {
     "name": "stdout",
     "output_type": "stream",
     "text": [
      "X vs Y VISUALISATION\n",
      "EXPECTED VALUE VS DATASET NUMBER\n"
     ]
    },
    {
     "data": {
      "image/png": "[encoded data removed]",
      "text/plain": [
       "<Figure size 432x288 with 1 Axes>"
      ]
     },
     "metadata": {
      "needs_background": "light"
     },
     "output_type": "display_data"
    }
   ],
   "source": [
    "print(\"X vs Y VISUALISATION\")\n",
    "\n",
    "data1 = data[data['dataSet']==0]\n",
    "data2 = data[data['dataSet']==1]\n",
    "data3 = data[data['dataSet']==2]\n",
    "data4 = data[data['dataSet']==3]\n",
    "\n",
    "print(\"EXPECTED VALUE VS DATASET NUMBER\")\n",
    "plt.scatter(data1[\"x\"], data1[\"y\"], label=\"dataSet-0\", color = \"red\")\n",
    "plt.scatter(data2[\"x\"], data2[\"y\"], label=\"dataSet-1\", color = \"blue\")\n",
    "plt.scatter(data3[\"x\"], data3[\"y\"], label=\"dataSet-2\", color = \"green\")\n",
    "plt.scatter(data4[\"x\"], data4[\"y\"], label=\"dataSet-3\", color = \"black\")\n",
    "\n",
    "plt.xlabel(\"y\")\n",
    "plt.ylabel(\"x\")\n",
    "plt.legend()\n",
    "plt.show()"
   ]
  },
  {
   "cell_type": "code",
   "execution_count": 13,
   "metadata": {},
   "outputs": [
    {
     "name": "stdout",
     "output_type": "stream",
     "text": [
      "EXPECTED VALUE OF X VS DATASET NUMBER\n"
     ]
    },
    {
     "data": {
      "image/png": "[encoded data removed]",
      "text/plain": [
       "<Figure size 432x288 with 1 Axes>"
      ]
     },
     "metadata": {
      "needs_background": "light"
     },
     "output_type": "display_data"
    }
   ],
   "source": [
    "data1 = data[data['dataSet']==0]\n",
    "data2 = data[data['dataSet']==1]\n",
    "data3 = data[data['dataSet']==2]\n",
    "data4 = data[data['dataSet']==3]\n",
    "\n",
    "print(\"EXPECTED VALUE OF X VS DATASET NUMBER\")\n",
    "plt.scatter(np.ones(data1[\"x\"].size)*0, np.array(np.dot(data1[\"x\"].mean(),np.ones(data1[\"x\"].size))), label=\"dataSet-0\", color = \"red\")\n",
    "plt.scatter(np.ones(data2[\"x\"].size)*1, np.array(np.dot(data2[\"x\"].mean(),np.ones(data2[\"x\"].size))), label=\"dataSet-1\", color = \"blue\")\n",
    "plt.scatter(np.ones(data3[\"x\"].size)*2, np.array(np.dot(data3[\"x\"].mean(),np.ones(data3[\"x\"].size))), label=\"dataSet-2\", color = \"green\")\n",
    "plt.scatter(np.ones(data4[\"x\"].size)*3, np.array(np.dot(data4[\"x\"].mean(),np.ones(data4[\"x\"].size))), label=\"dataSet-3\", color = \"black\")\n",
    "\n",
    "plt.xlabel(\"dataSet number\")\n",
    "plt.ylabel(\"E(X)\")\n",
    "plt.legend()\n",
    "plt.show()"
   ]
  },
  {
   "cell_type": "code",
   "execution_count": 14,
   "metadata": {},
   "outputs": [
    {
     "name": "stdout",
     "output_type": "stream",
     "text": [
      "EXPECTED VALUE OF Y VS DATASET NUMBER\n"
     ]
    },
    {
     "data": {
      "image/png": "[encoded data removed]",
      "text/plain": [
       "<Figure size 432x288 with 1 Axes>"
      ]
     },
     "metadata": {
      "needs_background": "light"
     },
     "output_type": "display_data"
    }
   ],
   "source": [
    "data1 = data[data['dataSet']==0]\n",
    "data2 = data[data['dataSet']==1]\n",
    "data3 = data[data['dataSet']==2]\n",
    "data4 = data[data['dataSet']==3]\n",
    "\n",
    "print(\"EXPECTED VALUE OF Y VS DATASET NUMBER\")\n",
    "plt.scatter(np.ones(data1[\"y\"].size)*0, np.array(np.dot(data1[\"y\"].mean(),np.ones(data1[\"y\"].size))), label=\"dataSet-0\", color = \"red\")\n",
    "plt.scatter(np.ones(data2[\"y\"].size)*1, np.array(np.dot(data2[\"y\"].mean(),np.ones(data2[\"y\"].size))), label=\"dataSet-1\", color = \"blue\")\n",
    "plt.scatter(np.ones(data3[\"y\"].size)*2, np.array(np.dot(data3[\"y\"].mean(),np.ones(data3[\"y\"].size))), label=\"dataSet-2\", color = \"green\")\n",
    "plt.scatter(np.ones(data4[\"y\"].size)*3, np.array(np.dot(data4[\"y\"].mean(),np.ones(data4[\"y\"].size))), label=\"dataSet-3\", color = \"black\")\n",
    "\n",
    "plt.xlabel(\"dataSet number\")\n",
    "plt.ylabel(\"E(Y)\")\n",
    "plt.legend()\n",
    "plt.show()"
   ]
  },
  {
   "cell_type": "markdown",
   "metadata": {},
   "source": [
    "Calculate $Var(X)$, $Var(Y)$:"
   ]
  },
  {
   "cell_type": "code",
   "execution_count": 15,
   "metadata": {},
   "outputs": [
    {
     "name": "stdout",
     "output_type": "stream",
     "text": [
      "Var(X) = 10.2326\n",
      "Var(Y) = 3.8374\n"
     ]
    }
   ],
   "source": [
    "print(\"Var(X) = {:.4f}\".format(data[\"x\"].var()))\n",
    "print(\"Var(Y) = {:.4f}\".format(data[\"y\"].var()))"
   ]
  },
  {
   "cell_type": "code",
   "execution_count": 16,
   "metadata": {},
   "outputs": [
    {
     "name": "stdout",
     "output_type": "stream",
     "text": [
      "VARIANCE VALUE OF X VS DATASET NUMBER\n"
     ]
    },
    {
     "data": {
      "image/png": "[encoded data removed]",
      "text/plain": [
       "<Figure size 432x288 with 1 Axes>"
      ]
     },
     "metadata": {
      "needs_background": "light"
     },
     "output_type": "display_data"
    }
   ],
   "source": [
    "data1 = data[data['dataSet']==0]\n",
    "data2 = data[data['dataSet']==1]\n",
    "data3 = data[data['dataSet']==2]\n",
    "data4 = data[data['dataSet']==3]\n",
    "\n",
    "print(\"VARIANCE VALUE OF X VS DATASET NUMBER\")\n",
    "plt.scatter(np.ones(data1[\"x\"].size)*0, np.array(np.dot(data1[\"x\"].var(),np.ones(data1[\"x\"].size))), label=\"dataSet-0\", color = \"red\")\n",
    "plt.scatter(np.ones(data2[\"x\"].size)*1, np.array(np.dot(data2[\"x\"].var(),np.ones(data2[\"x\"].size))), label=\"dataSet-1\", color = \"blue\")\n",
    "plt.scatter(np.ones(data3[\"x\"].size)*2, np.array(np.dot(data3[\"x\"].var(),np.ones(data3[\"x\"].size))), label=\"dataSet-2\", color = \"green\")\n",
    "plt.scatter(np.ones(data4[\"x\"].size)*3, np.array(np.dot(data4[\"x\"].var(),np.ones(data4[\"x\"].size))), label=\"dataSet-3\", color = \"black\")\n",
    "\n",
    "plt.xlabel(\"dataSet number\")\n",
    "plt.ylabel(\"Var(X)\")\n",
    "plt.legend()\n",
    "plt.show()"
   ]
  },
  {
   "cell_type": "code",
   "execution_count": 17,
   "metadata": {},
   "outputs": [
    {
     "name": "stdout",
     "output_type": "stream",
     "text": [
      "VARIANCE VALUE OF Y VS DATASET NUMBER\n"
     ]
    },
    {
     "data": {
      "image/png": "[encoded data removed]",
      "text/plain": [
       "<Figure size 432x288 with 1 Axes>"
      ]
     },
     "metadata": {
      "needs_background": "light"
     },
     "output_type": "display_data"
    }
   ],
   "source": [
    "data1 = data[data['dataSet']==0]\n",
    "data2 = data[data['dataSet']==1]\n",
    "data3 = data[data['dataSet']==2]\n",
    "data4 = data[data['dataSet']==3]\n",
    "\n",
    "print(\"VARIANCE VALUE OF Y VS DATASET NUMBER\")\n",
    "plt.scatter(np.ones(data1[\"y\"].size)*0, np.array(np.dot(data1[\"y\"].var(),np.ones(data1[\"y\"].size))), label=\"dataSet-0\", color = \"red\")\n",
    "plt.scatter(np.ones(data2[\"y\"].size)*1, np.array(np.dot(data2[\"y\"].var(),np.ones(data2[\"y\"].size))), label=\"dataSet-1\", color = \"blue\")\n",
    "plt.scatter(np.ones(data3[\"y\"].size)*2, np.array(np.dot(data3[\"y\"].var(),np.ones(data3[\"y\"].size))), label=\"dataSet-2\", color = \"green\")\n",
    "plt.scatter(np.ones(data4[\"y\"].size)*3, np.array(np.dot(data4[\"y\"].var(),np.ones(data4[\"y\"].size))), label=\"dataSet-3\", color = \"black\")\n",
    "\n",
    "plt.xlabel(\"dataSet number\")\n",
    "plt.ylabel(\"Var(Y)\")\n",
    "plt.legend()\n",
    "plt.show()"
   ]
  },
  {
   "cell_type": "markdown",
   "metadata": {},
   "source": [
    "Calculate $Cov(X,Y)$:"
   ]
  },
  {
   "cell_type": "code",
   "execution_count": 19,
   "metadata": {},
   "outputs": [
    {
     "name": "stdout",
     "output_type": "stream",
     "text": [
      "Cov(X,Y):\n",
      " [[10.23255814  5.1155814 ]\n",
      " [ 5.1155814   3.8373879 ]]\n"
     ]
    }
   ],
   "source": [
    "print(\"Cov(X,Y):\\n\", np.cov(data[\"x\"],data[\"y\"]))"
   ]
  },
  {
   "cell_type": "code",
   "execution_count": 20,
   "metadata": {},
   "outputs": [
    {
     "name": "stdout",
     "output_type": "stream",
     "text": [
      "pearson correlations:\n",
      " [[1.         0.81636624]\n",
      " [0.81636624 1.        ]]\n"
     ]
    }
   ],
   "source": [
    "print(\"pearson correlations:\\n\",np.corrcoef(data[\"x\"],data[\"y\"]))"
   ]
  },
  {
   "cell_type": "code",
   "execution_count": 21,
   "metadata": {},
   "outputs": [
    {
     "data": {
      "text/plain": [
       "x            int64\n",
       "y          float64\n",
       "dataSet      int64\n",
       "dtype: object"
      ]
     },
     "execution_count": 21,
     "metadata": {},
     "output_type": "execute_result"
    }
   ],
   "source": [
    "data.dtypes"
   ]
  },
  {
   "cell_type": "code",
   "execution_count": 22,
   "metadata": {},
   "outputs": [
    {
     "name": "stdout",
     "output_type": "stream",
     "text": [
      "['x' 'y' 'dataSet']\n"
     ]
    }
   ],
   "source": [
    "print(data.columns.values)"
   ]
  },
  {
   "cell_type": "code",
   "execution_count": 23,
   "metadata": {},
   "outputs": [
    {
     "name": "stdout",
     "output_type": "stream",
     "text": [
      "<class 'pandas.core.frame.DataFrame'>\n",
      "RangeIndex: 44 entries, 0 to 43\n",
      "Data columns (total 3 columns):\n",
      " #   Column   Non-Null Count  Dtype  \n",
      "---  ------   --------------  -----  \n",
      " 0   x        44 non-null     int64  \n",
      " 1   y        44 non-null     float64\n",
      " 2   dataSet  44 non-null     int64  \n",
      "dtypes: float64(1), int64(2)\n",
      "memory usage: 1.2 KB\n"
     ]
    }
   ],
   "source": [
    "data.info()"
   ]
  },
  {
   "cell_type": "code",
   "execution_count": 24,
   "metadata": {},
   "outputs": [
    {
     "data": {
      "text/html": [
       "<div>\n",
       "<style scoped>\n",
       "    .dataframe tbody tr th:only-of-type {\n",
       "        vertical-align: middle;\n",
       "    }\n",
       "\n",
       "    .dataframe tbody tr th {\n",
       "        vertical-align: top;\n",
       "    }\n",
       "\n",
       "    .dataframe thead th {\n",
       "        text-align: right;\n",
       "    }\n",
       "</style>\n",
       "<table border=\"1\" class=\"dataframe\">\n",
       "  <thead>\n",
       "    <tr style=\"text-align: right;\">\n",
       "      <th></th>\n",
       "      <th>x</th>\n",
       "      <th>y</th>\n",
       "      <th>dataSet</th>\n",
       "    </tr>\n",
       "  </thead>\n",
       "  <tbody>\n",
       "    <tr>\n",
       "      <th>count</th>\n",
       "      <td>44.000000</td>\n",
       "      <td>44.000000</td>\n",
       "      <td>44.00000</td>\n",
       "    </tr>\n",
       "    <tr>\n",
       "      <th>mean</th>\n",
       "      <td>9.000000</td>\n",
       "      <td>7.500682</td>\n",
       "      <td>1.50000</td>\n",
       "    </tr>\n",
       "    <tr>\n",
       "      <th>std</th>\n",
       "      <td>3.198837</td>\n",
       "      <td>1.958925</td>\n",
       "      <td>1.13096</td>\n",
       "    </tr>\n",
       "    <tr>\n",
       "      <th>min</th>\n",
       "      <td>4.000000</td>\n",
       "      <td>3.100000</td>\n",
       "      <td>0.00000</td>\n",
       "    </tr>\n",
       "    <tr>\n",
       "      <th>25%</th>\n",
       "      <td>7.000000</td>\n",
       "      <td>6.117500</td>\n",
       "      <td>0.75000</td>\n",
       "    </tr>\n",
       "    <tr>\n",
       "      <th>50%</th>\n",
       "      <td>8.000000</td>\n",
       "      <td>7.520000</td>\n",
       "      <td>1.50000</td>\n",
       "    </tr>\n",
       "    <tr>\n",
       "      <th>75%</th>\n",
       "      <td>11.000000</td>\n",
       "      <td>8.747500</td>\n",
       "      <td>2.25000</td>\n",
       "    </tr>\n",
       "    <tr>\n",
       "      <th>max</th>\n",
       "      <td>19.000000</td>\n",
       "      <td>12.740000</td>\n",
       "      <td>3.00000</td>\n",
       "    </tr>\n",
       "  </tbody>\n",
       "</table>\n",
       "</div>"
      ],
      "text/plain": [
       "               x          y   dataSet\n",
       "count  44.000000  44.000000  44.00000\n",
       "mean    9.000000   7.500682   1.50000\n",
       "std     3.198837   1.958925   1.13096\n",
       "min     4.000000   3.100000   0.00000\n",
       "25%     7.000000   6.117500   0.75000\n",
       "50%     8.000000   7.520000   1.50000\n",
       "75%    11.000000   8.747500   2.25000\n",
       "max    19.000000  12.740000   3.00000"
      ]
     },
     "execution_count": 24,
     "metadata": {},
     "output_type": "execute_result"
    }
   ],
   "source": [
    "data.describe()"
   ]
  },
  {
   "cell_type": "code",
   "execution_count": 25,
   "metadata": {},
   "outputs": [
    {
     "data": {
      "text/plain": [
       "x          11\n",
       "y          11\n",
       "dataSet    11\n",
       "dtype: int64"
      ]
     },
     "execution_count": 25,
     "metadata": {},
     "output_type": "execute_result"
    }
   ],
   "source": [
    "data[data['dataSet']==0].count()"
   ]
  },
  {
   "cell_type": "code",
   "execution_count": 26,
   "metadata": {},
   "outputs": [
    {
     "data": {
      "text/plain": [
       "x          44\n",
       "y          44\n",
       "dataSet    44\n",
       "dtype: int64"
      ]
     },
     "execution_count": 26,
     "metadata": {},
     "output_type": "execute_result"
    }
   ],
   "source": [
    "data.count()"
   ]
  },
  {
   "cell_type": "code",
   "execution_count": 27,
   "metadata": {},
   "outputs": [
    {
     "data": {
      "text/html": [
       "<div>\n",
       "<style scoped>\n",
       "    .dataframe tbody tr th:only-of-type {\n",
       "        vertical-align: middle;\n",
       "    }\n",
       "\n",
       "    .dataframe tbody tr th {\n",
       "        vertical-align: top;\n",
       "    }\n",
       "\n",
       "    .dataframe thead th {\n",
       "        text-align: right;\n",
       "    }\n",
       "</style>\n",
       "<table border=\"1\" class=\"dataframe\">\n",
       "  <thead>\n",
       "    <tr style=\"text-align: right;\">\n",
       "      <th></th>\n",
       "      <th>dataSet</th>\n",
       "      <th>y</th>\n",
       "    </tr>\n",
       "  </thead>\n",
       "  <tbody>\n",
       "    <tr>\n",
       "      <th>0</th>\n",
       "      <td>0</td>\n",
       "      <td>7.500909</td>\n",
       "    </tr>\n",
       "    <tr>\n",
       "      <th>1</th>\n",
       "      <td>1</td>\n",
       "      <td>7.500909</td>\n",
       "    </tr>\n",
       "    <tr>\n",
       "      <th>2</th>\n",
       "      <td>2</td>\n",
       "      <td>7.500000</td>\n",
       "    </tr>\n",
       "    <tr>\n",
       "      <th>3</th>\n",
       "      <td>3</td>\n",
       "      <td>7.500909</td>\n",
       "    </tr>\n",
       "  </tbody>\n",
       "</table>\n",
       "</div>"
      ],
      "text/plain": [
       "   dataSet         y\n",
       "0        0  7.500909\n",
       "1        1  7.500909\n",
       "2        2  7.500000\n",
       "3        3  7.500909"
      ]
     },
     "execution_count": 27,
     "metadata": {},
     "output_type": "execute_result"
    }
   ],
   "source": [
    "data[['y','dataSet']].groupby(['dataSet'],as_index=False).mean().sort_values(by='dataSet')"
   ]
  },
  {
   "cell_type": "code",
   "execution_count": 30,
   "metadata": {},
   "outputs": [
    {
     "data": {
      "text/plain": [
       "<Figure size 432x288 with 0 Axes>"
      ]
     },
     "execution_count": 30,
     "metadata": {},
     "output_type": "execute_result"
    },
    {
     "data": {
      "text/plain": [
       "<Figure size 432x288 with 0 Axes>"
      ]
     },
     "metadata": {},
     "output_type": "display_data"
    }
   ],
   "source": [
    "plt.figure()"
   ]
  },
  {
   "cell_type": "code",
   "execution_count": 31,
   "metadata": {},
   "outputs": [
    {
     "data": {
      "text/plain": [
       "<AxesSubplot:>"
      ]
     },
     "execution_count": 31,
     "metadata": {},
     "output_type": "execute_result"
    },
    {
     "data": {
      "image/png": "[encoded data removed]",
      "text/plain": [
       "<Figure size 432x288 with 1 Axes>"
      ]
     },
     "metadata": {
      "needs_background": "light"
     },
     "output_type": "display_data"
    }
   ],
   "source": [
    "data.plot()"
   ]
  },
  {
   "cell_type": "code",
   "execution_count": 32,
   "metadata": {},
   "outputs": [
    {
     "data": {
      "text/plain": [
       "<AxesSubplot:xlabel='x'>"
      ]
     },
     "execution_count": 32,
     "metadata": {},
     "output_type": "execute_result"
    },
    {
     "data": {
      "image/png": "[encoded data removed]",
      "text/plain": [
       "<Figure size 432x288 with 1 Axes>"
      ]
     },
     "metadata": {
      "needs_background": "light"
     },
     "output_type": "display_data"
    }
   ],
   "source": [
    "data.plot(x='x', y='y', style='o')"
   ]
  }
 ],
 "metadata": {
  "kernelspec": {
   "display_name": "Python 3",
   "language": "python",
   "name": "python3"
  },
  "language_info": {
   "codemirror_mode": {
    "name": "ipython",
    "version": 3
   },
   "file_extension": ".py",
   "mimetype": "text/x-python",
   "name": "python",
   "nbconvert_exporter": "python",
   "pygments_lexer": "ipython3",
   "version": "3.8.5"
  }
 },
 "nbformat": 4,
 "nbformat_minor": 4
}
