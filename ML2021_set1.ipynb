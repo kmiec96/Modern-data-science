{
 "cells": [
  {
   "cell_type": "code",
   "execution_count": 6,
   "metadata": {},
   "outputs": [],
   "source": [
    "%matplotlib inline\n",
    "#standard imports \n",
    "import math\n",
    "import numpy as np\n",
    "import pandas as pd\n",
    "import matplotlib.pyplot as plt"
   ]
  },
  {
   "cell_type": "markdown",
   "metadata": {},
   "source": [
    "# There are three (obligatory) problems to solve due 6.11\n",
    "\n",
    "1.k-NN Problem\n",
    "\n",
    "2.Bayes value Problem\n",
    "\n",
    "3.Expectated value Problem"
   ]
  },
  {
   "cell_type": "markdown",
   "metadata": {},
   "source": [
    "# 1. The first problem should be solved according to the guidelines from\n",
    "\n",
    "https://github.com/wkrzemien/dataScienceAndML2020/blob/master/notebooks/knn/knn_first.ipynb"
   ]
  },
  {
   "cell_type": "markdown",
   "metadata": {},
   "source": [
    "# 1. KNN algorithm has three steps:\n",
    "\n",
    "(1) Calculate Euclidean Distance.\n",
    "\n",
    "(2) Get Nearest Neighbors.\n",
    "\n",
    "(3) Make Predictions.\n"
   ]
  },
  {
   "cell_type": "markdown",
   "metadata": {},
   "source": [
    "File available here: http://koza.if.uj.edu.pl/~krzemien/machine_learning2021/materials/datasets/iris_data.csv"
   ]
  },
  {
   "cell_type": "code",
   "execution_count": 170,
   "metadata": {},
   "outputs": [],
   "source": [
    "input_file = 'iris_data.csv'"
   ]
  },
  {
   "cell_type": "code",
   "execution_count": 171,
   "metadata": {},
   "outputs": [],
   "source": [
    "data = pd.read_csv(input_file)"
   ]
  },
  {
   "cell_type": "code",
   "execution_count": 172,
   "metadata": {},
   "outputs": [
    {
     "data": {
      "text/html": [
       "<div>\n",
       "<style scoped>\n",
       "    .dataframe tbody tr th:only-of-type {\n",
       "        vertical-align: middle;\n",
       "    }\n",
       "\n",
       "    .dataframe tbody tr th {\n",
       "        vertical-align: top;\n",
       "    }\n",
       "\n",
       "    .dataframe thead th {\n",
       "        text-align: right;\n",
       "    }\n",
       "</style>\n",
       "<table border=\"1\" class=\"dataframe\">\n",
       "  <thead>\n",
       "    <tr style=\"text-align: right;\">\n",
       "      <th></th>\n",
       "      <th>sepal_length</th>\n",
       "      <th>sepal_width</th>\n",
       "      <th>petal_length</th>\n",
       "      <th>petal_width</th>\n",
       "      <th>species</th>\n",
       "    </tr>\n",
       "  </thead>\n",
       "  <tbody>\n",
       "    <tr>\n",
       "      <th>0</th>\n",
       "      <td>5.1</td>\n",
       "      <td>3.5</td>\n",
       "      <td>1.4</td>\n",
       "      <td>0.2</td>\n",
       "      <td>Iris-setosa</td>\n",
       "    </tr>\n",
       "    <tr>\n",
       "      <th>1</th>\n",
       "      <td>4.9</td>\n",
       "      <td>3.0</td>\n",
       "      <td>1.4</td>\n",
       "      <td>0.2</td>\n",
       "      <td>Iris-setosa</td>\n",
       "    </tr>\n",
       "    <tr>\n",
       "      <th>2</th>\n",
       "      <td>4.7</td>\n",
       "      <td>3.2</td>\n",
       "      <td>1.3</td>\n",
       "      <td>0.2</td>\n",
       "      <td>Iris-setosa</td>\n",
       "    </tr>\n",
       "    <tr>\n",
       "      <th>3</th>\n",
       "      <td>4.6</td>\n",
       "      <td>3.1</td>\n",
       "      <td>1.5</td>\n",
       "      <td>0.2</td>\n",
       "      <td>Iris-setosa</td>\n",
       "    </tr>\n",
       "    <tr>\n",
       "      <th>4</th>\n",
       "      <td>5.0</td>\n",
       "      <td>3.6</td>\n",
       "      <td>1.4</td>\n",
       "      <td>0.2</td>\n",
       "      <td>Iris-setosa</td>\n",
       "    </tr>\n",
       "  </tbody>\n",
       "</table>\n",
       "</div>"
      ],
      "text/plain": [
       "   sepal_length  sepal_width  petal_length  petal_width      species\n",
       "0           5.1          3.5           1.4          0.2  Iris-setosa\n",
       "1           4.9          3.0           1.4          0.2  Iris-setosa\n",
       "2           4.7          3.2           1.3          0.2  Iris-setosa\n",
       "3           4.6          3.1           1.5          0.2  Iris-setosa\n",
       "4           5.0          3.6           1.4          0.2  Iris-setosa"
      ]
     },
     "execution_count": 172,
     "metadata": {},
     "output_type": "execute_result"
    }
   ],
   "source": [
    "data.head()"
   ]
  },
  {
   "cell_type": "code",
   "execution_count": 10,
   "metadata": {},
   "outputs": [
    {
     "name": "stdout",
     "output_type": "stream",
     "text": [
      "<class 'pandas.core.frame.DataFrame'>\n",
      "RangeIndex: 150 entries, 0 to 149\n",
      "Data columns (total 5 columns):\n",
      " #   Column        Non-Null Count  Dtype  \n",
      "---  ------        --------------  -----  \n",
      " 0   sepal_length  150 non-null    float64\n",
      " 1   sepal_width   150 non-null    float64\n",
      " 2   petal_length  150 non-null    float64\n",
      " 3   petal_width   150 non-null    float64\n",
      " 4   species       150 non-null    object \n",
      "dtypes: float64(4), object(1)\n",
      "memory usage: 6.0+ KB\n"
     ]
    }
   ],
   "source": [
    "data.info()"
   ]
  },
  {
   "cell_type": "code",
   "execution_count": 11,
   "metadata": {},
   "outputs": [
    {
     "data": {
      "text/html": [
       "<div>\n",
       "<style scoped>\n",
       "    .dataframe tbody tr th:only-of-type {\n",
       "        vertical-align: middle;\n",
       "    }\n",
       "\n",
       "    .dataframe tbody tr th {\n",
       "        vertical-align: top;\n",
       "    }\n",
       "\n",
       "    .dataframe thead th {\n",
       "        text-align: right;\n",
       "    }\n",
       "</style>\n",
       "<table border=\"1\" class=\"dataframe\">\n",
       "  <thead>\n",
       "    <tr style=\"text-align: right;\">\n",
       "      <th></th>\n",
       "      <th>sepal_length</th>\n",
       "      <th>sepal_width</th>\n",
       "      <th>petal_length</th>\n",
       "      <th>petal_width</th>\n",
       "    </tr>\n",
       "  </thead>\n",
       "  <tbody>\n",
       "    <tr>\n",
       "      <th>count</th>\n",
       "      <td>150.000000</td>\n",
       "      <td>150.000000</td>\n",
       "      <td>150.000000</td>\n",
       "      <td>150.000000</td>\n",
       "    </tr>\n",
       "    <tr>\n",
       "      <th>mean</th>\n",
       "      <td>5.843333</td>\n",
       "      <td>3.054000</td>\n",
       "      <td>3.758667</td>\n",
       "      <td>1.198667</td>\n",
       "    </tr>\n",
       "    <tr>\n",
       "      <th>std</th>\n",
       "      <td>0.828066</td>\n",
       "      <td>0.433594</td>\n",
       "      <td>1.764420</td>\n",
       "      <td>0.763161</td>\n",
       "    </tr>\n",
       "    <tr>\n",
       "      <th>min</th>\n",
       "      <td>4.300000</td>\n",
       "      <td>2.000000</td>\n",
       "      <td>1.000000</td>\n",
       "      <td>0.100000</td>\n",
       "    </tr>\n",
       "    <tr>\n",
       "      <th>25%</th>\n",
       "      <td>5.100000</td>\n",
       "      <td>2.800000</td>\n",
       "      <td>1.600000</td>\n",
       "      <td>0.300000</td>\n",
       "    </tr>\n",
       "    <tr>\n",
       "      <th>50%</th>\n",
       "      <td>5.800000</td>\n",
       "      <td>3.000000</td>\n",
       "      <td>4.350000</td>\n",
       "      <td>1.300000</td>\n",
       "    </tr>\n",
       "    <tr>\n",
       "      <th>75%</th>\n",
       "      <td>6.400000</td>\n",
       "      <td>3.300000</td>\n",
       "      <td>5.100000</td>\n",
       "      <td>1.800000</td>\n",
       "    </tr>\n",
       "    <tr>\n",
       "      <th>max</th>\n",
       "      <td>7.900000</td>\n",
       "      <td>4.400000</td>\n",
       "      <td>6.900000</td>\n",
       "      <td>2.500000</td>\n",
       "    </tr>\n",
       "  </tbody>\n",
       "</table>\n",
       "</div>"
      ],
      "text/plain": [
       "       sepal_length  sepal_width  petal_length  petal_width\n",
       "count    150.000000   150.000000    150.000000   150.000000\n",
       "mean       5.843333     3.054000      3.758667     1.198667\n",
       "std        0.828066     0.433594      1.764420     0.763161\n",
       "min        4.300000     2.000000      1.000000     0.100000\n",
       "25%        5.100000     2.800000      1.600000     0.300000\n",
       "50%        5.800000     3.000000      4.350000     1.300000\n",
       "75%        6.400000     3.300000      5.100000     1.800000\n",
       "max        7.900000     4.400000      6.900000     2.500000"
      ]
     },
     "execution_count": 11,
     "metadata": {},
     "output_type": "execute_result"
    }
   ],
   "source": [
    "data.describe()"
   ]
  },
  {
   "cell_type": "code",
   "execution_count": 12,
   "metadata": {},
   "outputs": [
    {
     "data": {
      "text/plain": [
       "array(['Iris-setosa', 'Iris-versicolor', 'Iris-virginica'], dtype=object)"
      ]
     },
     "execution_count": 12,
     "metadata": {},
     "output_type": "execute_result"
    }
   ],
   "source": [
    "data['species'].unique()"
   ]
  },
  {
   "cell_type": "code",
   "execution_count": 13,
   "metadata": {},
   "outputs": [],
   "source": [
    "dataSetosa=data[data['species']=='Iris-setosa']\n",
    "dataVersicolor=data[data['species']=='Iris-versicolor']\n",
    "dataVirginica=data[data['species']=='Iris-virginica']\n",
    "datasets =[dataSetosa,dataVersicolor,dataVirginica]"
   ]
  },
  {
   "cell_type": "code",
   "execution_count": 14,
   "metadata": {},
   "outputs": [
    {
     "data": {
      "text/html": [
       "<div>\n",
       "<style scoped>\n",
       "    .dataframe tbody tr th:only-of-type {\n",
       "        vertical-align: middle;\n",
       "    }\n",
       "\n",
       "    .dataframe tbody tr th {\n",
       "        vertical-align: top;\n",
       "    }\n",
       "\n",
       "    .dataframe thead th {\n",
       "        text-align: right;\n",
       "    }\n",
       "</style>\n",
       "<table border=\"1\" class=\"dataframe\">\n",
       "  <thead>\n",
       "    <tr style=\"text-align: right;\">\n",
       "      <th></th>\n",
       "      <th>sepal_length</th>\n",
       "      <th>sepal_width</th>\n",
       "      <th>petal_length</th>\n",
       "      <th>petal_width</th>\n",
       "    </tr>\n",
       "    <tr>\n",
       "      <th>species</th>\n",
       "      <th></th>\n",
       "      <th></th>\n",
       "      <th></th>\n",
       "      <th></th>\n",
       "    </tr>\n",
       "  </thead>\n",
       "  <tbody>\n",
       "    <tr>\n",
       "      <th>Iris-setosa</th>\n",
       "      <td>5.006</td>\n",
       "      <td>3.418</td>\n",
       "      <td>1.464</td>\n",
       "      <td>0.244</td>\n",
       "    </tr>\n",
       "    <tr>\n",
       "      <th>Iris-versicolor</th>\n",
       "      <td>5.936</td>\n",
       "      <td>2.770</td>\n",
       "      <td>4.260</td>\n",
       "      <td>1.326</td>\n",
       "    </tr>\n",
       "    <tr>\n",
       "      <th>Iris-virginica</th>\n",
       "      <td>6.588</td>\n",
       "      <td>2.974</td>\n",
       "      <td>5.552</td>\n",
       "      <td>2.026</td>\n",
       "    </tr>\n",
       "  </tbody>\n",
       "</table>\n",
       "</div>"
      ],
      "text/plain": [
       "                 sepal_length  sepal_width  petal_length  petal_width\n",
       "species                                                              \n",
       "Iris-setosa             5.006        3.418         1.464        0.244\n",
       "Iris-versicolor         5.936        2.770         4.260        1.326\n",
       "Iris-virginica          6.588        2.974         5.552        2.026"
      ]
     },
     "execution_count": 14,
     "metadata": {},
     "output_type": "execute_result"
    }
   ],
   "source": [
    "data.groupby('species').mean()"
   ]
  },
  {
   "cell_type": "code",
   "execution_count": 15,
   "metadata": {},
   "outputs": [
    {
     "data": {
      "text/html": [
       "<div>\n",
       "<style scoped>\n",
       "    .dataframe tbody tr th:only-of-type {\n",
       "        vertical-align: middle;\n",
       "    }\n",
       "\n",
       "    .dataframe tbody tr th {\n",
       "        vertical-align: top;\n",
       "    }\n",
       "\n",
       "    .dataframe thead th {\n",
       "        text-align: right;\n",
       "    }\n",
       "</style>\n",
       "<table border=\"1\" class=\"dataframe\">\n",
       "  <thead>\n",
       "    <tr style=\"text-align: right;\">\n",
       "      <th></th>\n",
       "      <th>sepal_length</th>\n",
       "      <th>sepal_width</th>\n",
       "      <th>petal_length</th>\n",
       "      <th>petal_width</th>\n",
       "    </tr>\n",
       "    <tr>\n",
       "      <th>species</th>\n",
       "      <th></th>\n",
       "      <th></th>\n",
       "      <th></th>\n",
       "      <th></th>\n",
       "    </tr>\n",
       "  </thead>\n",
       "  <tbody>\n",
       "    <tr>\n",
       "      <th>Iris-setosa</th>\n",
       "      <td>0.352490</td>\n",
       "      <td>0.381024</td>\n",
       "      <td>0.173511</td>\n",
       "      <td>0.107210</td>\n",
       "    </tr>\n",
       "    <tr>\n",
       "      <th>Iris-versicolor</th>\n",
       "      <td>0.516171</td>\n",
       "      <td>0.313798</td>\n",
       "      <td>0.469911</td>\n",
       "      <td>0.197753</td>\n",
       "    </tr>\n",
       "    <tr>\n",
       "      <th>Iris-virginica</th>\n",
       "      <td>0.635880</td>\n",
       "      <td>0.322497</td>\n",
       "      <td>0.551895</td>\n",
       "      <td>0.274650</td>\n",
       "    </tr>\n",
       "  </tbody>\n",
       "</table>\n",
       "</div>"
      ],
      "text/plain": [
       "                 sepal_length  sepal_width  petal_length  petal_width\n",
       "species                                                              \n",
       "Iris-setosa          0.352490     0.381024      0.173511     0.107210\n",
       "Iris-versicolor      0.516171     0.313798      0.469911     0.197753\n",
       "Iris-virginica       0.635880     0.322497      0.551895     0.274650"
      ]
     },
     "execution_count": 15,
     "metadata": {},
     "output_type": "execute_result"
    }
   ],
   "source": [
    "data.groupby('species').std()"
   ]
  },
  {
   "cell_type": "code",
   "execution_count": 16,
   "metadata": {},
   "outputs": [],
   "source": [
    "def plotDatasets(datasets, dataSetsLabels, columnsToPlot=None, xLabel='x', yLabel='y', ):\n",
    "  \"\"\"\n",
    "    Args:\n",
    "      columnsToPlot(list): list of numbers corresponding to columns that should be plotted.\n",
    "                           e.g. if we want to plot 3rd column  vs 4th column columnsToPlot should be\n",
    "                           a list [2,3]. By default it is 1rst vs 2nd so [0,1]\n",
    "\n",
    "  \"\"\"\n",
    "  colors = ['red','green','blue'] \n",
    "  if not columnsToPlot:\n",
    "    columnsToPlot = [0, 1]\n",
    "  for d, dlabel, color in zip(datasets, dataSetsLabels, colors):\n",
    "    xdata = d.iloc[:, columnsToPlot[0]]\n",
    "    ydata = d.iloc[:, columnsToPlot[1]]\n",
    "    plt.scatter(xdata, ydata, label=dlabel, color = color)\n",
    "    plt.xlabel(xLabel)\n",
    "    plt.ylabel(yLabel)\n",
    "  plt.legend()\n",
    "  plt.show()\n",
    "  # plt.savefig('plot.png') #save figure to file"
   ]
  },
  {
   "cell_type": "code",
   "execution_count": 17,
   "metadata": {},
   "outputs": [],
   "source": [
    "dLabels = ['Iris-setosa', 'Iris-versicolor', 'Iris-virginica']"
   ]
  },
  {
   "cell_type": "code",
   "execution_count": 18,
   "metadata": {},
   "outputs": [
    {
     "data": {
      "image/png": "[encoded data removed]",
      "text/plain": [
       "<Figure size 432x288 with 1 Axes>"
      ]
     },
     "metadata": {
      "needs_background": "light"
     },
     "output_type": "display_data"
    }
   ],
   "source": [
    "plotDatasets(datasets, dLabels, [0, 1], 'sepal_length', 'sepal_width')"
   ]
  },
  {
   "cell_type": "code",
   "execution_count": 19,
   "metadata": {},
   "outputs": [
    {
     "data": {
      "image/png": "[encoded data removed]",
      "text/plain": [
       "<Figure size 432x288 with 1 Axes>"
      ]
     },
     "metadata": {
      "needs_background": "light"
     },
     "output_type": "display_data"
    }
   ],
   "source": [
    "plotDatasets(datasets, dLabels, [2, 3], 'petal_length', 'petal_width')"
   ]
  },
  {
   "cell_type": "code",
   "execution_count": 58,
   "metadata": {},
   "outputs": [],
   "source": [
    "def distance(x,y):\n",
    "    xx=np.array(x)\n",
    "    yy=np.array(y)\n",
    "    return np.sqrt(np.sum(np.square(xx-yy)))"
   ]
  },
  {
   "cell_type": "code",
   "execution_count": 59,
   "metadata": {},
   "outputs": [],
   "source": [
    "#from operator import itemgetter - I didn t use that, but could have\n",
    "\n",
    "def getNeighbours(x, Xtrain, Ytrain, metric=distance):    \n",
    "    #Function should return neighbours of x, sorted by distance from x. \n",
    "    neighbours=[[distance(x,Xtrain[i]),Xtrain[i],Ytrain[i]] for i in range(len(Xtrain))]\n",
    "    neighbours.sort(key=lambda a: a[0])   \n",
    "    return neighbours"
   ]
  },
  {
   "cell_type": "code",
   "execution_count": 60,
   "metadata": {},
   "outputs": [],
   "source": [
    "def getKNNeighbours(neighbours, k):    \n",
    "    #Function should return k nearest neighbours assuming that neighbours are already sorted by distance.\n",
    "    knn_neighbours = neighbours[:k]   \n",
    "    return knn_neighbours"
   ]
  },
  {
   "cell_type": "code",
   "execution_count": 141,
   "metadata": {},
   "outputs": [],
   "source": [
    "def majorityVote(neighbours):\n",
    "    #Return the average of class labels  \n",
    "    neighbour_arr = np.array([neighbours[i][2] for i in range(len(neighbours))]) \n",
    "    return np.average(neighbour_arr)"
   ]
  },
  {
   "cell_type": "code",
   "execution_count": 160,
   "metadata": {},
   "outputs": [],
   "source": [
    "def predict(x, Xtrain, Ytrain, k):\n",
    "    neighbours = getNeighbours(x, Xtrain, Ytrain, metric=distance)\n",
    "    knn_neighbours = getKNNeighbours(neighbours, k)\n",
    "    prediction = majorityVote(knn_neighbours)   \n",
    "    if prediction >= 0.5:\n",
    "        pred=1\n",
    "    else:\n",
    "        pred=0\n",
    "    return pred\n",
    "\n",
    "def predictList(xObjects, Xtrain, Ytrain, k):  \n",
    "    \n",
    "    list_predictions = []\n",
    "    \n",
    "    for x in xObjects:\n",
    "        list_predictions.append(predict(x, Xtrain, Ytrain, k))\n",
    "    \n",
    "    return list_predictions"
   ]
  },
  {
   "cell_type": "code",
   "execution_count": 118,
   "metadata": {},
   "outputs": [],
   "source": [
    "def meanSquaredError(v, w):\n",
    "    #brute-force solution\n",
    "    #mean_squared_error = 0\n",
    "    #for i in range(len(v)):\n",
    "    #    mean_squared_error += math.pow(v[i] - w[i], 2)\n",
    "    #    return math.sqrt(mean_squared_error)\n",
    "    \n",
    "    #numpy solution\n",
    "    vv=np.array(v)\n",
    "    ww=np.array(w)\n",
    "    mse = (np.square(vv - ww)).mean(axis=0)\n",
    "    return mse"
   ]
  },
  {
   "cell_type": "code",
   "execution_count": 119,
   "metadata": {},
   "outputs": [],
   "source": [
    "def plotErrors(x, train,valid):\n",
    "    plt.plot(x, train, label='training error')\n",
    "    plt.plot(x, valid, label='test error')\n",
    "    plt.xlabel('k')\n",
    "    plt.legend()\n",
    "    plt.show()\n",
    "  #plt.savefig('errors.png') #save figure to file"
   ]
  },
  {
   "cell_type": "code",
   "execution_count": 98,
   "metadata": {},
   "outputs": [],
   "source": [
    "def divideData(dataSet, fraction):\n",
    "    nbTotal = len(ddataSet.index)\n",
    "    nbTrain = int(nbTotal*fraction)\n",
    "    return (dataSet.iloc[:nbTrain,:], dataSet.iloc[nbTrain:,:])"
   ]
  },
  {
   "cell_type": "code",
   "execution_count": 164,
   "metadata": {},
   "outputs": [],
   "source": [
    "def runTests():\n",
    "    # some tests of distance function\n",
    "    np.testing.assert_almost_equal(distance([1, 1], [1, 1]), 0)\n",
    "    np.testing.assert_almost_equal(distance([2, 0, 1], [5, 0, 1]), 3)\n",
    "    np.testing.assert_almost_equal(distance([0, 0], [2, 2]), np.sqrt(8))\n",
    "\n",
    "    # some tests of getNeighbours function\n",
    "    Xtrain = [[2, 0], [0, 0],  [1, 0]]\n",
    "    Ytrain = [1, 0, 1]\n",
    "    x = [-1, 0]  # with respect to x we calculate the distance\n",
    "    result = getNeighbours(x, Xtrain, Ytrain)\n",
    "    expected = ((1, [0, 0], 0), (2, [1, 0], 1), (3, [2, 0], 1))\n",
    "    np.testing.assert_equal(result, expected)\n",
    "\n",
    "    # some tests of getKNNeighbours function\n",
    "    data = [[1, [0, 0], 0], [2, [1, 0], 1], [3, [2, 0], 1]]\n",
    "    np.testing.assert_equal(getKNNeighbours(data,  k=1), [[1, [0, 0], 0]])\n",
    "    np.testing.assert_equal(getKNNeighbours(data,  k=2), [[1, [0, 0], 0], [2, [1, 0], 1]])\n",
    "\n",
    "    # some tests of majorityVote function\n",
    "    data = [[1, [0, 0], 0], [2, [1, 0], 1], [3, [2, 0], 1]]\n",
    "    np.testing.assert_equal(majorityVote(data), 2./3.)\n",
    "\n",
    "    # some tests of predict function\n",
    "    xTrain = [[0, 0], [1, 0], [2, 0]]\n",
    "    yTrain = [0, 1, 1]\n",
    "    x = [-1, 0]\n",
    "    k = 1\n",
    "    np.testing.assert_almost_equal(predict(x, xTrain, yTrain, k), 0)\n",
    "    k = 2\n",
    "    np.testing.assert_almost_equal(predict(x, xTrain, yTrain, k), 1)\n",
    "    k = 3\n",
    "    np.testing.assert_almost_equal(predict(x, xTrain, yTrain, k), 1)\n",
    "\n",
    "    # some tests of predictList function\n",
    "    xTrain = [[0, 0], [1, 0], [2, 0]]\n",
    "    yTrain = [0, 1, 1]\n",
    "    xToClassify = [[-1, 0], [3, 0]]\n",
    "    k = 1\n",
    "    np.testing.assert_almost_equal(predictList(xToClassify, xTrain, yTrain, k), [0., 1.])"
   ]
  },
  {
   "cell_type": "code",
   "execution_count": 166,
   "metadata": {},
   "outputs": [],
   "source": [
    "runTests()"
   ]
  },
  {
   "cell_type": "code",
   "execution_count": 174,
   "metadata": {},
   "outputs": [],
   "source": [
    "class kNN(object):\n",
    "    def __init__(self, n_neighbours):\n",
    "        self.n_neighbours = n_neighbours\n",
    "        self.Xtrain = []\n",
    "        self.Ytrain = []\n",
    "    def fit(self, x,y):\n",
    "        self.Xtrain = x\n",
    "        self.Ytrain = y\n",
    "    def predict(self, Xobjects):\n",
    "        return predictList(Xobjects,self.Xtrain, self.Ytrain, self.n_neighbours)"
   ]
  },
  {
   "cell_type": "code",
   "execution_count": 175,
   "metadata": {},
   "outputs": [],
   "source": [
    "xTrain = [[0, 0], [1, 0], [2, 0]]\n",
    "yTrain = [0, 1, 1]\n",
    "xToClassify = [[-1, 0], [3, 0]]\n",
    "k = 1\n",
    "model = kNN(k)\n",
    "model.fit(xTrain,yTrain)\n",
    "np.testing.assert_almost_equal(model.predict(xToClassify), [0., 1.])"
   ]
  },
  {
   "cell_type": "code",
   "execution_count": 184,
   "metadata": {},
   "outputs": [
    {
     "name": "stderr",
     "output_type": "stream",
     "text": [
      "<ipython-input-184-1e512be500a9>:14: SettingWithCopyWarning: \n",
      "A value is trying to be set on a copy of a slice from a DataFrame.\n",
      "Try using .loc[row_indexer,col_indexer] = value instead\n",
      "\n",
      "See the caveats in the documentation: https://pandas.pydata.org/pandas-docs/stable/user_guide/indexing.html#returning-a-view-versus-a-copy\n",
      "  dataWithoutVirignica['class']=dataWithoutVirignica.apply(lambda row:toNumeric(row),axis=1)\n"
     ]
    },
    {
     "data": {
      "text/html": [
       "<div>\n",
       "<style scoped>\n",
       "    .dataframe tbody tr th:only-of-type {\n",
       "        vertical-align: middle;\n",
       "    }\n",
       "\n",
       "    .dataframe tbody tr th {\n",
       "        vertical-align: top;\n",
       "    }\n",
       "\n",
       "    .dataframe thead th {\n",
       "        text-align: right;\n",
       "    }\n",
       "</style>\n",
       "<table border=\"1\" class=\"dataframe\">\n",
       "  <thead>\n",
       "    <tr style=\"text-align: right;\">\n",
       "      <th></th>\n",
       "      <th>sepal_length</th>\n",
       "      <th>sepal_width</th>\n",
       "      <th>class</th>\n",
       "    </tr>\n",
       "  </thead>\n",
       "  <tbody>\n",
       "    <tr>\n",
       "      <th>0</th>\n",
       "      <td>5.1</td>\n",
       "      <td>3.5</td>\n",
       "      <td>1</td>\n",
       "    </tr>\n",
       "    <tr>\n",
       "      <th>1</th>\n",
       "      <td>4.9</td>\n",
       "      <td>3.0</td>\n",
       "      <td>1</td>\n",
       "    </tr>\n",
       "    <tr>\n",
       "      <th>2</th>\n",
       "      <td>4.7</td>\n",
       "      <td>3.2</td>\n",
       "      <td>1</td>\n",
       "    </tr>\n",
       "    <tr>\n",
       "      <th>3</th>\n",
       "      <td>4.6</td>\n",
       "      <td>3.1</td>\n",
       "      <td>1</td>\n",
       "    </tr>\n",
       "    <tr>\n",
       "      <th>4</th>\n",
       "      <td>5.0</td>\n",
       "      <td>3.6</td>\n",
       "      <td>1</td>\n",
       "    </tr>\n",
       "  </tbody>\n",
       "</table>\n",
       "</div>"
      ],
      "text/plain": [
       "   sepal_length  sepal_width  class\n",
       "0           5.1          3.5      1\n",
       "1           4.9          3.0      1\n",
       "2           4.7          3.2      1\n",
       "3           4.6          3.1      1\n",
       "4           5.0          3.6      1"
      ]
     },
     "execution_count": 184,
     "metadata": {},
     "output_type": "execute_result"
    }
   ],
   "source": [
    "classLabels = ['Iris-setosa', 'Iris-versicolor', 'Iris-virginica']\n",
    "columnLabels = ['sepal_length', 'sepal_width',\n",
    "                  'petal_length', 'petal_width', 'species']\n",
    "# First let's try  Iris-setosa vs Iris-versicolor, two features sepal-length vs sepal-width\n",
    "# we get rid of the third class Iris-viriginica\n",
    "dataWithoutVirignica = data[data['species'] != 'Iris-virginica']\n",
    "\n",
    "def toNumeric(row):\n",
    "    if row.species == 'Iris-versicolor':\n",
    "        return 0\n",
    "    else:\n",
    "        return 1\n",
    "\n",
    "dataWithoutVirignica['class']=dataWithoutVirignica.apply(lambda row:toNumeric(row),axis=1)\n",
    "  \n",
    "# we leave only sepal_length, sepal_width and class label columns\n",
    "columnsToLeave=['sepal_length', 'sepal_width', 'class']  \n",
    "dataSepal = dataWithoutVirignica[columnsToLeave]\n",
    "\n",
    "dataSepal.head()"
   ]
  },
  {
   "cell_type": "code",
   "execution_count": 210,
   "metadata": {},
   "outputs": [
    {
     "name": "stdout",
     "output_type": "stream",
     "text": [
      "[4.7, 3.2]\n",
      "1\n",
      "    sepal_length  sepal_width  class\n",
      "2            4.7          3.2      1\n",
      "9            4.9          3.1      1\n",
      "12           4.8          3.0      1\n",
      "14           5.8          4.0      1\n",
      "28           5.2          3.4      1\n"
     ]
    }
   ],
   "source": [
    "fraction = 0.8\n",
    "# we  divide the content into the training and validation set\n",
    "# we also randomly shuffle the content\n",
    "trainingSet=dataSepal.sample(frac=fraction)\n",
    "validationSet=dataSepal.drop(trainingSet.index)\n",
    "\n",
    "#There was a mistake here in the instructor's code I corrected it see below:\n",
    "xTrain = trainingSet.iloc[:, 0:2].values.tolist()\n",
    "yTrain = trainingSet.iloc[:, 2].values.tolist()\n",
    "xValid = validationSet.iloc[:, 0:2].values.tolist()\n",
    "yValid = validationSet.iloc[:, 2].values.tolist()\n",
    "\n",
    "print(xValid[0])\n",
    "print(yValid[0])\n",
    "print(validationSet.head())\n"
   ]
  },
  {
   "cell_type": "code",
   "execution_count": 207,
   "metadata": {},
   "outputs": [],
   "source": [
    "if fraction < 1:\n",
    "    #we calculate training error and validation error\n",
    "    trainError=[]\n",
    "    validError=[]\n",
    "    kRange =range(1,80)\n",
    "    trainPredictions = predictList(xTrain, xTrain, yTrain, 1)\n",
    "    for k in kRange:\n",
    "        trainPredictions = predictList(xTrain, xTrain, yTrain, k)\n",
    "        validationPredictions = predictList(xValid, xTrain, yTrain, k)\n",
    "        trainError.append(meanSquaredError(trainPredictions,yTrain))\n",
    "        validError.append(meanSquaredError(validationPredictions,yValid))"
   ]
  },
  {
   "cell_type": "code",
   "execution_count": 208,
   "metadata": {},
   "outputs": [
    {
     "data": {
      "image/png": "[encoded data removed]",
      "text/plain": [
       "<Figure size 432x288 with 1 Axes>"
      ]
     },
     "metadata": {
      "needs_background": "light"
     },
     "output_type": "display_data"
    }
   ],
   "source": [
    "plotErrors(kRange, trainError,validError)"
   ]
  },
  {
   "cell_type": "markdown",
   "metadata": {},
   "source": [
    "# 2. Bayes value"
   ]
  },
  {
   "cell_type": "markdown",
   "metadata": {},
   "source": [
    "A pharmaceutical company developed a test for detecting the rare disease, which is carried by 0.5 % cases of the whole population. Let’s assume that the test gives positive results for 96% of the cases if the patient is ill, but it also gives positive results in 5% of the healthy patient. What is the probability that a patient is ill if his test gave a positive result?"
   ]
  },
  {
   "cell_type": "markdown",
   "metadata": {},
   "source": [
    "The natural solution to this problem is (almost the same as https://www.youtube.com/watch?v=R13BD8qKeTg):\n",
    "    \n",
    "$$P(\\text{ill}|P)=\\frac{P(P|\\text{ill})\\cdot P(\\text{ill})}{P(ill) \\cdot P(P|ill)+P(-ill) \\cdot P(P|-ill)}.$$"
   ]
  },
  {
   "cell_type": "markdown",
   "metadata": {},
   "source": [
    "$$P(\\text{ill})=0.005$$"
   ]
  },
  {
   "cell_type": "markdown",
   "metadata": {},
   "source": [
    "$$P(-\\text{ill})=0.995$$"
   ]
  },
  {
   "cell_type": "markdown",
   "metadata": {},
   "source": [
    "$$P(P|\\text{ill})=TP=0.960$$"
   ]
  },
  {
   "cell_type": "markdown",
   "metadata": {},
   "source": [
    "$$P(P|\\text{-ill})=FP=0.050$$"
   ]
  },
  {
   "cell_type": "code",
   "execution_count": 10,
   "metadata": {},
   "outputs": [
    {
     "name": "stdout",
     "output_type": "stream",
     "text": [
      "The probability that the patient is ill on condition that they were positively diagnosed is: 8.799%.\n"
     ]
    }
   ],
   "source": [
    "#Calculations\n",
    "P_ill=0.005\n",
    "P_not_ill=0.995\n",
    "P_P_ill=0.960\n",
    "P_P_not_ill=0.050 \n",
    "\n",
    "P_ill_P=((P_P_ill*P_ill)/(P_ill*P_P_ill+P_not_ill*P_P_not_ill))\n",
    "\n",
    "print(\"The probability that the patient is ill on condition that they were positively diagnosed is: {:.4g}%.\".format(100*P_ill_P))"
   ]
  },
  {
   "cell_type": "markdown",
   "metadata": {},
   "source": [
    "# 3.Expected Value Problem"
   ]
  },
  {
   "cell_type": "markdown",
   "metadata": {},
   "source": [
    "a).Let $g(X) = 1$ for some set $A$ being a subset of sample space $\\Omega$. What is the interpretation of $E[g(X)]$ if is discrete with a given PMF or continuous with a given PDF?"
   ]
  },
  {
   "cell_type": "markdown",
   "metadata": {},
   "source": [
    "In order to solve this problem we have to make an assumption about the values of $g(x)$ for $x\\notin A$. Since the author of this question did not specify what happens for x from within $\\Omega$ but outside of $A$ region we have taken the liberty to specify function $g(x)$ in a little bit more detail.\n",
    "\n",
    "$$g(x)= \n",
    "     \\begin{cases}\n",
    "      &1, x\\in A\\\\\n",
    "      &0, x\\notin A\n",
    "     \\end{cases}.$$\n",
    "     \n",
    "For continuous $x \\in A$:\n",
    "$$E\\left[g(X)\\right]=\\int_{\\Omega}g(x)\\cdot f_{x}(x) dx=\\int_{\\Omega} f_{x}(x) dx = 1,$$\n",
    "\n",
    "where in accordance to the lecture $f_{x}(x)$ is PDF function.  \n",
    "\n",
    "For discrete $k\\in A$ and function $g(x)$ defined in the aforementioned way it is only natural to conclude that:\n",
    "\n",
    "$$E\\left[g(X)\\right]=\\int_{\\Omega}g(x)\\cdot f_{x}(x) \\cdot \\delta(x-k) dx=\\sum_{k\\in A}g(k)\\cdot p_{x}(k)=\\sum_{k\\in A}p_{x}(k)=1,$$\n",
    "\n",
    "where $p_{x}(k)$ is the PMF function.\n",
    "\n",
    "The above equation can be trivially generalised to $n$ dimensions: $$x\\rightarrow (x_{1},x_{2},.....,x_{n}),$$ $$dx\\rightarrow dx_{1}dx_{2}...dx_{n}.$$"
   ]
  },
  {
   "cell_type": "markdown",
   "metadata": {},
   "source": [
    "b).What is the interpretation of $E\\left[g(X)\\right]$ for $g(X)=x$?\n"
   ]
  },
  {
   "cell_type": "markdown",
   "metadata": {},
   "source": [
    "$$E\\left[g(X)\\right]=\\int_{\\Omega}g(x)\\cdot f_{x}(x) dx=\\int_{\\Omega}x\\cdot f_{x}(x) dx.$$\n",
    "\n"
   ]
  }
 ],
 "metadata": {
  "kernelspec": {
   "display_name": "Python 3",
   "language": "python",
   "name": "python3"
  },
  "language_info": {
   "codemirror_mode": {
    "name": "ipython",
    "version": 3
   },
   "file_extension": ".py",
   "mimetype": "text/x-python",
   "name": "python",
   "nbconvert_exporter": "python",
   "pygments_lexer": "ipython3",
   "version": "3.8.5"
  }
 },
 "nbformat": 4,
 "nbformat_minor": 4
}
