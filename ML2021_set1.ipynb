{
 "cells": [
  {
   "cell_type": "code",
   "execution_count": 5,
   "metadata": {},
   "outputs": [],
   "source": [
    "%matplotlib inline\n",
    "#standard imports \n",
    "import math\n",
    "import numpy as np\n",
    "import pandas as pd\n",
    "import matplotlib.pyplot as plt"
   ]
  },
  {
   "cell_type": "markdown",
   "metadata": {},
   "source": [
    "# There are three (obligatory) problems to solve due 6.11\n",
    "\n",
    "1.k-NN Problem\n",
    "\n",
    "2.Bayes value Problem\n",
    "\n",
    "3.Expectated value Problem"
   ]
  },
  {
   "cell_type": "markdown",
   "metadata": {},
   "source": [
    "# 1. The first problem should be solved according to the guidelines from\n",
    "\n",
    "https://github.com/wkrzemien/dataScienceAndML2020/blob/master/notebooks/knn/knn_first.ipynb"
   ]
  },
  {
   "cell_type": "markdown",
   "metadata": {},
   "source": [
    "# 1. KNN algorithm has three steps:\n",
    "\n",
    "(1) Calculate Euclidean Distance.\n",
    "\n",
    "(2) Get Nearest Neighbors.\n",
    "\n",
    "(3) Make Predictions.\n"
   ]
  },
  {
   "cell_type": "markdown",
   "metadata": {},
   "source": [
    "File available here: http://koza.if.uj.edu.pl/~krzemien/machine_learning2021/materials/datasets/iris_data.csv"
   ]
  },
  {
   "cell_type": "code",
   "execution_count": 9,
   "metadata": {},
   "outputs": [],
   "source": [
    "input_file = 'iris_data.csv'"
   ]
  },
  {
   "cell_type": "code",
   "execution_count": 10,
   "metadata": {},
   "outputs": [],
   "source": [
    "data = pd.read_csv(input_file)"
   ]
  },
  {
   "cell_type": "code",
   "execution_count": 11,
   "metadata": {},
   "outputs": [
    {
     "data": {
      "text/html": [
       "<div>\n",
       "<style scoped>\n",
       "    .dataframe tbody tr th:only-of-type {\n",
       "        vertical-align: middle;\n",
       "    }\n",
       "\n",
       "    .dataframe tbody tr th {\n",
       "        vertical-align: top;\n",
       "    }\n",
       "\n",
       "    .dataframe thead th {\n",
       "        text-align: right;\n",
       "    }\n",
       "</style>\n",
       "<table border=\"1\" class=\"dataframe\">\n",
       "  <thead>\n",
       "    <tr style=\"text-align: right;\">\n",
       "      <th></th>\n",
       "      <th>sepal_length</th>\n",
       "      <th>sepal_width</th>\n",
       "      <th>petal_length</th>\n",
       "      <th>petal_width</th>\n",
       "      <th>species</th>\n",
       "    </tr>\n",
       "  </thead>\n",
       "  <tbody>\n",
       "    <tr>\n",
       "      <th>0</th>\n",
       "      <td>5.1</td>\n",
       "      <td>3.5</td>\n",
       "      <td>1.4</td>\n",
       "      <td>0.2</td>\n",
       "      <td>Iris-setosa</td>\n",
       "    </tr>\n",
       "    <tr>\n",
       "      <th>1</th>\n",
       "      <td>4.9</td>\n",
       "      <td>3.0</td>\n",
       "      <td>1.4</td>\n",
       "      <td>0.2</td>\n",
       "      <td>Iris-setosa</td>\n",
       "    </tr>\n",
       "    <tr>\n",
       "      <th>2</th>\n",
       "      <td>4.7</td>\n",
       "      <td>3.2</td>\n",
       "      <td>1.3</td>\n",
       "      <td>0.2</td>\n",
       "      <td>Iris-setosa</td>\n",
       "    </tr>\n",
       "    <tr>\n",
       "      <th>3</th>\n",
       "      <td>4.6</td>\n",
       "      <td>3.1</td>\n",
       "      <td>1.5</td>\n",
       "      <td>0.2</td>\n",
       "      <td>Iris-setosa</td>\n",
       "    </tr>\n",
       "    <tr>\n",
       "      <th>4</th>\n",
       "      <td>5.0</td>\n",
       "      <td>3.6</td>\n",
       "      <td>1.4</td>\n",
       "      <td>0.2</td>\n",
       "      <td>Iris-setosa</td>\n",
       "    </tr>\n",
       "  </tbody>\n",
       "</table>\n",
       "</div>"
      ],
      "text/plain": [
       "   sepal_length  sepal_width  petal_length  petal_width      species\n",
       "0           5.1          3.5           1.4          0.2  Iris-setosa\n",
       "1           4.9          3.0           1.4          0.2  Iris-setosa\n",
       "2           4.7          3.2           1.3          0.2  Iris-setosa\n",
       "3           4.6          3.1           1.5          0.2  Iris-setosa\n",
       "4           5.0          3.6           1.4          0.2  Iris-setosa"
      ]
     },
     "execution_count": 11,
     "metadata": {},
     "output_type": "execute_result"
    }
   ],
   "source": [
    "data.head()"
   ]
  },
  {
   "cell_type": "code",
   "execution_count": 12,
   "metadata": {},
   "outputs": [
    {
     "name": "stdout",
     "output_type": "stream",
     "text": [
      "<class 'pandas.core.frame.DataFrame'>\n",
      "RangeIndex: 150 entries, 0 to 149\n",
      "Data columns (total 5 columns):\n",
      " #   Column        Non-Null Count  Dtype  \n",
      "---  ------        --------------  -----  \n",
      " 0   sepal_length  150 non-null    float64\n",
      " 1   sepal_width   150 non-null    float64\n",
      " 2   petal_length  150 non-null    float64\n",
      " 3   petal_width   150 non-null    float64\n",
      " 4   species       150 non-null    object \n",
      "dtypes: float64(4), object(1)\n",
      "memory usage: 6.0+ KB\n"
     ]
    }
   ],
   "source": [
    "data.info()"
   ]
  },
  {
   "cell_type": "code",
   "execution_count": 13,
   "metadata": {},
   "outputs": [
    {
     "data": {
      "text/html": [
       "<div>\n",
       "<style scoped>\n",
       "    .dataframe tbody tr th:only-of-type {\n",
       "        vertical-align: middle;\n",
       "    }\n",
       "\n",
       "    .dataframe tbody tr th {\n",
       "        vertical-align: top;\n",
       "    }\n",
       "\n",
       "    .dataframe thead th {\n",
       "        text-align: right;\n",
       "    }\n",
       "</style>\n",
       "<table border=\"1\" class=\"dataframe\">\n",
       "  <thead>\n",
       "    <tr style=\"text-align: right;\">\n",
       "      <th></th>\n",
       "      <th>sepal_length</th>\n",
       "      <th>sepal_width</th>\n",
       "      <th>petal_length</th>\n",
       "      <th>petal_width</th>\n",
       "    </tr>\n",
       "  </thead>\n",
       "  <tbody>\n",
       "    <tr>\n",
       "      <th>count</th>\n",
       "      <td>150.000000</td>\n",
       "      <td>150.000000</td>\n",
       "      <td>150.000000</td>\n",
       "      <td>150.000000</td>\n",
       "    </tr>\n",
       "    <tr>\n",
       "      <th>mean</th>\n",
       "      <td>5.843333</td>\n",
       "      <td>3.054000</td>\n",
       "      <td>3.758667</td>\n",
       "      <td>1.198667</td>\n",
       "    </tr>\n",
       "    <tr>\n",
       "      <th>std</th>\n",
       "      <td>0.828066</td>\n",
       "      <td>0.433594</td>\n",
       "      <td>1.764420</td>\n",
       "      <td>0.763161</td>\n",
       "    </tr>\n",
       "    <tr>\n",
       "      <th>min</th>\n",
       "      <td>4.300000</td>\n",
       "      <td>2.000000</td>\n",
       "      <td>1.000000</td>\n",
       "      <td>0.100000</td>\n",
       "    </tr>\n",
       "    <tr>\n",
       "      <th>25%</th>\n",
       "      <td>5.100000</td>\n",
       "      <td>2.800000</td>\n",
       "      <td>1.600000</td>\n",
       "      <td>0.300000</td>\n",
       "    </tr>\n",
       "    <tr>\n",
       "      <th>50%</th>\n",
       "      <td>5.800000</td>\n",
       "      <td>3.000000</td>\n",
       "      <td>4.350000</td>\n",
       "      <td>1.300000</td>\n",
       "    </tr>\n",
       "    <tr>\n",
       "      <th>75%</th>\n",
       "      <td>6.400000</td>\n",
       "      <td>3.300000</td>\n",
       "      <td>5.100000</td>\n",
       "      <td>1.800000</td>\n",
       "    </tr>\n",
       "    <tr>\n",
       "      <th>max</th>\n",
       "      <td>7.900000</td>\n",
       "      <td>4.400000</td>\n",
       "      <td>6.900000</td>\n",
       "      <td>2.500000</td>\n",
       "    </tr>\n",
       "  </tbody>\n",
       "</table>\n",
       "</div>"
      ],
      "text/plain": [
       "       sepal_length  sepal_width  petal_length  petal_width\n",
       "count    150.000000   150.000000    150.000000   150.000000\n",
       "mean       5.843333     3.054000      3.758667     1.198667\n",
       "std        0.828066     0.433594      1.764420     0.763161\n",
       "min        4.300000     2.000000      1.000000     0.100000\n",
       "25%        5.100000     2.800000      1.600000     0.300000\n",
       "50%        5.800000     3.000000      4.350000     1.300000\n",
       "75%        6.400000     3.300000      5.100000     1.800000\n",
       "max        7.900000     4.400000      6.900000     2.500000"
      ]
     },
     "execution_count": 13,
     "metadata": {},
     "output_type": "execute_result"
    }
   ],
   "source": [
    "data.describe()"
   ]
  },
  {
   "cell_type": "code",
   "execution_count": 14,
   "metadata": {},
   "outputs": [
    {
     "data": {
      "text/plain": [
       "array(['Iris-setosa', 'Iris-versicolor', 'Iris-virginica'], dtype=object)"
      ]
     },
     "execution_count": 14,
     "metadata": {},
     "output_type": "execute_result"
    }
   ],
   "source": [
    "data['species'].unique()"
   ]
  },
  {
   "cell_type": "code",
   "execution_count": 15,
   "metadata": {},
   "outputs": [],
   "source": [
    "dataSetosa=data[data['species']=='Iris-setosa']\n",
    "dataVersicolor=data[data['species']=='Iris-versicolor']\n",
    "dataVirginica=data[data['species']=='Iris-virginica']\n",
    "datasets =[dataSetosa,dataVersicolor,dataVirginica]"
   ]
  },
  {
   "cell_type": "code",
   "execution_count": 16,
   "metadata": {},
   "outputs": [
    {
     "data": {
      "text/html": [
       "<div>\n",
       "<style scoped>\n",
       "    .dataframe tbody tr th:only-of-type {\n",
       "        vertical-align: middle;\n",
       "    }\n",
       "\n",
       "    .dataframe tbody tr th {\n",
       "        vertical-align: top;\n",
       "    }\n",
       "\n",
       "    .dataframe thead th {\n",
       "        text-align: right;\n",
       "    }\n",
       "</style>\n",
       "<table border=\"1\" class=\"dataframe\">\n",
       "  <thead>\n",
       "    <tr style=\"text-align: right;\">\n",
       "      <th></th>\n",
       "      <th>sepal_length</th>\n",
       "      <th>sepal_width</th>\n",
       "      <th>petal_length</th>\n",
       "      <th>petal_width</th>\n",
       "    </tr>\n",
       "    <tr>\n",
       "      <th>species</th>\n",
       "      <th></th>\n",
       "      <th></th>\n",
       "      <th></th>\n",
       "      <th></th>\n",
       "    </tr>\n",
       "  </thead>\n",
       "  <tbody>\n",
       "    <tr>\n",
       "      <th>Iris-setosa</th>\n",
       "      <td>5.006</td>\n",
       "      <td>3.418</td>\n",
       "      <td>1.464</td>\n",
       "      <td>0.244</td>\n",
       "    </tr>\n",
       "    <tr>\n",
       "      <th>Iris-versicolor</th>\n",
       "      <td>5.936</td>\n",
       "      <td>2.770</td>\n",
       "      <td>4.260</td>\n",
       "      <td>1.326</td>\n",
       "    </tr>\n",
       "    <tr>\n",
       "      <th>Iris-virginica</th>\n",
       "      <td>6.588</td>\n",
       "      <td>2.974</td>\n",
       "      <td>5.552</td>\n",
       "      <td>2.026</td>\n",
       "    </tr>\n",
       "  </tbody>\n",
       "</table>\n",
       "</div>"
      ],
      "text/plain": [
       "                 sepal_length  sepal_width  petal_length  petal_width\n",
       "species                                                              \n",
       "Iris-setosa             5.006        3.418         1.464        0.244\n",
       "Iris-versicolor         5.936        2.770         4.260        1.326\n",
       "Iris-virginica          6.588        2.974         5.552        2.026"
      ]
     },
     "execution_count": 16,
     "metadata": {},
     "output_type": "execute_result"
    }
   ],
   "source": [
    "data.groupby('species').mean()"
   ]
  },
  {
   "cell_type": "code",
   "execution_count": 17,
   "metadata": {},
   "outputs": [
    {
     "data": {
      "text/html": [
       "<div>\n",
       "<style scoped>\n",
       "    .dataframe tbody tr th:only-of-type {\n",
       "        vertical-align: middle;\n",
       "    }\n",
       "\n",
       "    .dataframe tbody tr th {\n",
       "        vertical-align: top;\n",
       "    }\n",
       "\n",
       "    .dataframe thead th {\n",
       "        text-align: right;\n",
       "    }\n",
       "</style>\n",
       "<table border=\"1\" class=\"dataframe\">\n",
       "  <thead>\n",
       "    <tr style=\"text-align: right;\">\n",
       "      <th></th>\n",
       "      <th>sepal_length</th>\n",
       "      <th>sepal_width</th>\n",
       "      <th>petal_length</th>\n",
       "      <th>petal_width</th>\n",
       "    </tr>\n",
       "    <tr>\n",
       "      <th>species</th>\n",
       "      <th></th>\n",
       "      <th></th>\n",
       "      <th></th>\n",
       "      <th></th>\n",
       "    </tr>\n",
       "  </thead>\n",
       "  <tbody>\n",
       "    <tr>\n",
       "      <th>Iris-setosa</th>\n",
       "      <td>0.352490</td>\n",
       "      <td>0.381024</td>\n",
       "      <td>0.173511</td>\n",
       "      <td>0.107210</td>\n",
       "    </tr>\n",
       "    <tr>\n",
       "      <th>Iris-versicolor</th>\n",
       "      <td>0.516171</td>\n",
       "      <td>0.313798</td>\n",
       "      <td>0.469911</td>\n",
       "      <td>0.197753</td>\n",
       "    </tr>\n",
       "    <tr>\n",
       "      <th>Iris-virginica</th>\n",
       "      <td>0.635880</td>\n",
       "      <td>0.322497</td>\n",
       "      <td>0.551895</td>\n",
       "      <td>0.274650</td>\n",
       "    </tr>\n",
       "  </tbody>\n",
       "</table>\n",
       "</div>"
      ],
      "text/plain": [
       "                 sepal_length  sepal_width  petal_length  petal_width\n",
       "species                                                              \n",
       "Iris-setosa          0.352490     0.381024      0.173511     0.107210\n",
       "Iris-versicolor      0.516171     0.313798      0.469911     0.197753\n",
       "Iris-virginica       0.635880     0.322497      0.551895     0.274650"
      ]
     },
     "execution_count": 17,
     "metadata": {},
     "output_type": "execute_result"
    }
   ],
   "source": [
    "data.groupby('species').std()"
   ]
  },
  {
   "cell_type": "code",
   "execution_count": 18,
   "metadata": {},
   "outputs": [],
   "source": [
    "\n",
    "def plotDatasets(datasets, dataSetsLabels, columnsToPlot=None, xLabel='x', yLabel='y', ):\n",
    "    \"\"\"\n",
    "    Args:\n",
    "      columnsToPlot(list): list of numbers corresponding to columns that should be plotted.\n",
    "                           e.g. if we want to plot 3rd column  vs 4th column columnsToPlot should be\n",
    "                           a list [2,3]. By default it is 1rst vs 2nd so [0,1]\n",
    "\n",
    "    \"\"\"\n",
    "    colors = ['red','green','blue'] \n",
    "    if not columnsToPlot:\n",
    "        columnsToPlot = [0, 1]\n",
    "    for d, dlabel, color in zip(datasets, dataSetsLabels, colors):\n",
    "        xdata = d.iloc[:, columnsToPlot[0]]\n",
    "        ydata = d.iloc[:, columnsToPlot[1]]\n",
    "        plt.scatter(xdata, ydata, label=dlabel, color = color)\n",
    "        plt.xlabel(xLabel)\n",
    "        plt.ylabel(yLabel)\n",
    "    plt.legend()\n",
    "    plt.show()\n",
    "  # plt.savefig('plot.png') #save figure to file"
   ]
  },
  {
   "cell_type": "code",
   "execution_count": 19,
   "metadata": {},
   "outputs": [],
   "source": [
    "dLabels = ['Iris-setosa', 'Iris-versicolor', 'Iris-virginica']"
   ]
  },
  {
   "cell_type": "code",
   "execution_count": 20,
   "metadata": {},
   "outputs": [
    {
     "data": {
      "image/png": "[encoded data removed]",
      "text/plain": [
       "<Figure size 432x288 with 1 Axes>"
      ]
     },
     "metadata": {
      "needs_background": "light"
     },
     "output_type": "display_data"
    }
   ],
   "source": [
    "plotDatasets(datasets, dLabels, [0, 1], 'sepal_length', 'sepal_width')"
   ]
  },
  {
   "cell_type": "code",
   "execution_count": 21,
   "metadata": {},
   "outputs": [
    {
     "data": {
      "image/png": "[encoded data removed]",
      "text/plain": [
       "<Figure size 432x288 with 1 Axes>"
      ]
     },
     "metadata": {
      "needs_background": "light"
     },
     "output_type": "display_data"
    }
   ],
   "source": [
    "plotDatasets(datasets, dLabels, [2, 3], 'petal_length', 'petal_width')"
   ]
  },
  {
   "cell_type": "code",
   "execution_count": 22,
   "metadata": {},
   "outputs": [],
   "source": [
    "def distance(x,y):\n",
    "    xx=np.array(x)\n",
    "    yy=np.array(y)\n",
    "    return np.sqrt(np.sum(np.square(xx-yy)))"
   ]
  },
  {
   "cell_type": "code",
   "execution_count": 23,
   "metadata": {},
   "outputs": [],
   "source": [
    "#from operator import itemgetter - I didn t use that, but could have\n",
    "\n",
    "def getNeighbours(x, Xtrain, Ytrain, metric=distance):    \n",
    "    #Function should return neighbours of x, sorted by distance from x. \n",
    "    neighbours=[[distance(x,Xtrain[i]),Xtrain[i],Ytrain[i]] for i in range(len(Xtrain))]\n",
    "    neighbours.sort(key=lambda a: a[0])   \n",
    "    return neighbours"
   ]
  },
  {
   "cell_type": "code",
   "execution_count": 24,
   "metadata": {},
   "outputs": [],
   "source": [
    "def getKNNeighbours(neighbours, k):    \n",
    "    #Function should return k nearest neighbours assuming that neighbours are already sorted by distance.\n",
    "    knn_neighbours = neighbours[:k]   \n",
    "    return knn_neighbours"
   ]
  },
  {
   "cell_type": "code",
   "execution_count": 25,
   "metadata": {},
   "outputs": [],
   "source": [
    "def majorityVote(neighbours):\n",
    "    #Return the average of class labels  \n",
    "    neighbour_arr = np.array([neighbours[i][2] for i in range(len(neighbours))]) \n",
    "    return np.average(neighbour_arr)"
   ]
  },
  {
   "cell_type": "code",
   "execution_count": 26,
   "metadata": {},
   "outputs": [],
   "source": [
    "def predict(x, Xtrain, Ytrain, k):\n",
    "    neighbours = getNeighbours(x, Xtrain, Ytrain, metric=distance) \n",
    "    knn_neighbours = getKNNeighbours(neighbours, k)\n",
    "    prediction = majorityVote(knn_neighbours)   \n",
    "    if prediction >= 0.5:\n",
    "        pred=1\n",
    "    else:\n",
    "        pred=0\n",
    "    return pred\n",
    "\n",
    "def predictList(xObjects, Xtrain, Ytrain, k):  \n",
    "    \n",
    "    list_predictions = []\n",
    "    \n",
    "    for x in xObjects:\n",
    "        list_predictions.append(predict(x, Xtrain, Ytrain, k))\n",
    "    \n",
    "    return list_predictions"
   ]
  },
  {
   "cell_type": "code",
   "execution_count": 27,
   "metadata": {},
   "outputs": [],
   "source": [
    "def meanSquaredError(v, w):\n",
    "    #brute-force solution\n",
    "    #mean_squared_error = 0\n",
    "    #for i in range(len(v)):\n",
    "    #    mean_squared_error += math.pow(v[i] - w[i], 2)\n",
    "    #    return math.sqrt(mean_squared_error)\n",
    "    \n",
    "    #numpy solution\n",
    "    vv=np.array(v)\n",
    "    ww=np.array(w)\n",
    "    mse = (np.square(vv - ww)).mean(axis=0)\n",
    "    return mse"
   ]
  },
  {
   "cell_type": "code",
   "execution_count": 28,
   "metadata": {},
   "outputs": [],
   "source": [
    "def plotErrors(x, train,valid):\n",
    "    plt.plot(x, train, label='training error')\n",
    "    plt.plot(x, valid, label='test error')\n",
    "    plt.xlabel('k')\n",
    "    plt.legend()\n",
    "    plt.show()\n",
    "    \n",
    "def plotErrors_samples(x, train,valid):\n",
    "    plt.plot(x, train, label='training error')\n",
    "    plt.plot(x, valid, label='test error')\n",
    "    plt.xlabel('number of samples')\n",
    "    plt.legend()\n",
    "    plt.show()\n",
    "  #plt.savefig('errors.png') #save figure to file"
   ]
  },
  {
   "cell_type": "code",
   "execution_count": 29,
   "metadata": {},
   "outputs": [],
   "source": [
    "def divideData(dataSet, fraction):\n",
    "    nbTotal = len(ddataSet.index)\n",
    "    nbTrain = int(nbTotal*fraction)\n",
    "    return (dataSet.iloc[:nbTrain,:], dataSet.iloc[nbTrain:,:])"
   ]
  },
  {
   "cell_type": "code",
   "execution_count": 30,
   "metadata": {},
   "outputs": [],
   "source": [
    "def runTests():\n",
    "    # some tests of distance function\n",
    "    np.testing.assert_almost_equal(distance([1, 1], [1, 1]), 0)\n",
    "    np.testing.assert_almost_equal(distance([2, 0, 1], [5, 0, 1]), 3)\n",
    "    np.testing.assert_almost_equal(distance([0, 0], [2, 2]), np.sqrt(8))\n",
    "\n",
    "    # some tests of getNeighbours function\n",
    "    Xtrain = [[2, 0], [0, 0],  [1, 0]]\n",
    "    Ytrain = [1, 0, 1]\n",
    "    x = [-1, 0]  # with respect to x we calculate the distance\n",
    "    result = getNeighbours(x, Xtrain, Ytrain)\n",
    "    expected = ((1, [0, 0], 0), (2, [1, 0], 1), (3, [2, 0], 1))\n",
    "    np.testing.assert_equal(result, expected)\n",
    "\n",
    "    # some tests of getKNNeighbours function\n",
    "    data = [[1, [0, 0], 0], [2, [1, 0], 1], [3, [2, 0], 1]]\n",
    "    np.testing.assert_equal(getKNNeighbours(data,  k=1), [[1, [0, 0], 0]])\n",
    "    np.testing.assert_equal(getKNNeighbours(data,  k=2), [[1, [0, 0], 0], [2, [1, 0], 1]])\n",
    "\n",
    "    # some tests of majorityVote function\n",
    "    data = [[1, [0, 0], 0], [2, [1, 0], 1], [3, [2, 0], 1]]\n",
    "    np.testing.assert_equal(majorityVote(data), 2./3.)\n",
    "\n",
    "    # some tests of predict function\n",
    "    xTrain = [[0, 0], [1, 0], [2, 0]]\n",
    "    yTrain = [0, 1, 1]\n",
    "    x = [-1, 0]\n",
    "    k = 1\n",
    "    np.testing.assert_almost_equal(predict(x, xTrain, yTrain, k), 0)\n",
    "    k = 2\n",
    "    np.testing.assert_almost_equal(predict(x, xTrain, yTrain, k), 1)\n",
    "    k = 3\n",
    "    np.testing.assert_almost_equal(predict(x, xTrain, yTrain, k), 1)\n",
    "\n",
    "    # some tests of predictList function\n",
    "    xTrain = [[0, 0], [1, 0], [2, 0]]\n",
    "    yTrain = [0, 1, 1]\n",
    "    xToClassify = [[-1, 0], [3, 0]]\n",
    "    k = 1\n",
    "    np.testing.assert_almost_equal(predictList(xToClassify, xTrain, yTrain, k), [0., 1.])"
   ]
  },
  {
   "cell_type": "code",
   "execution_count": 31,
   "metadata": {},
   "outputs": [],
   "source": [
    "runTests()"
   ]
  },
  {
   "cell_type": "code",
   "execution_count": 32,
   "metadata": {},
   "outputs": [],
   "source": [
    "class kNN(object):\n",
    "    def __init__(self, n_neighbours):\n",
    "        self.n_neighbours = n_neighbours\n",
    "        self.Xtrain = []\n",
    "        self.Ytrain = []\n",
    "    def fit(self, x,y):\n",
    "        self.Xtrain = x\n",
    "        self.Ytrain = y\n",
    "    def predict(self, Xobjects):\n",
    "        return predictList(Xobjects,self.Xtrain, self.Ytrain, self.n_neighbours)"
   ]
  },
  {
   "cell_type": "code",
   "execution_count": 38,
   "metadata": {},
   "outputs": [
    {
     "name": "stderr",
     "output_type": "stream",
     "text": [
      "<ipython-input-38-835571e504c9>:14: SettingWithCopyWarning: \n",
      "A value is trying to be set on a copy of a slice from a DataFrame.\n",
      "Try using .loc[row_indexer,col_indexer] = value instead\n",
      "\n",
      "See the caveats in the documentation: https://pandas.pydata.org/pandas-docs/stable/user_guide/indexing.html#returning-a-view-versus-a-copy\n",
      "  dataWithoutSetosa['class']=dataWithoutSetosa.apply(lambda row:toNumeric(row),axis=1)\n"
     ]
    },
    {
     "data": {
      "text/html": [
       "<div>\n",
       "<style scoped>\n",
       "    .dataframe tbody tr th:only-of-type {\n",
       "        vertical-align: middle;\n",
       "    }\n",
       "\n",
       "    .dataframe tbody tr th {\n",
       "        vertical-align: top;\n",
       "    }\n",
       "\n",
       "    .dataframe thead th {\n",
       "        text-align: right;\n",
       "    }\n",
       "</style>\n",
       "<table border=\"1\" class=\"dataframe\">\n",
       "  <thead>\n",
       "    <tr style=\"text-align: right;\">\n",
       "      <th></th>\n",
       "      <th>sepal_length</th>\n",
       "      <th>sepal_width</th>\n",
       "      <th>class</th>\n",
       "    </tr>\n",
       "  </thead>\n",
       "  <tbody>\n",
       "    <tr>\n",
       "      <th>50</th>\n",
       "      <td>7.0</td>\n",
       "      <td>3.2</td>\n",
       "      <td>0</td>\n",
       "    </tr>\n",
       "    <tr>\n",
       "      <th>51</th>\n",
       "      <td>6.4</td>\n",
       "      <td>3.2</td>\n",
       "      <td>0</td>\n",
       "    </tr>\n",
       "    <tr>\n",
       "      <th>52</th>\n",
       "      <td>6.9</td>\n",
       "      <td>3.1</td>\n",
       "      <td>0</td>\n",
       "    </tr>\n",
       "    <tr>\n",
       "      <th>53</th>\n",
       "      <td>5.5</td>\n",
       "      <td>2.3</td>\n",
       "      <td>0</td>\n",
       "    </tr>\n",
       "    <tr>\n",
       "      <th>54</th>\n",
       "      <td>6.5</td>\n",
       "      <td>2.8</td>\n",
       "      <td>0</td>\n",
       "    </tr>\n",
       "  </tbody>\n",
       "</table>\n",
       "</div>"
      ],
      "text/plain": [
       "    sepal_length  sepal_width  class\n",
       "50           7.0          3.2      0\n",
       "51           6.4          3.2      0\n",
       "52           6.9          3.1      0\n",
       "53           5.5          2.3      0\n",
       "54           6.5          2.8      0"
      ]
     },
     "execution_count": 38,
     "metadata": {},
     "output_type": "execute_result"
    }
   ],
   "source": [
    "classLabels = ['Iris-setosa', 'Iris-versicolor', 'Iris-virginica']\n",
    "columnLabels = ['sepal_length', 'sepal_width',\n",
    "                  'petal_length', 'petal_width', 'species']\n",
    "# First let's try  Iris-setosa vs Iris-versicolor, two features sepal-length vs sepal-width\n",
    "# we get rid of the third class Iris-viriginica\n",
    "dataWithoutSetosa = data[data['species'] != 'Iris-setosa']\n",
    "\n",
    "def toNumeric(row):\n",
    "    if row.species == 'Iris-versicolor':\n",
    "        return 0\n",
    "    else:\n",
    "        return 1\n",
    "\n",
    "dataWithoutSetosa['class']=dataWithoutSetosa.apply(lambda row:toNumeric(row),axis=1)\n",
    "  \n",
    "# we leave only sepal_length, sepal_width and class label columns\n",
    "columnsToLeave=['sepal_length', 'sepal_width', 'class']  \n",
    "dataSepal = dataWithoutSetosa[columnsToLeave]\n",
    "\n",
    "dataSepal.head()"
   ]
  },
  {
   "cell_type": "code",
   "execution_count": 39,
   "metadata": {},
   "outputs": [
    {
     "name": "stdout",
     "output_type": "stream",
     "text": [
      "80\n",
      "<class 'pandas.core.frame.DataFrame'>\n",
      "[5.5, 2.3]\n",
      "0\n",
      "     sepal_length  sepal_width  class\n",
      "53            5.5          2.3      0\n",
      "113           5.7          2.5      1\n",
      "128           6.4          2.8      1\n",
      "65            6.7          3.1      0\n",
      "69            5.6          2.5      0\n",
      "127           6.1          3.0      1\n",
      "144           6.7          3.3      1\n",
      "56            6.3          3.3      0\n",
      "99            5.7          2.8      0\n",
      "135           7.7          3.0      1\n",
      "142           5.8          2.7      1\n",
      "112           6.8          3.0      1\n",
      "50            7.0          3.2      0\n",
      "116           6.5          3.0      1\n",
      "146           6.3          2.5      1\n",
      "109           7.2          3.6      1\n",
      "141           6.9          3.1      1\n",
      "98            5.1          2.5      0\n",
      "143           6.8          3.2      1\n",
      "108           6.7          2.5      1\n"
     ]
    }
   ],
   "source": [
    "fraction = 0.8\n",
    "# we  divide the content into the training and validation set\n",
    "# we also randomly shuffle the content\n",
    "trainingSet=dataSepal.sample(frac=fraction)\n",
    "validationSet=dataSepal.drop(trainingSet.index)\n",
    "validationSet=validationSet.sample(frac=1)\n",
    "\n",
    "print(len(trainingSet))\n",
    "print(type(trainingSet))\n",
    "\n",
    "#There was a mistake here in the instructor's code I corrected it see below:\n",
    "xTrain = trainingSet.iloc[:, 0:2].values.tolist()\n",
    "yTrain = trainingSet.iloc[:, 2].values.tolist()\n",
    "xValid = validationSet.iloc[:, 0:2].values.tolist()\n",
    "yValid = validationSet.iloc[:, 2].values.tolist()\n",
    "\n",
    "print(xValid[0])\n",
    "print(yValid[0])\n",
    "print(validationSet.head(20))"
   ]
  },
  {
   "cell_type": "code",
   "execution_count": 40,
   "metadata": {},
   "outputs": [
    {
     "name": "stdout",
     "output_type": "stream",
     "text": [
      "<class 'list'>\n",
      "(60, 2)\n"
     ]
    }
   ],
   "source": [
    "xTrain_sample=[]\n",
    "yTrain_sample=[]\n",
    "xValid_sample=[]\n",
    "yValid_sample=[]\n",
    "\n",
    "for i in range(0,8):\n",
    "    xTrain_sample.append(trainingSet[:((i+1)*10)].iloc[:, 0:2].values.tolist())\n",
    "    yTrain_sample.append(trainingSet[:((i+1)*10)].iloc[:, 2].values.tolist())\n",
    "    xValid_sample.append(validationSet[:((i+1)*10)].iloc[:, 0:2].values.tolist())\n",
    "    yValid_sample.append(validationSet[:((i+1)*10)].iloc[:, 2].values.tolist())\n",
    "\n",
    "print(type(xTrain_sample))\n",
    "print(np.array(xTrain_sample[5]).shape)"
   ]
  },
  {
   "cell_type": "code",
   "execution_count": 41,
   "metadata": {},
   "outputs": [],
   "source": [
    "if fraction < 1:\n",
    "    #we calculate training error and validation error\n",
    "    trainError=[]\n",
    "    validError=[]\n",
    "    kRange =range(1,80)\n",
    "    trainPredictions = predictList(xTrain, xTrain, yTrain, 1)\n",
    "    for k in kRange:\n",
    "        trainPredictions = predictList(xTrain, xTrain, yTrain, k)\n",
    "        validationPredictions = predictList(xValid, xTrain, yTrain, k)\n",
    "        trainError.append(meanSquaredError(trainPredictions,yTrain))\n",
    "        validError.append(meanSquaredError(validationPredictions,yValid))"
   ]
  },
  {
   "cell_type": "code",
   "execution_count": 42,
   "metadata": {},
   "outputs": [
    {
     "data": {
      "image/png": "[encoded data removed]",
      "text/plain": [
       "<Figure size 432x288 with 1 Axes>"
      ]
     },
     "metadata": {
      "needs_background": "light"
     },
     "output_type": "display_data"
    }
   ],
   "source": [
    "plotErrors(kRange, trainError,validError)"
   ]
  },
  {
   "cell_type": "code",
   "execution_count": 43,
   "metadata": {},
   "outputs": [],
   "source": [
    "if fraction < 1:\n",
    "    #we calculate training error and validation error\n",
    "    trainError_sample=[]\n",
    "    validError_sample=[]\n",
    "    \n",
    "    #trainPredictions_sample = predictList(xTrain_sample, xTrain_sample, yTrain_sample, 1)\n",
    "    \n",
    "    k=10\n",
    "    \n",
    "    for i in range(0,8):        \n",
    "        if (i+1)*10<k:\n",
    "            trainPredictions_sample = predictList(xTrain_sample[i], xTrain_sample[i], yTrain_sample[i],k)\n",
    "            validationPredictions_sample = predictList(xValid_sample[i], xTrain_sample[i], yTrain_sample[i],k)\n",
    "            trainError_sample.append(meanSquaredError(trainPredictions_sample,yTrain_sample[i]))\n",
    "            validError_sample.append(meanSquaredError(validationPredictions_sample,yValid_sample[i])) \n",
    "        else:\n",
    "            pass\n",
    "            trainPredictions_sample = predictList(xTrain_sample[i], xTrain_sample[i], yTrain_sample[i], k)\n",
    "            validationPredictions_sample = predictList(xValid_sample[i], xTrain_sample[i], yTrain_sample[i], k)\n",
    "            trainError_sample.append(meanSquaredError(trainPredictions_sample,yTrain_sample[i]))\n",
    "            validError_sample.append(meanSquaredError(validationPredictions_sample,yValid_sample[i]))"
   ]
  },
  {
   "cell_type": "code",
   "execution_count": 44,
   "metadata": {},
   "outputs": [
    {
     "data": {
      "image/png": "[encoded data removed]",
      "text/plain": [
       "<Figure size 432x288 with 1 Axes>"
      ]
     },
     "metadata": {
      "needs_background": "light"
     },
     "output_type": "display_data"
    }
   ],
   "source": [
    "plotErrors_samples(np.arange(10,90,10), trainError_sample, validError_sample)"
   ]
  },
  {
   "cell_type": "markdown",
   "metadata": {},
   "source": [
    "### Normalisation\n",
    "\n",
    "Normalisation can be defined as rescaling real valued numeric attributes into the range 0 and 1."
   ]
  },
  {
   "cell_type": "code",
   "execution_count": 45,
   "metadata": {},
   "outputs": [
    {
     "name": "stdout",
     "output_type": "stream",
     "text": [
      "<class 'pandas.core.frame.DataFrame'>\n",
      "          0         1\n",
      "0  0.266667  0.555556\n",
      "1  0.400000  0.444444\n",
      "2  1.000000  1.000000\n",
      "3  0.366667  0.555556\n",
      "4  0.366667  0.777778\n",
      "<class 'pandas.core.frame.DataFrame'>\n",
      "          0         1\n",
      "0  0.200000  0.166667\n",
      "1  0.266667  0.277778\n",
      "2  0.500000  0.444444\n",
      "3  0.600000  0.611111\n",
      "4  0.233333  0.277778\n"
     ]
    }
   ],
   "source": [
    "#In sklearn library there is a function called preprocessing enabling dataset normalisation.\n",
    "from sklearn import preprocessing\n",
    "\n",
    "\n",
    "min_max_scaler = preprocessing.MinMaxScaler()\n",
    "training_scaled2 = min_max_scaler.fit_transform(trainingSet.iloc[:,[0,1]])\n",
    "training_normalised2 = pd.DataFrame(training_scaled2)\n",
    "\n",
    " \n",
    "validation_scaled2 = min_max_scaler.transform(validationSet.iloc[:,[0,1]])\n",
    "validation_normalised2 = pd.DataFrame(validation_scaled2)\n",
    "\n",
    "print(type(training_normalised2))\n",
    "print(training_normalised2.head())\n",
    "\n",
    "print(type(validation_normalised2))\n",
    "print(validation_normalised2.head())"
   ]
  },
  {
   "cell_type": "code",
   "execution_count": 47,
   "metadata": {},
   "outputs": [
    {
     "name": "stdout",
     "output_type": "stream",
     "text": [
      "[0.19999999999999996, 0.16666666666666652]\n",
      "0\n"
     ]
    }
   ],
   "source": [
    "#There was a mistake here in the instructor's code I corrected it see below:\n",
    "xTrain2 = training_normalised2.iloc[:, 0:2].values.tolist()\n",
    "yTrain2 = trainingSet.iloc[:, 2].values.tolist()\n",
    "xValid2 = validation_normalised2.iloc[:, 0:2].values.tolist()\n",
    "yValid2 = validationSet.iloc[:, 2].values.tolist()\n",
    "\n",
    "print(xValid2[0])\n",
    "print(yValid2[0])"
   ]
  },
  {
   "cell_type": "code",
   "execution_count": 48,
   "metadata": {},
   "outputs": [
    {
     "name": "stdout",
     "output_type": "stream",
     "text": [
      "<class 'list'>\n",
      "(60, 2)\n"
     ]
    }
   ],
   "source": [
    "xTrain_sample2=[]\n",
    "yTrain_sample2=[]\n",
    "xValid_sample2=[]\n",
    "yValid_sample2=[]\n",
    "\n",
    "for i in range(0,8):\n",
    "    xTrain_sample2.append(training_normalised2[:((i+1)*10)].iloc[:, 0:2].values.tolist())\n",
    "    yTrain_sample2.append(trainingSet[:((i+1)*10)].iloc[:, 2].values.tolist())\n",
    "    xValid_sample2.append(validation_normalised2[:((i+1)*10)].iloc[:, 0:2].values.tolist())\n",
    "    yValid_sample2.append(validationSet[:((i+1)*10)].iloc[:, 2].values.tolist())\n",
    "\n",
    "print(type(xTrain_sample2))\n",
    "print(np.array(xTrain_sample2[5]).shape)"
   ]
  },
  {
   "cell_type": "code",
   "execution_count": 49,
   "metadata": {},
   "outputs": [],
   "source": [
    "if fraction < 1:\n",
    "    #we calculate training error and validation error\n",
    "    trainError2=[]\n",
    "    validError2=[]\n",
    "    kRange =range(1,80)\n",
    "    trainPredictions2 = predictList(xTrain2, xTrain2, yTrain2, 1)\n",
    "    for k in kRange:\n",
    "        trainPredictions2 = predictList(xTrain2, xTrain2, yTrain2, k)\n",
    "        validationPredictions2 = predictList(xValid2, xTrain2, yTrain2, k)\n",
    "        trainError2.append(meanSquaredError(trainPredictions2,yTrain2))\n",
    "        validError2.append(meanSquaredError(validationPredictions2,yValid2))"
   ]
  },
  {
   "cell_type": "code",
   "execution_count": 50,
   "metadata": {},
   "outputs": [
    {
     "data": {
      "image/png": "[encoded data removed]",
      "text/plain": [
       "<Figure size 432x288 with 1 Axes>"
      ]
     },
     "metadata": {
      "needs_background": "light"
     },
     "output_type": "display_data"
    }
   ],
   "source": [
    "plotErrors(kRange, trainError2,validError2)"
   ]
  },
  {
   "cell_type": "code",
   "execution_count": 54,
   "metadata": {},
   "outputs": [],
   "source": [
    "if fraction < 1:\n",
    "    #we calculate training error and validation error\n",
    "    trainError_sample2=[]\n",
    "    validError_sample2=[]\n",
    "    \n",
    "    #trainPredictions_sample = predictList(xTrain_sample, xTrain_sample, yTrain_sample, 1)\n",
    "    \n",
    "    k=10\n",
    "    \n",
    "    for i in range(0,8):        \n",
    "        if (i+1)*10<k:\n",
    "            trainPredictions_sample2 = predictList(xTrain_sample2[i], xTrain_sample2[i], yTrain_sample2[i],k)\n",
    "            validationPredictions_sample2 = predictList(xValid_sample2[i], xTrain_sample2[i], yTrain_sample2[i],k)\n",
    "            trainError_sample2.append(meanSquaredError(trainPredictions_sample2,yTrain_sample2[i]))\n",
    "            validError_sample2.append(meanSquaredError(validationPredictions_sample2,yValid_sample2[i])) \n",
    "        else:\n",
    "            pass\n",
    "            trainPredictions_sample2 = predictList(xTrain_sample2[i], xTrain_sample2[i], yTrain_sample2[i], k)\n",
    "            validationPredictions_sample2 = predictList(xValid_sample2[i], xTrain_sample2[i], yTrain_sample2[i], k)\n",
    "            trainError_sample2.append(meanSquaredError(trainPredictions_sample2,yTrain_sample2[i]))\n",
    "            validError_sample2.append(meanSquaredError(validationPredictions_sample2,yValid_sample2[i]))"
   ]
  },
  {
   "cell_type": "code",
   "execution_count": 55,
   "metadata": {},
   "outputs": [
    {
     "data": {
      "image/png": "[encoded data removed]",
      "text/plain": [
       "<Figure size 432x288 with 1 Axes>"
      ]
     },
     "metadata": {
      "needs_background": "light"
     },
     "output_type": "display_data"
    }
   ],
   "source": [
    "plotErrors_samples(np.arange(10,90,10), trainError_sample2, validError_sample2)"
   ]
  },
  {
   "cell_type": "markdown",
   "metadata": {},
   "source": [
    "### Standarisation\n",
    "\n",
    "Standardisation can be defined as shifting the distribution of each attribute to have a mean of zero and a unit variance."
   ]
  },
  {
   "cell_type": "code",
   "execution_count": 65,
   "metadata": {},
   "outputs": [
    {
     "name": "stdout",
     "output_type": "stream",
     "text": [
      "<class 'pandas.core.frame.DataFrame'>\n",
      "          0         1\n",
      "0 -0.806276  0.407487\n",
      "1 -0.202041 -0.201839\n",
      "2  2.517017  2.844791\n",
      "3 -0.353100  0.407487\n",
      "4 -0.353100  1.626139\n",
      "<class 'pandas.core.frame.DataFrame'>\n",
      "          0         1\n",
      "0 -1.108394 -1.725154\n",
      "1 -0.806276 -1.115828\n",
      "2  0.251135 -0.201839\n",
      "3  0.704312  0.712150\n",
      "4 -0.957335 -1.115828\n"
     ]
    }
   ],
   "source": [
    "#In sklearn library there is a function called preprocessing enabling dataset standarisation.\n",
    "from sklearn import preprocessing\n",
    "\n",
    "training3 = trainingSet #returns a numpy array\n",
    "std_scaler = preprocessing.StandardScaler()\n",
    "training_scaled3 = std_scaler.fit_transform(training3.iloc[:,[0,1]])\n",
    "training_standardised3 = pd.DataFrame(training_scaled3)\n",
    "\n",
    "validation3 = validationSet #returns a numpy array\n",
    "validation_scaled3 = std_scaler.transform(validation3.iloc[:,[0,1]])\n",
    "validation_standardised3 = pd.DataFrame(validation_scaled3)\n",
    "\n",
    "print(type(training_standardised3))\n",
    "print(training_standardised3.head())\n",
    "\n",
    "print(type(validation_standardised3))\n",
    "print(validation_standardised3.head())"
   ]
  },
  {
   "cell_type": "code",
   "execution_count": 66,
   "metadata": {},
   "outputs": [
    {
     "name": "stdout",
     "output_type": "stream",
     "text": [
      "[-1.1083938815668586, -1.7251541905129848]\n",
      "0\n"
     ]
    }
   ],
   "source": [
    "#There was a mistake here in the instructor's code I corrected it see below:\n",
    "xTrain3 = training_standardised3.iloc[:, 0:2].values.tolist()\n",
    "yTrain3 = trainingSet.iloc[:, 2].values.tolist()\n",
    "xValid3 = validation_standardised3.iloc[:, 0:2].values.tolist()\n",
    "yValid3 = validationSet.iloc[:, 2].values.tolist()\n",
    "\n",
    "print(xValid3[0])\n",
    "print(yValid3[0])"
   ]
  },
  {
   "cell_type": "code",
   "execution_count": 67,
   "metadata": {},
   "outputs": [
    {
     "name": "stdout",
     "output_type": "stream",
     "text": [
      "<class 'list'>\n",
      "(60, 2)\n"
     ]
    }
   ],
   "source": [
    "xTrain_sample3=[]\n",
    "yTrain_sample3=[]\n",
    "xValid_sample3=[]\n",
    "yValid_sample3=[]\n",
    "\n",
    "for i in range(0,8):\n",
    "    xTrain_sample3.append(training_standardised3[:((i+1)*10)].iloc[:, 0:2].values.tolist())\n",
    "    yTrain_sample3.append(trainingSet[:((i+1)*10)].iloc[:, 2].values.tolist())\n",
    "    xValid_sample3.append(validation_standardised3[:((i+1)*10)].iloc[:, 0:2].values.tolist())\n",
    "    yValid_sample3.append(validationSet[:((i+1)*10)].iloc[:, 2].values.tolist())\n",
    "\n",
    "print(type(xTrain_sample3))\n",
    "print(np.array(xTrain_sample3[5]).shape)"
   ]
  },
  {
   "cell_type": "code",
   "execution_count": 68,
   "metadata": {},
   "outputs": [],
   "source": [
    "if fraction < 1:\n",
    "    #we calculate training error and validation error\n",
    "    trainError3=[]\n",
    "    validError3=[]\n",
    "    kRange =range(1,80)\n",
    "    trainPredictions3 = predictList(xTrain3, xTrain3, yTrain3, 1)\n",
    "    for k in kRange:\n",
    "        trainPredictions3 = predictList(xTrain3, xTrain3, yTrain3, k)\n",
    "        validationPredictions3 = predictList(xValid3, xTrain3, yTrain3, k)\n",
    "        trainError3.append(meanSquaredError(trainPredictions3,yTrain3))\n",
    "        validError3.append(meanSquaredError(validationPredictions3,yValid3))"
   ]
  },
  {
   "cell_type": "code",
   "execution_count": 69,
   "metadata": {},
   "outputs": [
    {
     "data": {
      "image/png": "[encoded data removed]",
      "text/plain": [
       "<Figure size 432x288 with 1 Axes>"
      ]
     },
     "metadata": {
      "needs_background": "light"
     },
     "output_type": "display_data"
    }
   ],
   "source": [
    "plotErrors(kRange, trainError3,validError3)"
   ]
  },
  {
   "cell_type": "code",
   "execution_count": 70,
   "metadata": {},
   "outputs": [],
   "source": [
    "if fraction < 1:\n",
    "    #we calculate training error and validation error\n",
    "    trainError_sample3=[]\n",
    "    validError_sample3=[]\n",
    "    \n",
    "    #trainPredictions_sample = predictList(xTrain_sample, xTrain_sample, yTrain_sample, 1)\n",
    "    \n",
    "    k=10\n",
    "    \n",
    "    for i in range(0,8):        \n",
    "        if (i+1)*10<k:\n",
    "            trainPredictions_sample3 = predictList(xTrain_sample3[i], xTrain_sample3[i], yTrain_sample3[i],k)\n",
    "            validationPredictions_sample3 = predictList(xValid_sample3[i], xTrain_sample3[i], yTrain_sample3[i],k)\n",
    "            trainError_sample3.append(meanSquaredError(trainPredictions_sample3,yTrain_sample3[i]))\n",
    "            validError_sample3.append(meanSquaredError(validationPredictions_sample3,yValid_sample3[i])) \n",
    "        else:\n",
    "            pass\n",
    "            trainPredictions_sample3 = predictList(xTrain_sample3[i], xTrain_sample3[i], yTrain_sample3[i], k)\n",
    "            validationPredictions_sample3 = predictList(xValid_sample3[i], xTrain_sample3[i], yTrain_sample3[i], k)\n",
    "            trainError_sample3.append(meanSquaredError(trainPredictions_sample3,yTrain_sample3[i]))\n",
    "            validError_sample3.append(meanSquaredError(validationPredictions_sample3,yValid_sample3[i]))"
   ]
  },
  {
   "cell_type": "code",
   "execution_count": 71,
   "metadata": {},
   "outputs": [
    {
     "data": {
      "image/png": "[encoded data removed]",
      "text/plain": [
       "<Figure size 432x288 with 1 Axes>"
      ]
     },
     "metadata": {
      "needs_background": "light"
     },
     "output_type": "display_data"
    }
   ],
   "source": [
    "plotErrors_samples(np.arange(10,90,10), trainError_sample3, validError_sample3)"
   ]
  },
  {
   "cell_type": "markdown",
   "metadata": {},
   "source": [
    "# 2. Bayes value"
   ]
  },
  {
   "cell_type": "markdown",
   "metadata": {},
   "source": [
    "A pharmaceutical company developed a test for detecting the rare disease, which is carried by 0.5 % cases of the whole population. Let’s assume that the test gives positive results for 96% of the cases if the patient is ill, but it also gives positive results in 5% of the healthy patient. What is the probability that a patient is ill if his test gave a positive result?"
   ]
  },
  {
   "cell_type": "markdown",
   "metadata": {},
   "source": [
    "The natural solution to this problem is (almost the same as https://www.youtube.com/watch?v=R13BD8qKeTg). \n",
    "\n",
    "The probability that a patient is ill if their test gave a positive result can be expressed as conditional probability (probability of the patient being ill conditioned on the positive diagnosis):\n",
    "\n",
    "(1) $$P(\\text{ill}|P)=\\frac{P(P|\\text{ill})\\cdot P(\\text{ill})}{P(P)}.$$\n",
    "\n",
    "From the Law of Total probability (https://en.wikipedia.org/wiki/Law_of_total_probability) we have:\n",
    "\n",
    "(2) $$P(P)=P(ill) \\cdot P(P|ill)+P(-ill) \\cdot P(P|-ill).$$\n",
    "\n",
    "Consequently, if we combine (1) and (2) we will get:\n",
    "      \n",
    "(3) $$P(\\text{ill}|P)=\\frac{P(P|\\text{ill})\\cdot P(\\text{ill})}{P(ill) \\cdot P(P|ill)+P(-ill) \\cdot P(P|-ill)}.$$"
   ]
  },
  {
   "cell_type": "markdown",
   "metadata": {},
   "source": [
    "It was specified in the describtion of the probelm that:"
   ]
  },
  {
   "cell_type": "markdown",
   "metadata": {},
   "source": [
    "$$P(\\text{ill})=0.005,$$"
   ]
  },
  {
   "cell_type": "markdown",
   "metadata": {},
   "source": [
    "$$P(-\\text{ill})=0.995,$$"
   ]
  },
  {
   "cell_type": "markdown",
   "metadata": {},
   "source": [
    "$$P(P|\\text{ill})=TP=0.960,$$"
   ]
  },
  {
   "cell_type": "markdown",
   "metadata": {},
   "source": [
    "$$P(P|\\text{-ill})=FP=0.050.$$"
   ]
  },
  {
   "cell_type": "code",
   "execution_count": 30,
   "metadata": {},
   "outputs": [
    {
     "name": "stdout",
     "output_type": "stream",
     "text": [
      "The probability that the patient is ill on condition that they were positively diagnosed is: 8.799%.\n"
     ]
    }
   ],
   "source": [
    "#Calculations\n",
    "P_ill=0.005\n",
    "P_not_ill=0.995\n",
    "P_P_ill=0.960\n",
    "P_P_not_ill=0.050 \n",
    "\n",
    "P_ill_P=((P_P_ill*P_ill)/(P_ill*P_P_ill+P_not_ill*P_P_not_ill))\n",
    "\n",
    "print(\"The probability that the patient is ill on condition that they were positively diagnosed is: {:.4g}%.\".format(100*P_ill_P))"
   ]
  },
  {
   "cell_type": "markdown",
   "metadata": {},
   "source": [
    "# 3.Expected Value Problem"
   ]
  },
  {
   "cell_type": "markdown",
   "metadata": {},
   "source": [
    "a). Let $g(X) = 1$ for some set $A$ being a subset of sample space $\\Omega$. What is the interpretation of $E[g(X)]$ if is discrete with a given PMF or continuous with a given PDF?"
   ]
  },
  {
   "cell_type": "markdown",
   "metadata": {},
   "source": [
    "In order to solve this problem we have to make an assumption about the values of $g(x)$ for $x\\notin A$. Since the author of this question did not specify what happens for x from within $\\Omega$ but outside of $A$ region we have taken the liberty to specify function $g(x)$ in a little bit more detail.\n",
    "\n",
    "$$g(x)= \n",
    "     \\begin{cases}\n",
    "      &1, x\\in A\\\\\n",
    "      &0, x\\notin A\n",
    "     \\end{cases}.$$\n",
    "     \n",
    "For continuous $x \\in A$:\n",
    "$$E\\left[g(X)\\right]=\\int_{\\Omega}g(x)\\cdot f_{x}(x) dx=\\int_{\\Omega} f_{x}(x) dx = 1,$$\n",
    "\n",
    "where in accordance to the lecture $f_{x}(x)$ is PDF function.  \n",
    "\n",
    "For discrete $k\\in A$ and function $g(x)$ defined in the aforementioned way it is only natural to conclude that:\n",
    "\n",
    "$$E\\left[g(X)\\right]=\\int_{\\Omega}g(x)\\cdot f_{x}(x) \\cdot \\delta(x-k) dx=\\sum_{k\\in A}g(k)\\cdot p_{x}(k)=\\sum_{k\\in A}p_{x}(k)=1,$$\n",
    "\n",
    "where $p_{x}(k)$ is the PMF function.\n",
    "\n",
    "The above equation can be trivially generalised to $n$ dimensions: $$x\\rightarrow (x_{1},x_{2},.....,x_{n}),$$ $$dx\\rightarrow dx_{1}dx_{2}...dx_{n}.$$"
   ]
  },
  {
   "cell_type": "markdown",
   "metadata": {},
   "source": [
    "b).What is the interpretation of $E\\left[g(X)\\right]$ for $g(X)=x$?\n"
   ]
  },
  {
   "cell_type": "markdown",
   "metadata": {},
   "source": [
    "$$E\\left[g(X)\\right]=\\int_{\\Omega}g(x)\\cdot f_{x}(x) dx=\\int_{\\Omega}x\\cdot f_{x}(x) dx.$$\n",
    "\n"
   ]
  },
  {
   "cell_type": "markdown",
   "metadata": {},
   "source": [
    "# k-NN, stability, and generalization\n",
    "\n",
    "Let’s assume that we use kNN model to perform the classification of two type of objects (think of spam/non-spam) with k=2, k =3 and k=10 and N=100 training samples with 2 features each e.g. { X(1)=[0,1], X(2)=[-1,2],  X(3)=[2,2], X(4)=[0,0.3], …,  X(100)=[-100,12,5] }   and  {Y(1)=[0], Y(2)=[1], Y(3)=[1], Y(4)=[0]]"
   ]
  },
  {
   "cell_type": "markdown",
   "metadata": {},
   "source": [
    "For which k value do we expect the smallest training error? \n",
    "\n",
    "k=2"
   ]
  },
  {
   "cell_type": "markdown",
   "metadata": {},
   "source": [
    "For which k value do we expect the highest stability? "
   ]
  },
  {
   "cell_type": "markdown",
   "metadata": {},
   "source": [
    "k=10"
   ]
  },
  {
   "cell_type": "markdown",
   "metadata": {},
   "source": [
    "For which k value do we expect the smallest stability? "
   ]
  },
  {
   "cell_type": "markdown",
   "metadata": {},
   "source": [
    "k=2"
   ]
  },
  {
   "cell_type": "markdown",
   "metadata": {},
   "source": [
    "How would we classify X=[0,0] if we use the first 4 training samples for k=1? "
   ]
  },
  {
   "cell_type": "markdown",
   "metadata": {},
   "source": [
    "k=0"
   ]
  },
  {
   "cell_type": "markdown",
   "metadata": {},
   "source": [
    "How would we classify X=[0,0] if we use the first 4 training samples for k=2? "
   ]
  },
  {
   "cell_type": "markdown",
   "metadata": {},
   "source": [
    "k=0"
   ]
  },
  {
   "cell_type": "markdown",
   "metadata": {},
   "source": [
    "How would we classify X=[0,0] if we use the first 4 training samples for k=3? "
   ]
  },
  {
   "cell_type": "markdown",
   "metadata": {},
   "source": [
    "k=0"
   ]
  },
  {
   "cell_type": "markdown",
   "metadata": {},
   "source": [
    "We increase the training sample to N=101. How we expect to affect the stability of different k values? "
   ]
  },
  {
   "cell_type": "markdown",
   "metadata": {},
   "source": [
    "Remains the same for higher k if we some data points but for smaller k this might change."
   ]
  },
  {
   "cell_type": "markdown",
   "metadata": {},
   "source": [
    "Now instead of kNN model we the use linear regression. Discuss the stability issue."
   ]
  },
  {
   "cell_type": "markdown",
   "metadata": {},
   "source": [
    "It is lower. Linear regression is more susceptible to outliers. "
   ]
  }
 ],
 "metadata": {
  "kernelspec": {
   "display_name": "Python 3",
   "language": "python",
   "name": "python3"
  },
  "language_info": {
   "codemirror_mode": {
    "name": "ipython",
    "version": 3
   },
   "file_extension": ".py",
   "mimetype": "text/x-python",
   "name": "python",
   "nbconvert_exporter": "python",
   "pygments_lexer": "ipython3",
   "version": "3.8.5"
  }
 },
 "nbformat": 4,
 "nbformat_minor": 4
}
