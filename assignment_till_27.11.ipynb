{
 "cells": [
  {
   "cell_type": "code",
   "execution_count": 5,
   "metadata": {},
   "outputs": [],
   "source": [
    "from IPython.display import display, Markdown, Latex\n",
    "from decimal import Decimal\n",
    "import matplotlib.pyplot as plt\n",
    "from scipy import stats\n",
    "import numpy as np\n",
    "import pandas as pd\n",
    "import math as mt"
   ]
  },
  {
   "cell_type": "markdown",
   "metadata": {},
   "source": [
    "# Solutions to Modern Data Science Problems (problems till 27.11)\n",
    "by *Nora Salone* "
   ]
  },
  {
   "cell_type": "markdown",
   "metadata": {},
   "source": [
    "### Problem 28\n",
    "\n",
    "We want to use the KNN algorithm for the classification problem. We consider a\n",
    "training sample of N=106 points, which are distributed approximately uniformly on the\n",
    "available feature space . Calculate the mean distance between neighbors assuming:\n",
    "* The feature space is 1-D X =[X1], X1 in the range of [0,1]\n",
    "* The feature space is 2-D X =[X1 ,X2 ], Xi in the range of [0,1] \n",
    "* The feature space is 3-D X =[X1,X2 , X3 ], Xi in the range of [0,1]\n",
    "* The feature space is 10-D X =[X1,X2 , X3 ,…, X10 ], Xi in the range of [0,1]\n",
    "* How many points do we need for 10-D feature space to keep the same distance between the neighbors as in the first case ?"
   ]
  },
  {
   "cell_type": "code",
   "execution_count": 2,
   "metadata": {},
   "outputs": [
    {
     "data": {
      "image/png": "[encoded data removed]",
      "text/plain": [
       "<Figure size 432x288 with 1 Axes>"
      ]
     },
     "metadata": {
      "needs_background": "light"
     },
     "output_type": "display_data"
    },
    {
     "data": {
      "image/png": "[encoded data removed]",
      "text/plain": [
       "<Figure size 432x288 with 1 Axes>"
      ]
     },
     "metadata": {
      "needs_background": "light"
     },
     "output_type": "display_data"
    }
   ],
   "source": [
    "#Assign each event a random discrete variable and its value\n",
    "data=np.array([[\"HT\", 1],[\"TH\",1],[\"HH\",2],[\"TT\",0]])\n",
    "classes=3\n",
    "\n",
    "def PMF(data):\n",
    "    pmf=np.array([0]*classes)\n",
    "    for i in range(len(data)):\n",
    "        if data[i][1]==\"0\": #specific X(E)\n",
    "            pmf[0] += 1\n",
    "        elif data[i][1]==\"1\":\n",
    "            pmf[1] += 1\n",
    "        elif data[i][1]==\"2\":\n",
    "            pmf[2] += 1\n",
    "        #print(\"i =\",i,\"data[i][1] =\",data[i][1],\"pmf =\",pmf)\n",
    "    pmf=pmf/np.sum(pmf)\n",
    "    return pmf\n",
    "\n",
    "pmf=PMF(data)\n",
    "plt.plot(pmf)\n",
    "plt.ylabel('p(x=X(E))')\n",
    "plt.title('PMF')\n",
    "plt.show()\n",
    "\n",
    "def CDF(data):\n",
    "    for i in range(3):\n",
    "        if i in range(1):\n",
    "            cdf = pmf[0]\n",
    "        elif i in range(2):\n",
    "            cdf = pmf[0]+pmf[1]\n",
    "        elif i in range(3):\n",
    "            cdf = pmf[0]+ pmf[1]+pmf[2]\n",
    "        cdf = np.sum(pmf[i])\n",
    "        #print(\"cdf=\",cdf,\"i=\",i)\n",
    "    return cdf\n",
    "\n",
    "#cdf=CDF(data): this is my attempt to produce a CDF for this set, before finding out np.cumsum\n",
    "cdf=np.cumsum(pmf)\n",
    "\n",
    "plt.plot(cdf)\n",
    "plt.ylabel('p(x<=X(E))')\n",
    "plt.title('CDF')\n",
    "plt.show()\n"
   ]
  },
  {
   "cell_type": "markdown",
   "metadata": {},
   "source": [
    "### Problem 29\n",
    "Derive OLS solution for simple linear regression model $f_θ(x) = θ_1 \\cdot x + θ_0$."
   ]
  },
  {
   "cell_type": "code",
   "execution_count": null,
   "metadata": {},
   "outputs": [],
   "source": []
  },
  {
   "cell_type": "markdown",
   "metadata": {},
   "source": [
    "### Problem 30\n",
    "Download the data file from:\n",
    "http://koza.if.uj.edu.pl/~krzemien/machine_learning2021/materials/datasets/data1.csv\n",
    "and write a program that for every dataset separately calculates:\n",
    "* E[X], E[Y],\n",
    "* Var(X), Var(Y),\n",
    "* Cov(X,Y)\n",
    "* Pearson correlation coefficients\n",
    "Visualize the data (X vs Y). Visualize the means and variances for all datasets (e.g. E[X] vs dataset number)\n",
    "\n",
    "Notebook: https://github.com/wkrzemien/dataScienceAndML2020/blob/master/notebooks/intro/simple_load_data.ipynb"
   ]
  },
  {
   "cell_type": "code",
   "execution_count": 40,
   "metadata": {
    "scrolled": false
   },
   "outputs": [],
   "source": [
    "import random\n",
    "\n",
    "def expval(X): #expected value\n",
    "    expval = sum(X)/len(X)\n",
    "    return expval\n",
    "\n",
    "def variance(X):\n",
    "    diff=[]\n",
    "    square=[]\n",
    "    for i in range(len(X)):\n",
    "        diff.append(X[i]-expval(X))   \n",
    "        square.append(diff[i]*diff[i])\n",
    "    var = expval(square)\n",
    "    return var\n",
    "\n",
    "def covariance(X,Y):\n",
    "    prod=[]\n",
    "    for i in range(len(X)):\n",
    "        prod.append(X[i]*Y[i])    \n",
    "    cov = expval(prod)-expval(X)*expval(Y)\n",
    "    return cov\n",
    "\n",
    "def std_dev(X):\n",
    "    std = np.sqrt(variance(X))\n",
    "    return std\n",
    "\n",
    "def pears_rho(X,Y):\n",
    "    rho = covariance(X,Y)/(std_dev(X)*std_dev(Y))\n",
    "    return rho    "
   ]
  },
  {
   "cell_type": "code",
   "execution_count": 2,
   "metadata": {},
   "outputs": [],
   "source": [
    "input_file = 'data1.csv'"
   ]
  },
  {
   "cell_type": "code",
   "execution_count": 6,
   "metadata": {},
   "outputs": [],
   "source": [
    "data = pd.read_csv(input_file)"
   ]
  },
  {
   "cell_type": "code",
   "execution_count": 7,
   "metadata": {},
   "outputs": [
    {
     "data": {
      "text/html": [
       "<div>\n",
       "<style scoped>\n",
       "    .dataframe tbody tr th:only-of-type {\n",
       "        vertical-align: middle;\n",
       "    }\n",
       "\n",
       "    .dataframe tbody tr th {\n",
       "        vertical-align: top;\n",
       "    }\n",
       "\n",
       "    .dataframe thead th {\n",
       "        text-align: right;\n",
       "    }\n",
       "</style>\n",
       "<table border=\"1\" class=\"dataframe\">\n",
       "  <thead>\n",
       "    <tr style=\"text-align: right;\">\n",
       "      <th></th>\n",
       "      <th>x</th>\n",
       "      <th>y</th>\n",
       "      <th>dataSet</th>\n",
       "    </tr>\n",
       "  </thead>\n",
       "  <tbody>\n",
       "    <tr>\n",
       "      <th>0</th>\n",
       "      <td>10</td>\n",
       "      <td>8.04</td>\n",
       "      <td>0</td>\n",
       "    </tr>\n",
       "    <tr>\n",
       "      <th>1</th>\n",
       "      <td>8</td>\n",
       "      <td>6.95</td>\n",
       "      <td>0</td>\n",
       "    </tr>\n",
       "    <tr>\n",
       "      <th>2</th>\n",
       "      <td>13</td>\n",
       "      <td>7.58</td>\n",
       "      <td>0</td>\n",
       "    </tr>\n",
       "    <tr>\n",
       "      <th>3</th>\n",
       "      <td>9</td>\n",
       "      <td>8.81</td>\n",
       "      <td>0</td>\n",
       "    </tr>\n",
       "    <tr>\n",
       "      <th>4</th>\n",
       "      <td>11</td>\n",
       "      <td>8.33</td>\n",
       "      <td>0</td>\n",
       "    </tr>\n",
       "  </tbody>\n",
       "</table>\n",
       "</div>"
      ],
      "text/plain": [
       "    x     y  dataSet\n",
       "0  10  8.04        0\n",
       "1   8  6.95        0\n",
       "2  13  7.58        0\n",
       "3   9  8.81        0\n",
       "4  11  8.33        0"
      ]
     },
     "execution_count": 7,
     "metadata": {},
     "output_type": "execute_result"
    }
   ],
   "source": [
    "data.head()"
   ]
  },
  {
   "cell_type": "code",
   "execution_count": 8,
   "metadata": {},
   "outputs": [
    {
     "data": {
      "text/plain": [
       "x            int64\n",
       "y          float64\n",
       "dataSet      int64\n",
       "dtype: object"
      ]
     },
     "execution_count": 8,
     "metadata": {},
     "output_type": "execute_result"
    }
   ],
   "source": [
    "data.dtypes"
   ]
  },
  {
   "cell_type": "code",
   "execution_count": 9,
   "metadata": {},
   "outputs": [
    {
     "name": "stdout",
     "output_type": "stream",
     "text": [
      "['x' 'y' 'dataSet']\n"
     ]
    }
   ],
   "source": [
    "print(data.columns.values)"
   ]
  },
  {
   "cell_type": "code",
   "execution_count": 10,
   "metadata": {},
   "outputs": [
    {
     "name": "stdout",
     "output_type": "stream",
     "text": [
      "<class 'pandas.core.frame.DataFrame'>\n",
      "RangeIndex: 44 entries, 0 to 43\n",
      "Data columns (total 3 columns):\n",
      " #   Column   Non-Null Count  Dtype  \n",
      "---  ------   --------------  -----  \n",
      " 0   x        44 non-null     int64  \n",
      " 1   y        44 non-null     float64\n",
      " 2   dataSet  44 non-null     int64  \n",
      "dtypes: float64(1), int64(2)\n",
      "memory usage: 1.2 KB\n"
     ]
    }
   ],
   "source": [
    "data.info()"
   ]
  },
  {
   "cell_type": "code",
   "execution_count": 11,
   "metadata": {},
   "outputs": [
    {
     "data": {
      "text/html": [
       "<div>\n",
       "<style scoped>\n",
       "    .dataframe tbody tr th:only-of-type {\n",
       "        vertical-align: middle;\n",
       "    }\n",
       "\n",
       "    .dataframe tbody tr th {\n",
       "        vertical-align: top;\n",
       "    }\n",
       "\n",
       "    .dataframe thead th {\n",
       "        text-align: right;\n",
       "    }\n",
       "</style>\n",
       "<table border=\"1\" class=\"dataframe\">\n",
       "  <thead>\n",
       "    <tr style=\"text-align: right;\">\n",
       "      <th></th>\n",
       "      <th>x</th>\n",
       "      <th>y</th>\n",
       "      <th>dataSet</th>\n",
       "    </tr>\n",
       "  </thead>\n",
       "  <tbody>\n",
       "    <tr>\n",
       "      <th>count</th>\n",
       "      <td>44.000000</td>\n",
       "      <td>44.000000</td>\n",
       "      <td>44.00000</td>\n",
       "    </tr>\n",
       "    <tr>\n",
       "      <th>mean</th>\n",
       "      <td>9.000000</td>\n",
       "      <td>7.500682</td>\n",
       "      <td>1.50000</td>\n",
       "    </tr>\n",
       "    <tr>\n",
       "      <th>std</th>\n",
       "      <td>3.198837</td>\n",
       "      <td>1.958925</td>\n",
       "      <td>1.13096</td>\n",
       "    </tr>\n",
       "    <tr>\n",
       "      <th>min</th>\n",
       "      <td>4.000000</td>\n",
       "      <td>3.100000</td>\n",
       "      <td>0.00000</td>\n",
       "    </tr>\n",
       "    <tr>\n",
       "      <th>25%</th>\n",
       "      <td>7.000000</td>\n",
       "      <td>6.117500</td>\n",
       "      <td>0.75000</td>\n",
       "    </tr>\n",
       "    <tr>\n",
       "      <th>50%</th>\n",
       "      <td>8.000000</td>\n",
       "      <td>7.520000</td>\n",
       "      <td>1.50000</td>\n",
       "    </tr>\n",
       "    <tr>\n",
       "      <th>75%</th>\n",
       "      <td>11.000000</td>\n",
       "      <td>8.747500</td>\n",
       "      <td>2.25000</td>\n",
       "    </tr>\n",
       "    <tr>\n",
       "      <th>max</th>\n",
       "      <td>19.000000</td>\n",
       "      <td>12.740000</td>\n",
       "      <td>3.00000</td>\n",
       "    </tr>\n",
       "  </tbody>\n",
       "</table>\n",
       "</div>"
      ],
      "text/plain": [
       "               x          y   dataSet\n",
       "count  44.000000  44.000000  44.00000\n",
       "mean    9.000000   7.500682   1.50000\n",
       "std     3.198837   1.958925   1.13096\n",
       "min     4.000000   3.100000   0.00000\n",
       "25%     7.000000   6.117500   0.75000\n",
       "50%     8.000000   7.520000   1.50000\n",
       "75%    11.000000   8.747500   2.25000\n",
       "max    19.000000  12.740000   3.00000"
      ]
     },
     "execution_count": 11,
     "metadata": {},
     "output_type": "execute_result"
    }
   ],
   "source": [
    "data.describe()"
   ]
  },
  {
   "cell_type": "code",
   "execution_count": 12,
   "metadata": {},
   "outputs": [
    {
     "data": {
      "text/plain": [
       "x          11\n",
       "y          11\n",
       "dataSet    11\n",
       "dtype: int64"
      ]
     },
     "execution_count": 12,
     "metadata": {},
     "output_type": "execute_result"
    }
   ],
   "source": [
    "data[data['dataSet']==0].count()"
   ]
  },
  {
   "cell_type": "code",
   "execution_count": 13,
   "metadata": {},
   "outputs": [
    {
     "data": {
      "text/plain": [
       "x          44\n",
       "y          44\n",
       "dataSet    44\n",
       "dtype: int64"
      ]
     },
     "execution_count": 13,
     "metadata": {},
     "output_type": "execute_result"
    }
   ],
   "source": [
    "data.count()"
   ]
  },
  {
   "cell_type": "code",
   "execution_count": 14,
   "metadata": {},
   "outputs": [
    {
     "data": {
      "text/html": [
       "<div>\n",
       "<style scoped>\n",
       "    .dataframe tbody tr th:only-of-type {\n",
       "        vertical-align: middle;\n",
       "    }\n",
       "\n",
       "    .dataframe tbody tr th {\n",
       "        vertical-align: top;\n",
       "    }\n",
       "\n",
       "    .dataframe thead th {\n",
       "        text-align: right;\n",
       "    }\n",
       "</style>\n",
       "<table border=\"1\" class=\"dataframe\">\n",
       "  <thead>\n",
       "    <tr style=\"text-align: right;\">\n",
       "      <th></th>\n",
       "      <th>dataSet</th>\n",
       "      <th>y</th>\n",
       "    </tr>\n",
       "  </thead>\n",
       "  <tbody>\n",
       "    <tr>\n",
       "      <th>0</th>\n",
       "      <td>0</td>\n",
       "      <td>7.500909</td>\n",
       "    </tr>\n",
       "    <tr>\n",
       "      <th>1</th>\n",
       "      <td>1</td>\n",
       "      <td>7.500909</td>\n",
       "    </tr>\n",
       "    <tr>\n",
       "      <th>2</th>\n",
       "      <td>2</td>\n",
       "      <td>7.500000</td>\n",
       "    </tr>\n",
       "    <tr>\n",
       "      <th>3</th>\n",
       "      <td>3</td>\n",
       "      <td>7.500909</td>\n",
       "    </tr>\n",
       "  </tbody>\n",
       "</table>\n",
       "</div>"
      ],
      "text/plain": [
       "   dataSet         y\n",
       "0        0  7.500909\n",
       "1        1  7.500909\n",
       "2        2  7.500000\n",
       "3        3  7.500909"
      ]
     },
     "execution_count": 14,
     "metadata": {},
     "output_type": "execute_result"
    }
   ],
   "source": [
    "data[['y','dataSet']].groupby(['dataSet'],as_index=False).mean().sort_values(by='dataSet')"
   ]
  },
  {
   "cell_type": "code",
   "execution_count": 15,
   "metadata": {},
   "outputs": [
    {
     "data": {
      "text/plain": [
       "<Figure size 432x288 with 0 Axes>"
      ]
     },
     "execution_count": 15,
     "metadata": {},
     "output_type": "execute_result"
    },
    {
     "data": {
      "text/plain": [
       "<Figure size 432x288 with 0 Axes>"
      ]
     },
     "metadata": {},
     "output_type": "display_data"
    }
   ],
   "source": [
    "plt.figure()"
   ]
  },
  {
   "cell_type": "code",
   "execution_count": 16,
   "metadata": {},
   "outputs": [
    {
     "data": {
      "text/plain": [
       "<matplotlib.axes._subplots.AxesSubplot at 0x18499610cd0>"
      ]
     },
     "execution_count": 16,
     "metadata": {},
     "output_type": "execute_result"
    },
    {
     "data": {
      "image/png": "[encoded data removed]",
      "text/plain": [
       "<Figure size 432x288 with 1 Axes>"
      ]
     },
     "metadata": {
      "needs_background": "light"
     },
     "output_type": "display_data"
    }
   ],
   "source": [
    "data.plot()"
   ]
  },
  {
   "cell_type": "code",
   "execution_count": 17,
   "metadata": {},
   "outputs": [
    {
     "data": {
      "text/plain": [
       "<matplotlib.axes._subplots.AxesSubplot at 0x184996abe50>"
      ]
     },
     "execution_count": 17,
     "metadata": {},
     "output_type": "execute_result"
    },
    {
     "data": {
      "image/png": "[encoded data removed]",
      "text/plain": [
       "<Figure size 432x288 with 1 Axes>"
      ]
     },
     "metadata": {
      "needs_background": "light"
     },
     "output_type": "display_data"
    }
   ],
   "source": [
    "data.plot(x='x', y='y', style='o')"
   ]
  },
  {
   "cell_type": "code",
   "execution_count": 42,
   "metadata": {},
   "outputs": [],
   "source": [
    "df = pd.DataFrame(data)\n",
    "index = df.index\n",
    "columns = df.columns\n",
    "values = df.values\n",
    "#print(\"index=\",index)\n",
    "#print(\"columns=\",columns)\n",
    "#print(\"values\",values)"
   ]
  },
  {
   "cell_type": "code",
   "execution_count": 43,
   "metadata": {},
   "outputs": [
    {
     "name": "stdout",
     "output_type": "stream",
     "text": [
      "E[X]= 9.0 E[Y]= 7.50068181818182 Var(X)= 10.0 Var(Y)= 3.7501745351239677 Cov(X,Y)= 4.999318181818168 rho_XY= 0.8163662427614676\n"
     ]
    }
   ],
   "source": [
    "x =df['x']\n",
    "y = df['y']\n",
    "E_x = expval(x)\n",
    "E_y = expval(y)\n",
    "Var_x = variance(x)\n",
    "Var_y = variance(y)\n",
    "Cov_xy = covariance(x,y)\n",
    "rho_xy = pears_rho(x,y)\n",
    "\n",
    "print(\"E[X]=\",E_x,\"E[Y]=\",E_y,\"Var(X)=\",Var_x,\"Var(Y)=\",Var_y,\"Cov(X,Y)=\",Cov_xy,\"rho_XY=\",rho_xy)"
   ]
  }
 ],
 "metadata": {
  "kernelspec": {
   "display_name": "Python 3",
   "language": "python",
   "name": "python3"
  },
  "language_info": {
   "codemirror_mode": {
    "name": "ipython",
    "version": 3
   },
   "file_extension": ".py",
   "mimetype": "text/x-python",
   "name": "python",
   "nbconvert_exporter": "python",
   "pygments_lexer": "ipython3",
   "version": "3.8.3"
  }
 },
 "nbformat": 4,
 "nbformat_minor": 4
}
