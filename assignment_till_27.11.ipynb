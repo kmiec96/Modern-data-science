{
 "cells": [
  {
   "cell_type": "code",
   "execution_count": 9,
   "metadata": {},
   "outputs": [],
   "source": [
    "from IPython.display import display, Markdown, Latex\n",
    "from decimal import Decimal\n",
    "import matplotlib.pyplot as plt\n",
    "from scipy import stats\n",
    "import numpy as np\n",
    "import pandas as pd\n",
    "import math as mt"
   ]
  },
  {
   "cell_type": "markdown",
   "metadata": {},
   "source": [
    "# Solutions to Modern Data Science Problems (problems till 27.11)\n",
    "by *Nora Salone* "
   ]
  },
  {
   "cell_type": "markdown",
   "metadata": {},
   "source": [
    "### Problem 28\n",
    "\n",
    "We want to use the KNN algorithm for the classification problem. We consider a\n",
    "training sample of $N=10^6$ points, which are distributed approximately uniformly on the\n",
    "available feature space . Calculate the mean distance between neighbors assuming:\n",
    "* The feature space is 1-D X =[X1], X1 in the range of [0,1]\n",
    "* The feature space is 2-D X =[X1 ,X2 ], Xi in the range of [0,1] \n",
    "* The feature space is 3-D X =[X1,X2 , X3 ], Xi in the range of [0,1]\n",
    "* The feature space is 10-D X =[X1,X2 , X3 ,…, X10 ], Xi in the range of [0,1]\n",
    "* How many points do we need for 10-D feature space to keep the same distance between the neighbors as in the first case ?"
   ]
  },
  {
   "cell_type": "markdown",
   "metadata": {},
   "source": [
    "The average distance between points is calculated as\n",
    "\n",
    "$$ \\Delta x \\sim \\frac{1}{\\sqrt[d]{N}}$$\n",
    "\n",
    "given $N$ points in $d$ dimensions, based on the approximation $\\frac{1}{N-1} \\sim \\frac{1}{N}$ since we look at $N >> 1$. For $N=10^6$ we get"
   ]
  },
  {
   "cell_type": "markdown",
   "metadata": {},
   "source": [
    "$$ \\Delta x \\sim \\frac{1}{\\sqrt[10]{10^6}}$$"
   ]
  },
  {
   "cell_type": "markdown",
   "metadata": {},
   "source": [
    "To get the same distance as in 1-D feature space, which is\n",
    "\n",
    "$$\\Delta x = \\frac{1}{N} = \\frac{1}{10^6} $$\n",
    "\n",
    "we need to have\n",
    "\n",
    "$$\\frac{1}{10^6} \\sim \\frac{1}{\\sqrt[10]{N}} \\quad \\Longrightarrow \\quad N = (10^6)^{10} = 10^{60} \\text{ points.}$$"
   ]
  },
  {
   "cell_type": "markdown",
   "metadata": {},
   "source": [
    "### Problem 29\n",
    "Derive OLS solution for simple linear regression model $f_θ(x) = θ_1 \\cdot x + θ_0$."
   ]
  },
  {
   "cell_type": "markdown",
   "metadata": {},
   "source": [
    "Derive the Ordinary Least Square solution for this simple linear regression model, $f_\\theta = \\theta_1 x + \\theta_0$: we start with the MSE training error\n",
    "\n",
    "$$E_T = \\frac{1}{N}\\sum_i (\\theta_1 x_i + \\theta_0 -y_i)^2$$\n",
    "\n",
    "and its the partial derivatives with respect to the parameters $\\theta_1$, $\\theta_0$\n",
    "\n",
    "$$\\frac{\\partial E}{\\partial \\theta_0} = \\frac{2}{N} \\sum_i(\\theta_1 x_i + \\theta_0 -y_i)\\\\\n",
    "\\frac{\\partial E}{\\partial \\theta_1} = \\frac{2}{N} \\sum_i(\\theta_1 x_i + \\theta_0 -y_i)x_i$$\n",
    "\n",
    "We look for the minima of $E_T$ with respect to the parameters $\\theta_0$, $\\theta_1$:\n",
    "\n",
    "$$\\theta_1\\sum_i x_i + N\\theta_0 -\\sum_i y_i = 0 \\\\\n",
    "\\theta_1\\sum_i x_i^2 + \\theta_0\\sum_i x_i -\\sum_i y_i x_i = 0$$\n",
    "\n",
    "This linear system of equations in $\\theta_0$, $\\theta_1$ can be represented by the matrix\n",
    "\n",
    "$$\n",
    "\\left(\\begin{array}{cc} \n",
    "N & \\sum_i x_i\\\\\n",
    "\\sum_i x_i & \\sum_i x_i^2\n",
    "\\end{array}|\\begin{array}{c} \n",
    "\\sum_i y_i\\\\ \n",
    "\\sum_i x_i y_i\n",
    "\\end{array}\\right)\n",
    "$$ \n",
    "\n",
    "which we reduce to solve the system of equations, as\n",
    "\n",
    "$$\n",
    "\\left(\\begin{array}{cc} \n",
    "N & \\sum_i x_i\\\\\n",
    "0 & \\big(\\sum_i x_i\\big)^2-N\\sum_i x_i^2\n",
    "\\end{array}|\\begin{array}{c} \n",
    "\\sum_i y_i\\\\ \n",
    "\\big(\\sum_i x_i\\big)\\sum_i y_i-N\\sum_i x_i y_i\n",
    "\\end{array}\\right)\n",
    "$$ \n",
    "\n",
    "from where one gets that\n",
    "\n",
    "$$\\theta_1 = \\frac{\\big(\\sum_i x_i\\big)\\sum_i y_i-N\\sum_i x_i y_i}{\\big(\\sum_i x_i\\big)^2-N\\sum_i x_i^2} = \\frac{\\big(\\sum_i \\frac{x_i}{N}\\big)\\sum_i \\frac{y_i}{N}-\\frac{1}{N}\\sum_i x_i y_i}{\\big(\\sum_i \\frac{x_i}{N}\\big)^2-\\frac{1}{N}\\sum_i x_i^2} = \\frac{E(xy)-E(x)E(y)}{E(x^2)-E(x)^2} = \\frac{cov(x,y)}{var(x)}\\\\\n",
    "\\theta_0 = E(y)-E(x)\\theta_1$$\n",
    "\n",
    "$\\theta_0$ was obtained by dividing the respective row in the matrix by $N^2$ and applying the same subtitutions of the sums into definitions that we used for $\\theta_1$. Hence, the OLS solution for this linear regression is\n",
    "\n",
    "$$\\theta_1 =\\frac{cov(x,y)}{var(x)}\\\\\n",
    "\\theta_0 = -E(x)\\frac{cov(x,y)}{var(x)} + E(y) = \\frac{E(y)E(x^2)-E(x)E(xy)}{var(x)}$$\n"
   ]
  },
  {
   "cell_type": "markdown",
   "metadata": {},
   "source": [
    "### Problem 30\n",
    "Download the data file from:\n",
    "http://koza.if.uj.edu.pl/~krzemien/machine_learning2021/materials/datasets/data1.csv\n",
    "and write a program that for every dataset separately calculates:\n",
    "* E[X], E[Y],\n",
    "* Var(X), Var(Y),\n",
    "* Cov(X,Y)\n",
    "* Pearson correlation coefficients\n",
    "\n",
    "Visualize the data (X vs Y). Visualize the means and variances for all datasets (e.g. E[X] vs dataset number)\n",
    "\n",
    "Notebook: https://github.com/wkrzemien/dataScienceAndML2020/blob/master/notebooks/intro/simple_load_data.ipynb"
   ]
  },
  {
   "cell_type": "code",
   "execution_count": 11,
   "metadata": {},
   "outputs": [],
   "source": [
    "input_file = 'data1.csv'"
   ]
  },
  {
   "cell_type": "code",
   "execution_count": 12,
   "metadata": {},
   "outputs": [],
   "source": [
    "data = pd.read_csv(input_file)"
   ]
  },
  {
   "cell_type": "code",
   "execution_count": 13,
   "metadata": {},
   "outputs": [
    {
     "data": {
      "text/html": [
       "<div>\n",
       "<style scoped>\n",
       "    .dataframe tbody tr th:only-of-type {\n",
       "        vertical-align: middle;\n",
       "    }\n",
       "\n",
       "    .dataframe tbody tr th {\n",
       "        vertical-align: top;\n",
       "    }\n",
       "\n",
       "    .dataframe thead th {\n",
       "        text-align: right;\n",
       "    }\n",
       "</style>\n",
       "<table border=\"1\" class=\"dataframe\">\n",
       "  <thead>\n",
       "    <tr style=\"text-align: right;\">\n",
       "      <th></th>\n",
       "      <th>x</th>\n",
       "      <th>y</th>\n",
       "      <th>dataSet</th>\n",
       "    </tr>\n",
       "  </thead>\n",
       "  <tbody>\n",
       "    <tr>\n",
       "      <th>0</th>\n",
       "      <td>10</td>\n",
       "      <td>8.04</td>\n",
       "      <td>0</td>\n",
       "    </tr>\n",
       "    <tr>\n",
       "      <th>1</th>\n",
       "      <td>8</td>\n",
       "      <td>6.95</td>\n",
       "      <td>0</td>\n",
       "    </tr>\n",
       "    <tr>\n",
       "      <th>2</th>\n",
       "      <td>13</td>\n",
       "      <td>7.58</td>\n",
       "      <td>0</td>\n",
       "    </tr>\n",
       "    <tr>\n",
       "      <th>3</th>\n",
       "      <td>9</td>\n",
       "      <td>8.81</td>\n",
       "      <td>0</td>\n",
       "    </tr>\n",
       "    <tr>\n",
       "      <th>4</th>\n",
       "      <td>11</td>\n",
       "      <td>8.33</td>\n",
       "      <td>0</td>\n",
       "    </tr>\n",
       "  </tbody>\n",
       "</table>\n",
       "</div>"
      ],
      "text/plain": [
       "    x     y  dataSet\n",
       "0  10  8.04        0\n",
       "1   8  6.95        0\n",
       "2  13  7.58        0\n",
       "3   9  8.81        0\n",
       "4  11  8.33        0"
      ]
     },
     "execution_count": 13,
     "metadata": {},
     "output_type": "execute_result"
    }
   ],
   "source": [
    "data.head()"
   ]
  },
  {
   "cell_type": "code",
   "execution_count": 14,
   "metadata": {},
   "outputs": [
    {
     "data": {
      "text/plain": [
       "x            int64\n",
       "y          float64\n",
       "dataSet      int64\n",
       "dtype: object"
      ]
     },
     "execution_count": 14,
     "metadata": {},
     "output_type": "execute_result"
    }
   ],
   "source": [
    "data.dtypes"
   ]
  },
  {
   "cell_type": "code",
   "execution_count": 15,
   "metadata": {},
   "outputs": [
    {
     "name": "stdout",
     "output_type": "stream",
     "text": [
      "['x' 'y' 'dataSet']\n"
     ]
    }
   ],
   "source": [
    "print(data.columns.values)"
   ]
  },
  {
   "cell_type": "code",
   "execution_count": 16,
   "metadata": {},
   "outputs": [
    {
     "name": "stdout",
     "output_type": "stream",
     "text": [
      "<class 'pandas.core.frame.DataFrame'>\n",
      "RangeIndex: 44 entries, 0 to 43\n",
      "Data columns (total 3 columns):\n",
      " #   Column   Non-Null Count  Dtype  \n",
      "---  ------   --------------  -----  \n",
      " 0   x        44 non-null     int64  \n",
      " 1   y        44 non-null     float64\n",
      " 2   dataSet  44 non-null     int64  \n",
      "dtypes: float64(1), int64(2)\n",
      "memory usage: 1.2 KB\n"
     ]
    }
   ],
   "source": [
    "data.info()"
   ]
  },
  {
   "cell_type": "code",
   "execution_count": 17,
   "metadata": {},
   "outputs": [
    {
     "data": {
      "text/html": [
       "<div>\n",
       "<style scoped>\n",
       "    .dataframe tbody tr th:only-of-type {\n",
       "        vertical-align: middle;\n",
       "    }\n",
       "\n",
       "    .dataframe tbody tr th {\n",
       "        vertical-align: top;\n",
       "    }\n",
       "\n",
       "    .dataframe thead th {\n",
       "        text-align: right;\n",
       "    }\n",
       "</style>\n",
       "<table border=\"1\" class=\"dataframe\">\n",
       "  <thead>\n",
       "    <tr style=\"text-align: right;\">\n",
       "      <th></th>\n",
       "      <th>x</th>\n",
       "      <th>y</th>\n",
       "      <th>dataSet</th>\n",
       "    </tr>\n",
       "  </thead>\n",
       "  <tbody>\n",
       "    <tr>\n",
       "      <th>count</th>\n",
       "      <td>44.000000</td>\n",
       "      <td>44.000000</td>\n",
       "      <td>44.00000</td>\n",
       "    </tr>\n",
       "    <tr>\n",
       "      <th>mean</th>\n",
       "      <td>9.000000</td>\n",
       "      <td>7.500682</td>\n",
       "      <td>1.50000</td>\n",
       "    </tr>\n",
       "    <tr>\n",
       "      <th>std</th>\n",
       "      <td>3.198837</td>\n",
       "      <td>1.958925</td>\n",
       "      <td>1.13096</td>\n",
       "    </tr>\n",
       "    <tr>\n",
       "      <th>min</th>\n",
       "      <td>4.000000</td>\n",
       "      <td>3.100000</td>\n",
       "      <td>0.00000</td>\n",
       "    </tr>\n",
       "    <tr>\n",
       "      <th>25%</th>\n",
       "      <td>7.000000</td>\n",
       "      <td>6.117500</td>\n",
       "      <td>0.75000</td>\n",
       "    </tr>\n",
       "    <tr>\n",
       "      <th>50%</th>\n",
       "      <td>8.000000</td>\n",
       "      <td>7.520000</td>\n",
       "      <td>1.50000</td>\n",
       "    </tr>\n",
       "    <tr>\n",
       "      <th>75%</th>\n",
       "      <td>11.000000</td>\n",
       "      <td>8.747500</td>\n",
       "      <td>2.25000</td>\n",
       "    </tr>\n",
       "    <tr>\n",
       "      <th>max</th>\n",
       "      <td>19.000000</td>\n",
       "      <td>12.740000</td>\n",
       "      <td>3.00000</td>\n",
       "    </tr>\n",
       "  </tbody>\n",
       "</table>\n",
       "</div>"
      ],
      "text/plain": [
       "               x          y   dataSet\n",
       "count  44.000000  44.000000  44.00000\n",
       "mean    9.000000   7.500682   1.50000\n",
       "std     3.198837   1.958925   1.13096\n",
       "min     4.000000   3.100000   0.00000\n",
       "25%     7.000000   6.117500   0.75000\n",
       "50%     8.000000   7.520000   1.50000\n",
       "75%    11.000000   8.747500   2.25000\n",
       "max    19.000000  12.740000   3.00000"
      ]
     },
     "execution_count": 17,
     "metadata": {},
     "output_type": "execute_result"
    }
   ],
   "source": [
    "data.describe()"
   ]
  },
  {
   "cell_type": "code",
   "execution_count": 18,
   "metadata": {},
   "outputs": [
    {
     "data": {
      "text/plain": [
       "x          11\n",
       "y          11\n",
       "dataSet    11\n",
       "dtype: int64"
      ]
     },
     "execution_count": 18,
     "metadata": {},
     "output_type": "execute_result"
    }
   ],
   "source": [
    "data[data['dataSet']==0].count()"
   ]
  },
  {
   "cell_type": "code",
   "execution_count": 19,
   "metadata": {},
   "outputs": [
    {
     "data": {
      "text/plain": [
       "x          44\n",
       "y          44\n",
       "dataSet    44\n",
       "dtype: int64"
      ]
     },
     "execution_count": 19,
     "metadata": {},
     "output_type": "execute_result"
    }
   ],
   "source": [
    "data.count()"
   ]
  },
  {
   "cell_type": "code",
   "execution_count": 20,
   "metadata": {},
   "outputs": [
    {
     "data": {
      "text/html": [
       "<div>\n",
       "<style scoped>\n",
       "    .dataframe tbody tr th:only-of-type {\n",
       "        vertical-align: middle;\n",
       "    }\n",
       "\n",
       "    .dataframe tbody tr th {\n",
       "        vertical-align: top;\n",
       "    }\n",
       "\n",
       "    .dataframe thead th {\n",
       "        text-align: right;\n",
       "    }\n",
       "</style>\n",
       "<table border=\"1\" class=\"dataframe\">\n",
       "  <thead>\n",
       "    <tr style=\"text-align: right;\">\n",
       "      <th></th>\n",
       "      <th>dataSet</th>\n",
       "      <th>y</th>\n",
       "    </tr>\n",
       "  </thead>\n",
       "  <tbody>\n",
       "    <tr>\n",
       "      <th>0</th>\n",
       "      <td>0</td>\n",
       "      <td>7.500909</td>\n",
       "    </tr>\n",
       "    <tr>\n",
       "      <th>1</th>\n",
       "      <td>1</td>\n",
       "      <td>7.500909</td>\n",
       "    </tr>\n",
       "    <tr>\n",
       "      <th>2</th>\n",
       "      <td>2</td>\n",
       "      <td>7.500000</td>\n",
       "    </tr>\n",
       "    <tr>\n",
       "      <th>3</th>\n",
       "      <td>3</td>\n",
       "      <td>7.500909</td>\n",
       "    </tr>\n",
       "  </tbody>\n",
       "</table>\n",
       "</div>"
      ],
      "text/plain": [
       "   dataSet         y\n",
       "0        0  7.500909\n",
       "1        1  7.500909\n",
       "2        2  7.500000\n",
       "3        3  7.500909"
      ]
     },
     "execution_count": 20,
     "metadata": {},
     "output_type": "execute_result"
    }
   ],
   "source": [
    "data[['y','dataSet']].groupby(['dataSet'],as_index=False).mean().sort_values(by='dataSet')"
   ]
  },
  {
   "cell_type": "code",
   "execution_count": 21,
   "metadata": {},
   "outputs": [
    {
     "data": {
      "text/plain": [
       "<Figure size 432x288 with 0 Axes>"
      ]
     },
     "execution_count": 21,
     "metadata": {},
     "output_type": "execute_result"
    },
    {
     "data": {
      "text/plain": [
       "<Figure size 432x288 with 0 Axes>"
      ]
     },
     "metadata": {},
     "output_type": "display_data"
    }
   ],
   "source": [
    "plt.figure()"
   ]
  },
  {
   "cell_type": "code",
   "execution_count": 22,
   "metadata": {},
   "outputs": [
    {
     "data": {
      "text/plain": [
       "<matplotlib.axes._subplots.AxesSubplot at 0x22a4f9fdc10>"
      ]
     },
     "execution_count": 22,
     "metadata": {},
     "output_type": "execute_result"
    },
    {
     "data": {
      "image/png": "[encoded data removed]",
      "text/plain": [
       "<Figure size 432x288 with 1 Axes>"
      ]
     },
     "metadata": {
      "needs_background": "light"
     },
     "output_type": "display_data"
    }
   ],
   "source": [
    "data.plot()"
   ]
  },
  {
   "cell_type": "code",
   "execution_count": 23,
   "metadata": {},
   "outputs": [
    {
     "data": {
      "text/plain": [
       "<matplotlib.axes._subplots.AxesSubplot at 0x22a50a925e0>"
      ]
     },
     "execution_count": 23,
     "metadata": {},
     "output_type": "execute_result"
    },
    {
     "data": {
      "image/png": "[encoded data removed]",
      "text/plain": [
       "<Figure size 432x288 with 1 Axes>"
      ]
     },
     "metadata": {
      "needs_background": "light"
     },
     "output_type": "display_data"
    }
   ],
   "source": [
    "data.plot(x='x', y='y', style='o')"
   ]
  },
  {
   "cell_type": "code",
   "execution_count": 24,
   "metadata": {
    "scrolled": false
   },
   "outputs": [],
   "source": [
    "def expval(X): #expected value\n",
    "    expval = sum(X)/len(X)\n",
    "    return expval\n",
    "\n",
    "def variance(X):\n",
    "    diff=[]\n",
    "    square=[]\n",
    "    for i in range(len(X)):\n",
    "        diff.append(X[i]-expval(X))   \n",
    "        square.append(diff[i]*diff[i])\n",
    "    var = expval(square)\n",
    "    return var\n",
    "\n",
    "def covariance(X,Y):\n",
    "    prod=[]\n",
    "    for i in range(len(X)):\n",
    "        prod.append(X[i]*Y[i])    \n",
    "    cov = expval(prod)-expval(X)*expval(Y)\n",
    "    return cov\n",
    "\n",
    "def std_dev(X):\n",
    "    std = np.sqrt(variance(X))\n",
    "    return std\n",
    "\n",
    "def pears_rho(X,Y):\n",
    "    rho = covariance(X,Y)/(std_dev(X)*std_dev(Y))\n",
    "    return rho    "
   ]
  },
  {
   "cell_type": "code",
   "execution_count": 25,
   "metadata": {},
   "outputs": [],
   "source": [
    "df = pd.DataFrame(data)\n",
    "index = df.index\n",
    "columns = df.columns\n",
    "values = df.values"
   ]
  },
  {
   "cell_type": "code",
   "execution_count": 26,
   "metadata": {},
   "outputs": [
    {
     "name": "stdout",
     "output_type": "stream",
     "text": [
      "Expected values: E[X]= 9.0 , E[Y]= 7.50068181818182\n",
      "Variances: Var(X)= 10.0 , Var(Y)= 3.7501745351239677\n",
      "Covariance: Cov(X,Y)= 4.999318181818168 , Pearson coefficient: rho_XY= 0.8163662427614676\n"
     ]
    }
   ],
   "source": [
    "x =df['x']\n",
    "y = df['y']\n",
    "E_x = expval(x)\n",
    "E_y = expval(y)\n",
    "Var_x = variance(x)\n",
    "Var_y = variance(y)\n",
    "Cov_xy = covariance(x,y)\n",
    "rho_xy = pears_rho(x,y)\n",
    "\n",
    "print(\"Expected values: E[X]=\",E_x,\", E[Y]=\",E_y)\n",
    "print(\"Variances: Var(X)=\",Var_x,\", Var(Y)=\",Var_y)\n",
    "print(\"Covariance: Cov(X,Y)=\",Cov_xy,\", Pearson coefficient: rho_XY=\",rho_xy)"
   ]
  },
  {
   "cell_type": "markdown",
   "metadata": {},
   "source": [
    "Visualize the means and variances for all datasets (e.g. E[X] vs dataset number)"
   ]
  },
  {
   "cell_type": "code",
   "execution_count": 28,
   "metadata": {
    "scrolled": true
   },
   "outputs": [
    {
     "data": {
      "image/png": "[encoded data removed]",
      "text/plain": [
       "<Figure size 648x288 with 2 Axes>"
      ]
     },
     "metadata": {
      "needs_background": "light"
     },
     "output_type": "display_data"
    }
   ],
   "source": [
    "datax = data[['x','dataSet']] #my effort to select the data befor discovering panda\n",
    "x0=[]\n",
    "x1=[]\n",
    "x2=[]\n",
    "x3=[]\n",
    "for i in range(len(data)):\n",
    "    dataset = data.loc[i][2]\n",
    "    if dataset == 0:\n",
    "        x0.append(data.loc[i][0])\n",
    "    elif dataset == 1:\n",
    "        x1.append(data.loc[i][0])\n",
    "    elif dataset == 2:\n",
    "        x2.append(data.loc[i][0])\n",
    "    elif dataset == 3:\n",
    "        x3.append(data.loc[i][0])\n",
    "        \n",
    "#panda  x0 = data[data['dataSet']==0]\n",
    "#x1 = data[data['dataSet']==1]\n",
    "#x2 = data[data['dataSet']==2]\n",
    "#x3 = data[data['dataSet']==3]\n",
    "\n",
    "E0=expval(x0)\n",
    "E1=expval(x1)\n",
    "E2=expval(x2)\n",
    "E3=expval(x3)\n",
    "V0=variance(x0)\n",
    "V1=variance(x1)\n",
    "V2=variance(x2)\n",
    "V3=variance(x3)\n",
    "\n",
    "fig, (ax1, ax2) = plt.subplots(1, 2,figsize=(9, 4))\n",
    "ax1.set_title(\"E(X) VS DATASET NUMBER\")\n",
    "ax1.set_xlabel(\"dataSet number\")\n",
    "ax1.set_ylabel(\"E(X)\")\n",
    "ax1.scatter([0]*len(x0), np.array([E0]*len(x0)), label=\"dataSet-0\", color = \"red\")\n",
    "ax1.scatter([1]*len(x1), np.array([E1]*len(x1)), label=\"dataSet-1\", color = \"blue\")\n",
    "ax1.scatter([2]*len(x2), np.array([E2]*len(x2)), label=\"dataSet-2\", color = \"green\")\n",
    "ax1.scatter([3]*len(x3), np.array([E3]*len(x3)), label=\"dataSet-3\", color = \"black\")\n",
    "\n",
    "ax2.set_title(\"Var(X) VS DATASET NUMBER\")\n",
    "ax2.set_xlabel(\"dataSet number\")\n",
    "ax2.set_ylabel(\"Var(X)\")\n",
    "ax2.scatter([0]*len(x0), np.array([V0]*len(x0)), label=\"dataSet-0\", color = \"red\")\n",
    "ax2.scatter([1]*len(x1), np.array([V1]*len(x1)), label=\"dataSet-1\", color = \"blue\")\n",
    "ax2.scatter([2]*len(x2), np.array([V2]*len(x2)), label=\"dataSet-2\", color = \"green\")\n",
    "ax2.scatter([3]*len(x3), np.array([V3]*len(x3)), label=\"dataSet-3\", color = \"black\")\n",
    "\n",
    "plt.legend()\n",
    "plt.show()"
   ]
  },
  {
   "cell_type": "code",
   "execution_count": 29,
   "metadata": {},
   "outputs": [
    {
     "data": {
      "image/png": "[encoded data removed]",
      "text/plain": [
       "<Figure size 648x288 with 2 Axes>"
      ]
     },
     "metadata": {
      "needs_background": "light"
     },
     "output_type": "display_data"
    }
   ],
   "source": [
    "datay = data[['y','dataSet']]\n",
    "y0=[]\n",
    "y1=[]\n",
    "y2=[]\n",
    "y3=[]\n",
    "for i in range(len(data)):\n",
    "    dataset = data.loc[i][2]\n",
    "    if dataset == 0:\n",
    "        y0.append(data.loc[i][1])\n",
    "    elif dataset == 1:\n",
    "        y1.append(data.loc[i][1])\n",
    "    elif dataset == 2:\n",
    "        y2.append(data.loc[i][1])\n",
    "    elif dataset == 3:\n",
    "        y3.append(data.loc[i][1])\n",
    "\n",
    "E0=expval(y0)\n",
    "E1=expval(y1)\n",
    "E2=expval(y2)\n",
    "E3=expval(y3)\n",
    "V0=variance(y0)\n",
    "V1=variance(y1)\n",
    "V2=variance(y2)\n",
    "V3=variance(y3)\n",
    "\n",
    "\n",
    "fig, (ax1, ax2) = plt.subplots(1, 2,figsize=(9, 4))\n",
    "ax1.set_title(\"E(Y) VS DATASET NUMBER\")\n",
    "ax1.set_xlabel(\"dataSet number\")\n",
    "ax1.set_ylabel(\"E(Y)\")\n",
    "ax1.scatter([0]*len(y0), np.array([E0]*len(y0)), label=\"dataSet-0\", color = \"red\")\n",
    "ax1.scatter([1]*len(y1), np.array([E1]*len(y1)), label=\"dataSet-1\", color = \"blue\")\n",
    "ax1.scatter([2]*len(y2), np.array([E2]*len(y2)), label=\"dataSet-2\", color = \"green\")\n",
    "ax1.scatter([3]*len(y3), np.array([E3]*len(y3)), label=\"dataSet-3\", color = \"black\")\n",
    "\n",
    "ax2.set_title(\"Var(Y) VS DATASET NUMBER\")\n",
    "ax2.set_xlabel(\"dataSet number\")\n",
    "ax2.set_ylabel(\"Var(Y)\")\n",
    "ax2.scatter([0]*len(y0), np.array([V0]*len(y0)), label=\"dataSet-0\", color = \"red\")\n",
    "ax2.scatter([1]*len(y1), np.array([V1]*len(y1)), label=\"dataSet-1\", color = \"blue\")\n",
    "ax2.scatter([2]*len(y2), np.array([V2]*len(y2)), label=\"dataSet-2\", color = \"green\")\n",
    "ax2.scatter([3]*len(y3), np.array([V3]*len(y3)), label=\"dataSet-3\", color = \"black\")\n",
    "\n",
    "plt.legend()\n",
    "plt.show()"
   ]
  },
  {
   "cell_type": "code",
   "execution_count": null,
   "metadata": {},
   "outputs": [],
   "source": []
  }
 ],
 "metadata": {
  "kernelspec": {
   "display_name": "Python 3",
   "language": "python",
   "name": "python3"
  },
  "language_info": {
   "codemirror_mode": {
    "name": "ipython",
    "version": 3
   },
   "file_extension": ".py",
   "mimetype": "text/x-python",
   "name": "python",
   "nbconvert_exporter": "python",
   "pygments_lexer": "ipython3",
   "version": "3.8.3"
  }
 },
 "nbformat": 4,
 "nbformat_minor": 4
}
