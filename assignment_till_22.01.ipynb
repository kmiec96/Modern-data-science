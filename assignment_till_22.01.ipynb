{
 "cells": [
  {
   "cell_type": "code",
   "execution_count": 1,
   "metadata": {},
   "outputs": [],
   "source": [
    "%matplotlib inline\n",
    "#standard imports \n",
    "import math\n",
    "import numpy as np\n",
    "import pandas as pd\n",
    "import matplotlib.pyplot as plt"
   ]
  },
  {
   "cell_type": "markdown",
   "metadata": {},
   "source": [
    "### 49\n",
    "Discuss the performance of different classification models presented in the Figure at pg. 15 lecture 9."
   ]
  },
  {
   "cell_type": "markdown",
   "metadata": {},
   "source": [
    "The models have\n",
    "* A: fpr = 0.1, tpr = 0.6;\n",
    "* B: fpr = 0.4, tpr = 0.8;\n",
    "* C: fpr = 0.7, tpr = 0.7;\n",
    "* D: fpr = 0.0, tpr = 1.0; this is the perfect classifier, it accepts correctly all the true positives and no false positives.\n",
    "* E: fpr = 0.6, tpr = 0.2; this is the worst classifier of this list. \n",
    "\n",
    "The efficiency of a classifier is based on the trade-off between signal efficiency and background acceptance, or true positive rate (tpr) and false positive rate (fpr). One can also use accuracy \n",
    "$$ \\text{Accuracy} = 1-\\alpha -\\beta = \\text{signal efficiency}-\\text{background acceptance} = \\text{tpr} - \\text{fpr} $$\n",
    "to compare these models. We get"
   ]
  },
  {
   "cell_type": "code",
   "execution_count": 2,
   "metadata": {
    "scrolled": true
   },
   "outputs": [
    {
     "data": {
      "text/html": [
       "<div>\n",
       "<style scoped>\n",
       "    .dataframe tbody tr th:only-of-type {\n",
       "        vertical-align: middle;\n",
       "    }\n",
       "\n",
       "    .dataframe tbody tr th {\n",
       "        vertical-align: top;\n",
       "    }\n",
       "\n",
       "    .dataframe thead th {\n",
       "        text-align: right;\n",
       "    }\n",
       "</style>\n",
       "<table border=\"1\" class=\"dataframe\">\n",
       "  <thead>\n",
       "    <tr style=\"text-align: right;\">\n",
       "      <th></th>\n",
       "      <th>model =</th>\n",
       "      <th>A</th>\n",
       "      <th>B</th>\n",
       "      <th>C</th>\n",
       "      <th>D</th>\n",
       "      <th>E</th>\n",
       "    </tr>\n",
       "  </thead>\n",
       "  <tbody>\n",
       "    <tr>\n",
       "      <th>fpr</th>\n",
       "      <td></td>\n",
       "      <td>0.1</td>\n",
       "      <td>0.4</td>\n",
       "      <td>0.7</td>\n",
       "      <td>0.0</td>\n",
       "      <td>0.6</td>\n",
       "    </tr>\n",
       "    <tr>\n",
       "      <th>tpr</th>\n",
       "      <td></td>\n",
       "      <td>0.6</td>\n",
       "      <td>0.8</td>\n",
       "      <td>0.7</td>\n",
       "      <td>1.0</td>\n",
       "      <td>0.2</td>\n",
       "    </tr>\n",
       "    <tr>\n",
       "      <th>accuracy</th>\n",
       "      <td></td>\n",
       "      <td>0.5</td>\n",
       "      <td>0.4</td>\n",
       "      <td>0.0</td>\n",
       "      <td>1.0</td>\n",
       "      <td>-0.4</td>\n",
       "    </tr>\n",
       "  </tbody>\n",
       "</table>\n",
       "</div>"
      ],
      "text/plain": [
       "         model =    A    B    C    D     E\n",
       "fpr               0.1  0.4  0.7  0.0   0.6\n",
       "tpr               0.6  0.8  0.7  1.0   0.2\n",
       "accuracy          0.5  0.4  0.0  1.0  -0.4"
      ]
     },
     "metadata": {},
     "output_type": "display_data"
    }
   ],
   "source": [
    "Dane=np.array([[\"\",0.1,0.4,0.7,0.0,0.6],[\"\",0.6,0.8,0.7,1.0,0.2],[\"\",0.5,0.4,0.0,1.0,-0.4]])\n",
    " \n",
    "Dane_display= pd.DataFrame(Dane,columns=['model =','A','B','C','D','E'],index=['fpr','tpr','accuracy'])\n",
    "display(Dane_display)"
   ]
  },
  {
   "cell_type": "markdown",
   "metadata": {},
   "source": [
    "In order of ascending accuracy (from worst to best classifier), we have E, C, B, A, D."
   ]
  },
  {
   "cell_type": "markdown",
   "metadata": {},
   "source": [
    "### 50\n",
    "We have k = 10 classes and a binary model. How many comparisons do we need to perform using all-vs-one approach?"
   ]
  },
  {
   "cell_type": "markdown",
   "metadata": {},
   "source": [
    "The all-vs-one strategy consists in assigning $Y=1$ (our binary classifier) to a given class and $Y=0$ to all the remaining and repeat the procedure choosing every time a different class from before. This implies performing n = k = 10 comparisons."
   ]
  },
  {
   "cell_type": "markdown",
   "metadata": {},
   "source": [
    "### 53\n",
    "For which method, there is a guarantee that it will converge to the global minimum? Justify your choice if possible.\n",
    "* Gradient Descent\n",
    "* Stochastic Gradient Descent\n",
    "* ADAptive Moment estimation\n",
    "* Newton’s method\n",
    "* All of them\n",
    "* None of them"
   ]
  },
  {
   "cell_type": "markdown",
   "metadata": {},
   "source": [
    "The guarantee exists for Newton's method, because\n",
    "* Gradient Descent: too large learning rate leads to overshooting the minimum, so there is not guarantee of convergence in this case.\n",
    "* Stochastic Gradient Descent: still converges to GD minimum even if using just one data sample, but there is more variance in between the steps compared to GD; it can converge to a local minimum close to the global one. Same overshooting problem of GD.\n",
    "* ADAptive Moment estimation: modified SGD."
   ]
  },
  {
   "cell_type": "markdown",
   "metadata": {},
   "source": [
    "### 54\n",
    "We use a large dataset with a multidimensional features space. Which method would be probably appropriate to use? Justify your choice if possible.\n",
    "* Gradient Descent\n",
    "* Stochastic Gradient Descent\n",
    "* ADAptive Moment estimation\n",
    "* Newton’s method\n",
    "* All of them\n",
    "* None of them"
   ]
  },
  {
   "cell_type": "markdown",
   "metadata": {},
   "source": [
    "It would be appropriate to use ADAM, because\n",
    "* Gradient Descent: no, multi dimensional feature space implies high computing power in the number of iterations required.\n",
    "* Stochastic Gradient Descent: same problem as GD.\n",
    "* Newton’s method: no, also here high computing power due to inverting a high-dimensional Hessian matrix."
   ]
  },
  {
   "cell_type": "markdown",
   "metadata": {},
   "source": [
    "### 55\n",
    "Which of the statements are true?\n",
    "* SGD is guaranteed to decrease the cost function in every iteration TRUE\n",
    "* SGD uses small subsample (or one sample) to update the parameters TRUE\n",
    "* When using SGD we don't need to randomize the data sample FALSE\n",
    "* When using GD we don't need to randomize the data sample TRUE"
   ]
  },
  {
   "cell_type": "markdown",
   "metadata": {},
   "source": [
    "### 56\n",
    "Which of the statements are true?\n",
    "* GD with a very small learning rate can be ineffective in a sense that it would take a lot of time to find the solution (to converge). FALSE\n",
    "* SGD with a very large learning rate can be ineffective in a sense that it would take a lot of time to find the solution (to converge). TRUE\n",
    "* If we choose small enough learning rate, then we are guaranteed to converge to the same solution independent on the initial values. TRUE\n",
    "* When the value of learning rate is too large then we can \"overshoot\" the solution. TRUE"
   ]
  },
  {
   "cell_type": "markdown",
   "metadata": {},
   "source": [
    "### 57\n",
    "Which of the statements are true?\n",
    "* Newton's method uses information about the Hessian. TRUE\n",
    "* GD uses information about the Hessian. FALSE\n",
    "* Newton' method in many cases can converge faster than GD but it can be very expensive for multidimensional data. TRUE"
   ]
  }
 ],
 "metadata": {
  "kernelspec": {
   "display_name": "Python 3",
   "language": "python",
   "name": "python3"
  },
  "language_info": {
   "codemirror_mode": {
    "name": "ipython",
    "version": 3
   },
   "file_extension": ".py",
   "mimetype": "text/x-python",
   "name": "python",
   "nbconvert_exporter": "python",
   "pygments_lexer": "ipython3",
   "version": "3.8.3"
  }
 },
 "nbformat": 4,
 "nbformat_minor": 4
}
