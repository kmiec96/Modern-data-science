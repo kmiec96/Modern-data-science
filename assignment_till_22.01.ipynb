{
 "cells": [
  {
   "cell_type": "code",
   "execution_count": 2,
   "metadata": {},
   "outputs": [],
   "source": [
    "%matplotlib inline\n",
    "#standard imports \n",
    "import math\n",
    "import numpy as np\n",
    "import pandas as pd\n",
    "import matplotlib.pyplot as plt"
   ]
  },
  {
   "cell_type": "markdown",
   "metadata": {},
   "source": [
    "### 49"
   ]
  },
  {
   "cell_type": "markdown",
   "metadata": {},
   "source": [
    "### 50\n",
    "We have k = 10 classes and a binary model. How many comparisons do we need to perform using all-vs-one approach?"
   ]
  },
  {
   "cell_type": "markdown",
   "metadata": {},
   "source": [
    "### 53\n",
    "For which method, there is a guarantee that it will converge to the global minimum. Justify your choice if possible:\n",
    "* GD\n",
    "* SGD\n",
    "* ADAM\n",
    "* Newton’s method\n",
    "* All of them\n",
    "* None of them"
   ]
  },
  {
   "cell_type": "markdown",
   "metadata": {},
   "source": [
    "### 54\n",
    "We use a large dataset with a multidimensional features space. Which method would be probably appropriate to use? Justify your choice if possible\n",
    "* GD\n",
    "* SGD\n",
    "* ADAM\n",
    "* Newton’s method\n",
    "* All of them\n",
    "* None of them"
   ]
  },
  {
   "cell_type": "markdown",
   "metadata": {},
   "source": [
    "### 55\n",
    "Which of the statements are true?\n",
    "* SGD is guaranteed to decrease the cost function in every iteration\n",
    "* SGD uses small subsample (or one sample) to update the parameters\n",
    "* When using SGD we don't need to randomize the data sample\n",
    "* When using GD we don't need to randomize the data sample"
   ]
  },
  {
   "cell_type": "markdown",
   "metadata": {},
   "source": [
    "### 56\n",
    "Which of the statements are true?\n",
    "* GD with a very small learning rate can be ineffective in a sense that it would take a lot of time to find the solution (to converge).\n",
    "* SGD with a very large learning rate can be ineffective in a sense that it would take a lot of time to find the solution (to converge).\n",
    "* If we choose small enough learning rate, then we are guaranteed to converge to the same solution independent on the initial values.\n",
    "* When the value of learning rate is too large then we can \"overshoot\" the solution."
   ]
  },
  {
   "cell_type": "markdown",
   "metadata": {},
   "source": [
    "### 57\n",
    "Which of the statements are true?\n",
    "* Newton's method uses information about the Hessian.\n",
    "* GD uses information about the Hessian.\n",
    "* Newton' method in many cases can converge faster than GD but it can be very expensive for multidimensional data."
   ]
  }
 ],
 "metadata": {
  "kernelspec": {
   "display_name": "Python 3",
   "language": "python",
   "name": "python3"
  },
  "language_info": {
   "codemirror_mode": {
    "name": "ipython",
    "version": 3
   },
   "file_extension": ".py",
   "mimetype": "text/x-python",
   "name": "python",
   "nbconvert_exporter": "python",
   "pygments_lexer": "ipython3",
   "version": "3.8.3"
  }
 },
 "nbformat": 4,
 "nbformat_minor": 4
}
