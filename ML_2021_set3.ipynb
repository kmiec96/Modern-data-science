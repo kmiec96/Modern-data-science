{
 "cells": [
  {
   "cell_type": "markdown",
   "metadata": {},
   "source": [
    "## Solutions to Modern Data Science Problems (probelms till 20.11)\n",
    "by *Mateusz Kmieć* "
   ]
  },
  {
   "cell_type": "markdown",
   "metadata": {},
   "source": [
    "### Problem 1. \n",
    "\n",
    "* Tossing a coin three times: H – head, T – tail\n",
    "\n",
    "* What is the sample space $\\Omega$?\n",
    "\n",
    "What is the event space F for selection of at least two heads?\n"
   ]
  },
  {
   "cell_type": "markdown",
   "metadata": {},
   "source": [
    "(1) $$|\\Omega|=2\\frac{3!}{2!}+2\\frac{3!}{3!}=8.$$\n",
    "\n",
    "(2) $$|F|=\\frac{3!}{2!}+1=4.$$   "
   ]
  },
  {
   "cell_type": "markdown",
   "metadata": {},
   "source": [
    "(3) Sample space - $$\\Omega=\\{\\text{HHH},\\text{HHT},\\text{HTT},\\text{TTT},\\text{THH},\\text{TTH},\\text{THT},\\text{HTH}\\}.$$\n",
    "\n",
    "(4) Event space - $$F=\\{\\text{HHH},\\text{HHT},\\text{THH},\\text{HTH}\\}.$$"
   ]
  },
  {
   "cell_type": "markdown",
   "metadata": {},
   "source": [
    "### Problem 2\n",
    "Show that:\n",
    "\n",
    "(5) $$P(B) = \\sum_{i} P(B|A_{i}) \\cdot P(A_{i})$$\n",
    "\n",
    "for $A_{i}$ being disjoint sets, partitioning the whole sample space $\\left(\\Omega = \\bigcup_{i} A_{i}\\right)$ and\n",
    "$P(A_{i})>0$ for all $I$"
   ]
  },
  {
   "cell_type": "markdown",
   "metadata": {},
   "source": [
    "\n",
    "\n",
    "(6) $$B=\\bigcup_{i} B \\cap A_{i}$$\n",
    "\n",
    "Consequently:\n",
    "\n",
    "(7) $$P(B)=\\sum_{i}P(B \\cap A_{i})=\\sum_{i}\\frac{P(B\\cap A_{i})}{P(A_{i})}P(A_{i})=\\sum_{i}P(B|A_{i})P(A_{i}).$$\n",
    "\n",
    "QED"
   ]
  },
  {
   "cell_type": "markdown",
   "metadata": {},
   "source": [
    "### Problem 7\n",
    "Derive the optimal algorithm $f^{*}(x)$ assuming $L(f(x), y) = |(f(x) -y)|$"
   ]
  },
  {
   "cell_type": "markdown",
   "metadata": {},
   "source": [
    "(8) $$EPE(f) = E_{x,y}[L(f(x),y)] = \\int \\int L(f(x),y) \\rho_{x,y}(x,y)dxdy=\\int \\rho_{x} \\left(\\int L(f(x),y) \\rho_{y|x} dy\\right) dx.$$"
   ]
  },
  {
   "cell_type": "markdown",
   "metadata": {},
   "source": [
    "(9) $$EPE(f) = E_{x,y}[|f(x)-y|] = \\int \\int |f(x)-y| \\rho_{x,y}(x,y)dxdy=\\int \\rho_{x} \\left(\\int |f(x)-y| \\rho_{y|x} dy\\right) dx.$$\n",
    "\n",
    "(10) $$EPE(f) = E_{x,y}[|f(x)-y||x] = E_{x}[E_{y|x}[|f(x)-y||x]].$$"
   ]
  },
  {
   "cell_type": "markdown",
   "metadata": {},
   "source": [
    "EPE will be minimal for:\n",
    "    \n",
    "(11) $$\\frac{d}{d[f(x)]}E_{y|x}\\left[|f(x)-y||x\\right]=E_{y|x}\\left[\\left\\{\\frac{d}{d[f(x)]}|f(x)-y|\\right\\}|x\\right]=0.$$"
   ]
  },
  {
   "cell_type": "markdown",
   "metadata": {},
   "source": [
    "(12) $$E_{y|x}[\\text{sign}(f(x)-y)|x]=E_{y|x}[0|x],$$"
   ]
  },
  {
   "cell_type": "markdown",
   "metadata": {},
   "source": [
    "which is equivalent to:\n",
    "    \n",
    "(13) $$\\int_{f(x)}^{+\\infty}\\rho_{y|x}dy=\\int_{-\\infty}^{f(x)}\\rho_{y|x}dy.$$"
   ]
  },
  {
   "cell_type": "markdown",
   "metadata": {},
   "source": [
    "The above equation impies that:\n",
    "\n",
    "(14) $$2\\int_{-\\infty}^{f(x)}\\rho_{y|x}dy=\\int_{-\\infty}^{\\infty} \\rho_{y|x} dy=1,$$\n",
    "\n",
    "\n",
    "(15) $$2\\int_{f(x)}^{\\infty}\\rho_{y|x}dy=\\int_{-\\infty}^{\\infty} \\rho_{y|x} dy=1.$$"
   ]
  },
  {
   "cell_type": "markdown",
   "metadata": {},
   "source": [
    "Finally we get:\n",
    "    \n",
    "(16) $$\\int_{-\\infty}^{f(x)}\\rho_{y|x}dy=\\frac{1}{2},$$\n",
    "\n",
    "(17) $$\\int_{f(x)}^{\\infty}\\rho_{y|x}dy=\\frac{1}{2},$$\n",
    "\n",
    "which indicates that the most optimal $f(x)$ can be interpreted as median of $\\rho_{y|x}$."
   ]
  },
  {
   "cell_type": "markdown",
   "metadata": {},
   "source": [
    "### Problem 8\n",
    "Derive the optimal algorithm $f^{*}(x)$ assuming $L(f(x), y) = (f(x)-y)^{2}$"
   ]
  },
  {
   "cell_type": "markdown",
   "metadata": {},
   "source": [
    "(18) $$EPE(f) = E_{x,y}[L(f(x),y)] = \\int \\int L(f(x),y) \\rho_{x,y}(x,y)dxdy=\\int \\rho_{x} \\left(\\int L(f(x),y) \\rho_{y|x} dy\\right) dx.$$"
   ]
  },
  {
   "cell_type": "markdown",
   "metadata": {},
   "source": [
    "(19) $$EPE(f) = E_{x,y}[(f(x)-y)^{2}] = \\int \\int (f(x)-y)^{2} \\rho_{x,y}(x,y)dxdy=\\int \\rho_{x} \\left(\\int (f(x)-y)^{2} \\rho_{y|x} dy\\right) dx.$$\n",
    "\n",
    "\n",
    "\n",
    "(20) $$EPE(f) = E_{x,y}[(f(x)-y)^{2}] = E_{x}[E_{y|x}[(f(x)-y)^{2}]].$$"
   ]
  },
  {
   "cell_type": "markdown",
   "metadata": {},
   "source": [
    "Let us treat the problem point-wise $x=x_{0}$, $f(x_{0})=c$."
   ]
  },
  {
   "cell_type": "markdown",
   "metadata": {},
   "source": [
    "For a single point $x=x_{0}$:\n",
    "\n",
    "(21) $$E_{y|x}[(f(x)-y)^{2}|x=x_{0}]=E_{y|x}[(c-y)^{2}|x=x_{0}].$$\n",
    "\n",
    "EPE will be minimal when:\n",
    "\n",
    "(22) $$\\frac{d}{dc}E_{y|x}[(c-y)^{2}|x=x_{0}]=0.$$\n"
   ]
  },
  {
   "cell_type": "markdown",
   "metadata": {},
   "source": [
    "(23) $$E_{y|x}[\\frac{d}{dc}(c-y)^{2}|x=x_{0}]=E_{y|x}[0|x=x_{0}].$$"
   ]
  },
  {
   "cell_type": "markdown",
   "metadata": {},
   "source": [
    "(24) $$E[c|x=x_{0}]=E[y|x=x_{0}]$$"
   ]
  },
  {
   "cell_type": "markdown",
   "metadata": {},
   "source": [
    "\n",
    "(25) $$E[f(x_{0})|x=x_{0}]=E[y|x=x_{0}]$$"
   ]
  },
  {
   "cell_type": "markdown",
   "metadata": {},
   "source": [
    "Consequently, we can see that the most optimal solution is:\n",
    "\n",
    "(26) $$f^{*}(x)=E[y|x].$$"
   ]
  },
  {
   "cell_type": "markdown",
   "metadata": {},
   "source": [
    "### Problem 12\n",
    "Show that:\n",
    "\n",
    "(27) $$\\text{Var}[x] = E[x^{2}] - E^{2}[x].$$"
   ]
  },
  {
   "cell_type": "markdown",
   "metadata": {},
   "source": [
    "First of all let us notice that:\n",
    "\n",
    "(28) $$E[x]=\\mu=\\int x f(x) dx.$$"
   ]
  },
  {
   "cell_type": "markdown",
   "metadata": {},
   "source": [
    "Secondly, let us write the expression for $E[X^{2}]$:\n",
    "    \n",
    "(29) $$E[x^{2}]=\\int x^{2} f(x) dx.$$"
   ]
  },
  {
   "cell_type": "markdown",
   "metadata": {},
   "source": [
    "(30)$$\\text{Var}[x]=E[(x-E[x])^{2}]=E[(x-\\mu)^{2}]=\\int (x-\\mu)^{2} f(x) dx =\n",
    "\\int x^{2} f(x) dx - 2\\mu\\int x f(x) dx+\\mu^{2}\\int f(x)dx=\\left(\\int x^{2}f(x) dx\\right)-\\mu^{2}=E[x^{2}]-E^{2}[x].$$\n",
    "\n",
    "QED."
   ]
  },
  {
   "cell_type": "markdown",
   "metadata": {},
   "source": [
    "Alternatively:\n",
    "    \n",
    "(31) $$\\text{Var}(x)=E[(x-E[x])^{2}]=E[x^{2}]-2xE[x]+E[x]^{2}=E[x^{2}]-2E[x]E[x]+E^{2}[x]=E[x^{2}]-E^{2}[x].$$\n",
    "\n",
    "QED"
   ]
  },
  {
   "cell_type": "markdown",
   "metadata": {},
   "source": [
    "### Problem 22\n",
    "\n",
    " Let X and Y have a joint PDF $f_{x,y} (x,y) = x+y$ for $0 <x<1, 0<y<1$\n",
    " \n",
    "* Find conditional PDF $f_{y|x}(y|x)$\n",
    "\n",
    "* Show that the integral of $f_{y|x}$ $(y|x)$ over all y values is equal to 1"
   ]
  },
  {
   "cell_type": "markdown",
   "metadata": {},
   "source": [
    "We can find the conditional PDF $f_{y|x}(y|x)$ by applying the definition from the lecture:\n",
    "    \n",
    "(32) $$f_{x|y}(x|y)=\\frac{f_{x,y}(x,y)}{f_{x}(x)}$$"
   ]
  },
  {
   "cell_type": "markdown",
   "metadata": {},
   "source": [
    "The joint PDF is:\n",
    "\n",
    "(33) $$f_{x,y}(x,y)=\\begin{cases}\n",
    "&x+y, \\qquad \\text{for} \\qquad 0<x<1, 0<y<1,\\\\\n",
    "&0  , \\qquad \\qquad \\text{other values}\\end{cases}.$$"
   ]
  },
  {
   "cell_type": "markdown",
   "metadata": {},
   "source": [
    "(34) $$f_{x}(x)=\\int_{-\\infty}^\\infty f_{x,y}(x,y) dy = \\int_0^1 (x+y) dy = x+\\frac{1}{2}, \\qquad 0<x<1.$$\n",
    "\n",
    "\n",
    "Consequently, the conditional PDF can be expressed as:\n",
    "\n",
    "(35) $$f_{y|x}(y|x)=\\frac{x+y}{x+\\frac{1}{2}}, \\qquad \\text{for} \\qquad  0<x<1, 0<y<1,$$\n",
    "\n",
    "and $f_{y|x}(y|x)=0$ outside of $ 0<x<1, 0<y<1$ space.\n"
   ]
  },
  {
   "cell_type": "markdown",
   "metadata": {},
   "source": [
    "Now let us integrate $f_{y|x}(y|x)$ over y:\n",
    "    \n",
    "(36) $$\\int_{0}^{1} f_{y|x}(y|x)dy = \\int_{0}^{1} \\frac{x+y}{x+\\frac{1}{2}}dy=\\frac{xy}{x+\\frac{1}{2}}+\\frac{\\frac{y^{2}}{2}}{x+\\frac{1}{2}}\\Biggr|^{1}_{0}=\\frac{x+\\frac{1}{2}}{x+\\frac{1}{2}}=1.$$\n",
    "\n",
    "QED"
   ]
  },
  {
   "cell_type": "markdown",
   "metadata": {},
   "source": [
    "### Problem 23\n",
    "\n",
    "Show that:\n",
    "\n",
    "1. Cov[X,Y] = E[XY] – E[X]E[Y]\n",
    "\n",
    "2. Var[X+Y] = Var[X] + Var[Y] + 2 Cov[X,Y]"
   ]
  },
  {
   "cell_type": "markdown",
   "metadata": {},
   "source": [
    "1. point\n",
    "\n",
    "$$\\text{Cov}[x,y]=E[(x-E[x])(y-E[y])]=$$"
   ]
  },
  {
   "cell_type": "markdown",
   "metadata": {},
   "source": [
    "$$=E[(xy-xE[y]-E[x]y+E[x]E[y])]=$$"
   ]
  },
  {
   "cell_type": "markdown",
   "metadata": {},
   "source": [
    "$$=E[xy]-2E[x]E[y]+E[x]E[y]=E[xy]-E[x]E[y].$$ QED"
   ]
  },
  {
   "cell_type": "markdown",
   "metadata": {},
   "source": [
    "2. point\n",
    "\n",
    "$$\\text{Var[x+y]}=$$"
   ]
  },
  {
   "cell_type": "markdown",
   "metadata": {},
   "source": [
    "$$=E[(x+y-(E[x]+E[y])^{2})]=$$"
   ]
  },
  {
   "cell_type": "markdown",
   "metadata": {},
   "source": [
    "$$=E[(x+y)^{2}]+E[(E[x]+E[y])^{2}]-2E[(x+y)(E[x]+E[y])].$$"
   ]
  },
  {
   "cell_type": "markdown",
   "metadata": {},
   "source": [
    "Now we expand the parenthesis of arguments from the statement above:\n",
    "\n",
    "$$\\text{Var[x+y]}=$$\n",
    "$$=E[x^{2}+y^{2}+2xy]+E[E^{2}[x]+E^{2}[y]+2E[x]E[y]]-2E[xE[x]+yE[y]-xE[y]-yE[x]].$$"
   ]
  },
  {
   "cell_type": "markdown",
   "metadata": {},
   "source": [
    "Having expanded the arguments we can proceede with using linearity, we get:\n",
    "\n",
    "$$\\text{Var[x+y]}=$$\n",
    "$$=E[x^{2}]+E[y^{2}]+2E[xy]+E^{2}[x]+E^{2}[y]+2E[x]E[y]-2E^{2}[x]-2E^{2}[y]-4E[x]E[y].$$"
   ]
  },
  {
   "cell_type": "markdown",
   "metadata": {},
   "source": [
    "Now let us rearrange the terms so that we obtain the formula we were asked to prove:\n",
    "\n",
    "$$\\text{Var[x+y]}=(E[x^{2}]-E^{2}[x])+(E[y^{2}]-E^{2}[y])+2(E[xy]-E[x]E[y])=$$\n",
    "$$=\\text{Var}[x]+\\text{Var}[y]+2\\text{Cov}[x,y].$$"
   ]
  },
  {
   "cell_type": "markdown",
   "metadata": {},
   "source": [
    "### Problem 21\n",
    "\n",
    "Rolling a die Ω = { 1 , 2 , 3 , 4 , 5, 6 }\n",
    "X is 1 if even number 0 otherwise.\n",
    "Y is 1 if prime number 0 otherwise.\n",
    "\n",
    "* Calculate joint PMF\n",
    "\n",
    "* Calculate marginal PMF of $x$ and of $y$\n",
    "\n",
    "* Calculate conditional PMF $p_{y|x} (r|x=1)$\n",
    "\n",
    "* Check if $h(k) = p_{y|x} (r|k)$ is a proper probability mass function with respect to $k$."
   ]
  },
  {
   "cell_type": "markdown",
   "metadata": {},
   "source": [
    "First of all let us notice that:\n",
    "\n",
    "$$p(x|y)=\\frac{p(x,y)}{p(x)}.$$"
   ]
  },
  {
   "cell_type": "markdown",
   "metadata": {},
   "source": [
    "We have two prime numbers $\\{2,5\\}$ and three even numbers $\\{2,4,6\\}$ in this set.\n",
    "Consequently we have:\n",
    "\n",
    "$$p(x=1)=\\frac{1}{2},$$\n",
    "\n",
    "$$p(x=0)=\\frac{1}{2}.$$"
   ]
  },
  {
   "cell_type": "markdown",
   "metadata": {},
   "source": [
    "Now let us find the joint PMF of x and y:"
   ]
  },
  {
   "cell_type": "markdown",
   "metadata": {},
   "source": [
    "$$p(x=1,y=1)=\\frac{1}{6},$$"
   ]
  },
  {
   "cell_type": "markdown",
   "metadata": {},
   "source": [
    "$$p(x=0,y=1)=\\frac{1}{6},$$"
   ]
  },
  {
   "cell_type": "markdown",
   "metadata": {},
   "source": [
    "$$p(x=0,y=0)=\\frac{2}{6},$$"
   ]
  },
  {
   "cell_type": "markdown",
   "metadata": {},
   "source": [
    "$$p(x=1,y=0)=\\frac{2}{6}.$$"
   ]
  },
  {
   "cell_type": "markdown",
   "metadata": {},
   "source": [
    "Next, we can calculate mariginal PMF of x:\n",
    "\n",
    "$$p_{x}(k)=\\sum_{r} p(x=k,y=r)= p(x=k, y=0) + p(x=k|y=1),$$\n",
    "\n",
    "which yields:\n",
    "\n",
    "$$p_{x}(0)=\\frac{1}{2},$$\n",
    "\n",
    "$$p_{x}(1)=\\frac{1}{2}.$$"
   ]
  },
  {
   "cell_type": "markdown",
   "metadata": {},
   "source": [
    "Similarly, we can calculate mariginal PMF of y:\n",
    "\n",
    "$$p_{y}(k)=\\sum_{r} p(x=r, y=k)= p(x=0, y=k) + p(x=1,y=k).$$"
   ]
  },
  {
   "cell_type": "markdown",
   "metadata": {},
   "source": [
    "which yields:\n",
    "\n",
    "$$p_{y}(0)=\\frac{1}{2},$$\n",
    "\n",
    "$$p_{y}(1)=\\frac{1}{2}.$$"
   ]
  },
  {
   "cell_type": "markdown",
   "metadata": {},
   "source": [
    "Now lets calculate conditional PMF:\n",
    "    \n",
    "$$p(y=1|x=1)=\\frac{p(x=1,y=1)}{p(x=1)}=\\frac{\\frac{1}{6}}{\\frac{1}{2}}=\\frac{1}{3},$$"
   ]
  },
  {
   "cell_type": "markdown",
   "metadata": {},
   "source": [
    "\n",
    "$$p(y=0|x=0)=\\frac{p(x=0,y=0)}{p(x=0)}=\\frac{\\frac{2}{6}}{\\frac{1}{2}}=\\frac{2}{3},$$"
   ]
  },
  {
   "cell_type": "markdown",
   "metadata": {},
   "source": [
    "$$p(y=0|x=1)=\\frac{p(x=1,y=0)}{p(x=0)}=\\frac{\\frac{2}{6}}{\\frac{1}{2}}=\\frac{2}{3},$$"
   ]
  },
  {
   "cell_type": "markdown",
   "metadata": {},
   "source": [
    "\n",
    "$$p(y=1|x=0)=\\frac{p(x=0,y=1)}{p(x=1)}=\\frac{\\frac{1}{6}}{\\frac{1}{2}}=\\frac{1}{3}.$$"
   ]
  },
  {
   "cell_type": "markdown",
   "metadata": {},
   "source": [
    "$h(k)=\\sum_r p(y=r,x=k)$ is a proper probability function if\n",
    "\n",
    "\n",
    "$$\\sum_{k}\\sum_r p(y=r,x=k)=1$$.\n",
    "\n",
    "If we look at the () we will see that this is indeed true:\n",
    "\n",
    "\n",
    "$$\\sum_{k}\\sum_r p(y=r,x=k)=p(x=1,y=1)+p(x=0,y=0)+p(x=1,y=0)+p(x=0,y=1)=\\frac{1}{6}+\\frac{1}{6}+\\frac{2}{6}+\\frac{2}{6}=1.$$"
   ]
  },
  {
   "cell_type": "markdown",
   "metadata": {},
   "source": [
    "### Problem 25\n",
    "\n",
    "Rolling a die Ω = { 1 , 2 , 3 , 4 , 5, 6 }\n",
    "\n",
    "X is 1 if even number 0 otherwise.\n",
    "\n",
    "Y is 1 if prime number 0 otherwise.\n",
    "\n",
    "* Calculate E[Y|1], E[Y|0]\n",
    "\n",
    "* Var[Y|1], Var[Y|0]"
   ]
  },
  {
   "cell_type": "markdown",
   "metadata": {},
   "source": [
    "In order to solve this problem we can use the definition of expectation value from the lecture and the values of probability mass function values obtained in the previous task.\n",
    "\n",
    "\n",
    "$$E[y|1]=\\sum_r r\\cdot p(y=r|x=1)= 0 \\cdot p(y=0|x=1) + p(y=1|x=1)=1/3$$"
   ]
  },
  {
   "cell_type": "markdown",
   "metadata": {},
   "source": [
    "$$E[y|0]=\\sum_r r\\cdot  p(y=r|x=0)=0 \\cdot p(y=0|x=0) + p(y=1|x=0)=1/3$$"
   ]
  },
  {
   "cell_type": "markdown",
   "metadata": {},
   "source": [
    "Let us notice that:\n",
    "    \n",
    "$$\\text{Var}[y|k]=E[y^{2}|k]-\\left(E[y|k]\\right)^{2}.$$"
   ]
  },
  {
   "cell_type": "markdown",
   "metadata": {},
   "source": [
    "We are looking for $\\text{Var}[y|0]$, $\\text{Var}[y|1]$:\n",
    "    \n",
    "$$\\text{Var}[y|1]=E[y^{2}|1]-\\left(E[y|1]\\right)^{2}$$"
   ]
  },
  {
   "cell_type": "markdown",
   "metadata": {},
   "source": [
    "$$\\text{Var}[y|0]=E[y^{2}|0]-\\left(E[y|0]\\right)^{2}$$"
   ]
  },
  {
   "cell_type": "markdown",
   "metadata": {},
   "source": [
    "So the only thing left to do is to find $E[y^{2}|1]$ and $E[y^{2}|0]$:\n",
    "\n",
    "$$E[y^{2}|1]=\\sum_r r^{2}\\cdot p(y=r|x=1)= 0 \\cdot p(y=0|x=1) + p(y=1|x=1)=1/3$$"
   ]
  },
  {
   "cell_type": "markdown",
   "metadata": {},
   "source": [
    "$$E[y^{2}|0]=\\sum_r r^{2}\\cdot  p(y=r|x=0)=0 \\cdot p(y=0|x=0) + p(y=1|x=0)=1/3$$"
   ]
  },
  {
   "cell_type": "markdown",
   "metadata": {},
   "source": [
    "After all of these steps we can finally write the solution:\n",
    "\n",
    "$$\\text{Var}[y|1]=\\text{Var}[y|0]=\\frac{2}{9}$$"
   ]
  }
 ],
 "metadata": {
  "kernelspec": {
   "display_name": "Python 3",
   "language": "python",
   "name": "python3"
  },
  "language_info": {
   "codemirror_mode": {
    "name": "ipython",
    "version": 3
   },
   "file_extension": ".py",
   "mimetype": "text/x-python",
   "name": "python",
   "nbconvert_exporter": "python",
   "pygments_lexer": "ipython3",
   "version": "3.8.5"
  }
 },
 "nbformat": 4,
 "nbformat_minor": 4
}
