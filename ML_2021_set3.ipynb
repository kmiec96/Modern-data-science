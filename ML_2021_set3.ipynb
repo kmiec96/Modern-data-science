{
 "cells": [
  {
   "cell_type": "markdown",
   "metadata": {},
   "source": [
    "# Solutions to Modern Data Science Problems (probelms till 27.11)\n",
    "by *Mateusz Kmieć* "
   ]
  },
  {
   "cell_type": "markdown",
   "metadata": {},
   "source": [
    "### Problem 1. \n",
    "\n",
    "* Tossing a coin three times: H – head, T – tail\n",
    "\n",
    "* What is the sample space $\\Omega$?\n",
    "\n",
    "What is the event space F for selection of at least two heads?\n"
   ]
  },
  {
   "cell_type": "code",
   "execution_count": null,
   "metadata": {},
   "outputs": [],
   "source": []
  },
  {
   "cell_type": "markdown",
   "metadata": {},
   "source": [
    "### Problem 2\n",
    "Show that:\n",
    "\n",
    "$$P(B) = \\sum_{i} P(B|A_{i}) \\cdot P(A_{i})$$\n",
    "\n",
    "for $A_{i}$ being disjoint sets, partitioning the whole sample space ($\\Omega = U A_{i}$ ) and\n",
    "$P(A_{i})>0$ for all $I$"
   ]
  },
  {
   "cell_type": "code",
   "execution_count": null,
   "metadata": {},
   "outputs": [],
   "source": []
  },
  {
   "cell_type": "markdown",
   "metadata": {},
   "source": [
    "### Problem 7\n",
    "Derive the optimal algorithm $f^{*}(X)$ assuming $L(f(X), Y) = |(f(X) -Y)|$"
   ]
  },
  {
   "cell_type": "code",
   "execution_count": null,
   "metadata": {},
   "outputs": [],
   "source": []
  },
  {
   "cell_type": "markdown",
   "metadata": {},
   "source": [
    "### Problem 8\n",
    "Derive the optimal algorithm $f^{*}(X)$ assuming $L(f(X), Y) = (f(X) -Y)^{2}$"
   ]
  },
  {
   "cell_type": "code",
   "execution_count": null,
   "metadata": {},
   "outputs": [],
   "source": []
  },
  {
   "cell_type": "markdown",
   "metadata": {},
   "source": [
    "### Problem 12\n",
    "Show that:\n",
    "$$\\text{Var}[X] = E[X^{2}] – E^{2}[X].$$"
   ]
  },
  {
   "cell_type": "code",
   "execution_count": null,
   "metadata": {},
   "outputs": [],
   "source": []
  },
  {
   "cell_type": "markdown",
   "metadata": {},
   "source": [
    "### Problem 21\n",
    "\n",
    "Rolling a die Ω = { 1 , 2 , 3 , 4 , 5, 6 }\n",
    "X is 1 if even number 0 otherwise.\n",
    "Y is 1 if prime number 0 otherwise.\n",
    "\n",
    "* Calculate joint PMF\n",
    "\n",
    "* Calculate marginal PMF of X and of Y\n",
    "\n",
    "* Calculate conditional PMF pY|X (r|X=1)\n",
    "\n",
    "* Check if h(k) = pY|X (r|k) is a proper probability function with respect to k"
   ]
  },
  {
   "cell_type": "code",
   "execution_count": null,
   "metadata": {},
   "outputs": [],
   "source": []
  },
  {
   "cell_type": "markdown",
   "metadata": {},
   "source": [
    "### Problem 22\n",
    "\n",
    " Let X and Y have a joint PDF fXY (x,y) = x+y for 0 <x<1, 0<y<1\n",
    " \n",
    "* Find conditional PDF fY|X (y|x)\n",
    "\n",
    "* Show that the integral of fY|X (y|x) over all y values is equal to 1"
   ]
  },
  {
   "cell_type": "code",
   "execution_count": null,
   "metadata": {},
   "outputs": [],
   "source": []
  },
  {
   "cell_type": "markdown",
   "metadata": {},
   "source": [
    "### Problem 23\n",
    "\n",
    "Show that:\n",
    "\n",
    "* Cov[X,Y] = E[XY] – E[X]E[Y]\n",
    "\n",
    "* Var[X+Y] = Var[X] + Var[Y] + 2 Cov[X,Y]"
   ]
  },
  {
   "cell_type": "code",
   "execution_count": null,
   "metadata": {},
   "outputs": [],
   "source": []
  },
  {
   "cell_type": "markdown",
   "metadata": {},
   "source": [
    "### Problem 25\n",
    "\n",
    "Rolling a die Ω = { 1 , 2 , 3 , 4 , 5, 6 }\n",
    "\n",
    "X is 1 if even number 0 otherwise.\n",
    "\n",
    "Y is 1 if prime number 0 otherwise.\n",
    "\n",
    "* Calculate E[Y|1], E[Y|0]\n",
    "\n",
    "* Var[Y|1], Var[Y|0]"
   ]
  },
  {
   "cell_type": "code",
   "execution_count": null,
   "metadata": {},
   "outputs": [],
   "source": []
  }
 ],
 "metadata": {
  "kernelspec": {
   "display_name": "Python 3",
   "language": "python",
   "name": "python3"
  },
  "language_info": {
   "codemirror_mode": {
    "name": "ipython",
    "version": 3
   },
   "file_extension": ".py",
   "mimetype": "text/x-python",
   "name": "python",
   "nbconvert_exporter": "python",
   "pygments_lexer": "ipython3",
   "version": "3.8.5"
  }
 },
 "nbformat": 4,
 "nbformat_minor": 4
}
