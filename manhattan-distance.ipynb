{
 "cells": [
  {
   "cell_type": "code",
   "execution_count": 1,
   "metadata": {},
   "outputs": [],
   "source": [
    "from IPython.display import display, Markdown, Latex\n",
    "from decimal import Decimal\n",
    "import matplotlib.pyplot as plt\n",
    "from scipy import stats\n",
    "import numpy as np\n",
    "import pandas as pd\n",
    "import math as mt"
   ]
  },
  {
   "cell_type": "code",
   "execution_count": 16,
   "metadata": {},
   "outputs": [
    {
     "name": "stdout",
     "output_type": "stream",
     "text": [
      "Manhattan distance:  1\n"
     ]
    }
   ],
   "source": [
    "X=[0,0,0]\n",
    "Y=[1,0,0]\n",
    "sum=[]\n",
    "\n",
    "def Manhattan_distance(X,Y):\n",
    "    xx=np.array(X)\n",
    "    yy=np.array(Y)\n",
    "    for i in range(len(X)):\n",
    "        sum.append(abs(xx[i]-yy[i]))\n",
    "        #print(sum[i])\n",
    "    return np.sum(sum)\n",
    "print(\"Manhattan distance: \",Manhattan_distance(X,Y))"
   ]
  },
  {
   "cell_type": "code",
   "execution_count": null,
   "metadata": {},
   "outputs": [],
   "source": []
  }
 ],
 "metadata": {
  "kernelspec": {
   "display_name": "Python 3",
   "language": "python",
   "name": "python3"
  },
  "language_info": {
   "codemirror_mode": {
    "name": "ipython",
    "version": 3
   },
   "file_extension": ".py",
   "mimetype": "text/x-python",
   "name": "python",
   "nbconvert_exporter": "python",
   "pygments_lexer": "ipython3",
   "version": "3.8.3"
  }
 },
 "nbformat": 4,
 "nbformat_minor": 4
}
