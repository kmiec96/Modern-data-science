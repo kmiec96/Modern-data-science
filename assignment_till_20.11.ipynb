{
 "cells": [
  {
   "cell_type": "code",
   "execution_count": 6,
   "metadata": {},
   "outputs": [],
   "source": [
    "from IPython.display import display, Markdown, Latex\n",
    "from decimal import Decimal\n",
    "import matplotlib.pyplot as plt\n",
    "from scipy import stats\n",
    "import numpy as np\n",
    "import pandas as pd\n",
    "import math as mt"
   ]
  },
  {
   "cell_type": "markdown",
   "metadata": {},
   "source": [
    "# Solutions to Modern Data Science Problems (problems till 20.11)\n",
    "by *Nora Salone* "
   ]
  },
  {
   "cell_type": "markdown",
   "metadata": {},
   "source": [
    "### Problem 1. \n",
    "\n",
    "* Tossing a coin three times: H – head, T – tail\n",
    "\n",
    "* What is the sample space $\\Omega$?\n",
    "\n",
    "What is the event space F for selection of at least two heads?\n"
   ]
  },
  {
   "cell_type": "markdown",
   "metadata": {},
   "source": [
    "The sample space is $\\Omega$={HHH,HHT,HTH,THH,TTH,THT,HTT,TTT}. The event space for at least two heads is F={HHH,HHT,HTH,THH}."
   ]
  },
  {
   "cell_type": "markdown",
   "metadata": {},
   "source": [
    "### Problem 2\n",
    "Show that:\n",
    "\n",
    "$$P(B) = \\sum_{i} P(B|A_{i}) \\cdot P(A_{i})$$\n",
    "\n",
    "for $A_{i}$ being disjoint sets, partitioning the whole sample space ($\\Omega = U A_{i}$ ) and\n",
    "$P(A_{i})>0$ for all $i$."
   ]
  },
  {
   "cell_type": "markdown",
   "metadata": {},
   "source": [
    "If $A_i\\cap A_j =\\emptyset$ for $i\\neq j$ and $\\cup A_i = \\Omega$ $\\Longrightarrow$ $\\sum P(A_i)=1$. \n",
    "\n",
    "The probability that $B$ happens after $A_i$ occurred is\n",
    "$$P(B|A_i)=\\frac{P(B\\cap A_i)}{P(A_i)}$$\n",
    "\n",
    "Then\n",
    "$$\\sum_i P(B|A_i)\\cdot P(A_i)=\\sum_i\\frac{P(B\\cap A_i)}{P(A_i)}\\cdot P(A_i)=\n",
    "\\sum_i P(B\\cap A_i)= P(B)$$\n",
    "\n",
    "since the law of total probability states that\n",
    "$$\\sum_i P(B\\cap A_i)= P(B)$$"
   ]
  },
  {
   "cell_type": "markdown",
   "metadata": {},
   "source": [
    "### Problem 7\n",
    "Derive the optimal algorithm $f^{*}(X)$ assuming $L(f(X), Y) = |(f(X) -Y)|$"
   ]
  },
  {
   "cell_type": "markdown",
   "metadata": {},
   "source": [
    "fffffggfgfhjhjh"
   ]
  },
  {
   "cell_type": "markdown",
   "metadata": {},
   "source": [
    "### Problem 8\n",
    "Derive the optimal algorithm $f^{*}(X)$ assuming $L(f(X), Y) = (f(X) -Y)^{2}$"
   ]
  },
  {
   "cell_type": "markdown",
   "metadata": {},
   "source": [
    "dfffdg"
   ]
  },
  {
   "cell_type": "markdown",
   "metadata": {},
   "source": [
    "### Problem 12\n",
    "Show that:\n",
    "$$\\text{Var}[X] = E[X^{2}] – E^{2}[X].$$"
   ]
  },
  {
   "cell_type": "markdown",
   "metadata": {},
   "source": [
    "$Var[X]$$=E[(X-E(X))^2]\\\\\n",
    "       =E[X^2-2XE[X]+E[X]^2]\\\\\n",
    "       =E[X^2]-2E[X]E[X]+E[X]^2\\\\\n",
    "       =E[X^2]-E[X]^2$"
   ]
  },
  {
   "cell_type": "markdown",
   "metadata": {},
   "source": [
    "### Problem 21\n",
    "\n",
    "Rolling a die Ω = { 1 , 2 , 3 , 4 , 5, 6 }\n",
    "X is 1 if even number 0 otherwise.\n",
    "Y is 1 if prime number 0 otherwise.\n",
    "\n",
    "* Calculate joint PMF\n",
    "\n",
    "* Calculate marginal PMF of X and of Y\n",
    "\n",
    "* Calculate conditional PMF pY|X (r|X=1)\n",
    "\n",
    "* Check if h(k) = pY|X (r|k) is a proper probability function with respect to k"
   ]
  },
  {
   "cell_type": "code",
   "execution_count": 31,
   "metadata": {
    "scrolled": false
   },
   "outputs": [
    {
     "name": "stdout",
     "output_type": "stream",
     "text": [
      "[[1, 0, 0], [2, 1, 1], [3, 0, 1], [4, 1, 0], [5, 0, 1], [6, 1, 0]]\n",
      "pmfE= [1 1 1]\n",
      "pmfP= [1 1 1]\n"
     ]
    },
    {
     "data": {
      "text/plain": [
       "[array([0.16666667, 0.16666667, 0.16666667]),\n",
       " array([0.16666667, 0.16666667, 0.16666667])]"
      ]
     },
     "execution_count": 31,
     "metadata": {},
     "output_type": "execute_result"
    }
   ],
   "source": [
    "import random\n",
    "\n",
    "#implement function that if H roll die twice, if T roll once\n",
    "\n",
    "def roll_die(n):\n",
    "    min = 1\n",
    "    max = 6\n",
    "    for i in range(n):\n",
    "        roll=random.randint(min, max)\n",
    "    return roll\n",
    "\n",
    "def assign_prob(flips): #this returns data list after some flips\n",
    "    data=[]\n",
    "    for i in range(flips):\n",
    "        die=roll_die(1)\n",
    "        if (die % 2)==0: #which is even\n",
    "            xval=1 \n",
    "        else:\n",
    "            xval=0        \n",
    "        if die > 2:\n",
    "            for i in range(2, die):\n",
    "                if (die % i) == 0: #i.e. not a prime number\n",
    "                    yval=0\n",
    "                    nbreak=1\n",
    "                    break\n",
    "                else:\n",
    "                    yval=1 #even if die has modulus !=0 for some i's, set yval=1; if there is even one i with modulus ==0, overwrite yval=1\n",
    "        else:\n",
    "            if die==1:\n",
    "                yval=0 #die=1 is not prime\n",
    "            elif die==2:\n",
    "                yval=1 #die 2 is prime\n",
    "        data.append([die,xval,yval])#1 for even, 0 for odd\n",
    "    print(\"[Number of die, x value, y value]\")\n",
    "    return data\n",
    "\n",
    "flips=10\n",
    "#data=assign_prob(flips)\n",
    "data=[[1,0,0],[2,1,1],[3,0,1],[4,1,0],[5,0,1],[6,1,0]]\n",
    "print(data)\n",
    "\n",
    "def joint_PMF(data):\n",
    "    pmfE=np.array([0]*3) #even number\n",
    "    pmfP=np.array([0]*3) #prime number\n",
    "    for i in range(len(data)):\n",
    "        #print(\"i=\",i,\"data[i][0]=\",data[i][0],\"data[i][1]=\",data[i][1],\"data[i][2]=\",data[i][2])\n",
    "        if data[i][1]==1:  #outcome: even \n",
    "            if data[i][0]==2:\n",
    "                pmfE[0] += 1\n",
    "            elif data[i][0]==4:\n",
    "                pmfE[1] += 1\n",
    "            elif data[i][0]==6:\n",
    "                pmfE[2] += 1\n",
    "        if data[i][2]==1:  #outcome: prime\n",
    "            if data[i][0]==2:\n",
    "                pmfP[0] += 1\n",
    "            elif data[i][0]==3:\n",
    "                pmfP[1] += 1\n",
    "            elif data[i][0]==5:\n",
    "                pmfP[2] += 1\n",
    "    print(\"pmfE=\",pmfE)\n",
    "    print(\"pmfP=\",pmfP)\n",
    "    pmfE=pmfE/6 #6 possible die outcomes in both cases\n",
    "    pmfP=pmfP/6 \n",
    "    return [pmfE,pmfP]\n",
    "\n",
    "joint_PMF(data)\n"
   ]
  },
  {
   "cell_type": "code",
   "execution_count": 25,
   "metadata": {},
   "outputs": [
    {
     "data": {
      "text/html": [
       "<div>\n",
       "<style scoped>\n",
       "    .dataframe tbody tr th:only-of-type {\n",
       "        vertical-align: middle;\n",
       "    }\n",
       "\n",
       "    .dataframe tbody tr th {\n",
       "        vertical-align: top;\n",
       "    }\n",
       "\n",
       "    .dataframe thead th {\n",
       "        text-align: right;\n",
       "    }\n",
       "</style>\n",
       "<table border=\"1\" class=\"dataframe\">\n",
       "  <thead>\n",
       "    <tr style=\"text-align: right;\">\n",
       "      <th></th>\n",
       "      <th>die =</th>\n",
       "      <th>1</th>\n",
       "      <th>2</th>\n",
       "      <th>3</th>\n",
       "      <th>4</th>\n",
       "      <th>5</th>\n",
       "      <th>6</th>\n",
       "    </tr>\n",
       "  </thead>\n",
       "  <tbody>\n",
       "    <tr>\n",
       "      <th>X</th>\n",
       "      <td></td>\n",
       "      <td>0</td>\n",
       "      <td>1</td>\n",
       "      <td>0</td>\n",
       "      <td>1</td>\n",
       "      <td>0</td>\n",
       "      <td>1</td>\n",
       "    </tr>\n",
       "    <tr>\n",
       "      <th>Y</th>\n",
       "      <td></td>\n",
       "      <td>0</td>\n",
       "      <td>1</td>\n",
       "      <td>1</td>\n",
       "      <td>0</td>\n",
       "      <td>1</td>\n",
       "      <td>0</td>\n",
       "    </tr>\n",
       "  </tbody>\n",
       "</table>\n",
       "</div>"
      ],
      "text/plain": [
       "  die =  1  2  3  4  5  6\n",
       "X        0  1  0  1  0  1\n",
       "Y        0  1  1  0  1  0"
      ]
     },
     "metadata": {},
     "output_type": "display_data"
    }
   ],
   "source": [
    "Dane=np.array([[\"\",'0','1','0','1','0','1'],[\"\",'0','1','1','0','1','0']])\n",
    " \n",
    "Dane_display= pd.DataFrame(Dane,columns=['die =','1','2','3','4','5','6'],index=['X','Y'])\n",
    "display(Dane_display)"
   ]
  },
  {
   "cell_type": "markdown",
   "metadata": {},
   "source": [
    "The joint probability mass function PMF of $X$ and $Y$ defines probabilities for each pair of outcomes. All possible outcomes are\n",
    "\n",
    "$$p_{XY}(0,0)=1/6\\\\\n",
    "p_{XY}(0,1)=2/6=1/3\\\\\n",
    "p_{XY}(1,0)=2/6=1/3\\\\\n",
    "p_{XY}(1,1)=1/6$$\n"
   ]
  },
  {
   "cell_type": "markdown",
   "metadata": {},
   "source": [
    "The marginal probability distribution of the random variable $X$ is the sum of the joint PMF values over the values of r:\n",
    "\n",
    "$$p_X(k)=\\sum_r p_{XY}(k,r)$$\n",
    "\n",
    "whereas for $Y$ one sums over $k$\n",
    "\n",
    "$$p_Y(k)=\\sum_k p_{XY}(k,r)$$\n",
    "\n",
    "In this case:\n",
    "$$p_X(0)=\\sum_r p_{XY}(0,r)= p_{XY}(0,0) + p_{XY}(0,1) = \\frac{1}{6}+\\frac{2}{6}=\\frac{1}{2}\\\\\n",
    "p_X(1)=\\sum_r p_{XY}(1,r)= p_{XY}(1,0) + p_{XY}(1,1) = \\frac{2}{6}+\\frac{1}{6}=\\frac{1}{2}$$\n",
    "\n",
    "which is compatible with \n",
    "\n",
    "$$\\sum_k p_X(k)=1$$\n",
    "\n",
    "The same goes for $p_Y(r)$:\n",
    "\n",
    "$$p_Y(0)=\\sum_k p_{XY}(k,0)= p_{XY}(0,0) + p_{XY}(1,0) = \\frac{1}{6}+\\frac{2}{6}=\\frac{1}{2}\\\\\n",
    "p_Y(1)=\\sum_k p_{XY}(k,1)= p_{XY}(0,1) + p_{XY}(1,1) = \\frac{2}{6}+\\frac{1}{6}=\\frac{1}{2}$$\n",
    "\n",
    "which is compatible with \n",
    "\n",
    "$$\\sum_r p_Y(r)=1$$."
   ]
  },
  {
   "cell_type": "markdown",
   "metadata": {},
   "source": [
    "The conditional PMF is \n",
    "$$p_{Y|X}[r|1]=\\frac{p_{XY}(1,r)}{p_X(1)}$$\n",
    "which in this case means"
   ]
  },
  {
   "cell_type": "code",
   "execution_count": 2,
   "metadata": {
    "scrolled": true
   },
   "outputs": [
    {
     "data": {
      "text/html": [
       "<div>\n",
       "<style scoped>\n",
       "    .dataframe tbody tr th:only-of-type {\n",
       "        vertical-align: middle;\n",
       "    }\n",
       "\n",
       "    .dataframe tbody tr th {\n",
       "        vertical-align: top;\n",
       "    }\n",
       "\n",
       "    .dataframe thead th {\n",
       "        text-align: right;\n",
       "    }\n",
       "</style>\n",
       "<table border=\"1\" class=\"dataframe\">\n",
       "  <thead>\n",
       "    <tr style=\"text-align: right;\">\n",
       "      <th></th>\n",
       "      <th>die =</th>\n",
       "      <th>2</th>\n",
       "      <th>4</th>\n",
       "      <th>6</th>\n",
       "    </tr>\n",
       "  </thead>\n",
       "  <tbody>\n",
       "    <tr>\n",
       "      <th>Y=r</th>\n",
       "      <td></td>\n",
       "      <td>1</td>\n",
       "      <td>0</td>\n",
       "      <td>0</td>\n",
       "    </tr>\n",
       "    <tr>\n",
       "      <th>$$p_{Y|X}[r|1]$$</th>\n",
       "      <td></td>\n",
       "      <td>1/3</td>\n",
       "      <td>2/3</td>\n",
       "      <td>2/3</td>\n",
       "    </tr>\n",
       "  </tbody>\n",
       "</table>\n",
       "</div>"
      ],
      "text/plain": [
       "                 die =    2    4    6\n",
       "Y=r                       1    0    0\n",
       "$$p_{Y|X}[r|1]$$        1/3  2/3  2/3"
      ]
     },
     "metadata": {},
     "output_type": "display_data"
    }
   ],
   "source": [
    "Dane=np.array([[\"\",'1','0','0'],[\"\",'1/3','2/3','2/3']])\n",
    " \n",
    "Dane_display= pd.DataFrame(Dane,columns=['die =','2','4','6'],index=['Y=r','$$p_{Y|X}[r|1]$$'])\n",
    "display(Dane_display)"
   ]
  },
  {
   "cell_type": "markdown",
   "metadata": {},
   "source": [
    "$h(x)=p_{Y|X}[r|k]$ is a proper probability function if\n",
    "$$\\sum_k p_{Y|X}(r|k)=1$$ for all $k$. We have\n",
    "\n",
    "$$\\sum_k p_{Y|X}[r|k]=p_{Y|X}[r|0]+p_{Y|X}[r|1]=\\frac{p_{XY}(0,r)}{p_X(0)}+\\frac{p_{XY}(1,r)}{p_X(1)}$$\n"
   ]
  },
  {
   "cell_type": "markdown",
   "metadata": {},
   "source": [
    "### Problem 22\n",
    "\n",
    " Let X and Y have a joint PDF fXY (x,y) = x+y for 0 <x<1, 0<y<1\n",
    " \n",
    "* Find conditional PDF fY|X (y|x)\n",
    "\n",
    "* Show that the integral of fY|X (y|x) over all y values is equal to 1"
   ]
  },
  {
   "cell_type": "markdown",
   "metadata": {},
   "source": [
    "The conditional PDF is\n",
    "$$f_{Y|X}(y|x)=\\frac{f_{XY}(x,y)}{f_X(x)}$$\n",
    "with joint PDF $f_{XY}(x,y)$."
   ]
  },
  {
   "cell_type": "markdown",
   "metadata": {},
   "source": [
    "The given joint PDF is $$f_{XY}(x,y)=x+y, \\qquad 0<x<1, 0<y<1\\\\\n",
    "0 \\qquad \\text{otherwise}$$.\n",
    "The marginal distribution $f_X(x)$ is found by\n",
    "$$f_X(x)=\\int_{-\\infty}^\\infty f_{XY}(x,y) dy = \\int_0^1 (x+y) dy = \\frac{y^2}{2}+yx\\bigg|_0^1 = \\frac{1}{2}+x, \\qquad 0<x<1$$\n",
    "since outside that interval $f_{XY}(x,y)$ takes 0 value. This makes the conditional PDF\n",
    "$$f_{Y|X}(y|x)=2\\frac{x+y}{1+2x}, \\qquad 0<x<1, 0<y<1$$\n",
    "\n",
    "Integrating over all $y$ values:\n",
    "\n",
    "$$\\int_0^1 f_{Y|X}(y|x)dy=2\\int_0^1\\frac{x+y}{1+2x}dy=\\frac{2}{1+2x}\\bigg(\\frac{y^2}{2}+yx\\bigg)_0^1=\\frac{1}{\\frac{1}{2}+x}\\bigg(\\frac{1}{2}+x\\bigg)=1\n",
    "$$"
   ]
  },
  {
   "cell_type": "markdown",
   "metadata": {},
   "source": [
    "### Problem 23\n",
    "\n",
    "Show that:\n",
    "\n",
    "* Cov[X,Y] = E[XY] – E[X]E[Y]\n",
    "\n",
    "* Var[X+Y] = Var[X] + Var[Y] + 2 Cov[X,Y]"
   ]
  },
  {
   "cell_type": "markdown",
   "metadata": {},
   "source": [
    "$Cov(X,Y)$$=E[(X-E[X])(Y-E[Y])]\\\\\n",
    "         =E[XY-XE[Y]-E[X]Y+E[X]E[Y]\\\\\n",
    "         =E[XY]-E[X]E[Y]-E[X]E[Y]+E[X]E[Y]\\\\\n",
    "         =E[XY]-E[X]E[Y]$"
   ]
  },
  {
   "cell_type": "markdown",
   "metadata": {},
   "source": [
    "$Var(X+Y)$$=E[(X+Y)^2]-E[X+Y]^2\\\\\n",
    "          =E[X^2]+2E[XY]+E[Y^2]-(E[X]+E[Y])^2\\\\\n",
    "          =E[X^2]+2E[XY]+E[Y^2]-E[X]^2-2E[X]E[Y]-E[Y]^2\\\\\n",
    "          =Var[X]+Var[Y]+2E[XY]-2E[X]E[Y]\\\\\n",
    "          =Var[X]+Var[Y]+2Cov(X,Y)$"
   ]
  },
  {
   "cell_type": "markdown",
   "metadata": {},
   "source": [
    "### Problem 25\n",
    "\n",
    "Rolling a die Ω = { 1 , 2 , 3 , 4 , 5, 6 }\n",
    "\n",
    "X is 1 if even number 0 otherwise.\n",
    "\n",
    "Y is 1 if prime number 0 otherwise.\n",
    "\n",
    "* Calculate E[Y|1], E[Y|0]\n",
    "\n",
    "* Var[Y|1], Var[Y|0]"
   ]
  },
  {
   "cell_type": "markdown",
   "metadata": {},
   "source": [
    "$$E[Y|1]=\\sum_r r\\cdot p_{Y|X}[r|1]=0\\cdot p_{Y|X}[0|1]+p_{Y|X}[1|1]=1/3$$\n",
    "\n",
    "$$E[Y|0]=\\sum_r r\\cdot p_{Y|X}[r|0]=p_{Y|X}[1|0]=2/3$$"
   ]
  },
  {
   "cell_type": "markdown",
   "metadata": {},
   "source": [
    "$$Var[Y|1]=\\sum_r (r-E[Y|1])^2 p_{Y|X}[r|1]=E[Y|1]^2 p_{Y|X}[0|1]+(1-E[Y|1])^2 p_{Y|X}[1|1]=\\\\\n",
    "=\\frac{1}{9}\\frac{2}{3}+\\frac{4}{9}\\frac{1}{3}=\\frac{2}{9}$$\n",
    "\n",
    "$$Var[Y|0]=\\sum_r (r-E[Y|0])^2 p_{Y|X}[r|0]=E[Y|0]^2 p_{Y|X}[0|0]+(1-E[Y|0])^2 p_{Y|X}[0|1]=\\\\\n",
    "=\\frac{4}{9}\\frac{1}{3}+\\frac{1}{9}\\frac{2}{3}=\\frac{2}{9}$$"
   ]
  }
 ],
 "metadata": {
  "kernelspec": {
   "display_name": "Python 3",
   "language": "python",
   "name": "python3"
  },
  "language_info": {
   "codemirror_mode": {
    "name": "ipython",
    "version": 3
   },
   "file_extension": ".py",
   "mimetype": "text/x-python",
   "name": "python",
   "nbconvert_exporter": "python",
   "pygments_lexer": "ipython3",
   "version": "3.8.3"
  }
 },
 "nbformat": 4,
 "nbformat_minor": 4
}
