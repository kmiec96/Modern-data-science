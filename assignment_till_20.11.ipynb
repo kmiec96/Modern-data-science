{
 "cells": [
  {
   "cell_type": "markdown",
   "metadata": {},
   "source": [
    "# Solutions to Modern Data Science Problems (problems till 20.11)\n",
    "by *Nora Salone* "
   ]
  },
  {
   "cell_type": "markdown",
   "metadata": {},
   "source": [
    "### Problem 1. \n",
    "\n",
    "* Tossing a coin three times: H – head, T – tail\n",
    "\n",
    "* What is the sample space $\\Omega$?\n",
    "\n",
    "What is the event space F for selection of at least two heads?\n"
   ]
  },
  {
   "cell_type": "markdown",
   "metadata": {},
   "source": [
    "The sample space is $\\Omega$={HHH,HHT,HTH,THH,TTH,THT,HTT,TTT}. The event space for at least two heads is F={HHH,HHT,HTH,THH}."
   ]
  },
  {
   "cell_type": "markdown",
   "metadata": {},
   "source": [
    "### Problem 2\n",
    "Show that:\n",
    "\n",
    "$$P(B) = \\sum_{i} P(B|A_{i}) \\cdot P(A_{i})$$\n",
    "\n",
    "for $A_{i}$ being disjoint sets, partitioning the whole sample space ($\\Omega = U A_{i}$ ) and\n",
    "$P(A_{i})>0$ for all $i$."
   ]
  },
  {
   "cell_type": "markdown",
   "metadata": {},
   "source": []
  },
  {
   "cell_type": "markdown",
   "metadata": {},
   "source": [
    "### Problem 7\n",
    "Derive the optimal algorithm $f^{*}(X)$ assuming $L(f(X), Y) = |(f(X) -Y)|$"
   ]
  },
  {
   "cell_type": "markdown",
   "metadata": {},
   "source": []
  },
  {
   "cell_type": "markdown",
   "metadata": {},
   "source": [
    "### Problem 8\n",
    "Derive the optimal algorithm $f^{*}(X)$ assuming $L(f(X), Y) = (f(X) -Y)^{2}$"
   ]
  },
  {
   "cell_type": "code",
   "execution_count": null,
   "metadata": {},
   "outputs": [],
   "source": []
  },
  {
   "cell_type": "markdown",
   "metadata": {},
   "source": [
    "### Problem 12\n",
    "Show that:\n",
    "$$\\text{Var}[X] = E[X^{2}] – E^{2}[X].$$"
   ]
  },
  {
   "cell_type": "markdown",
   "metadata": {},
   "source": [
    "$Var[X]$$=E[(X-E(X))^2]\\\\\n",
    "       =E[X^2-2XE[X]+E[X]^2]\\\\\n",
    "       =E[X^2]-2E[X]E[X]+E[X]^2\\\\\n",
    "       =E[X^2]-E[X]^2$"
   ]
  },
  {
   "cell_type": "markdown",
   "metadata": {},
   "source": [
    "### Problem 21\n",
    "\n",
    "Rolling a die Ω = { 1 , 2 , 3 , 4 , 5, 6 }\n",
    "X is 1 if even number 0 otherwise.\n",
    "Y is 1 if prime number 0 otherwise.\n",
    "\n",
    "* Calculate joint PMF\n",
    "\n",
    "* Calculate marginal PMF of X and of Y\n",
    "\n",
    "* Calculate conditional PMF pY|X (r|X=1)\n",
    "\n",
    "* Check if h(k) = pY|X (r|k) is a proper probability function with respect to k"
   ]
  },
  {
   "cell_type": "code",
   "execution_count": 51,
   "metadata": {
    "scrolled": true
   },
   "outputs": [
    {
     "name": "stdout",
     "output_type": "stream",
     "text": [
      "[Number of die, x value, y value]\n",
      "[[5, 0, 1], [3, 0, 1], [2, 1, 1], [1, 0, 1], [1, 0, 1], [4, 1, 0], [1, 0, 1], [1, 0, 1], [2, 1, 1], [6, 1, 0]]\n"
     ]
    }
   ],
   "source": [
    "import random\n",
    "\n",
    "#implement function that if H roll die twice, if T roll once\n",
    "\n",
    "def roll_die(n):\n",
    "    min = 1\n",
    "    max = 6\n",
    "    for i in range(n):\n",
    "        roll=random.randint(min, max)\n",
    "    return roll\n",
    "\n",
    "def assign_prob(flips): #this returns data list after some flips\n",
    "    data=[]\n",
    "    for i in range(flips):\n",
    "        die=roll_die(1)\n",
    "        if (die % 2)==0: #which is even\n",
    "            xval=1 \n",
    "        else:\n",
    "            xval=0        \n",
    "        if die > 2:\n",
    "            for i in range(2, die):\n",
    "                if (die % i) == 0: #i.e. not a prime number\n",
    "                    yval=0\n",
    "                    nbreak=1\n",
    "                    break\n",
    "                else:\n",
    "                    yval=1 #even if die has modulus !=0 for some i's, set yval=1; if there is even one i with modulus ==0, overwrite yval=1\n",
    "        else:\n",
    "            yval=1 #die=1 is prime\n",
    "        data.append([die,xval,yval])#1 for even, 0 for odd\n",
    "    print(\"[Number of die, x value, y value]\")\n",
    "    return data\n",
    "\n",
    "flips=10\n",
    "data=assign_prob(flips)\n",
    "print(data)\n",
    "\n",
    "def joint_PMF(data):\n",
    "    pmfT=np.array([0]*3)\n",
    "    pmfH=np.array([0]*5)\n",
    "    for i in range(len(data3)):\n",
    "        if data3[i][0]==0:\n",
    "            if data3[i][1]==1:    #outcome: tails, only one die roll (first element [0])\n",
    "                pmfT[0] += 1 \n",
    "            elif data3[i][1]==2:\n",
    "                pmfT[1] += 1\n",
    "            elif data3[i][1]==3:\n",
    "                pmfT[2] += 1\n",
    "        else:\n",
    "            if data3[i][1]==2:\n",
    "                pmfH[0] += 1\n",
    "            elif data3[i][1]==3:\n",
    "                pmfH[1] += 2\n",
    "            elif data3[i][1]==4:\n",
    "                pmfH[2] += 3\n",
    "            elif data3[i][1]==5:\n",
    "                pmfH[3] += 2\n",
    "            elif data3[i][1]==6:\n",
    "                pmfH[4] += 1\n",
    "        #print(\"pmfT=\",pmfT,\"pmfH=\",pmfH,\"sumT\",np.sum(pmfT),\"sumH\",np.sum(pmfH))\n",
    "    pmfT=pmfT/3*1/2 #1/2 bc of original choice head or tail, 3 possible die outcomes\n",
    "    pmfH=pmfH/9*1/2 #9 possible ways of summing 1,2,3\n",
    "    return [pmfT,pmfH]\n",
    "\n"
   ]
  },
  {
   "cell_type": "markdown",
   "metadata": {},
   "source": [
    "### Problem 22\n",
    "\n",
    " Let X and Y have a joint PDF fXY (x,y) = x+y for 0 <x<1, 0<y<1\n",
    " \n",
    "* Find conditional PDF fY|X (y|x)\n",
    "\n",
    "* Show that the integral of fY|X (y|x) over all y values is equal to 1"
   ]
  },
  {
   "cell_type": "code",
   "execution_count": null,
   "metadata": {},
   "outputs": [],
   "source": []
  },
  {
   "cell_type": "markdown",
   "metadata": {},
   "source": [
    "### Problem 23\n",
    "\n",
    "Show that:\n",
    "\n",
    "* Cov[X,Y] = E[XY] – E[X]E[Y]\n",
    "\n",
    "* Var[X+Y] = Var[X] + Var[Y] + 2 Cov[X,Y]"
   ]
  },
  {
   "cell_type": "markdown",
   "metadata": {},
   "source": [
    "$Cov(X,Y)$$=E[(X-E[X])(Y-E[Y])]\\\\\n",
    "         =E[XY-XE[Y]-E[X]Y+E[X]E[Y]\\\\\n",
    "         =E[XY]-E[X]E[Y]-E[X]E[Y]+E[X]E[Y]\\\\\n",
    "         =E[XY]-E[X]E[Y]$"
   ]
  },
  {
   "cell_type": "markdown",
   "metadata": {},
   "source": [
    "$Var(X+Y)$$=E[(X+Y)^2]-E[X+Y]^2\\\\\n",
    "          =E[X^2]+2E[XY]+E[Y^2]-(E[X]+E[Y])^2\\\\\n",
    "          =E[X^2]+2E[XY]+E[Y^2]-E[X]^2-2E[X]E[Y]-E[Y]^2\\\\\n",
    "          =Var[X]+Var[Y]+2E[XY]-2E[X]E[Y]\\\\\n",
    "          =Var[X]+Var[Y]+2Cov(X,Y)$"
   ]
  },
  {
   "cell_type": "markdown",
   "metadata": {},
   "source": [
    "### Problem 25\n",
    "\n",
    "Rolling a die Ω = { 1 , 2 , 3 , 4 , 5, 6 }\n",
    "\n",
    "X is 1 if even number 0 otherwise.\n",
    "\n",
    "Y is 1 if prime number 0 otherwise.\n",
    "\n",
    "* Calculate E[Y|1], E[Y|0]\n",
    "\n",
    "* Var[Y|1], Var[Y|0]"
   ]
  },
  {
   "cell_type": "code",
   "execution_count": null,
   "metadata": {},
   "outputs": [],
   "source": [
    "#use assign_prob"
   ]
  }
 ],
 "metadata": {
  "kernelspec": {
   "display_name": "Python 3",
   "language": "python",
   "name": "python3"
  },
  "language_info": {
   "codemirror_mode": {
    "name": "ipython",
    "version": 3
   },
   "file_extension": ".py",
   "mimetype": "text/x-python",
   "name": "python",
   "nbconvert_exporter": "python",
   "pygments_lexer": "ipython3",
   "version": "3.8.3"
  }
 },
 "nbformat": 4,
 "nbformat_minor": 4
}
