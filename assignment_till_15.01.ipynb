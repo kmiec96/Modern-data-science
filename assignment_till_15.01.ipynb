{
 "cells": [
  {
   "cell_type": "code",
   "execution_count": 2,
   "metadata": {},
   "outputs": [],
   "source": [
    "%matplotlib inline\n",
    "#standard imports \n",
    "import math\n",
    "import numpy as np\n",
    "import pandas as pd\n",
    "import matplotlib.pyplot as plt"
   ]
  },
  {
   "cell_type": "markdown",
   "metadata": {},
   "source": [
    "### 35\n",
    "We consider two models for classification: (1) “flexible” (e.g. kNN) (2) “rigid ” (e.g. linear). Discuss which would you typically choose in those situations:\n",
    "* A small number of training samples N\n",
    "\n",
    "Rigid: the fewer data, the more unstable a flexible classification becomes. \n",
    "* A large number of features\n",
    "\n",
    "Rigid: more features imply more dimensions in the vector defining the data, and flexible method (k-NN) undergoes the curse of dimensionality for high dimensions.\n",
    "* A large number of training samples N\n",
    "\n",
    "Flexible.\n",
    "* Highly non-linear behavior\n",
    "\n",
    "Flexible: rigid method would require too many additional parameters, increasing the model complexity."
   ]
  },
  {
   "cell_type": "markdown",
   "metadata": {},
   "source": [
    "### 37\n",
    "We want to check if the coin is fair, we obtained the following result: X = {H,T,H,H,T,T,H,H,H}.\n",
    "* define the PMF\n",
    "* define the likelihood function\n",
    "* calculate the maximum value estimator of frequency of heads"
   ]
  },
  {
   "cell_type": "code",
   "execution_count": 4,
   "metadata": {},
   "outputs": [
    {
     "data": {
      "text/plain": [
       "[<matplotlib.lines.Line2D at 0x1cc5ec6bd90>]"
      ]
     },
     "execution_count": 4,
     "metadata": {},
     "output_type": "execute_result"
    },
    {
     "data": {
      "image/png": "[encoded data removed]",
      "text/plain": [
       "<Figure size 432x288 with 1 Axes>"
      ]
     },
     "metadata": {
      "needs_background": "light"
     },
     "output_type": "display_data"
    }
   ],
   "source": [
    "def combCoef(n,k):\n",
    "    a = math.factorial(n)\n",
    "    b = math.factorial(k)\n",
    "    c = math.factorial(n-k)\n",
    "    return a/(b*c)\n",
    "\n",
    "def binomial_pmf(n,k,p):\n",
    "    return combCoef(n,k) * p**k * (1-p)**(n-k)\n",
    "\n",
    "def total_binomial_likelihood(n,k):\n",
    "    ps= list(np.arange(0,1.,0.05))\n",
    "    return (ps, [binomial_pmf(n,k,p) for p in ps])\n",
    "\n",
    "n = 9\n",
    "k = 6\n",
    "total_binomial_likelihood(n,k)\n",
    "ps,values2 = total_binomial_likelihood(n,k)\n",
    "plt.title('likelihood function L(p) = pmf(k|n,p) for' + format(' n=%d,k=%d'%(n,k)))\n",
    "plt.xlabel('p parameter')\n",
    "plt.plot(ps,values2)"
   ]
  },
  {
   "cell_type": "code",
   "execution_count": 5,
   "metadata": {},
   "outputs": [
    {
     "name": "stdout",
     "output_type": "stream",
     "text": [
      "likelihood normalization can be different than one 1 = 0.100004\n"
     ]
    }
   ],
   "source": [
    "print ('likelihood normalization can be different than one 1 = ' +format('%f'%float(sum(values2)*0.05)))"
   ]
  },
  {
   "cell_type": "markdown",
   "metadata": {},
   "source": [
    "We calculate the maximum value estimator as\n",
    "$$p_\\text{MLE} = argmax L(p) = 0.67$$\n",
    "which means that this coin is not fair."
   ]
  },
  {
   "cell_type": "markdown",
   "metadata": {},
   "source": [
    "### 38\n",
    "When MAP and MLE give the same results?"
   ]
  },
  {
   "cell_type": "markdown",
   "metadata": {},
   "source": [
    "$$\\theta_{MAP} = \\text{argmax}f(\\theta|x) = argmax \\log(f(x|\\theta)) + \\log(f(\\theta))$$\n",
    "\n",
    "with $f(x|\\theta)$ the likelihood function and $f(\\theta)$ the priori distribution, whereas \n",
    "\n",
    "$$\\theta_{MLE} = \\text{argmax}f(x|\\theta)=\\text{argmax}\\log(f(x|\\theta))$$. MAP and MLE are equivalent when $f(\\theta)$ is uniform, which drops out of the derivative when looking for $\\theta_\\text{max}$."
   ]
  },
  {
   "cell_type": "markdown",
   "metadata": {},
   "source": [
    "### 39\n",
    "We want to check if the coin is fair, we estimate the frequency of heads. Calculate the MAP maximum value estimator, when the prior distribution is described by the beta function\n",
    "$$\\text{pdf}(p|\\alpha, \\beta) = \\frac{(\\alpha-1)! ( \\beta-1)!}{(\\alpha+ \\beta -1)!} p^{\\alpha-1} (1-p)^{\\beta-1}$$"
   ]
  },
  {
   "cell_type": "markdown",
   "metadata": {},
   "source": [
    "Start with likelihood function for ex 37\n",
    "\n",
    "$$ f(x|p) = p^{\\sum_{i=1}^n x^i}(1-p)^{n-\\sum_{i=1}^n x^i}$$\n",
    "\n",
    "and we take the beta function as the prior distribution. We maximize the logarithm as in\n",
    "\n",
    "$$\\frac{\\partial \\log(f(p|x))}{\\partial p} = \\frac{1}{p}\\sum_{i=1}^n x^i - \\frac{n-\\sum_{i=1}^n x^i}{1-p} + \\frac{\\alpha - 1}{p} - \\frac{\\beta - 1}{1-p} = 0 \n",
    "$$\n",
    "since $\\log\\left[\\frac{(\\alpha-1)! ( \\beta-1)!}{(\\alpha+ \\beta -1)!}\\right]$ is constant in $p$."
   ]
  },
  {
   "cell_type": "markdown",
   "metadata": {},
   "source": [
    "We get \n",
    "\n",
    "$$\\frac{\\alpha - 1 + \\sum_{i=1}^n x^i}{p} - \\frac{n-\\sum_{i=1}^n x^i + \\beta - 1}{1-p} = 0$$\n",
    "\n",
    "which implies\n",
    "\n",
    "$$p_\\text{max} = \\frac{\\sum_{i=1}^n x^i + \\alpha - 1}{\\alpha + \\beta + n - 2} \\ . $$"
   ]
  },
  {
   "cell_type": "markdown",
   "metadata": {},
   "source": [
    "### 40\n",
    "Consider the case of $\\lambda >> 1$, and $\\lambda \\approx 0$: how does it affect the overfitting/bias problem? Will the procedure work correctly anyway?\n",
    "\n",
    "$$ E_T[L(f_\\theta(x),Y)]=\\frac{1}{2N} \\sum (\\theta^T x^{(i)}-y^{(i)})^2 + \\frac{\\lambda}{2}\\sum \\theta_j^2 $$"
   ]
  },
  {
   "cell_type": "markdown",
   "metadata": {},
   "source": [
    "### 41\n",
    "Read the code and try to understand how it works. By changing the values of degree and alpha observe the interplay of overfitting/bias\n",
    "* for which values one can obtained the reasonable fit to data ?\n",
    "* plot the training and test errors as a function of polynomial degree (for fixed alpha)\n",
    "* plot the training and test errors as a function of regularization term (for fixed degree). "
   ]
  },
  {
   "cell_type": "markdown",
   "metadata": {},
   "source": [
    "### 42\n",
    "We consider a linear regression model. Let’s assume that the error model is additive $y= f(x) + \\epsilon$ , and errors are have Gaussian distribution with 0 mean ($E[\\epsilon] =0$) and variance\n",
    "($\\text{Var}[\\epsilon] =\\sigma^2$). We In addition, assume that our parameters are described by:\n",
    "* Gaussian Distribution, with 0 mean, and some variance\n",
    "* Laplace Distribution, with 0 mean, and some variance\n",
    "\n",
    "Derive the minimization problem starting from the MAP approach, taking into account the prior distribution of the parameters."
   ]
  },
  {
   "cell_type": "markdown",
   "metadata": {},
   "source": [
    "### 43 \n",
    "We consider a classification model with some regularization scheme. Which statements are true? Justify your choice.\n",
    "* Adding regularization would typically lower the training error\n",
    "\n",
    "False.\n",
    "\n",
    "* Adding new features to your model would make the training error higher or the same\n",
    "\n",
    "False/True.\n",
    "\n",
    "* Adding regularization would typically lower the test error\n",
    "\n",
    "True.\n",
    "\n",
    "* Adding regularization can cause overfitting of your model\n",
    "\n",
    "False.\n",
    "\n",
    "* Using a large value of the lambda parameter can cause the overfitting of your model\n",
    "\n",
    "False.\n",
    "\n",
    "* Adding regularization can introduce the bias to your model\n",
    "\n",
    "True.\n",
    "* Adding regularization can make the training error higher\n",
    "\n",
    "True."
   ]
  },
  {
   "cell_type": "markdown",
   "metadata": {},
   "source": [
    "### 44\n",
    "Calculate the derivative of the sigmoid function and express it using the sigmoid.\n"
   ]
  },
  {
   "cell_type": "markdown",
   "metadata": {},
   "source": [
    "The sigmoid function is\n",
    "\n",
    "$$ \\sigma(x) = \\frac{1}{1 + e^{-x}}$$\n",
    "\n",
    "and its derivative is \n",
    "\n",
    "$$ -\\frac{-e^{-x}}{(1 + e^{-x})^2} = \\frac{e^{-x}}{(1 + e^{-x})^2} = \\sigma^2 \\left(\\frac{1}{\\sigma}-1\\right) = \\sigma(1-\\sigma)$$"
   ]
  },
  {
   "cell_type": "markdown",
   "metadata": {},
   "source": [
    "### 45 \n",
    "Assuming the loss function definition as:\n",
    "$$ L(f_\\theta(x),Y)= -log f_\\theta(x) \\text{ for $Y=1$}\\\\\n",
    "                   L(f_\\theta(x),Y)= -log (1-f_\\theta(x)) \\text{ for $Y=0$}$$\n",
    "what are the loss values for:\n",
    "* $f_\\theta(x)=0$, Y=0\n",
    "* $f_\\theta(x)=1$, Y=0\n",
    "* $f_\\theta(x)=0$, Y=1\n",
    "* $f_\\theta(x)=1$, Y=1\n",
    "\n",
    "Draw L as a function of $f_\\theta(x)$ for Y= 0 and Y=1."
   ]
  },
  {
   "cell_type": "code",
   "execution_count": 16,
   "metadata": {},
   "outputs": [
    {
     "data": {
      "image/png": "[encoded data removed]",
      "text/plain": [
       "<Figure size 432x288 with 1 Axes>"
      ]
     },
     "metadata": {
      "needs_background": "light"
     },
     "output_type": "display_data"
    },
    {
     "data": {
      "image/png": "[encoded data removed]",
      "text/plain": [
       "<Figure size 432x288 with 1 Axes>"
      ]
     },
     "metadata": {
      "needs_background": "light"
     },
     "output_type": "display_data"
    }
   ],
   "source": [
    "from scipy.stats import uniform\n",
    "\n",
    "def Loss_func(y):\n",
    "    fs= list(np.arange(0.001,1,0.01))\n",
    "    if y == 0:\n",
    "        return (fs, [-np.log(1-f) for f in fs])\n",
    "    else:\n",
    "        return (fs, [-np.log(f) for f in fs])\n",
    "\n",
    "y=0 #Y=0\n",
    "fs, L0 = Loss_func(y)\n",
    "plt.title(r'$L(f_{\\theta}(x),0)$')\n",
    "plt.xlabel(r'$f_{\\theta}(x)$')\n",
    "plt.plot(fs,L0)\n",
    "plt.show()\n",
    "\n",
    "y=1 #Y=0\n",
    "fs, L0 = Loss_func(y)\n",
    "plt.title(r'$L(f_{\\theta}(x),0)$')\n",
    "plt.xlabel(r'$f_{\\theta}(x)$')\n",
    "plt.plot(fs,L0)\n",
    "plt.show()"
   ]
  },
  {
   "cell_type": "markdown",
   "metadata": {},
   "source": [
    "### 46\n",
    "Calculate the equation of the decision boundary for the logistic regression model assuming:\n",
    "\n",
    "$$ f_\\theta(x)\\geq 0.5 \\to Y=1\\\\\n",
    "f_\\theta(x)< 0.5 \\to Y=0$$"
   ]
  },
  {
   "cell_type": "markdown",
   "metadata": {},
   "source": [
    "### 47\n",
    "* For which value of k k-fold cross-validation is equivalent to Leave-one-out method?\n",
    "* Order the cross-validation methods (k-fold e.g. k=5, leave-one-out and the simple splitting into validation and training sets) in the ascending cost of the computation power\n",
    "* For which k the k-fold cross-validation requires the most of the computing power?\n",
    "\n",
    "Justify your answers"
   ]
  },
  {
   "cell_type": "markdown",
   "metadata": {},
   "source": [
    "* For k = N: leave-one-out method calculates the prediction error for N samples using N-1 of them, for N total times (one for each total samples). k-fold validation divides the total number of samples in k parts, and calculates the prediction error for each k. For k = N they both calculate over N samples.\n",
    "\n",
    "* Splitting, k-fold for k = 5, leave-one-out: they are more demanding in terms of computing power the more parts the number of samples is divided into. Unless k = N, the number of parts are, respectively, 2, 5, N-1.\n",
    "\n",
    "* k = N, since it is equivalent to leave-one-out method (the most demanding in terms of computing power)."
   ]
  },
  {
   "cell_type": "markdown",
   "metadata": {},
   "source": [
    "### 48\n",
    "We consider two cases of binary classifier tests:\n",
    "* A - airplanes security checks before the take-off (Y=’allowed’/’denied’)\n",
    "* B - decision if according to her/his profile a client will be potentially interested to buy a new product and if to show her/him the targeted advertisement(Y=’yes’/’no’)\n",
    "\n",
    "How would we decide how to tune our classifier threshold for each case in the context of sensitivity vs specificity trade-off? Justify your answer."
   ]
  },
  {
   "cell_type": "markdown",
   "metadata": {},
   "source": [
    "Sensitivity measures the proportion of correctly denied cases (A) or correctly identified interested clients (B).\n",
    "Specificity measures the proportion of correctly allowed cases (A) or correctly identified uninterested clients (B).\n",
    "\n",
    "A) High sensitivity: it would be safer to have falsely-denied cases than falsely allowed ones.\n",
    "\n",
    "B) High specificity: for a successful marketing strategy it would be more useful to correctly identify true uninterested clients (true negatives) than to identify true interested clients at the risk of losing the incorrectly identified as uninterested (false positives)."
   ]
  }
 ],
 "metadata": {
  "kernelspec": {
   "display_name": "Python 3",
   "language": "python",
   "name": "python3"
  },
  "language_info": {
   "codemirror_mode": {
    "name": "ipython",
    "version": 3
   },
   "file_extension": ".py",
   "mimetype": "text/x-python",
   "name": "python",
   "nbconvert_exporter": "python",
   "pygments_lexer": "ipython3",
   "version": "3.8.3"
  }
 },
 "nbformat": 4,
 "nbformat_minor": 4
}
