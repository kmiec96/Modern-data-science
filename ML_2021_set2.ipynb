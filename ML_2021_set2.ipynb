{
 "cells": [
  {
   "cell_type": "code",
   "execution_count": 2,
   "metadata": {},
   "outputs": [],
   "source": [
    "from IPython.display import display, Markdown, Latex\n",
    "from decimal import Decimal\n",
    "import matplotlib.pyplot as plt\n",
    "from scipy import stats\n",
    "import numpy as np\n",
    "import pandas as pd\n",
    "import math as mt"
   ]
  },
  {
   "cell_type": "markdown",
   "metadata": {},
   "source": [
    "# Solutions to Modern Data Science Problems (probelms till 13.11)\n",
    "by *Mateusz Kmieć* "
   ]
  },
  {
   "cell_type": "markdown",
   "metadata": {},
   "source": [
    "# Statistics I (recap) "
   ]
  },
  {
   "cell_type": "markdown",
   "metadata": {},
   "source": [
    "### Probelm 1.1\n",
    "\n",
    "Tossing two coins: Ω = { HT , TH , HH , TT }.\n",
    "We define as a random variable which expresses number of heads X(E) = 1 if E = {HT, TH} 0 if E= {TT}, 2 if E = {HH}. What are CDF and PMF functions? Draw it. *\n",
    "\n",
    "\n",
    "*Remark!* I believe that in case of dicrete distributions we should draw CMF instead of CDF?"
   ]
  },
  {
   "cell_type": "code",
   "execution_count": 5,
   "metadata": {},
   "outputs": [
    {
     "data": {
      "text/html": [
       "<div>\n",
       "<style scoped>\n",
       "    .dataframe tbody tr th:only-of-type {\n",
       "        vertical-align: middle;\n",
       "    }\n",
       "\n",
       "    .dataframe tbody tr th {\n",
       "        vertical-align: top;\n",
       "    }\n",
       "\n",
       "    .dataframe thead th {\n",
       "        text-align: right;\n",
       "    }\n",
       "</style>\n",
       "<table border=\"1\" class=\"dataframe\">\n",
       "  <thead>\n",
       "    <tr style=\"text-align: right;\">\n",
       "      <th></th>\n",
       "      <th>Ω</th>\n",
       "      <th>X(E)</th>\n",
       "    </tr>\n",
       "  </thead>\n",
       "  <tbody>\n",
       "    <tr>\n",
       "      <th>0</th>\n",
       "      <td>HT</td>\n",
       "      <td>1</td>\n",
       "    </tr>\n",
       "    <tr>\n",
       "      <th>1</th>\n",
       "      <td>TH</td>\n",
       "      <td>1</td>\n",
       "    </tr>\n",
       "    <tr>\n",
       "      <th>2</th>\n",
       "      <td>HH</td>\n",
       "      <td>2</td>\n",
       "    </tr>\n",
       "    <tr>\n",
       "      <th>3</th>\n",
       "      <td>TT</td>\n",
       "      <td>0</td>\n",
       "    </tr>\n",
       "  </tbody>\n",
       "</table>\n",
       "</div>"
      ],
      "text/plain": [
       "    Ω X(E)\n",
       "0  HT    1\n",
       "1  TH    1\n",
       "2  HH    2\n",
       "3  TT    0"
      ]
     },
     "metadata": {},
     "output_type": "display_data"
    },
    {
     "data": {
      "image/png": "[encoded data removed]",
      "text/plain": [
       "<Figure size 648x288 with 2 Axes>"
      ]
     },
     "metadata": {
      "needs_background": "light"
     },
     "output_type": "display_data"
    }
   ],
   "source": [
    "def PMF(Data):\n",
    "    pmf=np.array([0,0,0])\n",
    "    for i in range(len(Data)):\n",
    "        if Data[i][1]==\"0\":\n",
    "            pmf[0]=pmf[0]+1\n",
    "        elif Data[i][1]==\"1\":\n",
    "            pmf[1]=pmf[1]+1\n",
    "        elif Data[i][1]==\"2\":\n",
    "            pmf[2]=pmf[2]+1\n",
    "    pmf=pmf/np.sum(pmf)\n",
    "    return pmf\n",
    "\n",
    "#Data that we are working on, defined\n",
    "Data=np.array([[\"HT\", 1],[\"TH\",1],[\"HH\",2],[\"TT\",0]])\n",
    "Data_display= pd.DataFrame(Data,columns=['\\u03A9','X(E)'])\n",
    "display(Data_display)\n",
    "\n",
    "\n",
    "#PMF and X(E), defined\n",
    "pmf=PMF(Data)\n",
    "cdf=np.cumsum(pmf)\n",
    "XE = np.arange(3)\n",
    "\n",
    "fig, (ax1, ax2) = plt.subplots(1, 2,figsize=(9, 4))\n",
    "ax1.set_title(\"PMF PLOT\")\n",
    "ax1.set_xlabel(\"X(E)\")\n",
    "ax1.set_ylabel(\"Probability_density(x=X(E))\")\n",
    "ax1.set_xticks(np.arange(0, 2.1, step=1))\n",
    "ax1.vlines(XE, 0, pmf, colors='r', linestyles='-', lw=2)\n",
    "ax1.plot(XE, pmf, 'ro', ms=3, mec='r')\n",
    "\n",
    "ax2.set_title(\"CDF PLOT\")\n",
    "ax2.set_xlabel(\"X(E)\")\n",
    "ax2.set_ylabel(\"Probability_density(x<X(E))\")\n",
    "ax2.set_xticks(np.arange(0, 2.1, step=1))\n",
    "ax2.vlines(XE, 0, cdf, colors='r', linestyles='-', lw=2)\n",
    "ax2.plot(XE, cdf, 'ro', ms=3, mec='r')\n",
    "plt.show()"
   ]
  },
  {
   "cell_type": "markdown",
   "metadata": {},
   "source": [
    "### Problem 1.2\n",
    "What are the PDF and CDF functions for the uniform distribution defined for X =[0, a]? *"
   ]
  },
  {
   "cell_type": "markdown",
   "metadata": {},
   "source": [
    "PDF of the uniform distribution is a normalised constant function.\n",
    "In this case it is a constant function of value $\\frac{1}{a}$.\n",
    "\n",
    "CDF of the uniform distribution is the integral of PDF.\n",
    "Therefore in this case it is a linear function $\\frac{x}{a}$. \n",
    "\n",
    "I plotted both functions below. For conveniance I rescaled both axis for each plot multiplying the values from both axis by $\\frac{1}{a}$."
   ]
  },
  {
   "cell_type": "code",
   "execution_count": 34,
   "metadata": {},
   "outputs": [
    {
     "data": {
      "image/png": "[encoded data removed]",
      "text/plain": [
       "<Figure size 720x288 with 2 Axes>"
      ]
     },
     "metadata": {
      "needs_background": "light"
     },
     "output_type": "display_data"
    }
   ],
   "source": [
    "from scipy.stats import uniform\n",
    "mean, var, skew, kurt = uniform.stats(moments='mvsk')\n",
    "\n",
    "x = np.linspace(uniform.ppf(0.01), uniform.ppf(0.99), 100)\n",
    "\n",
    "\n",
    "fig, (ax1, ax2) = plt.subplots(1, 2,figsize=(10, 4))\n",
    "ax1.set_title(\"PDF UNIFORM DISTRIBUTION\")\n",
    "ax1.set_xlabel(\"X [a]\")\n",
    "ax1.set_ylabel(\"Probability_density(x=X) [1/a]\")\n",
    "ax1.set_xticks(np.arange(0, 2.1, step=1))\n",
    "ax1.plot(x, uniform.pdf(x),'r-', lw=2, alpha=0.6, label='uniform pdf')\n",
    "\n",
    "ax2.set_title(\"CDF UNIFORM DISTRIBUTION\")\n",
    "ax2.set_xlabel(\"X [a]\")\n",
    "ax2.set_ylabel(\"Probability_density(x<X) [1/a]\")\n",
    "ax2.set_xticks(np.arange(0, 2.1, step=1))\n",
    "ax2.plot(x, uniform.cdf(x),'r-', lw=2, alpha=0.6, label='uniform cdf')\n",
    "plt.show()"
   ]
  },
  {
   "cell_type": "markdown",
   "metadata": {},
   "source": [
    "### Probelm 1.3\n",
    "Write a program that simulates the tossing of two coins and estimate the CDF and PMF functions for the first problem above *\n",
    "\n",
    "Again I believe there should be CMF instead of CDF!"
   ]
  },
  {
   "cell_type": "code",
   "execution_count": 110,
   "metadata": {},
   "outputs": [
    {
     "name": "stdout",
     "output_type": "stream",
     "text": [
      "Print the first 5 tosses: \n",
      " [['HT' '1']\n",
      " ['TH' '1']\n",
      " ['HT' '1']\n",
      " ['TT' '0']\n",
      " ['TT' '0']]\n"
     ]
    },
    {
     "data": {
      "image/png": "[encoded data removed]",
      "text/plain": [
       "<Figure size 648x288 with 2 Axes>"
      ]
     },
     "metadata": {
      "needs_background": "light"
     },
     "output_type": "display_data"
    }
   ],
   "source": [
    "import random\n",
    "\n",
    "def coin_tosser():\n",
    "    outcome=np.random.choice(np.arange(0, 3), p=pmf)\n",
    "    \n",
    "    if outcome==2:\n",
    "        out=\"HH\"\n",
    "    elif outcome==1:\n",
    "        if random.randint(1, 2)==1:\n",
    "            out=\"TH\"\n",
    "        else:\n",
    "            out=\"HT\"\n",
    "    elif outcome==0:\n",
    "        out=\"TT\"\n",
    "    return [out, outcome] \n",
    "\n",
    "#Alternatively we could write the above function in the following way:\n",
    "#U=[\"HH\",\"TH\",\"HT\",\"TT\"]\n",
    "#np.random.choice(U)\n",
    "#But I wanted to use pdf from the previous problem (and so I had to supply weights pmf)\n",
    "#Both methods should give similar results for large number of tosses.\n",
    "\n",
    "#Toss coin 1000 times, write outcome to a list.\n",
    "list_toss=[]\n",
    "for i in range(1000):        \n",
    "    list_toss.append(coin_tosser())\n",
    "\n",
    "Data2=np.array(list_toss)\n",
    "\n",
    "print(\"Print the first 5 tosses: \\n\",Data2[:5])\n",
    "\n",
    "\n",
    "\n",
    "#PMF and X(E), defined\n",
    "pmf2=PMF(Data2)\n",
    "cdf2=np.cumsum(pmf2)\n",
    "XE2 = np.arange(3)\n",
    "\n",
    "fig, (ax1, ax2) = plt.subplots(1, 2,figsize=(9, 4))\n",
    "ax1.set_title(\"PMF PLOT\")\n",
    "ax1.set_xlabel(\"X(E)\")\n",
    "ax1.set_ylabel(\"Probability_density(x=X(E))\")\n",
    "ax1.set_xticks(np.arange(0, 2.1, step=1))\n",
    "ax1.vlines(XE2, 0, pmf2, colors='r', linestyles='-', lw=2)\n",
    "ax1.plot(XE2, pmf2, 'ro', ms=3, mec='r')\n",
    "\n",
    "ax2.set_title(\"CDF PLOT\")\n",
    "ax2.set_xlabel(\"X(E)\")\n",
    "ax2.set_ylabel(\"Probability_density(x<X(E))\")\n",
    "ax2.set_xticks(np.arange(0, 2.1, step=1))\n",
    "ax2.vlines(XE2, 0, cdf2, colors='r', linestyles='-', lw=2)\n",
    "ax2.plot(XE2, cdf2, 'ro', ms=3, mec='r')\n",
    "plt.show()"
   ]
  },
  {
   "cell_type": "markdown",
   "metadata": {},
   "source": [
    "### Problem 1.4\n",
    "(The same problem as last time - STRANGE!)\n",
    "\n",
    "I copied my solution from the last time and pasted it here!\n",
    "\n",
    "Let g(X) =1 for some set A being a subset of sample space Ω: What is E[g(X)] if X is discrete with a given PMF or continuous with a given PDF *"
   ]
  },
  {
   "cell_type": "markdown",
   "metadata": {},
   "source": [
    "In order to solve this problem we have to make an assumption about the values of $g(x)$ for $x\\notin A$. Since the author of this question did not specify what happens for x from within $\\Omega$ but outside of $A$ region we have taken the liberty to specify function $g(x)$ in a little bit more detail.\n",
    "\n",
    "$$g(x)= \n",
    "     \\begin{cases}\n",
    "      &1, x\\in A\\\\\n",
    "      &0, x\\notin A\n",
    "     \\end{cases}.$$\n",
    "     \n",
    "For continuous $x \\in A$:\n",
    "$$E\\left[g(X)\\right]=\\int_{\\Omega}g(x)\\cdot f_{x}(x) dx=\\int_{\\Omega} f_{x}(x) dx = 1,$$\n",
    "\n",
    "where in accordance to the lecture $f_{x}(x)$ is PDF function.  \n",
    "\n",
    "For discrete $k\\in A$ and function $g(x)$ defined in the aforementioned way it is only natural to conclude that:\n",
    "\n",
    "$$E\\left[g(X)\\right]=\\int_{\\Omega}g(x)\\cdot f_{x}(x) \\cdot \\delta(x-k) dx=\\sum_{k\\in A}g(k)\\cdot p_{x}(k)=\\sum_{k\\in A}p_{x}(k)=1,$$\n",
    "\n",
    "where $p_{x}(k)$ is the PMF function.\n",
    "\n",
    "The above equation can be trivially generalised to $n$ dimensions: $$x\\rightarrow (x_{1},x_{2},.....,x_{n}),$$ $$dx\\rightarrow dx_{1}dx_{2}...dx_{n}.$$"
   ]
  },
  {
   "cell_type": "markdown",
   "metadata": {},
   "source": [
    "### Problem 1.5\n",
    "Calculate the mean and the variance of the uniform distribution *\n",
    "\n",
    "I assume $x \\in [a,b]$.\n",
    "\n",
    "PDF for uniform distribution\n",
    "$$\\text{pdf}(x)=\\frac{1}{b-a}$$\n",
    "\n",
    "Having calculated pdf(x) for uniform distribution we can procede with calculating mean (first momentum):"
   ]
  },
  {
   "cell_type": "markdown",
   "metadata": {},
   "source": [
    "$$\\mu=\\frac{\\int_{a}^{b} \\text{pdf}(x)xdx}{\\int_{a}^{b} \\text{pdf}(x)}=\\frac{b^{2}-a^{2}}{2(b-a)}=\\frac{(a+b)}{2}.$$"
   ]
  },
  {
   "cell_type": "markdown",
   "metadata": {},
   "source": [
    "Now we can calculate variance for this distribution:"
   ]
  },
  {
   "cell_type": "markdown",
   "metadata": {},
   "source": [
    "$$\\sigma^{2}=\\left(\\int_{a}^{b}x^{2}\\text{pdf}(x)dx\\right)-\\mu^{2}.$$"
   ]
  },
  {
   "cell_type": "markdown",
   "metadata": {},
   "source": [
    "The only probelm here is the calculation of the second momentum:\n",
    "    \n",
    "$$\\int_{a}^{b}x^{2}\\text{pdf}(x)dx=\\frac{b^{3}-a^{3}}{3(b-a)}.$$"
   ]
  },
  {
   "cell_type": "markdown",
   "metadata": {},
   "source": [
    "Now after subtracting $\\mu^{2}$ we will end up with:"
   ]
  },
  {
   "cell_type": "markdown",
   "metadata": {},
   "source": [
    "$$\\sigma^{2}=\\frac{b^{3}-a^{3}}{3(b-a)}-\\frac{(a+b)^2}{4}.$$"
   ]
  },
  {
   "cell_type": "markdown",
   "metadata": {},
   "source": [
    "Calculations:\n",
    "\n",
    "$$\\sigma^{2}=\\frac{4b^{3}-4a^{3}-3b^{3}+3a^{3}+3a^{2}b-3ab^{2}}{12(b-a)}=\\frac{(b-a)^{2}}{12(b-a)}=\\frac{(b-a)^{2}}{12}.$$"
   ]
  },
  {
   "cell_type": "markdown",
   "metadata": {},
   "source": [
    "Answer"
   ]
  },
  {
   "cell_type": "markdown",
   "metadata": {},
   "source": [
    "$$\\sigma^{2}=\\frac{(b-a)^{2}}{12}.$$"
   ]
  },
  {
   "cell_type": "markdown",
   "metadata": {},
   "source": [
    "### Problem 1.6\n",
    "Implement a function that returns mean, where X is represented by a list of numbers *"
   ]
  },
  {
   "cell_type": "code",
   "execution_count": 38,
   "metadata": {},
   "outputs": [
    {
     "name": "stdout",
     "output_type": "stream",
     "text": [
      "As expected the mean (brute force) of X is: 1.5.\n",
      "As expected the mean (numpy )of X is: 1.5.\n"
     ]
    }
   ],
   "source": [
    "X=[1,1,1,2,2,2]#expected mean 1.5\n",
    "\n",
    "#brute force solution\n",
    "def Mean_brute(X):\n",
    "    y=0\n",
    "    for x in X:\n",
    "        y=y+x\n",
    "    mean_brute = y/len(X)\n",
    "    return mean_brute              \n",
    "\n",
    "#numpy function\n",
    "def Mean(X):\n",
    "    return np.mean(X)                  \n",
    "\n",
    "print(\"As expected the mean (brute force) of X is: {}.\".format(Mean_brute(X)))\n",
    "print(\"As expected the mean (numpy )of X is: {}.\".format(Mean(X)))"
   ]
  },
  {
   "cell_type": "markdown",
   "metadata": {},
   "source": [
    "### Problem 1.7\n",
    "Implement a function that returns Var[X], where X is represented by a list of numbers *"
   ]
  },
  {
   "cell_type": "code",
   "execution_count": 107,
   "metadata": {},
   "outputs": [
    {
     "name": "stdout",
     "output_type": "stream",
     "text": [
      "Test 1: Variation for the list of numbers X1=[1, 1, 1, 1, 1]:   0.0.\n",
      "Test 2: Variation for the list of numbers X2=[1, 0, 1, 0, 1, 0]:   0.25.\n"
     ]
    }
   ],
   "source": [
    "X1=[1,1,1,1,1]                      #list of numbers test 1 expected result 0\n",
    "X2=[1,0,1,0,1,0]                    #list of numbers test 2 expected result 0.25.\n",
    "\n",
    "def Variation(X):\n",
    "    XX=np.array(X)                  #array of numbers\n",
    "    mean=np.mean(XX)                #array of means\n",
    "    dist=np.dot(XX-mean,XX-mean)    #sum of (x-mu)^2\n",
    "    var=dist/len(X)                 #variation = sqrt(sum of (x-mu^2))\n",
    "    return var\n",
    "\n",
    "print(\"Test 1: Variation for the list of numbers X1={}:   {}.\".format(X1,Variation(X1)))\n",
    "print(\"Test 2: Variation for the list of numbers X2={}:   {}.\".format(X2,Variation(X2)))"
   ]
  },
  {
   "cell_type": "code",
   "execution_count": 108,
   "metadata": {},
   "outputs": [
    {
     "name": "stdout",
     "output_type": "stream",
     "text": [
      "0.0\n",
      "0.25\n"
     ]
    }
   ],
   "source": [
    "# test 1\n",
    "XX1=np.array(X1)\n",
    "print(np.var(XX1,axis=0))     #variation numpy \n",
    "\n",
    "# test 2\n",
    "XX2=np.array(X2)\n",
    "print(np.var(XX2,axis=0))     #variation numpy "
   ]
  },
  {
   "cell_type": "markdown",
   "metadata": {},
   "source": [
    "### Problem 1.8\n",
    "Implement a function that returns Euclidean distance between two vectors represented as a list of numbers. *"
   ]
  },
  {
   "cell_type": "code",
   "execution_count": 15,
   "metadata": {},
   "outputs": [
    {
     "name": "stdout",
     "output_type": "stream",
     "text": [
      "Euclidean distance:  1.0\n"
     ]
    }
   ],
   "source": [
    "X=[0,0,0]\n",
    "Y=[1,0,0]\n",
    "\n",
    "def Euclidean_distance(X,Y):\n",
    "    xx=np.array(X)\n",
    "    yy=np.array(Y)\n",
    "    return np.sqrt(np.sum(np.square(xx-yy)))\n",
    "print(\"Euclidean distance: \",Euclidean_distance(X,Y))"
   ]
  },
  {
   "cell_type": "markdown",
   "metadata": {},
   "source": [
    "### Problem 1.9\n",
    "Implement a function that returns Manhattan distance between two vectors represented as a list of numbers. *"
   ]
  },
  {
   "cell_type": "code",
   "execution_count": 105,
   "metadata": {},
   "outputs": [
    {
     "name": "stdout",
     "output_type": "stream",
     "text": [
      "Manhattan distance test 1:\n",
      " [[1. 1. 1.]\n",
      " [0. 0. 0.]\n",
      " [0. 0. 0.]].\n",
      "\n",
      "Manhattan distance (0,0): 1.\n",
      "Manhattan distance (0,1): 1.\n",
      "Manhattan distance (0,2): 1.\n",
      "Manhattan distance (1,0): 0.\n",
      "Manhattan distance (1,1): 0.\n",
      "Manhattan distance (1,2): 0.\n",
      "Manhattan distance (2,0): 0.\n",
      "Manhattan distance (2,1): 0.\n",
      "Manhattan distance (2,2): 0.\n",
      "My function yields the same results as sklearn funciton!\n"
     ]
    }
   ],
   "source": [
    "def Manhattan_distance(X,Y):\n",
    "    xx=np.array(X)\n",
    "    yy=np.array(Y)\n",
    "    dist=np.abs(np.subtract(xx,yy))\n",
    "    return np.sum(dist)\n",
    "\n",
    "#test 1\n",
    "from sklearn.metrics.pairwise import manhattan_distances\n",
    "\n",
    "X=[[1,0,0],[0,0,0],[0,0,0]] \n",
    "Y=[[0,0,0],[0,0,0],[0,0,0]]\n",
    "#I use 3d space, but we have the freedom to chose any number of dimensions\n",
    "#The only requirement is that we should use the following list format [[],[],[],[]]\n",
    "\n",
    "print(\"Manhattan distance test 1:\\n {}.\\n\".format(manhattan_distances(X,Y)))\n",
    "\n",
    "for i in range(len(X)):\n",
    "    for j in range(len(Y)):\n",
    "        print(\"Manhattan distance ({},{}): {}.\".format(i,j,Manhattan_distance(X[i],Y[j])))\n",
    "        \n",
    "print(\"My function yields the same results as sklearn funciton!\")"
   ]
  },
  {
   "cell_type": "markdown",
   "metadata": {},
   "source": [
    "# Statistics II (recap)\n",
    "\n",
    "### Problem 2.1\n",
    "Tossing a coin: Ω = { H, T } and rolling strange die Ω = { 1 , 2 , 3}. If H we roll the die twice if T we roll the die once. Calculate joint PMF. Calculate marginal PMF based on joint ones. Calculate joint and marginal CDF. Write a program that estimates the PMFs distributions."
   ]
  },
  {
   "cell_type": "code",
   "execution_count": 287,
   "metadata": {},
   "outputs": [
    {
     "name": "stdout",
     "output_type": "stream",
     "text": [
      "Read joint PMF from the tables below. Sum index denotes the sum of dices.\n"
     ]
    },
    {
     "data": {
      "text/html": [
       "<div>\n",
       "<style scoped>\n",
       "    .dataframe tbody tr th:only-of-type {\n",
       "        vertical-align: middle;\n",
       "    }\n",
       "\n",
       "    .dataframe tbody tr th {\n",
       "        vertical-align: top;\n",
       "    }\n",
       "\n",
       "    .dataframe thead th {\n",
       "        text-align: right;\n",
       "    }\n",
       "</style>\n",
       "<table border=\"1\" class=\"dataframe\">\n",
       "  <thead>\n",
       "    <tr style=\"text-align: right;\">\n",
       "      <th></th>\n",
       "      <th>sum =</th>\n",
       "      <th>1</th>\n",
       "      <th>2</th>\n",
       "      <th>3</th>\n",
       "      <th>4</th>\n",
       "      <th>5</th>\n",
       "      <th>6</th>\n",
       "    </tr>\n",
       "  </thead>\n",
       "  <tbody>\n",
       "    <tr>\n",
       "      <th>PMF(T,sum)</th>\n",
       "      <td></td>\n",
       "      <td>0</td>\n",
       "      <td>1/18</td>\n",
       "      <td>2/18</td>\n",
       "      <td>3/18</td>\n",
       "      <td>2/18</td>\n",
       "      <td>1/18</td>\n",
       "    </tr>\n",
       "    <tr>\n",
       "      <th>PMF(H,sum)</th>\n",
       "      <td></td>\n",
       "      <td>1/6</td>\n",
       "      <td>1/6</td>\n",
       "      <td>1/6</td>\n",
       "      <td>0</td>\n",
       "      <td>0</td>\n",
       "      <td>0</td>\n",
       "    </tr>\n",
       "    <tr>\n",
       "      <th>Mariginal PMF(T,sum)+PMF(H,sum)</th>\n",
       "      <td></td>\n",
       "      <td>1/6</td>\n",
       "      <td>2/9</td>\n",
       "      <td>5/18</td>\n",
       "      <td>3/18</td>\n",
       "      <td>2/18</td>\n",
       "      <td>1/18</td>\n",
       "    </tr>\n",
       "    <tr>\n",
       "      <th>Mariginal PMF(H)</th>\n",
       "      <td></td>\n",
       "      <td>9/18</td>\n",
       "      <td></td>\n",
       "      <td></td>\n",
       "      <td></td>\n",
       "      <td></td>\n",
       "      <td></td>\n",
       "    </tr>\n",
       "    <tr>\n",
       "      <th>Mariginal PMF(T)</th>\n",
       "      <td></td>\n",
       "      <td>3/6</td>\n",
       "      <td></td>\n",
       "      <td></td>\n",
       "      <td></td>\n",
       "      <td></td>\n",
       "      <td></td>\n",
       "    </tr>\n",
       "  </tbody>\n",
       "</table>\n",
       "</div>"
      ],
      "text/plain": [
       "                                sum =     1     2     3     4     5     6\n",
       "PMF(T,sum)                                0  1/18  2/18  3/18  2/18  1/18\n",
       "PMF(H,sum)                              1/6   1/6   1/6     0     0     0\n",
       "Mariginal PMF(T,sum)+PMF(H,sum)         1/6   2/9  5/18  3/18  2/18  1/18\n",
       "Mariginal PMF(H)                       9/18                              \n",
       "Mariginal PMF(T)                        3/6                              "
      ]
     },
     "metadata": {},
     "output_type": "display_data"
    }
   ],
   "source": [
    "print(\"Read joint PMF from the tables below. Sum index denotes the sum of dices.\")\n",
    "Dane=np.array([[\"\",'0','1/18','2/18','3/18','2/18','1/18'],[\"\",'1/6','1/6','1/6','0','0','0'],[\"\",'1/6','2/9','5/18','3/18','2/18','1/18'],['','9/18','','','','',''],['','3/6','','','','','']])\n",
    " \n",
    "Dane_display= pd.DataFrame(Dane,columns=['sum =','1','2','3','4','5','6'],index=['PMF(T,sum)','PMF(H,sum)','Mariginal PMF(T,sum)+PMF(H,sum)','Mariginal PMF(H)','Mariginal PMF(T)'])\n",
    "display(Dane_display)"
   ]
  },
  {
   "cell_type": "code",
   "execution_count": 286,
   "metadata": {},
   "outputs": [
    {
     "name": "stdout",
     "output_type": "stream",
     "text": [
      "Read joint CMF from the tables below. Sum index denotes the sum of dices.\n"
     ]
    },
    {
     "data": {
      "text/html": [
       "<div>\n",
       "<style scoped>\n",
       "    .dataframe tbody tr th:only-of-type {\n",
       "        vertical-align: middle;\n",
       "    }\n",
       "\n",
       "    .dataframe tbody tr th {\n",
       "        vertical-align: top;\n",
       "    }\n",
       "\n",
       "    .dataframe thead th {\n",
       "        text-align: right;\n",
       "    }\n",
       "</style>\n",
       "<table border=\"1\" class=\"dataframe\">\n",
       "  <thead>\n",
       "    <tr style=\"text-align: right;\">\n",
       "      <th></th>\n",
       "      <th>sum =</th>\n",
       "      <th>1</th>\n",
       "      <th>2</th>\n",
       "      <th>3</th>\n",
       "      <th>4</th>\n",
       "      <th>5</th>\n",
       "      <th>6</th>\n",
       "    </tr>\n",
       "  </thead>\n",
       "  <tbody>\n",
       "    <tr>\n",
       "      <th>CMF(T,sum)</th>\n",
       "      <td></td>\n",
       "      <td>0</td>\n",
       "      <td>1/18</td>\n",
       "      <td>3/18</td>\n",
       "      <td>6/18</td>\n",
       "      <td>8/18</td>\n",
       "      <td>9/18</td>\n",
       "    </tr>\n",
       "    <tr>\n",
       "      <th>CMF(H,sum)</th>\n",
       "      <td></td>\n",
       "      <td>1/6</td>\n",
       "      <td>2/6</td>\n",
       "      <td>3/6</td>\n",
       "      <td>0</td>\n",
       "      <td>0</td>\n",
       "      <td>0</td>\n",
       "    </tr>\n",
       "    <tr>\n",
       "      <th>Mariginal CMF(T,sum)+CMF(H,sum)</th>\n",
       "      <td></td>\n",
       "      <td>1/6</td>\n",
       "      <td>7/18</td>\n",
       "      <td>2/3</td>\n",
       "      <td>5/6</td>\n",
       "      <td>17/18</td>\n",
       "      <td>18/18</td>\n",
       "    </tr>\n",
       "  </tbody>\n",
       "</table>\n",
       "</div>"
      ],
      "text/plain": [
       "                                sum =    1     2     3     4      5      6\n",
       "CMF(T,sum)                               0  1/18  3/18  6/18   8/18   9/18\n",
       "CMF(H,sum)                             1/6   2/6   3/6     0      0      0\n",
       "Mariginal CMF(T,sum)+CMF(H,sum)        1/6  7/18   2/3   5/6  17/18  18/18"
      ]
     },
     "metadata": {},
     "output_type": "display_data"
    }
   ],
   "source": [
    "print(\"Read joint CMF from the tables below. Sum index denotes the sum of dices.\")\n",
    "Dane=np.array([[\"\",'0','1/18','3/18','6/18','8/18','9/18'],[\"\",'1/6','2/6','3/6','0','0','0'],[\"\",'1/6','7/18','2/3','5/6','17/18','18/18']])\n",
    " \n",
    "Dane_display= pd.DataFrame(Dane,columns=['sum =','1','2','3','4','5','6'],index=['CMF(T,sum)','CMF(H,sum)','Mariginal CMF(T,sum)+CMF(H,sum)'])\n",
    "display(Dane_display)"
   ]
  },
  {
   "cell_type": "code",
   "execution_count": 320,
   "metadata": {},
   "outputs": [],
   "source": [
    "# Write a program that estimates the PMFs distributions.\n",
    "def PMF_2(Data):\n",
    "    \n",
    "    pmf_T=np.zeros(6)\n",
    "    pmf_H=np.zeros(6)\n",
    "    \n",
    "    for i in range(len(Data)):\n",
    "        if Data[i][0]==1:\n",
    "            pmf_H[Data[i][1]-1]=pmf_H[Data[i][1]-1]+1\n",
    "        else:\n",
    "            pmf_T[Data[i][1]-1]=pmf_T[Data[i][1]-1]+1\n",
    "\n",
    "    return [pmf_H/np.sum(pmf_H), pmf_T/np.sum(pmf_T)]\n",
    "\n",
    "def roll(n):\n",
    "    outcome=[]\n",
    "    for i in range(n):\n",
    "        outcome.append(np.random.choice(np.arange(1, 4)))\n",
    "    return np.sum(np.array(outcome))\n",
    "\n",
    "def toss_roll(m):\n",
    "    result=[]\n",
    "    for i in range(m):\n",
    "        toss=np.random.choice(np.arange(1,3))\n",
    "        if toss==1:#head\n",
    "            out=toss\n",
    "            die_result=roll(2)\n",
    "        else:#tail \n",
    "            out=toss\n",
    "            die_result=roll(1)\n",
    "        result.append([out, die_result])\n",
    "    return result\n",
    "    \n",
    "Data=toss_roll(10000)\n",
    "\n",
    "PMF_H=PMF_2(Data)[0]\n",
    "PMF_T=PMF_2(Data)[1]\n",
    "\n",
    "CDF_H = np.cumsum(PMF_H)\n",
    "CDF_T = np.cumsum(PMF_T)\n",
    "summ  =  np.arange(0,6)"
   ]
  },
  {
   "cell_type": "code",
   "execution_count": 324,
   "metadata": {},
   "outputs": [
    {
     "data": {
      "image/png": "[encoded data removed]",
      "text/plain": [
       "<Figure size 648x288 with 2 Axes>"
      ]
     },
     "metadata": {
      "needs_background": "light"
     },
     "output_type": "display_data"
    }
   ],
   "source": [
    "figH, (axH1, axH2) = plt.subplots(1, 2,figsize=(9, 4))\n",
    "axH1.set_title(\"PMF_H PLOT\")\n",
    "axH1.set_xlabel(\"SUM OF 2 DICE\")\n",
    "axH1.set_ylabel(\"Probability_density(x=SUM OF 2 DICE)\")\n",
    "axH1.set_xticks(np.arange(0, 6.1, step=1))\n",
    "axH1.vlines(summ, 0, PMF_H, colors='r', linestyles='-', lw=2)\n",
    "axH1.plot(summ, PMF_H, 'ro', ms=3, mec='r')\n",
    "\n",
    "axH2.set_title(\"CDF_H PLOT\")\n",
    "axH2.set_xlabel(\"SUM OF 2 DICE\")\n",
    "axH2.set_ylabel(\"Probability_density(x<SUM OF 2 DICE)\")\n",
    "axH2.set_xticks(np.arange(0, 6.1, step=1))\n",
    "axH2.vlines(summ, 0, CDF_H, colors='r', linestyles='-', lw=2)\n",
    "axH2.plot(summ, CDF_H, 'ro', ms=3, mec='r')\n",
    "plt.show()"
   ]
  },
  {
   "cell_type": "code",
   "execution_count": 323,
   "metadata": {},
   "outputs": [
    {
     "data": {
      "image/png": "[encoded data removed]",
      "text/plain": [
       "<Figure size 648x288 with 2 Axes>"
      ]
     },
     "metadata": {
      "needs_background": "light"
     },
     "output_type": "display_data"
    }
   ],
   "source": [
    "figT, (axT1, axT2) = plt.subplots(1, 2,figsize=(9, 4))\n",
    "axT1.set_title(\"PMF_T PLOT\")\n",
    "axT1.set_xlabel(\"SUM OF 2 DICE\")\n",
    "axT1.set_ylabel(\"Probability_density(x=SUM OF 2 DICE)\")\n",
    "axT1.set_xticks(np.arange(0, 6.1, step=1))\n",
    "axT1.vlines(summ, 0, PMF_T, colors='r', linestyles='-', lw=2)\n",
    "axT1.plot(summ, PMF_T, 'ro', ms=3, mec='r')\n",
    "\n",
    "axT2.set_title(\"CDF_T PLOT\")\n",
    "axT2.set_xlabel(\"SUM OF 2 DICE\")\n",
    "axT2.set_ylabel(\"Probability_density(x<SUM OF 2 DICE)\")\n",
    "axT2.set_xticks(np.arange(0, 6.1, step=1))\n",
    "axT2.vlines(summ, 0, CDF_T, colors='r', linestyles='-', lw=2)\n",
    "axT2.plot(summ, CDF_T, 'ro', ms=3, mec='r')\n",
    "plt.show()"
   ]
  },
  {
   "cell_type": "markdown",
   "metadata": {},
   "source": [
    "### Problem 2.2"
   ]
  },
  {
   "cell_type": "markdown",
   "metadata": {},
   "source": [
    "Let X be uniform in (-1,1) and Y = X*X. Check if X and Y are correlated. Check if X and Y are independent."
   ]
  },
  {
   "cell_type": "markdown",
   "metadata": {},
   "source": [
    "Correlation is defined as:\n",
    "\n",
    "$$\\rho=\\frac{\\text{cov}(X,Y)}{\\sigma_{X}\\sigma_{Y}}.$$\n",
    "\n",
    "The above equation can be expressed as:\n",
    "\n",
    "$$\\rho=\\frac{E[(X-\\mu_{X})]E[(Y-\\mu_{Y})]}{\\sigma_{X}\\sigma_{Y}},$$\n",
    "\n",
    "where $E[(X-\\mu_{X})]=E[(X-\\frac{1}{2})]=0$.\n",
    "Let us notice that $\\sigma_{X}$ is also 0.\n",
    "\n",
    "Consequently, correlation is indeterminate $\\rho=\\frac{0}{0}$.\n",
    "The question of solving this problem is one of solving this indetermination.\n",
    "\n",
    "Internet sources that I've read (i.e. https://stats.stackexchange.com/questions/186745/how-to-find-correlation-between-two-functions) seem to suggest that in this case we have no correlation $\\rho=0$.\n",
    "\n",
    "\n",
    "X and Y are independent because (constant $\\text{pdf}_{X}(x)=\\frac{1}{2}$ can always be factored out during integration):\n",
    "\n",
    "$$E[(XY)]=E[X]E[Y].$$\n",
    "\n",
    "Having established that X,Y are independent we can confirm that in fact $\\rho=0$ in this case. \n"
   ]
  },
  {
   "cell_type": "markdown",
   "metadata": {},
   "source": [
    "### Problem 2.3"
   ]
  },
  {
   "cell_type": "markdown",
   "metadata": {},
   "source": [
    "Implement a function that returns Cov[X,Y]"
   ]
  },
  {
   "cell_type": "code",
   "execution_count": 101,
   "metadata": {},
   "outputs": [
    {
     "name": "stdout",
     "output_type": "stream",
     "text": [
      "Covariance matrix for test 1\n",
      " [[0.5 1. ]\n",
      " [1.  2. ]]\n",
      "Covariance matrix for test 2\n",
      " [[2.  1. ]\n",
      " [1.  0.5]]\n",
      "\n",
      "test 1\n",
      "Covariance X1=[1, 0], X1=[1, 0] amounts to: 0.5\n",
      "Covariance X1=[1, 0], Y1=[1, -1] amounts to: 1.0\n",
      "Covariance Y1=[1, -1], X1=[1, 0] amounts to: 1.0\n",
      "Covariance Y1=[1, -1], Y1=[1, -1] amounts to: 2.0\n",
      "\n",
      "test 2\n",
      "Covariance X2=[1, 3], X2=[1, 3] amounts to: 2.0\n",
      "Covariance X2=[1, 3], Y2=[1, 2] amounts to: 1.0\n",
      "Covariance Y2=[1, 2], X2=[1, 3] amounts to: 1.0\n",
      "Covariance Y2=[1, 2], Y2=[1, 2] amounts to: 0.5\n"
     ]
    }
   ],
   "source": [
    "X1=[1,0]       \n",
    "Y1=[1,-1]      #test 1\n",
    "\n",
    "X2=[1,3]       \n",
    "Y2=[1,2]      #test 2\n",
    "\n",
    "\n",
    "print(\"Covariance matrix for test 1\\n\", np.cov(np.array([X1,Y1])))\n",
    "print(\"Covariance matrix for test 2\\n\", np.cov(np.array([X2,Y2])))\n",
    "\n",
    "#I understood that I am supposed to return invariance between two vectors x,y and \n",
    "#not between all combinations of these vectors.\n",
    "#If that is what the author of the excercise ment,\n",
    "# he shall find comfort in the form that the above tests are written.\n",
    "\n",
    "def Cov(X,Y):\n",
    "    XX=np.array(X)                     #array of numbers\n",
    "    YY=np.array(Y)                     #array of numbers\n",
    "    meanX=np.mean(XX)                  #array of means X\n",
    "    meanY=np.mean(YY)                  #array of means Y\n",
    "    dist=np.sum((XX-meanX)*(YY-meanY)) #sum of (x-mu)^2\n",
    "    cov=dist/(len(XX)-1)\n",
    "    return cov\n",
    "\n",
    "print(\"\\ntest 1\")\n",
    "print(\"Covariance X1={}, X1={} amounts to: {}\".format(X1,X1,Cov(X1,X1)))\n",
    "print(\"Covariance X1={}, Y1={} amounts to: {}\".format(X1,Y1,Cov(X1,Y1)))\n",
    "print(\"Covariance Y1={}, X1={} amounts to: {}\".format(Y1,X1,Cov(Y1,X1)))\n",
    "print(\"Covariance Y1={}, Y1={} amounts to: {}\".format(Y1,Y1,Cov(Y1,Y1)))\n",
    "\n",
    "print(\"\\ntest 2\")\n",
    "print(\"Covariance X2={}, X2={} amounts to: {}\".format(X2,X2,Cov(X2,X2)))\n",
    "print(\"Covariance X2={}, Y2={} amounts to: {}\".format(X2,Y2,Cov(X2,Y2)))\n",
    "print(\"Covariance Y2={}, X2={} amounts to: {}\".format(Y2,X2,Cov(Y2,X2)))\n",
    "print(\"Covariance Y2={}, Y2={} amounts to: {}\".format(Y2,Y2,Cov(Y2,Y2)))"
   ]
  },
  {
   "cell_type": "markdown",
   "metadata": {},
   "source": [
    "### Problem 2.4"
   ]
  },
  {
   "cell_type": "markdown",
   "metadata": {},
   "source": [
    "Implement a function that returns Cosine similarity"
   ]
  },
  {
   "cell_type": "code",
   "execution_count": 40,
   "metadata": {},
   "outputs": [
    {
     "name": "stdout",
     "output_type": "stream",
     "text": [
      "Scipy based solution cosine similarity between two vecotrs: 0.938952955723142.\n",
      "Numpy based solution cosine similarity between two vecotrs: 0.938952955723142.\n"
     ]
    }
   ],
   "source": [
    "from scipy import spatial\n",
    "\n",
    "#test \n",
    "X1 = [1,2,3,4]\n",
    "Y1 = [2,4,2,5]\n",
    "result = 1 - spatial.distance.cosine(X1, Y1)\n",
    "print(\"Scipy based solution cosine similarity between two vecotrs: {}.\".format(result))\n",
    "\n",
    "\n",
    "#solution based on numpy\n",
    "def Cos_sim(X,Y):\n",
    "    cos_sim = np.dot(X,Y)/(np.norm(X)*np.norm(Y))\n",
    "    return cos_sim\n",
    "print(\"Numpy based solution cosine similarity between two vecotrs: {}.\".format(result))"
   ]
  },
  {
   "cell_type": "markdown",
   "metadata": {},
   "source": [
    "### Problem 2.5"
   ]
  },
  {
   "cell_type": "markdown",
   "metadata": {},
   "source": [
    "Implement a function that returns Pearson correlation coefficient"
   ]
  },
  {
   "cell_type": "code",
   "execution_count": 93,
   "metadata": {},
   "outputs": [
    {
     "data": {
      "image/png": "[encoded data removed]",
      "text/plain": [
       "<Figure size 432x288 with 1 Axes>"
      ]
     },
     "metadata": {
      "needs_background": "light"
     },
     "output_type": "display_data"
    },
    {
     "name": "stdout",
     "output_type": "stream",
     "text": [
      "Test 1 pearson correlation coefficient matrix\n",
      "\n",
      " [[1.         0.75864029]\n",
      " [0.75864029 1.        ]]\n",
      "\n",
      "Pearson correlation coefficients obtained using my function\n",
      "\n",
      "Pearson correlation coefficient (X,X): 1.\n",
      "Pearson correlation coefficient (X,Y): 0.75864029.\n",
      "Pearson correlation coefficient (Y,X): 0.75864029.\n",
      "Pearson correlation coefficient (Y,Y): 1.\n",
      "My function yields the same results as sklearn funciton!\n"
     ]
    }
   ],
   "source": [
    "#test 1\n",
    "X = [0, 1, 2, 3, 4, 5, 6, 7, 8, 9]\n",
    "Y = [2, 1, 4, 5, 8, 12, 18, 25, 96, 48]\n",
    "\n",
    "plt.scatter(X,Y)\n",
    "plt.show()\n",
    "\n",
    "r = np.corrcoef(np.array(X), np.array(Y))\n",
    "\n",
    "print(\"Test 1 pearson correlation coefficient matrix\\n\\n\",r)\n",
    "\n",
    "#Pearson's correlation coefficient = covariance(X, Y) / (stdv(X) * stdv(Y))\n",
    "\n",
    "def pearson(X,Y):\n",
    "    pearson=Cov(X,Y)/(np.std(np.array(X))*np.std(np.array(Y)))\n",
    "    return pearson\n",
    "    \n",
    "print(\"\\nPearson correlation coefficients obtained using my function\\n\")\n",
    "\n",
    "print(\"Pearson correlation coefficient ({},{}): {:.8g}.\".format(\"X\",\"X\",pearson(X,X)))\n",
    "print(\"Pearson correlation coefficient ({},{}): {:.8g}.\".format(\"X\",\"Y\",pearson(X,Y)))\n",
    "print(\"Pearson correlation coefficient ({},{}): {:.8g}.\".format(\"Y\",\"X\", pearson(Y,X)))\n",
    "print(\"Pearson correlation coefficient ({},{}): {:.8g}.\".format(\"Y\",\"Y\",pearson(Y,Y)))\n",
    "        \n",
    "print(\"My function yields the same results as sklearn funciton!\")"
   ]
  }
 ],
 "metadata": {
  "kernelspec": {
   "display_name": "Python 3",
   "language": "python",
   "name": "python3"
  },
  "language_info": {
   "codemirror_mode": {
    "name": "ipython",
    "version": 3
   },
   "file_extension": ".py",
   "mimetype": "text/x-python",
   "name": "python",
   "nbconvert_exporter": "python",
   "pygments_lexer": "ipython3",
   "version": "3.8.5"
  }
 },
 "nbformat": 4,
 "nbformat_minor": 4
}
