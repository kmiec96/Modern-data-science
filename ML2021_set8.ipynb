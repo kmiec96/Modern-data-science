{
 "cells": [
  {
   "cell_type": "markdown",
   "metadata": {},
   "source": [
    "# Solutions to Modern Data Science Problems"
   ]
  },
  {
   "cell_type": "markdown",
   "metadata": {},
   "source": [
    "# probelms till 12.02 + problem 33 (Optional)\n",
    "\n",
    "by *Mateusz Kmieć* "
   ]
  },
  {
   "cell_type": "code",
   "execution_count": 3,
   "metadata": {},
   "outputs": [],
   "source": [
    "import numpy as np\n",
    "import matplotlib.pyplot as plt\n",
    "import urllib.request\n",
    "import pandas as pd\n",
    "from sklearn.linear_model import LinearRegression\n",
    "from sklearn.metrics import mean_squared_error\n",
    "import matplotlib.pyplot as plt\n",
    "%matplotlib inline"
   ]
  },
  {
   "cell_type": "markdown",
   "metadata": {},
   "source": [
    "### Problem 33."
   ]
  },
  {
   "cell_type": "markdown",
   "metadata": {},
   "source": [
    "(Optional) - Gauss-Markov theorem\n",
    "\n",
    "Show that the ordinary least squares estimator has the lowest variance among all\n",
    "unbiased linear estimators (is an “efficient” estimator) under the assumptions that:\n",
    "\n",
    "- Its errors have zero expectation values\n",
    "- its variances are equal.\n",
    "- errors are uncorrelated"
   ]
  },
  {
   "cell_type": "markdown",
   "metadata": {},
   "source": [
    "### Problem 51."
   ]
  },
  {
   "cell_type": "markdown",
   "metadata": {},
   "source": [
    "Implement the gradient descent algorithm for linear regression:\n",
    "start with some initial $\\left(\\theta_{1}, \\theta_{0} \\right)$ for every iteration:\n",
    "\n",
    "$$\\theta_{k} = \\theta_{k} – \\alpha \\cdot \\frac{\\partial E(\\theta)}{\\partial \\theta}.$$,\n",
    "\n",
    "where $k=0,1$, $\\alpha$ – learning rate\n",
    "\n",
    "Test your implementation with some data (e.g. x03.csv) and compare with analytical\n",
    "solution:\n",
    "\n",
    "- plot $E(\\theta_{k})$ vs iteration\n",
    "- plot $\\theta_{k}$ vs iteration "
   ]
  },
  {
   "cell_type": "markdown",
   "metadata": {},
   "source": [
    "### Probelm 52."
   ]
  },
  {
   "cell_type": "markdown",
   "metadata": {},
   "source": [
    "Implement the Newton method and test your implementation on data from x03.csv. Once you do it you shall compare it with the analytical\n",
    "solution:\n",
    "\n",
    "- plot $E(\\theta_{k})$ vs iteration\n",
    "\n",
    "- plot $\\theta_{k}$ vs iteration "
   ]
  },
  {
   "cell_type": "markdown",
   "metadata": {},
   "source": [
    "### Problem 60."
   ]
  },
  {
   "cell_type": "markdown",
   "metadata": {},
   "source": [
    "Implement your version of Naive Bayes classifier that reads the training\n",
    "sample in csv format. For simplicity you can assume that the input contains only two\n",
    "classes."
   ]
  },
  {
   "cell_type": "markdown",
   "metadata": {},
   "source": [
    "### Problem 61."
   ]
  },
  {
   "cell_type": "markdown",
   "metadata": {},
   "source": [
    "Assuming the 1-D box kernel with the width w=2 and the following set of data \n",
    "$x_{i} = [1,2.5, 3,3.5,4,6,6.5,7,9]$, use KDE method to estimate pdf for points:\n",
    "    \n",
    "- f(0.5)\n",
    "- f(4)\n",
    "- f(10)"
   ]
  },
  {
   "cell_type": "markdown",
   "metadata": {},
   "source": [
    "### Problem 62. "
   ]
  },
  {
   "cell_type": "markdown",
   "metadata": {},
   "source": [
    "Write a program that implements 1-D KDE estimation. Plot the estimated pdf for the\n",
    "box kernel and the sample data. Plot the same pdf using the gaussian kernel instead."
   ]
  },
  {
   "cell_type": "markdown",
   "metadata": {},
   "source": [
    "### Probelm 63."
   ]
  },
  {
   "cell_type": "markdown",
   "metadata": {},
   "source": [
    "Implement a program to calculate the integral of $f(x) =cos(x)$ and $x$ in $\\left[0,\\frac{\\pi}{2}\\right]$ using MC\n",
    "integration."
   ]
  },
  {
   "cell_type": "markdown",
   "metadata": {},
   "source": [
    "### Probelm 64."
   ]
  },
  {
   "cell_type": "markdown",
   "metadata": {},
   "source": [
    "Show that MC integral error decreases as $\\frac{1}{\\sqrt{N}}$ . "
   ]
  },
  {
   "cell_type": "markdown",
   "metadata": {},
   "source": [
    "### Problem 65."
   ]
  },
  {
   "cell_type": "markdown",
   "metadata": {},
   "source": [
    "Write a random generator using rejection sampling method for $f(x) = sin (x)$ and x in $\\left[0,\\frac{\\pi}{2}\\right]$"
   ]
  },
  {
   "cell_type": "code",
   "execution_count": null,
   "metadata": {},
   "outputs": [],
   "source": []
  }
 ],
 "metadata": {
  "kernelspec": {
   "display_name": "Python 3",
   "language": "python",
   "name": "python3"
  },
  "language_info": {
   "codemirror_mode": {
    "name": "ipython",
    "version": 3
   },
   "file_extension": ".py",
   "mimetype": "text/x-python",
   "name": "python",
   "nbconvert_exporter": "python",
   "pygments_lexer": "ipython3",
   "version": "3.8.5"
  }
 },
 "nbformat": 4,
 "nbformat_minor": 4
}
