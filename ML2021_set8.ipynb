{
 "cells": [
  {
   "cell_type": "markdown",
   "metadata": {},
   "source": [
    "# Solutions to Modern Data Science Problems"
   ]
  },
  {
   "cell_type": "markdown",
   "metadata": {},
   "source": [
    "# probelms till 15.02 + 20.02 + problem 33 (Optional)\n",
    "\n",
    "by *Mateusz Kmieć* "
   ]
  },
  {
   "cell_type": "code",
   "execution_count": 14,
   "metadata": {},
   "outputs": [],
   "source": [
    "import numpy as np\n",
    "import matplotlib.pyplot as plt\n",
    "import math as mt\n",
    "import urllib.request\n",
    "import pandas as pd\n",
    "from sklearn.linear_model import LinearRegression\n",
    "from sklearn.metrics import mean_squared_error\n",
    "from scipy.stats import norm, expon, chi2, uniform\n",
    "from scipy.integrate import quad\n",
    "import matplotlib.pyplot as plt\n",
    "%matplotlib inline"
   ]
  },
  {
   "cell_type": "markdown",
   "metadata": {},
   "source": [
    "### Problem 33. (Optional)"
   ]
  },
  {
   "cell_type": "markdown",
   "metadata": {},
   "source": [
    "Gauss-Markov theorem\n",
    "\n",
    "Show that the ordinary least squares estimator has the lowest variance among all\n",
    "unbiased linear estimators (is an “efficient” estimator) under the assumptions that:\n",
    "\n",
    "- Its errors have zero expectation values\n",
    "- its variances are equal.\n",
    "- errors are uncorrelated"
   ]
  },
  {
   "cell_type": "code",
   "execution_count": null,
   "metadata": {},
   "outputs": [],
   "source": []
  },
  {
   "cell_type": "markdown",
   "metadata": {},
   "source": [
    "### Problem 51. (Optional)"
   ]
  },
  {
   "cell_type": "markdown",
   "metadata": {},
   "source": [
    "Implement the gradient descent algorithm for linear regression:\n",
    "start with some initial $\\left(\\theta_{1}, \\theta_{0} \\right)$ for every iteration:\n",
    "\n",
    "$$\\theta_{k+1} = \\theta_{k} - \\alpha \\cdot \\frac{\\partial E(\\theta_{k})}{\\partial \\theta}.$$,\n",
    "\n",
    "where $k=0,1$, $\\alpha$ – learning rate\n",
    "\n",
    "Test your implementation with some data (e.g. x03.csv) and compare with analytical\n",
    "solution:\n",
    "\n",
    "- plot $E(\\theta_{k})$ vs iteration\n",
    "- plot $\\theta_{k}$ vs iteration "
   ]
  },
  {
   "cell_type": "code",
   "execution_count": 160,
   "metadata": {},
   "outputs": [
    {
     "data": {
      "text/html": [
       "<div>\n",
       "<style scoped>\n",
       "    .dataframe tbody tr th:only-of-type {\n",
       "        vertical-align: middle;\n",
       "    }\n",
       "\n",
       "    .dataframe tbody tr th {\n",
       "        vertical-align: top;\n",
       "    }\n",
       "\n",
       "    .dataframe thead th {\n",
       "        text-align: right;\n",
       "    }\n",
       "</style>\n",
       "<table border=\"1\" class=\"dataframe\">\n",
       "  <thead>\n",
       "    <tr style=\"text-align: right;\">\n",
       "      <th></th>\n",
       "      <th>index</th>\n",
       "      <th>inhabitants</th>\n",
       "      <th>incomeBelow5k</th>\n",
       "      <th>unemployed</th>\n",
       "      <th>murders</th>\n",
       "    </tr>\n",
       "  </thead>\n",
       "  <tbody>\n",
       "    <tr>\n",
       "      <th>0</th>\n",
       "      <td>1</td>\n",
       "      <td>587000</td>\n",
       "      <td>16.5</td>\n",
       "      <td>6.2</td>\n",
       "      <td>11.2</td>\n",
       "    </tr>\n",
       "    <tr>\n",
       "      <th>1</th>\n",
       "      <td>2</td>\n",
       "      <td>643000</td>\n",
       "      <td>20.5</td>\n",
       "      <td>6.4</td>\n",
       "      <td>13.4</td>\n",
       "    </tr>\n",
       "    <tr>\n",
       "      <th>2</th>\n",
       "      <td>3</td>\n",
       "      <td>635000</td>\n",
       "      <td>26.3</td>\n",
       "      <td>9.3</td>\n",
       "      <td>40.7</td>\n",
       "    </tr>\n",
       "    <tr>\n",
       "      <th>3</th>\n",
       "      <td>4</td>\n",
       "      <td>692000</td>\n",
       "      <td>16.5</td>\n",
       "      <td>5.3</td>\n",
       "      <td>5.3</td>\n",
       "    </tr>\n",
       "    <tr>\n",
       "      <th>4</th>\n",
       "      <td>5</td>\n",
       "      <td>1248000</td>\n",
       "      <td>19.2</td>\n",
       "      <td>7.3</td>\n",
       "      <td>24.8</td>\n",
       "    </tr>\n",
       "  </tbody>\n",
       "</table>\n",
       "</div>"
      ],
      "text/plain": [
       "   index  inhabitants  incomeBelow5k  unemployed  murders\n",
       "0      1       587000           16.5         6.2     11.2\n",
       "1      2       643000           20.5         6.4     13.4\n",
       "2      3       635000           26.3         9.3     40.7\n",
       "3      4       692000           16.5         5.3      5.3\n",
       "4      5      1248000           19.2         7.3     24.8"
      ]
     },
     "execution_count": 160,
     "metadata": {},
     "output_type": "execute_result"
    }
   ],
   "source": [
    "#Please note 'raw' prefix in the url and the lack of 'blob' part\n",
    "url='https://raw.github.com/wkrzemien/dataScienceAndML2020/master/datasets/x08.csv'\n",
    "urllib.request.urlretrieve(url,'x08.csv')\n",
    "\n",
    "FILE_NAME = 'x08.csv'\n",
    "\n",
    "data = pd.read_csv(FILE_NAME, names=['index','inhabitants','incomeBelow5k','unemployed','murders'])\n",
    "\n",
    "data.head()\n"
   ]
  },
  {
   "cell_type": "code",
   "execution_count": 161,
   "metadata": {},
   "outputs": [],
   "source": [
    "def loadData(filename):\n",
    "    columns = ['index','inhabitants','incomeBelow5k','unemployed','murders']\n",
    "    data = pd.read_csv(filename, names=columns)\n",
    "    \n",
    "    fraction = 0.75\n",
    "    trainingSet=data.sample(frac=fraction)\n",
    "    testSet=data.drop(trainingSet.index)\n",
    "    \n",
    "    dataset1 = trainingSet['inhabitants']\n",
    "    dataset2 = trainingSet['incomeBelow5k']\n",
    "    dataset3 = trainingSet['unemployed']\n",
    "    dataset4 = trainingSet['murders']\n",
    "    \n",
    "    testset1 = testSet['inhabitants']\n",
    "    testset2 = testSet['incomeBelow5k']\n",
    "    testset3 = testSet['unemployed']\n",
    "    testset4 = testSet['murders']\n",
    "    \n",
    "    \n",
    "    return columns[1:4], [dataset1, dataset2, dataset3], dataset4, [testset1, testset2, testset3], testset4"
   ]
  },
  {
   "cell_type": "code",
   "execution_count": 162,
   "metadata": {},
   "outputs": [
    {
     "name": "stdout",
     "output_type": "stream",
     "text": [
      "done\n"
     ]
    }
   ],
   "source": [
    "class MySimpleLinearRegression():\n",
    "    def __init__(self):\n",
    "        self._theta = [0, 0]\n",
    "        self._error = 0\n",
    "    \n",
    "    #calculation of linear fit parameters gradient descent\n",
    "    def fit_grad_descent(self, X, Y):\n",
    "        \n",
    "        size=len(X)\n",
    "        x=np.array(X).reshape(-1, 1).reshape(size,1)\n",
    "        y = np.array(Y).reshape(-1, 1).reshape(size,1) \n",
    "\n",
    "        #data normalisation for fit\n",
    "        min_x, max_x = np.min(x), np.max(x)\n",
    "        min_y, max_y = np.min(y), np.max(y)\n",
    "        \n",
    "        x=(x-min_x)/(max_x-min_x)\n",
    "        y=(y-min_y)/(max_y-min_y)\n",
    "        \n",
    "        b_current=0\n",
    "        m_current=0\n",
    "        \n",
    "        learning_rate=0.0001\n",
    "        epochs=100000\n",
    "\n",
    "        for i in range(epochs):\n",
    "            y_current = (m_current * x) + b_current\n",
    "            \n",
    "            m_gradient = -2*np.sum(x * (y - y_current))\n",
    "            b_gradient = -2*np.sum(y - y_current)\n",
    "            \n",
    "            m_current = m_current - (learning_rate * m_gradient)\n",
    "            b_current = b_current - (learning_rate * b_gradient)\n",
    "        \n",
    "        #we de-normalise the results for printing\n",
    "        m=m_current*(max_y-min_y)/(max_x-min_x)\n",
    "        b=b_current*(max_y-min_y)+min_y-m*min_x\n",
    "            \n",
    "        self._theta = [b, m]\n",
    "\n",
    "        return self._theta \n",
    "            \n",
    "    def fit_closed_form(self, X, Y):\n",
    "        \n",
    "        size=len(X)\n",
    "        xx=np.array(X).reshape(-1, 1).reshape(size,1)        \n",
    "        min_x, max_x = np.min(xx), np.max(xx) #data normalisation\n",
    "        xx=(xx-min_x)/(max_x-min_x)\n",
    "        x = np.asmatrix(np.c_[np.ones((size,1)),xx])\n",
    "        \n",
    "        y = np.array(Y).reshape(-1, 1).reshape(size,1) \n",
    "        min_y, max_y = np.min(y), np.max(y) #data normalisation\n",
    "        y=(y-min_y)/(max_y-min_y)\n",
    "        \n",
    "       \n",
    "        #calculation of parameters, closed form solution, linear regression OLS.\n",
    "        theta = np.linalg.inv(x.T@x)@x.T@y \n",
    "        \n",
    "        b=theta.item(0)\n",
    "        m=theta.item(1)\n",
    "        \n",
    "        #data de-normalisation for printing\n",
    "        m=m*(max_y-min_y)/(max_x-min_x)\n",
    "        b=b*(max_y-min_y)+min_y-m*min_x\n",
    "        \n",
    "        self._theta = [b,m] \n",
    "        \n",
    "        return self._theta      \n",
    "\n",
    "    def getParams(self):\n",
    "        return self._theta\n",
    "\n",
    "    def predict(self, x):         \n",
    "        return self._theta[1]*x+self._theta[0] \n",
    "    \n",
    "    def getError(self, X, Y):\n",
    "        size=len(X)\n",
    "        xx=np.array(X).reshape(-1, 1).reshape(size,1)\n",
    "        x = np.asmatrix(np.c_[np.ones((size,1)),xx])\n",
    "        y = np.array(Y).reshape(-1, 1).reshape(size,1)  \n",
    "        theta=np.matrix([[self._theta[0]],[self._theta[1]]])        \n",
    "        error=(((x@theta-y).T)@(x@theta-y))*(1/y.shape[0])\n",
    "        self._error = error[0,0]\n",
    "        return self._error\n",
    "print(\"done\")"
   ]
  },
  {
   "cell_type": "code",
   "execution_count": 163,
   "metadata": {},
   "outputs": [
    {
     "name": "stdout",
     "output_type": "stream",
     "text": [
      "done\n"
     ]
    }
   ],
   "source": [
    "def plotData_closed_form(data1, data2, test1, test2, names): \n",
    "    \n",
    "    #model fitting\n",
    "    model = MySimpleLinearRegression()\n",
    "    model.fit_closed_form(data1, data2)\n",
    "    print(\"Parameters [intercept, slope] = \",model.getParams(),\",\")\n",
    "    yPredicted = [model.predict(x) for x in data1]\n",
    "        \n",
    "    #Training error\"\n",
    "    print(\"Training error = {:.4f}\".format(model.getError(data1,data2)))\n",
    "      \n",
    "    #Test error\n",
    "    yPredicted_test = [model.predict(x) for x in test1]\n",
    "    print(\"Test error = {:.4f}\".format(model.getError(test1,test2)))\n",
    "    \n",
    "    #plot the best line and data\n",
    "    plt.scatter(data1, data2)\n",
    "    plt.plot(data1, yPredicted)  \n",
    "    plt.xlabel(names)\n",
    "    plt.ylabel('murder')\n",
    "    plt.show()\n",
    "    \n",
    "print(\"done\")"
   ]
  },
  {
   "cell_type": "code",
   "execution_count": 164,
   "metadata": {},
   "outputs": [
    {
     "name": "stdout",
     "output_type": "stream",
     "text": [
      "done\n"
     ]
    }
   ],
   "source": [
    "def plotData_grad_descent(data1, data2, test1, test2, names):\n",
    "    \n",
    "    #model fitting\n",
    "    model = MySimpleLinearRegression()\n",
    "    model.fit_grad_descent(data1, data2)\n",
    "    print(\"Parameters [intercept, slope] = \",model.getParams(),\",\")\n",
    "    yPredicted = [model.predict(x) for x in data1]\n",
    "        \n",
    "    #Training error\n",
    "    print(\"Training error = {:.4f}\".format(model.getError(data1,data2)))\n",
    "      \n",
    "    #Test error\n",
    "    yPredicted_test = [model.predict(x) for x in test1]\n",
    "    print(\"Test error = {:.4f}\".format(model.getError(test1,test2)))\n",
    "    \n",
    "    #plot the best line and data\n",
    "    plt.scatter(data1, data2)\n",
    "    plt.plot(data1, yPredicted)  \n",
    "    plt.xlabel(names)\n",
    "    plt.ylabel('murder')\n",
    "    plt.show()\n",
    "    \n",
    "print(\"done\")"
   ]
  },
  {
   "cell_type": "code",
   "execution_count": 165,
   "metadata": {},
   "outputs": [
    {
     "name": "stdout",
     "output_type": "stream",
     "text": [
      "done\n"
     ]
    }
   ],
   "source": [
    "def plotData_sklearn(data1, data2, test1, test2, names):\n",
    "    \n",
    "    #formatting data\n",
    "    data1 = np.array(data1).reshape(-1, 1).reshape(len(data1),1)\n",
    "    data2 = np.array(data2).reshape(-1, 1).reshape(len(data2),1)   \n",
    "    test1 = np.array(test1).reshape(-1, 1).reshape(len(test1),1)\n",
    "    test2 = np.array(test2).reshape(-1, 1).reshape(len(test2),1)\n",
    "  \n",
    "    #data normalisation for fit\n",
    "    min_x, max_x = np.min(data1), np.max(data1)\n",
    "    min_y, max_y = np.min(data2), np.max(data2)\n",
    "        \n",
    "    data11=(data1-min_x)/(max_x-min_x)\n",
    "    data22=(data2-min_y)/(max_y-min_y)\n",
    "\n",
    "    #model fitting\n",
    "    model = LinearRegression().fit(np.array(data11), np.array(data22))\n",
    "    \n",
    "    b=model.intercept_[0]\n",
    "    m=model.coef_[0,0]\n",
    "    \n",
    "    #data de-normalisation for printing\n",
    "    m=m*(max_y-min_y)/(max_x-min_x)\n",
    "    b=b*(max_y-min_y)+min_y-m*min_x\n",
    "\n",
    "    print(\"Parameters [intercept, slope] = \",\"[\", b, m,\"],\")\n",
    "    ypred = m*data1+b\n",
    "        \n",
    "    #Training error\n",
    "    print(\"Training error = {:.4f}\".format(mean_squared_error(data2, ypred)))\n",
    "      \n",
    "    #Test error\n",
    "    ytest = m*test1+b\n",
    "    print(\"Test error = {:.4f}\".format(mean_squared_error(test2,ytest)))\n",
    "    \n",
    "    #plot the best line and data\n",
    "    plt.scatter(data1, data2)\n",
    "    plt.plot(data1, ypred)  \n",
    "    plt.xlabel(names)\n",
    "    plt.ylabel('murder')\n",
    "    plt.show()\n",
    "    \n",
    "print(\"done\")"
   ]
  },
  {
   "cell_type": "code",
   "execution_count": 166,
   "metadata": {},
   "outputs": [
    {
     "name": "stdout",
     "output_type": "stream",
     "text": [
      "RESULTS FOR MySimpleLinearRegression()\n",
      "--------------------------------------\n",
      "\n",
      "Parameters [intercept, slope] =  [21.4500518487253, 2.012636414790284e-06] ,\n",
      "Training error = 80.0753\n",
      "Test error = 249.4488\n"
     ]
    },
    {
     "data": {
      "image/png": "[encoded data removed]",
      "text/plain": [
       "<Figure size 432x288 with 1 Axes>"
      ]
     },
     "metadata": {
      "needs_background": "light"
     },
     "output_type": "display_data"
    },
    {
     "name": "stdout",
     "output_type": "stream",
     "text": [
      "Parameters [intercept, slope] =  [-22.697441552044225, 2.2912924860747967] ,\n",
      "Training error = 20.5979\n",
      "Test error = 65.1472\n"
     ]
    },
    {
     "data": {
      "image/png": "[encoded data removed]",
      "text/plain": [
       "<Figure size 432x288 with 1 Axes>"
      ]
     },
     "metadata": {
      "needs_background": "light"
     },
     "output_type": "display_data"
    },
    {
     "name": "stdout",
     "output_type": "stream",
     "text": [
      "Parameters [intercept, slope] =  [-28.970923362592863, 7.147451046590144] ,\n",
      "Training error = 28.3756\n",
      "Test error = 8.4220\n"
     ]
    },
    {
     "data": {
      "image/png": "[encoded data removed]",
      "text/plain": [
       "<Figure size 432x288 with 1 Axes>"
      ]
     },
     "metadata": {
      "needs_background": "light"
     },
     "output_type": "display_data"
    }
   ],
   "source": [
    "print(\"RESULTS FOR MySimpleLinearRegression()\")\n",
    "print(\"--------------------------------------\\n\")\n",
    "\n",
    "names, datas, murder, test_sets, test_murder = loadData(FILE_NAME)\n",
    "for i,d in enumerate(datas):\n",
    "    plotData_closed_form(d.tolist(), murder.tolist(), test_sets[i].tolist(), test_murder.tolist(), names[i])"
   ]
  },
  {
   "cell_type": "code",
   "execution_count": 167,
   "metadata": {},
   "outputs": [
    {
     "name": "stdout",
     "output_type": "stream",
     "text": [
      "RESULTS FOR LinearRegression() from sklearn\n",
      "--------------------------------------\n",
      "\n",
      "Parameters [intercept, slope] =  [ 21.450051848725302 2.0126364147902836e-06 ],\n",
      "Training error = 80.0753\n",
      "Test error = 249.4488\n"
     ]
    },
    {
     "data": {
      "image/png": "[encoded data removed]",
      "text/plain": [
       "<Figure size 432x288 with 1 Axes>"
      ]
     },
     "metadata": {
      "needs_background": "light"
     },
     "output_type": "display_data"
    },
    {
     "name": "stdout",
     "output_type": "stream",
     "text": [
      "Parameters [intercept, slope] =  [ -22.69744155204426 2.2912924860747985 ],\n",
      "Training error = 20.5979\n",
      "Test error = 65.1472\n"
     ]
    },
    {
     "data": {
      "image/png": "[encoded data removed]",
      "text/plain": [
       "<Figure size 432x288 with 1 Axes>"
      ]
     },
     "metadata": {
      "needs_background": "light"
     },
     "output_type": "display_data"
    },
    {
     "name": "stdout",
     "output_type": "stream",
     "text": [
      "Parameters [intercept, slope] =  [ -28.97092336259283 7.14745104659014 ],\n",
      "Training error = 28.3756\n",
      "Test error = 8.4220\n"
     ]
    },
    {
     "data": {
      "image/png": "[encoded data removed]",
      "text/plain": [
       "<Figure size 432x288 with 1 Axes>"
      ]
     },
     "metadata": {
      "needs_background": "light"
     },
     "output_type": "display_data"
    }
   ],
   "source": [
    "print(\"RESULTS FOR LinearRegression() from sklearn\")\n",
    "print(\"--------------------------------------\\n\")\n",
    "\n",
    "#names, datas, murder, test_sets, test_murder = loadData(FILE_NAME)\n",
    "for i,d in enumerate(datas):\n",
    "    plotData_sklearn(d.tolist(), murder.tolist(), test_sets[i].tolist(), test_murder.tolist(), names[i])"
   ]
  },
  {
   "cell_type": "code",
   "execution_count": 169,
   "metadata": {},
   "outputs": [
    {
     "name": "stdout",
     "output_type": "stream",
     "text": [
      "RESULTS FOR MySimpleLinearRegression()\n",
      "--------------------------------------\n",
      "\n",
      "Parameters [intercept, slope] =  [19.32354850598734, 2.799922841748477e-06] ,\n",
      "Training error = 94.6891\n",
      "Test error = 228.0820\n"
     ]
    },
    {
     "data": {
      "image/png": "[encoded data removed]",
      "text/plain": [
       "<Figure size 432x288 with 1 Axes>"
      ]
     },
     "metadata": {
      "needs_background": "light"
     },
     "output_type": "display_data"
    },
    {
     "name": "stdout",
     "output_type": "stream",
     "text": [
      "Parameters [intercept, slope] =  [-26.69626298067207, 2.4462181917142094] ,\n",
      "Training error = 32.0661\n",
      "Test error = 17.4741\n"
     ]
    },
    {
     "data": {
      "image/png": "[encoded data removed]",
      "text/plain": [
       "<Figure size 432x288 with 1 Axes>"
      ]
     },
     "metadata": {
      "needs_background": "light"
     },
     "output_type": "display_data"
    },
    {
     "name": "stdout",
     "output_type": "stream",
     "text": [
      "Parameters [intercept, slope] =  [-31.216717042631913, 7.404527266439441] ,\n",
      "Training error = 28.0309\n",
      "Test error = 10.7741\n"
     ]
    },
    {
     "data": {
      "image/png": "[encoded data removed]",
      "text/plain": [
       "<Figure size 432x288 with 1 Axes>"
      ]
     },
     "metadata": {
      "needs_background": "light"
     },
     "output_type": "display_data"
    }
   ],
   "source": [
    "print(\"RESULTS FOR MySimpleLinearRegression()\")\n",
    "print(\"--------------------------------------\\n\")\n",
    "\n",
    "names, datas, murder, test_sets, test_murder = loadData(FILE_NAME)\n",
    "for i,d in enumerate(datas):\n",
    "    plotData_grad_descent(d.tolist(), murder.tolist(), test_sets[i].tolist(), test_murder.tolist(), names[i])"
   ]
  },
  {
   "cell_type": "markdown",
   "metadata": {},
   "source": [
    "### Probelm 52. (Optional)"
   ]
  },
  {
   "cell_type": "markdown",
   "metadata": {},
   "source": [
    "Implement the Newton method and test your implementation on data from x03.csv. Once you do it you shall compare it with the analytical\n",
    "solution:\n",
    "\n",
    "- plot $E(\\theta_{k})$ vs iteration\n",
    "\n",
    "- plot $\\theta_{k}$ vs iteration "
   ]
  },
  {
   "cell_type": "markdown",
   "metadata": {},
   "source": [
    "Since Hessian for linear function $\\Sigma_{i=0}^{N} (y-mx-b)^{2}$ has no inverse I cannot use the Newton method for the linear model optimisation. That is why I am going to use a different set of data. I will try to fit a quadratic function to age vs blood_pressure dataset."
   ]
  },
  {
   "cell_type": "code",
   "execution_count": 245,
   "metadata": {},
   "outputs": [
    {
     "name": "stdout",
     "output_type": "stream",
     "text": [
      "done\n"
     ]
    }
   ],
   "source": [
    "class MySimpleNewtonRegression():\n",
    "    def __init__(self):\n",
    "        self._theta = 0\n",
    "        self._error = 0\n",
    "            \n",
    "    def fit_newton(self, X, Y):\n",
    "\n",
    "        size=len(X)\n",
    "        x = np.array(X).reshape(-1, 1).reshape(size,1)\n",
    "        y = np.array(Y).reshape(-1, 1).reshape(size,1)      \n",
    "     \n",
    "        m_current=0\n",
    "        \n",
    "        learning_rate=1\n",
    "        epochs=100\n",
    "        for i in range(epochs):\n",
    "\n",
    "            m_gradient = -(2/y.shape[0])*np.sum(x*x*(y-m_current*m_current*x*x-10)*(2*m_current*x*x))\n",
    "            if(i==1):\n",
    "                print(m_gradient)\n",
    "            #error=(y-y_current).T@(y-y_current)*(1/y.shape[0])\n",
    "            m_current = m_current - learning_rate*(m_gradient/np.sum(12*m_current*m_current*x*x*x*x))\n",
    "            if(i==1):\n",
    "                print(m_current)\n",
    "\n",
    "        self._theta = m_current\n",
    "\n",
    "        return self._theta      \n",
    "\n",
    "    def getParams(self):\n",
    "        return self._theta\n",
    "\n",
    "    def predict(self, x):         \n",
    "        return self._theta*self._theta*np.sum(x*x) + 10\n",
    "    \n",
    "    def getError(self, X, Y):\n",
    "        size=len(X)\n",
    "        x=np.array(X).reshape(-1, 1).reshape(size,1)\n",
    "        y = np.array(Y).reshape(-1, 1).reshape(size,1)  \n",
    "        y_current=self._theta*self._theta*x*x+self._theta  \n",
    "        error=(y-y_current).T*(y-y_current)*(1/y.shape[0])\n",
    "        self._error = 0\n",
    "        return self._error\n",
    "print(\"done\")"
   ]
  },
  {
   "cell_type": "code",
   "execution_count": 205,
   "metadata": {},
   "outputs": [
    {
     "data": {
      "text/html": [
       "<div>\n",
       "<style scoped>\n",
       "    .dataframe tbody tr th:only-of-type {\n",
       "        vertical-align: middle;\n",
       "    }\n",
       "\n",
       "    .dataframe tbody tr th {\n",
       "        vertical-align: top;\n",
       "    }\n",
       "\n",
       "    .dataframe thead th {\n",
       "        text-align: right;\n",
       "    }\n",
       "</style>\n",
       "<table border=\"1\" class=\"dataframe\">\n",
       "  <thead>\n",
       "    <tr style=\"text-align: right;\">\n",
       "      <th></th>\n",
       "      <th>index</th>\n",
       "      <th>one</th>\n",
       "      <th>age</th>\n",
       "      <th>blood_pressure</th>\n",
       "    </tr>\n",
       "  </thead>\n",
       "  <tbody>\n",
       "    <tr>\n",
       "      <th>0</th>\n",
       "      <td>1</td>\n",
       "      <td>1</td>\n",
       "      <td>39</td>\n",
       "      <td>144</td>\n",
       "    </tr>\n",
       "    <tr>\n",
       "      <th>1</th>\n",
       "      <td>2</td>\n",
       "      <td>1</td>\n",
       "      <td>47</td>\n",
       "      <td>220</td>\n",
       "    </tr>\n",
       "    <tr>\n",
       "      <th>2</th>\n",
       "      <td>3</td>\n",
       "      <td>1</td>\n",
       "      <td>45</td>\n",
       "      <td>138</td>\n",
       "    </tr>\n",
       "    <tr>\n",
       "      <th>3</th>\n",
       "      <td>4</td>\n",
       "      <td>1</td>\n",
       "      <td>47</td>\n",
       "      <td>145</td>\n",
       "    </tr>\n",
       "    <tr>\n",
       "      <th>4</th>\n",
       "      <td>5</td>\n",
       "      <td>1</td>\n",
       "      <td>65</td>\n",
       "      <td>162</td>\n",
       "    </tr>\n",
       "  </tbody>\n",
       "</table>\n",
       "</div>"
      ],
      "text/plain": [
       "   index  one  age  blood_pressure\n",
       "0      1    1   39             144\n",
       "1      2    1   47             220\n",
       "2      3    1   45             138\n",
       "3      4    1   47             145\n",
       "4      5    1   65             162"
      ]
     },
     "execution_count": 205,
     "metadata": {},
     "output_type": "execute_result"
    }
   ],
   "source": [
    "#Please note 'raw' prefix in the url and the lack of 'blob' part\n",
    "url='https://raw.github.com/wkrzemien/dataScienceAndML2020/master/datasets/x03.csv'\n",
    "urllib.request.urlretrieve(url,'x03.csv')\n",
    "\n",
    "FILE_NAME = 'x03.csv'\n",
    "\n",
    "data=pd.read_csv(FILE_NAME)\n",
    "\n",
    "data.head(5)"
   ]
  },
  {
   "cell_type": "code",
   "execution_count": 206,
   "metadata": {},
   "outputs": [],
   "source": [
    "def load_NEWTON_Data(filename):\n",
    "    data = pd.read_csv(filename)\n",
    "    \n",
    "    fraction = 0.75\n",
    "    trainingSet=data.sample(frac=fraction)\n",
    "    testSet=data.drop(trainingSet.index)\n",
    "    \n",
    "    dataset1 = trainingSet['age']\n",
    "    dataset2 = trainingSet['blood_pressure']\n",
    "    \n",
    "    testset1 = testSet['age']\n",
    "    testset2 = testSet['blood_pressure']\n",
    "\n",
    "    return dataset1, dataset2, testset1, testset2"
   ]
  },
  {
   "cell_type": "code",
   "execution_count": 249,
   "metadata": {},
   "outputs": [
    {
     "name": "stdout",
     "output_type": "stream",
     "text": [
      "done\n"
     ]
    }
   ],
   "source": [
    "def plotData_newton(data1, data2, test1, test2):\n",
    "    \n",
    "    #data normalisation for fit\n",
    "    min_x, max_x = np.min(data1), np.max(data1)\n",
    "    min_y, max_y = np.min(data2), np.max(data2)\n",
    "        \n",
    "    data1=(data1-min_x)/(max_x-min_x)\n",
    "    data2=(data2-min_y)/(max_y-min_y)\n",
    "    \n",
    "    #model fitting\n",
    "    model = MySimpleNewtonRegression()\n",
    "    model.fit_newton(data1, data2)\n",
    "    print(\"Parameter m = \", model.getParams(),\",\")\n",
    "    yPredicted = [model.predict(x) for x in data1]\n",
    "        \n",
    "    #Training error\n",
    "    print(\"Training error = {:.4f}\".format(model.getError(data1,data2)))\n",
    "      \n",
    "    #Test error\n",
    "    yPredicted_test = [model.predict(x) for x in test1]\n",
    "    print(\"Test error = {:.4f}\".format(model.getError(test1,test2)))\n",
    "    \n",
    "    #plot the best line and data\n",
    "    plt.scatter(data1, data2)\n",
    "    plt.plot(data1, yPredicted)  \n",
    "    plt.xlabel('age')\n",
    "    plt.ylabel('blood_pressure')\n",
    "    plt.show()\n",
    "    \n",
    "print(\"done\")"
   ]
  },
  {
   "cell_type": "code",
   "execution_count": null,
   "metadata": {},
   "outputs": [],
   "source": [
    "print(\"RESULTS FOR MySimpleLinearRegression()\")\n",
    "print(\"--------------------------------------\\n\")\n",
    "\n",
    "dataset1, dataset2, testset1, testset2 = load_NEWTON_Data(FILE_NAME)\n",
    "\n",
    "plotData_newton(dataset1, dataset2, testset1, testset2)"
   ]
  },
  {
   "cell_type": "markdown",
   "metadata": {},
   "source": [
    "### Problem 60. (Optional)"
   ]
  },
  {
   "cell_type": "markdown",
   "metadata": {},
   "source": [
    "Implement your version of Naive Bayes classifier that reads the training\n",
    "sample in csv format. For simplicity you can assume that the input contains only two\n",
    "classes."
   ]
  },
  {
   "cell_type": "code",
   "execution_count": null,
   "metadata": {},
   "outputs": [],
   "source": []
  },
  {
   "cell_type": "markdown",
   "metadata": {},
   "source": [
    "### Problem 61."
   ]
  },
  {
   "cell_type": "markdown",
   "metadata": {},
   "source": [
    "Assuming the 1-D box kernel with the width w=2 and the following set of data \n",
    "$x_{i} = [1,2.5, 3,3.5,4,6,6.5,7,9]$, use KDE method to estimate pdf for points:\n",
    "    \n",
    "- f(0.5)\n",
    "- f(4)\n",
    "- f(10)"
   ]
  },
  {
   "cell_type": "markdown",
   "metadata": {},
   "source": [
    "#### In this problem I didn't normalise distribution as I wanted to have integer values of f(argument) !!!!"
   ]
  },
  {
   "cell_type": "code",
   "execution_count": 122,
   "metadata": {},
   "outputs": [
    {
     "name": "stdout",
     "output_type": "stream",
     "text": [
      "f(0.5) = 1\n",
      "f(4) = 2\n",
      "f(10) = 0\n"
     ]
    },
    {
     "data": {
      "image/png": "[encoded data removed]",
      "text/plain": [
       "<Figure size 432x288 with 1 Axes>"
      ]
     },
     "metadata": {
      "needs_background": "light"
     },
     "output_type": "display_data"
    }
   ],
   "source": [
    "argument=[0.5, 4, 10] #We are calculating f(argument)\n",
    "\n",
    "bin_width=2\n",
    "x=[1, 2.5, 3, 3.5, 4, 6, 6.5, 7, 9]\n",
    "\n",
    "def Kernel(xi, xx, bin_width):\n",
    "    return (abs(xi - xx)<0.5*bin_width)\n",
    "\n",
    "xx = np.linspace(0, 10, 2000)\n",
    "density = sum(Kernel(xi,xx, bin_width) for xi in x)\n",
    "    \n",
    "#f(0.5)\n",
    "min_xx0=np.argmin(np.abs(np.array(xx)-argument[0]))\n",
    "print(\"f(0.5) = {}\".format(density[min_xx0]))\n",
    "\n",
    "#f(4)\n",
    "min_xx1=np.argmin(np.abs(np.array(xx)-argument[1]))\n",
    "print(\"f(4) = {}\".format(density[min_xx1]))\n",
    "\n",
    "#f(10)\n",
    "min_xx2=np.argmin(np.abs(np.array(xx)-argument[2]))\n",
    "print(\"f(10) = {}\".format(density[min_xx2]))\n",
    "\n",
    "\n",
    "plt.fill_between(xx, density, alpha=0.5)\n",
    "\n",
    "#f(argument) values are marked with red rectangles\n",
    "plt.plot(0.5, np.full_like(0.5, density[min_xx0]), '|r', markeredgewidth=5)\n",
    "plt.plot(4, np.full_like(4, density[min_xx1]), '|r', markeredgewidth=5)\n",
    "plt.plot(10, np.full_like(10, density[min_xx2]), '|r', markeredgewidth=5)\n",
    "\n",
    "plt.axis([-1, 11, 0, 5]);"
   ]
  },
  {
   "cell_type": "markdown",
   "metadata": {},
   "source": [
    "### Problem 62. "
   ]
  },
  {
   "cell_type": "markdown",
   "metadata": {},
   "source": [
    "Write a program that implements 1-D KDE estimation. Plot the estimated pdf for the\n",
    "box kernel and the sample data. Plot the same pdf using the gaussian kernel instead."
   ]
  },
  {
   "cell_type": "code",
   "execution_count": 110,
   "metadata": {},
   "outputs": [
    {
     "data": {
      "image/png": "[encoded data removed]",
      "text/plain": [
       "<Figure size 432x288 with 1 Axes>"
      ]
     },
     "metadata": {
      "needs_background": "light"
     },
     "output_type": "display_data"
    }
   ],
   "source": [
    "bin_width=2\n",
    "x=[1, 2.5, 3, 3.5, 4, 6, 6.5, 7, 9]\n",
    "\n",
    "def Kernel(xi, xx, bin_width):\n",
    "    return (abs(xi - xx)<0.5*bin_width)\n",
    "\n",
    "xx = np.linspace(0, 10, 2000)\n",
    "density = sum(Kernel(xi,xx, bin_width) for xi in x)/len(x)\n",
    "\n",
    "plt.fill_between(xx, density, alpha=0.5)\n",
    "\n",
    "\n",
    "plt.axis([-1, 11, 0, 0.5]);"
   ]
  },
  {
   "cell_type": "code",
   "execution_count": 107,
   "metadata": {},
   "outputs": [
    {
     "data": {
      "image/png": "[encoded data removed]",
      "text/plain": [
       "<Figure size 432x288 with 1 Axes>"
      ]
     },
     "metadata": {
      "needs_background": "light"
     },
     "output_type": "display_data"
    }
   ],
   "source": [
    "from scipy.stats import norm\n",
    "\n",
    "sigma=1\n",
    "x=[1, 2.5, 3, 3.5, 4, 6, 6.5, 7, 9]\n",
    "\n",
    "def Kernel_Gaussian(xi, xx, sigma):\n",
    "    return (norm(xi,sigma).pdf(xx))\n",
    "\n",
    "xx = np.linspace(0, 10, 2000)\n",
    "density = sum(Kernel_Gaussian(xi,xx, sigma) for xi in x)/len(x)\n",
    "\n",
    "plt.fill_between(xx, density, alpha=0.5)\n",
    "\n",
    "\n",
    "plt.axis([-1, 11, 0, 0.2]);"
   ]
  },
  {
   "cell_type": "markdown",
   "metadata": {},
   "source": [
    "### Probelm 63."
   ]
  },
  {
   "cell_type": "markdown",
   "metadata": {},
   "source": [
    "Implement a program to calculate the integral of $f(x) =cos(x)$ and $x$ in $\\left[0,\\frac{\\pi}{2}\\right]$ using MC\n",
    "integration."
   ]
  },
  {
   "cell_type": "code",
   "execution_count": 69,
   "metadata": {},
   "outputs": [
    {
     "data": {
      "image/png": "[encoded data removed]",
      "text/plain": [
       "<Figure size 432x288 with 1 Axes>"
      ]
     },
     "metadata": {
      "needs_background": "light"
     },
     "output_type": "display_data"
    },
    {
     "name": "stdout",
     "output_type": "stream",
     "text": [
      "The integral that we are looking is around ~1.00.\n",
      "Which can be compared with the scipy library numerical solution ~1.00.\n",
      "Analytical solution of integral(cos(x),0,pi/2) = 1.00.\n",
      "Luckily, we obtained a numerical solution which is congruent with the analytical solution. :)\n"
     ]
    }
   ],
   "source": [
    "sample_size=10000\n",
    "\n",
    "def toy_dist(x):\n",
    "    return np.cos(x)\n",
    "\n",
    "x = np.linspace(0,mt.pi/2, sample_size*10)\n",
    "\n",
    "\n",
    "def accept_rejection_sampling(dist, size = 1):\n",
    "    naccept=0\n",
    "    ymax=np.max(dist)\n",
    "    samples=[]\n",
    "    \n",
    "    while size>0:  \n",
    "        x=np.random.uniform(0,mt.pi/2)  \n",
    "        y=np.random.uniform(0,ymax)   \n",
    "        if y<toy_dist(x):  \n",
    "            samples.append(x)  \n",
    "            naccept=naccept+1  \n",
    "        size=size-1;\n",
    "    samples=np.array(samples)  \n",
    "    \n",
    "    return samples, naccept\n",
    "\n",
    "\n",
    "samples, naccept = accept_rejection_sampling(toy_dist(x), size = sample_size)\n",
    "\n",
    "fig, ax = plt.subplots(1, 1)\n",
    "ax.plot(x, toy_dist(x), 'r-', lw=5, alpha=0.6, label='cos(x) pdf')\n",
    "ax.hist(samples, density=True, histtype='stepfilled', alpha=0.2, bins = 40, label = \"sampled\")\n",
    "ax.legend(loc='best', frameon=False)\n",
    "plt.show()\n",
    "\n",
    "rectangle_area=mt.pi*0.5*1\n",
    "\n",
    "integral=rectangle_area*(naccept/sample_size)\n",
    "integral_scipy=quad(toy_dist, 0, mt.pi/2)\n",
    "print(\"The integral that we are looking is around ~{:.2f}.\".format(integral))\n",
    "print(\"Which can be compared with the scipy library numerical solution ~{:.2f}.\".format(integral_scipy[0]))\n",
    "print(\"Analytical solution of integral(cos(x),0,pi/2) = 1.00.\")\n",
    "print(\"Luckily, we obtained a numerical solution which is congruent with the analytical solution. :)\")"
   ]
  },
  {
   "cell_type": "markdown",
   "metadata": {},
   "source": [
    "### Probelm 64."
   ]
  },
  {
   "cell_type": "markdown",
   "metadata": {},
   "source": [
    "Show that MC integral error decreases as $\\frac{1}{\\sqrt{N}}$ . "
   ]
  },
  {
   "cell_type": "markdown",
   "metadata": {},
   "source": [
    "I will present the heuristic proof of this property MC integrating algorithms based on importance sampling."
   ]
  },
  {
   "cell_type": "markdown",
   "metadata": {},
   "source": [
    "The central equation of importance sampling in 1-D is:"
   ]
  },
  {
   "cell_type": "markdown",
   "metadata": {},
   "source": [
    "(1) $$\\int_{a}^{b}f(x)dx \\cong \\frac{(b-a)}{N}\\sum_{i=1}^{N} f(x_{i}) \\cong (b-a)E[f(x)].$$"
   ]
  },
  {
   "cell_type": "markdown",
   "metadata": {},
   "source": [
    "Let us notice that:"
   ]
  },
  {
   "cell_type": "markdown",
   "metadata": {},
   "source": [
    "(2) $$\\text{Var}(\\text{mean})=\\text{Var}\\left(\\frac{1}{N}\\sum_{1}^{N}X_{i}\\right)=\\frac{1}{N^{2}}\\text{Var}\\left(\\sum_{i=1}^{N}X_{i}\\right)=\\frac{1}{N^{2}}\\text{Var}(X_{1}+...+X_{N})=\\frac{N}{N^{2}}\\text{Var(X)}=\\frac{1}{N}\\text{Var}\\left(X\\right)$$"
   ]
  },
  {
   "cell_type": "markdown",
   "metadata": {},
   "source": [
    "Consequently, (1) can be written as:"
   ]
  },
  {
   "cell_type": "markdown",
   "metadata": {},
   "source": [
    "(3) $$\\text{Var}\\left((b-a)E\\left[f(x)\\right]\\right)=\\frac{(b-a)^{2}}{N}\\text{Var}\\left(f(x)\\right).$$"
   ]
  },
  {
   "cell_type": "markdown",
   "metadata": {},
   "source": [
    "We know that the integration error can be written as:"
   ]
  },
  {
   "cell_type": "markdown",
   "metadata": {},
   "source": [
    "(4) $$\\text{error}=\\sqrt{\\text{Var}\\left((b-a)E(f(x))\\right)}=\\frac{(b-a)}{\\sqrt{N}}\\sqrt{\\text{Var}(f(x))}.$$"
   ]
  },
  {
   "cell_type": "markdown",
   "metadata": {},
   "source": [
    "Which can be generelised for $n$-dimentsions (integration over n-dimensional space of volume $V$):"
   ]
  },
  {
   "cell_type": "markdown",
   "metadata": {},
   "source": [
    "(5) $$\\text{error}=\\frac{V}{\\sqrt{N}}\\sqrt{\\text{Var}(f(x))}.$$"
   ]
  },
  {
   "cell_type": "markdown",
   "metadata": {},
   "source": [
    "We can see that the form of equetion (5) is independent of the number of dimensions that we are integrating over. The aforementioned property makes the MC integration insensitive to the curse of dimensionality QED."
   ]
  },
  {
   "cell_type": "markdown",
   "metadata": {},
   "source": [
    "### Problem 65."
   ]
  },
  {
   "cell_type": "markdown",
   "metadata": {},
   "source": [
    "Write a random generator using rejection sampling method for $f(x) = sin (x)$ and x in $\\left[0,\\frac{\\pi}{2}\\right]$."
   ]
  },
  {
   "cell_type": "code",
   "execution_count": 20,
   "metadata": {},
   "outputs": [
    {
     "data": {
      "image/png": "[encoded data removed]",
      "text/plain": [
       "<Figure size 432x288 with 1 Axes>"
      ]
     },
     "metadata": {
      "needs_background": "light"
     },
     "output_type": "display_data"
    }
   ],
   "source": [
    "def toy_dist(x):\n",
    "    return np.sin(x)\n",
    "\n",
    "x = np.linspace(0,mt.pi/2,1000)\n",
    "\n",
    "\n",
    "def accept_rejection_sampling(dist, size = 1):\n",
    "    naccept=0\n",
    "    ymax=np.max(dist)\n",
    "    samples=[]\n",
    "    \n",
    "    while naccept<size:  \n",
    "        x=np.random.uniform(0,mt.pi/2)  \n",
    "        y=np.random.uniform(0,ymax)   \n",
    "        if y<toy_dist(x):  \n",
    "            samples.append(x)  \n",
    "            naccept=naccept+1  \n",
    "    samples=np.array(samples)  \n",
    "    \n",
    "    return samples\n",
    "\n",
    "\n",
    "samples = accept_rejection_sampling(toy_dist(x), size = 10000)\n",
    "\n",
    "fig, ax = plt.subplots(1, 1)\n",
    "ax.plot(x, toy_dist(x), 'r-', lw=5, alpha=0.6, label='sin(x) pdf')\n",
    "ax.hist(samples, density=True, histtype='stepfilled', alpha=0.2, bins = 40, label = \"sampled\")\n",
    "ax.legend(loc='best', frameon=False)\n",
    "plt.show()"
   ]
  },
  {
   "cell_type": "markdown",
   "metadata": {},
   "source": [
    "### Problem 66."
   ]
  },
  {
   "cell_type": "markdown",
   "metadata": {},
   "source": [
    "Write a random generator that generates exponential distribution using inverse\n",
    "sampling."
   ]
  },
  {
   "cell_type": "code",
   "execution_count": 43,
   "metadata": {},
   "outputs": [
    {
     "data": {
      "image/png": "[encoded data removed]",
      "text/plain": [
       "<Figure size 432x288 with 1 Axes>"
      ]
     },
     "metadata": {
      "needs_background": "light"
     },
     "output_type": "display_data"
    }
   ],
   "source": [
    "x = np.linspace(0, 10, 1000)\n",
    "\n",
    "#Manually defined inverse exponential distribution cdf\n",
    "def inverse_cdf_exp_dist(lamb=1.0):\n",
    "    return (-1 / lamb)*mt.log(1 - np.random.random())\n",
    "\n",
    "#manually defined exponential pdf\n",
    "def exp_pdf(x, lamb):\n",
    "    return lamb*np.exp(-lamb*x)\n",
    "\n",
    "lamb=1\n",
    "\n",
    "fig, ax = plt.subplots(1, 1)\n",
    "ax.plot(x, exp_pdf(x,lamb), 'r-', lw=5, alpha=0.6, label='exp(-x) pdf')\n",
    "plt.hist([inverse_cdf_exp_dist() for i in range(1000)], density=True, histtype='stepfilled', alpha=0.2, bins = 40, label = \"sampled exponential pdf using inverse sampling\")\n",
    "ax.legend(loc='best', frameon=False)\n",
    "plt.show()"
   ]
  },
  {
   "cell_type": "markdown",
   "metadata": {},
   "source": [
    "### Problem 67. (Optional)"
   ]
  },
  {
   "cell_type": "markdown",
   "metadata": {},
   "source": [
    "Write a generator that simulates the decay of a particle with mass M into\n",
    "two photons. Let’s assume that the particle is moving in the LAB frame with some velocity\n",
    "V. Plot the simulated angular distributions in the LAB and CM frames."
   ]
  },
  {
   "cell_type": "code",
   "execution_count": null,
   "metadata": {},
   "outputs": [],
   "source": []
  },
  {
   "cell_type": "markdown",
   "metadata": {},
   "source": [
    "### Probelm 68. "
   ]
  },
  {
   "cell_type": "markdown",
   "metadata": {},
   "source": [
    "Give examples of the NN weights values that would act as OR and NOT gates."
   ]
  },
  {
   "cell_type": "markdown",
   "metadata": {},
   "source": [
    "In this problem I assume that the activation function is sigmoid function. As a result we obtain number from within the interval $\\left[0,1\\right]$. I assign 1 to all outputs which are greater or equal $0.5$ and 0 otherwise. "
   ]
  },
  {
   "cell_type": "markdown",
   "metadata": {},
   "source": [
    "##### OR GATE"
   ]
  },
  {
   "cell_type": "markdown",
   "metadata": {},
   "source": [
    "Therefore for OR gate we have $g(\\theta_{0}x_{0}+\\theta_{1}x_{1}+\\theta_{2}x_{2})=g(-1+x_{1}+x_{2})$, where $(\\theta_{0}=-1,\\theta_{1}=1,\\theta_{2}=1)$"
   ]
  },
  {
   "cell_type": "markdown",
   "metadata": {},
   "source": [
    "Naturally, we could also use other combinations of weights such as $(\\theta_{0}=-1,\\theta_{1}=2,\\theta_{2}=2)$ or $(\\theta_{0}=-7,\\theta_{1}=8,\\theta_{2}=8)$ and so on."
   ]
  },
  {
   "cell_type": "markdown",
   "metadata": {},
   "source": [
    "##### NOT GATE"
   ]
  },
  {
   "cell_type": "markdown",
   "metadata": {},
   "source": [
    "For NOT gate we have $g(\\theta_{0}x_{0}+\\theta_{1}x_{1})=g(1-2x_{1})$, where $(\\theta_{0}=1,\\theta_{1}=-2)$."
   ]
  },
  {
   "cell_type": "markdown",
   "metadata": {},
   "source": [
    "Here there are also other possible choices of parameters for example $(\\theta_{0}=1, \\theta_{1}=-4)$."
   ]
  },
  {
   "cell_type": "markdown",
   "metadata": {},
   "source": [
    "If we assigned 1 to outputs less or equal to $0.5$ we could write the activation function for NOT gate as:"
   ]
  },
  {
   "cell_type": "markdown",
   "metadata": {},
   "source": [
    "$g(\\theta_{0}x_{0}+\\theta_{1}x_{1})=g(1-x_{1})$, where $(\\theta_{0}=1,\\theta_{1}=-1)$."
   ]
  },
  {
   "cell_type": "markdown",
   "metadata": {},
   "source": [
    "### Problem 69."
   ]
  },
  {
   "cell_type": "markdown",
   "metadata": {},
   "source": [
    "Calculate derivatives of the activation functions and express it (if possible) by the\n",
    "function itself."
   ]
  },
  {
   "cell_type": "markdown",
   "metadata": {},
   "source": [
    "On slide 44 lecture 12 the activation function was chosen to be the logistic function."
   ]
  },
  {
   "cell_type": "markdown",
   "metadata": {},
   "source": [
    "(44) $$\\frac{d}{d z}S(z)=\\frac{d}{d z}\\left(\\frac{1}{1+e^{-z}}\\right)=\\frac{e^{-z}}{(1+e^{-z})^{2}}=\\frac{1}{1+e^{-z}}\\frac{e^{-z}}{1+e^{-z}}.$$"
   ]
  },
  {
   "cell_type": "markdown",
   "metadata": {},
   "source": [
    "The first factorial in (44) is $S(z)$ therefore:\n",
    "\n",
    "(45)$$\\frac{d}{d z}S(z)=S(z)\\frac{-1+1+e^{-z}}{1+e^{-z}}=S(z)(1-S(z)).$$"
   ]
  },
  {
   "cell_type": "markdown",
   "metadata": {},
   "source": [
    "The next prominent activation function mentioned during the lecture was $\\text{RelU}(0,z) = \\text{max}(0,z)$ function."
   ]
  },
  {
   "cell_type": "markdown",
   "metadata": {},
   "source": [
    "We can easily see that in this case the derivative is the following piecewise function:"
   ]
  },
  {
   "cell_type": "markdown",
   "metadata": {},
   "source": [
    "$$\\frac{d}{dz}\\text{RelU}(z,0)=\\begin{cases} \n",
    "      1 & z \\geq 0 \\\\\n",
    "      0 & z < 0.\n",
    "   \\end{cases}$$\n"
   ]
  },
  {
   "cell_type": "markdown",
   "metadata": {},
   "source": [
    "This is equivallent to:"
   ]
  },
  {
   "cell_type": "markdown",
   "metadata": {},
   "source": [
    "$$\\frac{d}{dz}\\text{RelU}(z,0)=\\begin{cases} \n",
    "      \\text{RelU}(1,0) & z \\geq 0 \\\\\n",
    "      \\text{RelU}(-1,0) & z < 0.\n",
    "\\end{cases}$$\n"
   ]
  },
  {
   "cell_type": "markdown",
   "metadata": {},
   "source": [
    "The lecturer presented $\\text{tanh}(z)$ activation function. In this case we have:"
   ]
  },
  {
   "cell_type": "markdown",
   "metadata": {},
   "source": [
    "$$\\text{tanh}(z)=\\frac{e^{z}-e^{-z}}{e^{z}+e^{-z}},$$"
   ]
  },
  {
   "cell_type": "markdown",
   "metadata": {},
   "source": [
    "$$\\frac{d}{dz}\\text{tanh}(z)=\\frac{\\left(e^{z}+e^{-z}\\right)\\left(e^{z}+e^{-z}\\right)-\\left(e^{z}-e^{-z}\\right)\\left(e^{z}-e^{-z}\\right)}{\\left(e^{z}+e^{-z}\\right)^{2}}=1-\\text{tanh}^{2}(z).$$"
   ]
  },
  {
   "cell_type": "markdown",
   "metadata": {},
   "source": [
    "The last activation function mentioned during the lecture is the softplus function:"
   ]
  },
  {
   "cell_type": "markdown",
   "metadata": {},
   "source": [
    "$$f(z)=\\ln(1+\\exp(z))$$"
   ]
  },
  {
   "cell_type": "markdown",
   "metadata": {},
   "source": [
    "$$\\frac{d}{dz}f(z)=\\frac{e^{z}}{1+e^{z}}=\\frac{1}{1+e^{-z}}=\\text{logistic function}=S(z).$$"
   ]
  },
  {
   "cell_type": "markdown",
   "metadata": {},
   "source": [
    "### Problem 70."
   ]
  },
  {
   "cell_type": "markdown",
   "metadata": {},
   "source": [
    "Calculate the backpropagation for logistic regression model."
   ]
  },
  {
   "cell_type": "markdown",
   "metadata": {},
   "source": [
    "I present a solution for a single dimensional output after forward pass but the presented reasoning can be trivially generalised for more dimensions."
   ]
  },
  {
   "cell_type": "markdown",
   "metadata": {},
   "source": [
    "$$\\text{INPUT}=(x_{1},x_{2}) \\rightarrow m=\\theta_{0}x_{0}+\\theta_{1}x_{1}+\\theta_{2}x_{2}\\rightarrow S(m)\\rightarrow L(S(m),y)=\\text{LOSS FUNCTION},$$"
   ]
  },
  {
   "cell_type": "markdown",
   "metadata": {},
   "source": [
    "where $x_{0}\\equiv1$ and:\n",
    "\n",
    "(1) $$S(m)=\\frac{1}{1+e^{-\\theta^{\\text{T}}m}}.$$"
   ]
  },
  {
   "cell_type": "markdown",
   "metadata": {},
   "source": [
    "After performing forward pass for logistic regressin with a one dimensional output $S(m)$ we can write the loss function in the form (I believe that there was a mistake in lecture 12 pg.62):"
   ]
  },
  {
   "cell_type": "markdown",
   "metadata": {},
   "source": [
    "(2) $$L=-y \\log(S(m))-(1-y)\\log(1-S(m)),$$"
   ]
  },
  {
   "cell_type": "markdown",
   "metadata": {},
   "source": [
    "Now we start backpropagation by calculating the first step influence function $\\frac{dL}{dS}$:"
   ]
  },
  {
   "cell_type": "markdown",
   "metadata": {},
   "source": [
    "(3) $$\\frac{dL}{dS}=\\frac{2S(m)y-S(m)-y}{S(m)(1-S(m))}.$$"
   ]
  },
  {
   "cell_type": "markdown",
   "metadata": {},
   "source": [
    "After that we need to calculate $\\frac{dS(m)}{dm}$ where formula (45) comes in handy:"
   ]
  },
  {
   "cell_type": "markdown",
   "metadata": {},
   "source": [
    "(4) $$\\frac{dS(m)}{dm}=S(m)(1-S(m))$$"
   ]
  },
  {
   "cell_type": "markdown",
   "metadata": {},
   "source": [
    "Now we need to calculate $\\frac{dm}{d\\theta_{i}}$ for $i\\in\\{0,1,2\\}$:"
   ]
  },
  {
   "cell_type": "markdown",
   "metadata": {},
   "source": [
    "(5) $$\\frac{dm}{d\\theta_{0}}=x_{0}=1$$\n",
    "\n",
    "(6) $$\\frac{dm}{d\\theta_{1}}=x_{1}$$\n",
    "\n",
    "(7) $$\\frac{dm}{d\\theta_{2}}=x_{2}$$"
   ]
  },
  {
   "cell_type": "markdown",
   "metadata": {},
   "source": [
    "Consequently, we end up with backpropagation formula ($i\\in\\{0,1,2\\}$):"
   ]
  },
  {
   "cell_type": "markdown",
   "metadata": {},
   "source": [
    "(8) $$\\frac{dL}{d\\theta_{i}}=\\frac{dL}{dS}\\frac{dS}{dm}\\frac{dm}{d\\theta_{i}}=(2S(m)-y -S(m))x_{i}$$"
   ]
  },
  {
   "cell_type": "markdown",
   "metadata": {},
   "source": [
    "Having obtained gradient we can perform gradient descent for the optimisation of parameters $\\theta_{i}$:"
   ]
  },
  {
   "cell_type": "markdown",
   "metadata": {},
   "source": [
    "(9) $$\\theta_{i}^{n+1}=\\theta_{i}^{n}-\\alpha\\frac{dL}{d\\theta_{i}},$$"
   ]
  },
  {
   "cell_type": "markdown",
   "metadata": {},
   "source": [
    "$\\alpha$ -  learning rate."
   ]
  }
 ],
 "metadata": {
  "kernelspec": {
   "display_name": "Python 3",
   "language": "python",
   "name": "python3"
  },
  "language_info": {
   "codemirror_mode": {
    "name": "ipython",
    "version": 3
   },
   "file_extension": ".py",
   "mimetype": "text/x-python",
   "name": "python",
   "nbconvert_exporter": "python",
   "pygments_lexer": "ipython3",
   "version": "3.8.5"
  }
 },
 "nbformat": 4,
 "nbformat_minor": 4
}
